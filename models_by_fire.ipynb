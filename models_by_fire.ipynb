{
 "cells": [
  {
   "cell_type": "markdown",
   "metadata": {
    "Collapsed": "false"
   },
   "source": [
    "# Modeling by Fire"
   ]
  },
  {
   "cell_type": "markdown",
   "metadata": {
    "Collapsed": "false"
   },
   "source": [
    "### Table of Contents\n",
    "- [Imports](#imports)\n",
    "- [Data](#data)\n",
    "- [Functions](#functions)\n",
    "- [Models - Recent Tweets](#recent)\n",
    "- [Models - Kincade](#kincade)\n",
    "- [Models - Camp](#camp)\n",
    "- [Models - Shasta](#shasta)\n",
    "- [Models - Santa Rosa](#sr)\n",
    "- [Models - Santa Barbara](#sb)"
   ]
  },
  {
   "cell_type": "markdown",
   "metadata": {
    "Collapsed": "false"
   },
   "source": [
    "<a class=\"anchor\" id=\"imports\"></a>\n",
    "## Imports"
   ]
  },
  {
   "cell_type": "code",
   "execution_count": 1,
   "metadata": {
    "Collapsed": "false"
   },
   "outputs": [],
   "source": [
    "import pandas as pd\n",
    "import numpy as np\n",
    "import pickle\n",
    "import nltk\n",
    "import matplotlib.pyplot as plt\n",
    "from sklearn.feature_extraction.text import CountVectorizer \n",
    "from sklearn.decomposition import TruncatedSVD\n",
    "from sklearn.decomposition import NMF\n",
    "from sklearn.metrics.pairwise import cosine_similarity\n",
    "from sklearn.feature_extraction import text \n",
    "from sklearn.feature_extraction.text import TfidfVectorizer \n",
    "from gensim import corpora, models, similarities, matutils\n",
    "# logging for gensim (set to INFO)\n",
    "import logging\n",
    "logging.basicConfig(format='%(asctime)s : %(levelname)s : %(message)s', level=logging.INFO)\n",
    "from sklearn.decomposition import LatentDirichletAllocation\n",
    "from gsdmm import MovieGroupProcess\n",
    "from collections import defaultdict\n",
    "from sklearn.cluster import KMeans"
   ]
  },
  {
   "cell_type": "code",
   "execution_count": 9,
   "metadata": {
    "Collapsed": "false"
   },
   "outputs": [
    {
     "name": "stderr",
     "output_type": "stream",
     "text": [
      "[nltk_data] Downloading package punkt to /Users/brittb28/nltk_data...\n",
      "[nltk_data]   Package punkt is already up-to-date!\n"
     ]
    },
    {
     "data": {
      "text/plain": [
       "True"
      ]
     },
     "execution_count": 9,
     "metadata": {},
     "output_type": "execute_result"
    }
   ],
   "source": [
    "nltk.download('punkt')"
   ]
  },
  {
   "cell_type": "code",
   "execution_count": 3,
   "metadata": {
    "Collapsed": "false"
   },
   "outputs": [],
   "source": [
    "import spacy"
   ]
  },
  {
   "cell_type": "markdown",
   "metadata": {
    "Collapsed": "false"
   },
   "source": [
    "<a class=\"anchor\" id=\"data\"></a>\n",
    "## Data"
   ]
  },
  {
   "cell_type": "code",
   "execution_count": 5,
   "metadata": {
    "Collapsed": "false"
   },
   "outputs": [],
   "source": [
    "with open('data/df_recent.pickle', 'rb') as read_file:\n",
    "    df_recent = pickle.load(read_file)"
   ]
  },
  {
   "cell_type": "code",
   "execution_count": 4,
   "metadata": {
    "Collapsed": "false"
   },
   "outputs": [],
   "source": [
    "with open('data/fire_clean.pickle', 'rb') as read_file:\n",
    "    df_all = pickle.load(read_file)"
   ]
  },
  {
   "cell_type": "code",
   "execution_count": 5,
   "metadata": {
    "Collapsed": "false"
   },
   "outputs": [
    {
     "data": {
      "text/plain": [
       "(234267, 12)"
      ]
     },
     "execution_count": 5,
     "metadata": {},
     "output_type": "execute_result"
    }
   ],
   "source": [
    "df_all.shape"
   ]
  },
  {
   "cell_type": "code",
   "execution_count": 6,
   "metadata": {
    "Collapsed": "false"
   },
   "outputs": [
    {
     "data": {
      "text/plain": [
       "(6930, 9)"
      ]
     },
     "execution_count": 6,
     "metadata": {},
     "output_type": "execute_result"
    }
   ],
   "source": [
    "df_recent.shape"
   ]
  },
  {
   "cell_type": "code",
   "execution_count": 8,
   "metadata": {
    "Collapsed": "false"
   },
   "outputs": [
    {
     "data": {
      "text/html": [
       "<div>\n",
       "<style scoped>\n",
       "    .dataframe tbody tr th:only-of-type {\n",
       "        vertical-align: middle;\n",
       "    }\n",
       "\n",
       "    .dataframe tbody tr th {\n",
       "        vertical-align: top;\n",
       "    }\n",
       "\n",
       "    .dataframe thead th {\n",
       "        text-align: right;\n",
       "    }\n",
       "</style>\n",
       "<table border=\"1\" class=\"dataframe\">\n",
       "  <thead>\n",
       "    <tr style=\"text-align: right;\">\n",
       "      <th></th>\n",
       "      <th>_id</th>\n",
       "      <th>username</th>\n",
       "      <th>date</th>\n",
       "      <th>retweets</th>\n",
       "      <th>favorites</th>\n",
       "      <th>text</th>\n",
       "      <th>geo</th>\n",
       "      <th>mentions</th>\n",
       "      <th>hashtags</th>\n",
       "      <th>id</th>\n",
       "      <th>permalink</th>\n",
       "      <th>fire</th>\n",
       "    </tr>\n",
       "  </thead>\n",
       "  <tbody>\n",
       "    <tr>\n",
       "      <th>0</th>\n",
       "      <td>5dcb3fc81641db7377bb1e4e</td>\n",
       "      <td></td>\n",
       "      <td>2018-09-19 16:59</td>\n",
       "      <td>4802</td>\n",
       "      <td>6465</td>\n",
       "      <td>large wildfire in california history officiall...</td>\n",
       "      <td></td>\n",
       "      <td></td>\n",
       "      <td>#</td>\n",
       "      <td>1.04256e+18</td>\n",
       "      <td>https://twitter.com/mdrtindia/status/104256384...</td>\n",
       "      <td>shasta_2018</td>\n",
       "    </tr>\n",
       "    <tr>\n",
       "      <th>1</th>\n",
       "      <td>5dcb3fc81641db7377bb1e4f</td>\n",
       "      <td></td>\n",
       "      <td>2018-09-19 16:59</td>\n",
       "      <td>0</td>\n",
       "      <td>2</td>\n",
       "      <td>have -PRON- see the new nfpa ’s wildfire and f...</td>\n",
       "      <td></td>\n",
       "      <td></td>\n",
       "      <td></td>\n",
       "      <td>1.04256e+18</td>\n",
       "      <td>https://twitter.com/JCFD3FireInfo/status/10425...</td>\n",
       "      <td>shasta_2018</td>\n",
       "    </tr>\n",
       "    <tr>\n",
       "      <th>2</th>\n",
       "      <td>5dcb3fc81641db7377bb1e50</td>\n",
       "      <td></td>\n",
       "      <td>2018-09-19 16:59</td>\n",
       "      <td>7</td>\n",
       "      <td>8</td>\n",
       "      <td>rattlesnake creek fire unofficial wildfire upd...</td>\n",
       "      <td></td>\n",
       "      <td></td>\n",
       "      <td></td>\n",
       "      <td>1.04256e+18</td>\n",
       "      <td>https://twitter.com/FireUnofficial/status/1042...</td>\n",
       "      <td>shasta_2018</td>\n",
       "    </tr>\n",
       "    <tr>\n",
       "      <th>3</th>\n",
       "      <td>5dcb3fc81641db7377bb1e51</td>\n",
       "      <td></td>\n",
       "      <td>2018-09-19 16:57</td>\n",
       "      <td>0</td>\n",
       "      <td>1</td>\n",
       "      <td>wyoming ’s martencreekfire wildfire wyfire wyb...</td>\n",
       "      <td></td>\n",
       "      <td></td>\n",
       "      <td># # # # #</td>\n",
       "      <td>1.04256e+18</td>\n",
       "      <td>https://twitter.com/RSFireNerd/status/10425634...</td>\n",
       "      <td>shasta_2018</td>\n",
       "    </tr>\n",
       "    <tr>\n",
       "      <th>4</th>\n",
       "      <td>5dcb3fc81641db7377bb1e52</td>\n",
       "      <td></td>\n",
       "      <td>2018-09-19 16:56</td>\n",
       "      <td>0</td>\n",
       "      <td>0</td>\n",
       "      <td>honey cs video for numb drop soon queenhoneyc ...</td>\n",
       "      <td></td>\n",
       "      <td>@</td>\n",
       "      <td></td>\n",
       "      <td>1.04256e+18</td>\n",
       "      <td>https://twitter.com/HONEYCOCAINA_/status/10425...</td>\n",
       "      <td>shasta_2018</td>\n",
       "    </tr>\n",
       "  </tbody>\n",
       "</table>\n",
       "</div>"
      ],
      "text/plain": [
       "                        _id username              date  retweets  favorites  \\\n",
       "0  5dcb3fc81641db7377bb1e4e           2018-09-19 16:59      4802       6465   \n",
       "1  5dcb3fc81641db7377bb1e4f           2018-09-19 16:59         0          2   \n",
       "2  5dcb3fc81641db7377bb1e50           2018-09-19 16:59         7          8   \n",
       "3  5dcb3fc81641db7377bb1e51           2018-09-19 16:57         0          1   \n",
       "4  5dcb3fc81641db7377bb1e52           2018-09-19 16:56         0          0   \n",
       "\n",
       "                                                text geo mentions   hashtags  \\\n",
       "0  large wildfire in california history officiall...                       #   \n",
       "1  have -PRON- see the new nfpa ’s wildfire and f...                           \n",
       "2  rattlesnake creek fire unofficial wildfire upd...                           \n",
       "3  wyoming ’s martencreekfire wildfire wyfire wyb...               # # # # #   \n",
       "4  honey cs video for numb drop soon queenhoneyc ...            @              \n",
       "\n",
       "            id                                          permalink         fire  \n",
       "0  1.04256e+18  https://twitter.com/mdrtindia/status/104256384...  shasta_2018  \n",
       "1  1.04256e+18  https://twitter.com/JCFD3FireInfo/status/10425...  shasta_2018  \n",
       "2  1.04256e+18  https://twitter.com/FireUnofficial/status/1042...  shasta_2018  \n",
       "3  1.04256e+18  https://twitter.com/RSFireNerd/status/10425634...  shasta_2018  \n",
       "4  1.04256e+18  https://twitter.com/HONEYCOCAINA_/status/10425...  shasta_2018  "
      ]
     },
     "execution_count": 8,
     "metadata": {},
     "output_type": "execute_result"
    }
   ],
   "source": [
    "df_all.head()"
   ]
  },
  {
   "cell_type": "markdown",
   "metadata": {
    "Collapsed": "false"
   },
   "source": [
    "<a class=\"anchor\" id=\"functions\"></a>\n",
    "## Functions"
   ]
  },
  {
   "cell_type": "markdown",
   "metadata": {
    "Collapsed": "false"
   },
   "source": [
    "#### Vectorizers"
   ]
  },
  {
   "cell_type": "code",
   "execution_count": 10,
   "metadata": {
    "Collapsed": "false"
   },
   "outputs": [],
   "source": [
    "def tfidf(documents):\n",
    "    '''\n",
    "    This function takes a corpus of documents. It computes a weighted term frequency by comaparing document frequency to \n",
    "    corpus frequency and placing weight on rare terms.\n",
    "    -----------\n",
    "    Inputs: List/Series of documents (strings)\n",
    "    Outpus: sparse matrix, list, dictionary, model\n",
    "    '''\n",
    "    my_additional_stop_words = ['wildfire', 'like', 'pron']\n",
    "    stop_words = text.ENGLISH_STOP_WORDS.union(my_additional_stop_words)\n",
    "    cv_tfidf = TfidfVectorizer(analyzer = 'word',ngram_range = (2,3), min_df = 3, stop_words=stop_words, token_pattern = \"\\\\b[a-z][a-z]+\\\\b\") \n",
    "    doc_word = cv_tfidf.fit_transform(documents)\n",
    "    words = cv_tfidf.get_feature_names()\n",
    "    id2word = dict((v, k) for k, v in cv_tfidf.vocabulary_.items())\n",
    "    return doc_word, words, id2word, cv_tfidf"
   ]
  },
  {
   "cell_type": "code",
   "execution_count": 11,
   "metadata": {
    "Collapsed": "false"
   },
   "outputs": [],
   "source": [
    "def count_vec(documents):\n",
    "    '''\n",
    "    This function takes a corpus of documents and returns a sparse matrix mapping\n",
    "    words and ngrams to documents. \n",
    "    Ex. [\"This is a tweet\", \"Another tweet\"]\n",
    "                        This     is     a .   tweet .   another\n",
    "    \"This is a tweet\"     1       1 .   1 .    1 .         0\n",
    "    \"Another tweet\"       0 .     0 .   0 .    1 .         1\n",
    "    \n",
    "    --------------------------------\n",
    "    Input: pd Series\n",
    "    Output: Sparse Matrix\n",
    "    '''\n",
    "    # Adding additional stop words\n",
    "    my_additional_stop_words = ['wildfire', 'like', 'pron']\n",
    "    stop_words = text.ENGLISH_STOP_WORDS.union(my_additional_stop_words)\n",
    "    vectorizer = CountVectorizer(ngram_range = (2,2), min_df = 3, max_df = 0.7, stop_words=stop_words, token_pattern = \"\\\\b[a-z][a-z]+\\\\b\")\n",
    "    doc_word = vectorizer.fit_transform(documents)\n",
    "    words = vectorizer.get_feature_names()\n",
    "    id2word = dict((v, k) for k, v in vectorizer.vocabulary_.items())\n",
    "    return doc_word, words"
   ]
  },
  {
   "cell_type": "markdown",
   "metadata": {
    "Collapsed": "false"
   },
   "source": [
    "#### Topic Models = LSA, LDA, GSDMM"
   ]
  },
  {
   "cell_type": "code",
   "execution_count": 12,
   "metadata": {
    "Collapsed": "false"
   },
   "outputs": [],
   "source": [
    "def dim_lsa(doc_word, no_topics):\n",
    "    '''\n",
    "    This function takes a sparse matrix map of documents to words and reduces the dimensions\n",
    "    to topics. It uses SVD (singular value decomposition) to perform dimensional reduction on the \n",
    "    bag of words. Each row in the array has (no_topics) items in it.\n",
    "    --------------------\n",
    "    Inputs: sparse matrix, int\n",
    "    Outputs: model, array, list\n",
    "    '''\n",
    "    lsa = TruncatedSVD(no_topics)\n",
    "    doc_topic = lsa.fit_transform(doc_word)\n",
    "    return lsa, doc_topic, lsa.explained_variance_ratio_"
   ]
  },
  {
   "cell_type": "code",
   "execution_count": 13,
   "metadata": {
    "Collapsed": "false"
   },
   "outputs": [],
   "source": [
    "def sk_lda(doc_word, n_topics):\n",
    "    '''\n",
    "    This function takes a sparse matrix map of documents to words. It uses a dirchlet distribution to reduce\n",
    "    dimensions using priors to inform topic \"probabilities\". Earch row in array has (no_topics) items in it.\n",
    "    ------------------\n",
    "    Inputs: sparse matrix, int\n",
    "    Outputs: model, array, list\n",
    "    '''\n",
    "    lda = LatentDirichletAllocation(n_components=n_topics,random_state=0)\n",
    "    doc_topic = lda.fit_transform(doc_word)\n",
    "    return lda, doc_topic, lda.exp_dirichlet_component_"
   ]
  },
  {
   "cell_type": "code",
   "execution_count": 14,
   "metadata": {
    "Collapsed": "false"
   },
   "outputs": [],
   "source": [
    "def gsdmm(tokens, n_terms):\n",
    "    '''\n",
    "    This function takes a list of lists (tokens). It reteurns a fit mgp model.\n",
    "    tokens = tokenized documents\n",
    "    n_terms = length of vocabulary in tokens\n",
    "    --------------------\n",
    "    Inputs: list of lists, int\n",
    "    Outputs: model\n",
    "    '''\n",
    "    mgp = MovieGroupProcess(K=15, alpha=0.1, beta=0.1, n_iters=10)\n",
    "    y = mgp.fit(tokens, n_terms)\n",
    "    return mgp"
   ]
  },
  {
   "cell_type": "markdown",
   "metadata": {
    "Collapsed": "false"
   },
   "source": [
    "#### Visualizing Topics"
   ]
  },
  {
   "cell_type": "code",
   "execution_count": 15,
   "metadata": {
    "Collapsed": "false"
   },
   "outputs": [],
   "source": [
    "def display_topics(model, words, no_top_words, topic_names=None):\n",
    "    '''\n",
    "    This function takes a dim reduction model, words, number of words to display, and topic_names \n",
    "    (default= none). It returns strings of topics.\n",
    "    ----------------\n",
    "    Input: function, list, int\n",
    "    Output: strs\n",
    "    '''\n",
    "    for ix, topic in enumerate(model.components_):\n",
    "        if not topic_names or not topic_names[ix]:\n",
    "            print(\"\\nTopic \", ix)\n",
    "        else:\n",
    "            print(\"\\nTopic: '\",topic_names[ix],\"'\")\n",
    "        print(\", \".join([words[i]\n",
    "                        for i in topic.argsort()[:-no_top_words - 1:-1]]))"
   ]
  },
  {
   "cell_type": "code",
   "execution_count": 16,
   "metadata": {
    "Collapsed": "false"
   },
   "outputs": [],
   "source": [
    "def display_gsdmm(cluster_lst, documents, num_top_words=10, topic_names = None):\n",
    "    '''\n",
    "    This function displays the top bigrams and trigrams in each cluster found by gsdmm. \n",
    "    ---------------\n",
    "    Inputs: model, list of lists (tokens), list, int\n",
    "    Output: prints top topics\n",
    "    '''\n",
    "    \n",
    "    dict_clusters = defaultdict(list)\n",
    "    print(len(cluster_lst))\n",
    "    print(len(documents))\n",
    "    # Map the clusters to the documents they represent\n",
    "    for i,v in enumerate(cluster_lst):\n",
    "        dict_clusters[str(v)].append(documents[i])\n",
    "    dict_counts = defaultdict(int)\n",
    "    ix = 0\n",
    "    \n",
    "    # Use count vec to get word frequencies. Sum these up to get the most commonly occuring words in \n",
    "    # each cluster\n",
    "    for key, value in dict_clusters.items():\n",
    "        try:\n",
    "            doc_word, words = count_vec(value)\n",
    "            new = doc_word.toarray().sum(axis = 0)\n",
    "        except:\n",
    "            new = 'empty'\n",
    "        if new == 'empty':\n",
    "            print(\"\\nTopic \", key)\n",
    "        elif not topic_names or not topic_names[ix]:\n",
    "            print(\"\\nTopic \", key)\n",
    "            print(\", \".join([words[i]\n",
    "                        for i in new.argsort()[:-num_top_words - 1:-1]]))\n",
    "        else:\n",
    "            print('\\nTopic: {}'.format(topic_names[ix]))\n",
    "            print(\", \".join([words[i]\n",
    "                        for i in new.argsort()[:-num_top_words - 1:-1]]))\n",
    "        ix += 1"
   ]
  },
  {
   "cell_type": "markdown",
   "metadata": {
    "Collapsed": "false"
   },
   "source": [
    "<a class=\"anchor\" id=\"recent\"></a>\n",
    "## Models - All Tweets"
   ]
  },
  {
   "cell_type": "code",
   "execution_count": 17,
   "metadata": {
    "Collapsed": "false"
   },
   "outputs": [
    {
     "data": {
      "text/html": [
       "<div>\n",
       "<style scoped>\n",
       "    .dataframe tbody tr th:only-of-type {\n",
       "        vertical-align: middle;\n",
       "    }\n",
       "\n",
       "    .dataframe tbody tr th {\n",
       "        vertical-align: top;\n",
       "    }\n",
       "\n",
       "    .dataframe thead th {\n",
       "        text-align: right;\n",
       "    }\n",
       "</style>\n",
       "<table border=\"1\" class=\"dataframe\">\n",
       "  <thead>\n",
       "    <tr style=\"text-align: right;\">\n",
       "      <th></th>\n",
       "      <th>date</th>\n",
       "      <th>tweet</th>\n",
       "      <th>users</th>\n",
       "      <th>followers</th>\n",
       "      <th>location</th>\n",
       "      <th>emojis</th>\n",
       "      <th>hashtags</th>\n",
       "      <th>clean_tweet</th>\n",
       "      <th>tokens</th>\n",
       "    </tr>\n",
       "  </thead>\n",
       "  <tbody>\n",
       "    <tr>\n",
       "      <th>0</th>\n",
       "      <td>2019-11-19 18:15:35</td>\n",
       "      <td>sad. because of this summer's wildfire and sub...</td>\n",
       "      <td>RyanBernhart_Wx</td>\n",
       "      <td>36</td>\n",
       "      <td>Maricopa, AZ</td>\n",
       "      <td>None</td>\n",
       "      <td>None</td>\n",
       "      <td>sad summer wildfire subsequent flash flooding ...</td>\n",
       "      <td>[sad, summer, wildfire, subsequent, flash, flo...</td>\n",
       "    </tr>\n",
       "    <tr>\n",
       "      <th>1</th>\n",
       "      <td>2019-11-19 18:15:16</td>\n",
       "      <td>huge flow country wildfire 'doubled #scotland'...</td>\n",
       "      <td>CWL_BeGreen</td>\n",
       "      <td>1043</td>\n",
       "      <td>NaN</td>\n",
       "      <td>None</td>\n",
       "      <td>[(36:45) =&gt; #scotland]</td>\n",
       "      <td>huge flow country wildfire doubled emissions m...</td>\n",
       "      <td>[huge, flow, country, wildfire, doubled, emiss...</td>\n",
       "    </tr>\n",
       "    <tr>\n",
       "      <th>2</th>\n",
       "      <td>2019-11-19 18:14:42</td>\n",
       "      <td>suburban sprawl and climate change complicate ...</td>\n",
       "      <td>babday</td>\n",
       "      <td>2</td>\n",
       "      <td>NaN</td>\n",
       "      <td>None</td>\n",
       "      <td>None</td>\n",
       "      <td>suburban sprawl climate change complicate wild...</td>\n",
       "      <td>[suburban, sprawl, climate, change, complicate...</td>\n",
       "    </tr>\n",
       "    <tr>\n",
       "      <th>3</th>\n",
       "      <td>2019-11-19 18:13:39</td>\n",
       "      <td>in 2018, over 8 million acres were burned by w...</td>\n",
       "      <td>FavaFinancialGr</td>\n",
       "      <td>188</td>\n",
       "      <td>Totowa,  New Jersey</td>\n",
       "      <td>None</td>\n",
       "      <td>None</td>\n",
       "      <td>2018 8 million acres burned wildfire working a...</td>\n",
       "      <td>[2018, 8, million, acres, burned, wildfire, wo...</td>\n",
       "    </tr>\n",
       "    <tr>\n",
       "      <th>4</th>\n",
       "      <td>2019-11-19 18:13:36</td>\n",
       "      <td>california’s wildfire policy totally backfired...</td>\n",
       "      <td>NonsenseFinder</td>\n",
       "      <td>341</td>\n",
       "      <td>USA</td>\n",
       "      <td>None</td>\n",
       "      <td>None</td>\n",
       "      <td>california wildfire policy totally backfired n...</td>\n",
       "      <td>[california, wildfire, policy, totally, backfi...</td>\n",
       "    </tr>\n",
       "  </tbody>\n",
       "</table>\n",
       "</div>"
      ],
      "text/plain": [
       "                  date                                              tweet  \\\n",
       "0  2019-11-19 18:15:35  sad. because of this summer's wildfire and sub...   \n",
       "1  2019-11-19 18:15:16  huge flow country wildfire 'doubled #scotland'...   \n",
       "2  2019-11-19 18:14:42  suburban sprawl and climate change complicate ...   \n",
       "3  2019-11-19 18:13:39  in 2018, over 8 million acres were burned by w...   \n",
       "4  2019-11-19 18:13:36  california’s wildfire policy totally backfired...   \n",
       "\n",
       "             users  followers             location emojis  \\\n",
       "0  RyanBernhart_Wx         36         Maricopa, AZ   None   \n",
       "1      CWL_BeGreen       1043                  NaN   None   \n",
       "2           babday          2                  NaN   None   \n",
       "3  FavaFinancialGr        188  Totowa,  New Jersey   None   \n",
       "4   NonsenseFinder        341                  USA   None   \n",
       "\n",
       "                 hashtags                                        clean_tweet  \\\n",
       "0                    None  sad summer wildfire subsequent flash flooding ...   \n",
       "1  [(36:45) => #scotland]  huge flow country wildfire doubled emissions m...   \n",
       "2                    None  suburban sprawl climate change complicate wild...   \n",
       "3                    None  2018 8 million acres burned wildfire working a...   \n",
       "4                    None  california wildfire policy totally backfired n...   \n",
       "\n",
       "                                              tokens  \n",
       "0  [sad, summer, wildfire, subsequent, flash, flo...  \n",
       "1  [huge, flow, country, wildfire, doubled, emiss...  \n",
       "2  [suburban, sprawl, climate, change, complicate...  \n",
       "3  [2018, 8, million, acres, burned, wildfire, wo...  \n",
       "4  [california, wildfire, policy, totally, backfi...  "
      ]
     },
     "execution_count": 17,
     "metadata": {},
     "output_type": "execute_result"
    }
   ],
   "source": [
    "df_recent.head()"
   ]
  },
  {
   "cell_type": "code",
   "execution_count": 20,
   "metadata": {
    "Collapsed": "false"
   },
   "outputs": [],
   "source": [
    "from spacy.lang.en import English\n",
    "from spacy.lang.en.stop_words import STOP_WORDS\n",
    "import string\n",
    "# Create our list of punctuation marks\n",
    "punctuations = string.punctuation\n",
    "\n",
    "# Create our list of stopwords\n",
    "nlp = spacy.load('en')\n",
    "stop_words = spacy.lang.en.stop_words.STOP_WORDS\n",
    "\n",
    "# Load English tokenizer, tagger, parser, NER and word vectors\n",
    "parser = English()"
   ]
  },
  {
   "cell_type": "code",
   "execution_count": 23,
   "metadata": {
    "Collapsed": "false"
   },
   "outputs": [],
   "source": [
    "stop_words.add('wildfire')"
   ]
  },
  {
   "cell_type": "code",
   "execution_count": null,
   "metadata": {
    "Collapsed": "false"
   },
   "outputs": [],
   "source": []
  },
  {
   "cell_type": "code",
   "execution_count": 136,
   "metadata": {
    "Collapsed": "false"
   },
   "outputs": [],
   "source": [
    "def spacy_tokenizer(sentence):\n",
    "    # Creating our token object, which is used to create documents with linguistic annotations.\n",
    "    mytokens = parser(sentence)\n",
    "\n",
    "    # Lemmatizing each token and converting each token into lowercase\n",
    "    mytokens = [ word.lemma_.lower().strip() if word.lemma_ != \"-PRON-\" else word.lower_ for word in mytokens ]\n",
    "\n",
    "    # Removing stop words\n",
    "    mytokens = [ word for word in mytokens if word not in stop_words and word not in punctuations ]\n",
    "    \n",
    "    # Remove mentions, hashtags, urls\n",
    "    mytokens = [word for word in mytokens if '$' not in word]\n",
    "    \n",
    "    # Remove '...'\n",
    "    mytokens = [word for word in mytokens if '…' not in word]\n",
    "\n",
    "    # return preprocessed list of tokens\n",
    "    return mytokens"
   ]
  },
  {
   "cell_type": "code",
   "execution_count": 137,
   "metadata": {
    "Collapsed": "false"
   },
   "outputs": [],
   "source": [
    "df_all['clean_tweet'] = [' '.join(spacy_tokenizer(tweet)) for tweet in df_all['text']]"
   ]
  },
  {
   "cell_type": "code",
   "execution_count": 138,
   "metadata": {
    "Collapsed": "false"
   },
   "outputs": [],
   "source": [
    "other_new = []\n",
    "for tweet in df_all['clean_tweet']:\n",
    "    if 'wildfire' in tweet:\n",
    "        tweet = tweet.replace('wildfire', '')\n",
    "    if 'like' in tweet:\n",
    "        tweet = tweet.replace('like', '')\n",
    "    if '-pron-' in tweet:\n",
    "        tweet = tweet.replace('-pron-', '')\n",
    "    other_new.append(tweet)\n",
    "df_all['clean_tweet'] = other_new"
   ]
  },
  {
   "cell_type": "code",
   "execution_count": 139,
   "metadata": {
    "Collapsed": "false"
   },
   "outputs": [],
   "source": [
    "df_all['bigrams'] = [[gram for gram in nltk.ngrams(tweet.split(), 2)] for tweet in df_all['clean_tweet']]"
   ]
  },
  {
   "cell_type": "code",
   "execution_count": 140,
   "metadata": {
    "Collapsed": "false"
   },
   "outputs": [],
   "source": [
    "df_all['tokens'] = [tweet.split(' ') for tweet in df_all['clean_tweet']]"
   ]
  },
  {
   "cell_type": "code",
   "execution_count": 141,
   "metadata": {
    "Collapsed": "false"
   },
   "outputs": [
    {
     "data": {
      "text/html": [
       "<div>\n",
       "<style scoped>\n",
       "    .dataframe tbody tr th:only-of-type {\n",
       "        vertical-align: middle;\n",
       "    }\n",
       "\n",
       "    .dataframe tbody tr th {\n",
       "        vertical-align: top;\n",
       "    }\n",
       "\n",
       "    .dataframe thead th {\n",
       "        text-align: right;\n",
       "    }\n",
       "</style>\n",
       "<table border=\"1\" class=\"dataframe\">\n",
       "  <thead>\n",
       "    <tr style=\"text-align: right;\">\n",
       "      <th></th>\n",
       "      <th>_id</th>\n",
       "      <th>username</th>\n",
       "      <th>date</th>\n",
       "      <th>retweets</th>\n",
       "      <th>favorites</th>\n",
       "      <th>text</th>\n",
       "      <th>geo</th>\n",
       "      <th>mentions</th>\n",
       "      <th>hashtags</th>\n",
       "      <th>id</th>\n",
       "      <th>permalink</th>\n",
       "      <th>fire</th>\n",
       "      <th>clean_tweet</th>\n",
       "      <th>bigrams</th>\n",
       "      <th>tokens</th>\n",
       "    </tr>\n",
       "  </thead>\n",
       "  <tbody>\n",
       "    <tr>\n",
       "      <td>0</td>\n",
       "      <td>5dcb3fc81641db7377bb1e4e</td>\n",
       "      <td></td>\n",
       "      <td>2018-09-19 16:59</td>\n",
       "      <td>4802</td>\n",
       "      <td>6465</td>\n",
       "      <td>large wildfire in california history officiall...</td>\n",
       "      <td></td>\n",
       "      <td></td>\n",
       "      <td>#</td>\n",
       "      <td>1.04256e+18</td>\n",
       "      <td>https://twitter.com/mdrtindia/status/104256384...</td>\n",
       "      <td>shasta_2018</td>\n",
       "      <td>large  california history officially contain</td>\n",
       "      <td>[(large, california), (california, history), (...</td>\n",
       "      <td>[large, , california, history, officially, con...</td>\n",
       "    </tr>\n",
       "    <tr>\n",
       "      <td>1</td>\n",
       "      <td>5dcb3fc81641db7377bb1e4f</td>\n",
       "      <td></td>\n",
       "      <td>2018-09-19 16:59</td>\n",
       "      <td>0</td>\n",
       "      <td>2</td>\n",
       "      <td>have -PRON- see the new nfpa ’s wildfire and f...</td>\n",
       "      <td></td>\n",
       "      <td></td>\n",
       "      <td></td>\n",
       "      <td>1.04256e+18</td>\n",
       "      <td>https://twitter.com/JCFD3FireInfo/status/10425...</td>\n",
       "      <td>shasta_2018</td>\n",
       "      <td>new nfpa  firewise usa programs community wes...</td>\n",
       "      <td>[(new, nfpa), (nfpa, firewise), (firewise, usa...</td>\n",
       "      <td>[, new, nfpa, , firewise, usa, programs, commu...</td>\n",
       "    </tr>\n",
       "    <tr>\n",
       "      <td>2</td>\n",
       "      <td>5dcb3fc81641db7377bb1e50</td>\n",
       "      <td></td>\n",
       "      <td>2018-09-19 16:59</td>\n",
       "      <td>7</td>\n",
       "      <td>8</td>\n",
       "      <td>rattlesnake creek fire unofficial wildfire upd...</td>\n",
       "      <td></td>\n",
       "      <td></td>\n",
       "      <td></td>\n",
       "      <td>1.04256e+18</td>\n",
       "      <td>https://twitter.com/FireUnofficial/status/1042...</td>\n",
       "      <td>shasta_2018</td>\n",
       "      <td>rattlesnake creek fire unofficial  update acre...</td>\n",
       "      <td>[(rattlesnake, creek), (creek, fire), (fire, u...</td>\n",
       "      <td>[rattlesnake, creek, fire, unofficial, , updat...</td>\n",
       "    </tr>\n",
       "    <tr>\n",
       "      <td>3</td>\n",
       "      <td>5dcb3fc81641db7377bb1e51</td>\n",
       "      <td></td>\n",
       "      <td>2018-09-19 16:57</td>\n",
       "      <td>0</td>\n",
       "      <td>1</td>\n",
       "      <td>wyoming ’s martencreekfire wildfire wyfire wyb...</td>\n",
       "      <td></td>\n",
       "      <td></td>\n",
       "      <td># # # # #</td>\n",
       "      <td>1.04256e+18</td>\n",
       "      <td>https://twitter.com/RSFireNerd/status/10425634...</td>\n",
       "      <td>shasta_2018</td>\n",
       "      <td>wyoming martencreekfire  wyfire wybtf intterra</td>\n",
       "      <td>[(wyoming, martencreekfire), (martencreekfire,...</td>\n",
       "      <td>[wyoming, martencreekfire, , wyfire, wybtf, in...</td>\n",
       "    </tr>\n",
       "    <tr>\n",
       "      <td>4</td>\n",
       "      <td>5dcb3fc81641db7377bb1e52</td>\n",
       "      <td></td>\n",
       "      <td>2018-09-19 16:56</td>\n",
       "      <td>0</td>\n",
       "      <td>0</td>\n",
       "      <td>honey cs video for numb drop soon queenhoneyc ...</td>\n",
       "      <td></td>\n",
       "      <td>@</td>\n",
       "      <td></td>\n",
       "      <td>1.04256e+18</td>\n",
       "      <td>https://twitter.com/HONEYCOCAINA_/status/10425...</td>\n",
       "      <td>shasta_2018</td>\n",
       "      <td>honey cs video numb drop soon queenhoneyc stre...</td>\n",
       "      <td>[(honey, cs), (cs, video), (video, numb), (num...</td>\n",
       "      <td>[honey, cs, video, numb, drop, soon, queenhone...</td>\n",
       "    </tr>\n",
       "  </tbody>\n",
       "</table>\n",
       "</div>"
      ],
      "text/plain": [
       "                        _id username              date  retweets  favorites  \\\n",
       "0  5dcb3fc81641db7377bb1e4e           2018-09-19 16:59      4802       6465   \n",
       "1  5dcb3fc81641db7377bb1e4f           2018-09-19 16:59         0          2   \n",
       "2  5dcb3fc81641db7377bb1e50           2018-09-19 16:59         7          8   \n",
       "3  5dcb3fc81641db7377bb1e51           2018-09-19 16:57         0          1   \n",
       "4  5dcb3fc81641db7377bb1e52           2018-09-19 16:56         0          0   \n",
       "\n",
       "                                                text geo mentions   hashtags  \\\n",
       "0  large wildfire in california history officiall...                       #   \n",
       "1  have -PRON- see the new nfpa ’s wildfire and f...                           \n",
       "2  rattlesnake creek fire unofficial wildfire upd...                           \n",
       "3  wyoming ’s martencreekfire wildfire wyfire wyb...               # # # # #   \n",
       "4  honey cs video for numb drop soon queenhoneyc ...            @              \n",
       "\n",
       "            id                                          permalink  \\\n",
       "0  1.04256e+18  https://twitter.com/mdrtindia/status/104256384...   \n",
       "1  1.04256e+18  https://twitter.com/JCFD3FireInfo/status/10425...   \n",
       "2  1.04256e+18  https://twitter.com/FireUnofficial/status/1042...   \n",
       "3  1.04256e+18  https://twitter.com/RSFireNerd/status/10425634...   \n",
       "4  1.04256e+18  https://twitter.com/HONEYCOCAINA_/status/10425...   \n",
       "\n",
       "          fire                                        clean_tweet  \\\n",
       "0  shasta_2018       large  california history officially contain   \n",
       "1  shasta_2018   new nfpa  firewise usa programs community wes...   \n",
       "2  shasta_2018  rattlesnake creek fire unofficial  update acre...   \n",
       "3  shasta_2018     wyoming martencreekfire  wyfire wybtf intterra   \n",
       "4  shasta_2018  honey cs video numb drop soon queenhoneyc stre...   \n",
       "\n",
       "                                             bigrams  \\\n",
       "0  [(large, california), (california, history), (...   \n",
       "1  [(new, nfpa), (nfpa, firewise), (firewise, usa...   \n",
       "2  [(rattlesnake, creek), (creek, fire), (fire, u...   \n",
       "3  [(wyoming, martencreekfire), (martencreekfire,...   \n",
       "4  [(honey, cs), (cs, video), (video, numb), (num...   \n",
       "\n",
       "                                              tokens  \n",
       "0  [large, , california, history, officially, con...  \n",
       "1  [, new, nfpa, , firewise, usa, programs, commu...  \n",
       "2  [rattlesnake, creek, fire, unofficial, , updat...  \n",
       "3  [wyoming, martencreekfire, , wyfire, wybtf, in...  \n",
       "4  [honey, cs, video, numb, drop, soon, queenhone...  "
      ]
     },
     "execution_count": 141,
     "metadata": {},
     "output_type": "execute_result"
    }
   ],
   "source": [
    "df_all.head()"
   ]
  },
  {
   "cell_type": "code",
   "execution_count": 27,
   "metadata": {
    "Collapsed": "false"
   },
   "outputs": [],
   "source": [
    "doc_word, words = count_vec(df_all['clean_tweet'])"
   ]
  },
  {
   "cell_type": "code",
   "execution_count": 28,
   "metadata": {
    "Collapsed": "false"
   },
   "outputs": [],
   "source": [
    "n_terms = len(words)"
   ]
  },
  {
   "cell_type": "code",
   "execution_count": 31,
   "metadata": {
    "Collapsed": "false"
   },
   "outputs": [
    {
     "name": "stdout",
     "output_type": "stream",
     "text": [
      "In stage 0: transferred 209660 clusters with 15 clusters populated\n",
      "In stage 1: transferred 152149 clusters with 15 clusters populated\n",
      "In stage 2: transferred 74297 clusters with 15 clusters populated\n",
      "In stage 3: transferred 47717 clusters with 15 clusters populated\n",
      "In stage 4: transferred 39625 clusters with 15 clusters populated\n",
      "In stage 5: transferred 36863 clusters with 15 clusters populated\n",
      "In stage 6: transferred 34881 clusters with 15 clusters populated\n",
      "In stage 7: transferred 33984 clusters with 15 clusters populated\n",
      "In stage 8: transferred 33374 clusters with 15 clusters populated\n",
      "In stage 9: transferred 32921 clusters with 15 clusters populated\n"
     ]
    }
   ],
   "source": [
    "mgp = gsdmm(df_all['tokens'], n_terms)"
   ]
  },
  {
   "cell_type": "code",
   "execution_count": 32,
   "metadata": {
    "Collapsed": "false"
   },
   "outputs": [
    {
     "name": "stdout",
     "output_type": "stream",
     "text": [
      "Number of documents per topic : [ 3197 40906  2506 25737  3438  1472  4099 22552 14734 18135 15763 17999\n",
      " 16892 23305 23532]\n",
      "********************\n",
      "Most important clusters (by number of docs inside): [ 1  3 14 13  7  9 11 12 10  8  6  4  0  2  5]\n",
      "********************\n"
     ]
    }
   ],
   "source": [
    "doc_count = np.array(mgp.cluster_doc_count)\n",
    "print('Number of documents per topic :', doc_count)\n",
    "print('*'*20)\n",
    "# Topics sorted by the number of document they are allocated to\n",
    "top_index = doc_count.argsort()[-15:][::-1]\n",
    "print('Most important clusters (by number of docs inside):', top_index)\n",
    "print('*'*20)"
   ]
  },
  {
   "cell_type": "code",
   "execution_count": 60,
   "metadata": {
    "Collapsed": "false"
   },
   "outputs": [],
   "source": [
    "import operator"
   ]
  },
  {
   "cell_type": "markdown",
   "metadata": {
    "Collapsed": "false"
   },
   "source": [
    "**Display Top Words**"
   ]
  },
  {
   "cell_type": "code",
   "execution_count": 63,
   "metadata": {
    "Collapsed": "false"
   },
   "outputs": [
    {
     "name": "stdout",
     "output_type": "stream",
     "text": [
      "\n",
      " Topic: 0\n",
      "[('de', 1029), ('-pron-', 454), ('que', 442), ('space', 392), ('en', 329), ('la', 323), ('station', 310), ('nasa', 302), ('y', 262), ('california', 259)]\n",
      "\n",
      " Topic: 1\n",
      "[('-pron-', 72316), ('like', 11649), ('spread', 6253), ('california', 4173), ('’', 3127), ('people', 2990), ('know', 2736), ('start', 2665), ('fire', 2383), ('think', 2269)]\n",
      "\n",
      " Topic: 2\n",
      "[('。', 894), ('fire', 866), ('！', 375), ('information', 315), ('update', 285), ('ridge', 273), ('brazil', 208), ('？', 202), ('incident', 163), ('、', 161)]\n",
      "\n",
      " Topic: 3\n",
      "[('-pron-', 32142), ('california', 12182), ('trump', 6956), ('state', 2688), ('people', 2304), ('forest', 2105), ('help', 2097), ('fire', 1936), ('blame', 1715), ('like', 1688)]\n",
      "\n",
      " Topic: 4\n",
      "[('youtube', 1131), ('california', 1094), ('video', 752), ('-pron-', 509), ('like', 442), ('playlist', 300), ('climate', 282), ('add', 268), ('blame', 264), ('change', 255)]\n",
      "\n",
      " Topic: 5\n",
      "[('california', 367), ('event', 350), ('think', 346), ('occur', 342), ('cdt', 341), ('oct', 267), ('de', 193), ('-pron-', 170), ('fri', 105), ('los', 71)]\n",
      "\n",
      " Topic: 6\n",
      "[('-pron-', 1837), ('california', 766), ('new', 416), ('fight', 356), ('battle', 332), ('wildfireradio', 280), ('inmate', 279), ('firefighter', 275), ('like', 257), ('hour', 233)]\n",
      "\n",
      " Topic: 7\n",
      "[('-pron-', 19085), ('california', 11520), ('help', 5433), ('relief', 3280), ('victim', 3255), ('affect', 3205), ('donate', 2881), ('support', 1618), ('family', 1473), ('thank', 1453)]\n",
      "\n",
      " Topic: 8\n",
      "[('-pron-', 7456), ('smoke', 4820), ('california', 3852), ('fire', 2778), ('air', 2601), ('area', 1496), ('quality', 1333), ('health', 1039), ('wind', 977), ('burn', 935)]\n",
      "\n",
      " Topic: 9\n",
      "[('-pron-', 14735), ('fire', 3793), ('california', 2890), ('forest', 1926), ('help', 1868), ('wildfire', 1401), ('risk', 1332), ('home', 1259), ('fight', 1176), ('use', 1156)]\n",
      "\n",
      " Topic: 10\n",
      "[('california', 8982), ('-pron-', 7183), ('power', 4303), ('pge', 3802), ('utility', 1910), ('fire', 1624), ('insurance', 1387), ('state', 1349), ('million', 1291), ('blackout', 1286)]\n",
      "\n",
      " Topic: 11\n",
      "[('california', 10922), ('death', 2969), ('toll', 2853), ('deadly', 2809), ('portugal', 2669), ('kill', 2414), ('northern', 2087), ('people', 2003), ('rain', 1968), ('fire', 1854)]\n",
      "\n",
      " Topic: 12\n",
      "[('california', 9551), ('-pron-', 6535), ('dog', 2637), ('home', 2343), ('family', 1668), ('library', 1426), ('reagan', 1374), ('news', 1360), ('burn', 1203), ('save', 1200)]\n",
      "\n",
      " Topic: 13\n",
      "[('california', 11816), ('fire', 9057), ('evacuation', 3825), ('-pron-', 2929), ('wind', 2893), ('update', 2592), ('burn', 2518), ('county', 2180), ('firefighter', 2158), ('new', 2037)]\n",
      "\n",
      " Topic: 14\n",
      "[('-pron-', 18519), ('climate', 7937), ('california', 6745), ('change', 6242), ('fire', 3320), ('hurricane', 3173), ('year', 3102), ('cause', 1969), ('climatechange', 1849), ('drought', 1817)]\n"
     ]
    }
   ],
   "source": [
    "for i, topic in enumerate(mgp.cluster_word_distribution):\n",
    "    sorted_x = sorted(topic.items(), key=operator.itemgetter(1), reverse = True)\n",
    "    print('\\n Topic: {}'.format(i))\n",
    "    print(sorted_x[:10])"
   ]
  },
  {
   "cell_type": "markdown",
   "metadata": {
    "Collapsed": "false"
   },
   "source": [
    "## Shasta"
   ]
  },
  {
   "cell_type": "code",
   "execution_count": 14,
   "metadata": {
    "Collapsed": "false"
   },
   "outputs": [],
   "source": [
    "with open('data/shasta_2018_5000.pickle', 'rb') as read_file:\n",
    "    df_shasta_1 = pickle.load(read_file)"
   ]
  },
  {
   "cell_type": "code",
   "execution_count": 15,
   "metadata": {
    "Collapsed": "false"
   },
   "outputs": [],
   "source": [
    "with open('data/shasta_2018_5001.pickle', 'rb') as read_file:\n",
    "    df_shasta_2 = pickle.load(read_file)"
   ]
  },
  {
   "cell_type": "code",
   "execution_count": 16,
   "metadata": {
    "Collapsed": "false"
   },
   "outputs": [],
   "source": [
    "df_shasta = pd.concat([df_shasta_1, df_shasta_2], axis = 0)"
   ]
  },
  {
   "cell_type": "code",
   "execution_count": 42,
   "metadata": {
    "Collapsed": "false"
   },
   "outputs": [],
   "source": [
    "my_additional_stop_words = ['wildfire', 'like', '-pron-']\n",
    "stop_words = text.ENGLISH_STOP_WORDS.union(my_additional_stop_words)"
   ]
  },
  {
   "cell_type": "code",
   "execution_count": 43,
   "metadata": {
    "Collapsed": "false"
   },
   "outputs": [],
   "source": [
    "clean = []\n",
    "for tweet in df_shasta['spell_trans']:\n",
    "    word_tokens = nltk.word_tokenize(str(tweet).lower())\n",
    "    filtered_sentence = [w for w in word_tokens if w not in stop_words]  \n",
    "    sentence = ' '.join(filtered_sentence)\n",
    "    clean.append(sentence)\n",
    "df_shasta['clean'] = clean"
   ]
  },
  {
   "cell_type": "code",
   "execution_count": 44,
   "metadata": {
    "Collapsed": "false"
   },
   "outputs": [],
   "source": [
    "df_shasta['bigrams'] = [[gram for gram in nltk.ngrams(tweet.split(), 2)] for tweet in df_shasta['clean']]"
   ]
  },
  {
   "cell_type": "code",
   "execution_count": 45,
   "metadata": {
    "Collapsed": "false"
   },
   "outputs": [],
   "source": [
    "df_shasta['tokens'] = [tweet.split(' ') for tweet in df_shasta['clean']]"
   ]
  },
  {
   "cell_type": "code",
   "execution_count": 46,
   "metadata": {
    "Collapsed": "false"
   },
   "outputs": [
    {
     "data": {
      "text/html": [
       "<div>\n",
       "<style scoped>\n",
       "    .dataframe tbody tr th:only-of-type {\n",
       "        vertical-align: middle;\n",
       "    }\n",
       "\n",
       "    .dataframe tbody tr th {\n",
       "        vertical-align: top;\n",
       "    }\n",
       "\n",
       "    .dataframe thead th {\n",
       "        text-align: right;\n",
       "    }\n",
       "</style>\n",
       "<table border=\"1\" class=\"dataframe\">\n",
       "  <thead>\n",
       "    <tr style=\"text-align: right;\">\n",
       "      <th></th>\n",
       "      <th>_id</th>\n",
       "      <th>username</th>\n",
       "      <th>date</th>\n",
       "      <th>retweets</th>\n",
       "      <th>favorites</th>\n",
       "      <th>text</th>\n",
       "      <th>geo</th>\n",
       "      <th>mentions</th>\n",
       "      <th>hashtags</th>\n",
       "      <th>id</th>\n",
       "      <th>permalink</th>\n",
       "      <th>fire</th>\n",
       "      <th>sentiment</th>\n",
       "      <th>sent_num</th>\n",
       "      <th>language</th>\n",
       "      <th>spell_trans</th>\n",
       "      <th>clean</th>\n",
       "      <th>bigrams</th>\n",
       "      <th>tokens</th>\n",
       "    </tr>\n",
       "  </thead>\n",
       "  <tbody>\n",
       "    <tr>\n",
       "      <td>0</td>\n",
       "      <td>5dcb3fc81641db7377bb1e4e</td>\n",
       "      <td></td>\n",
       "      <td>2018-09-19 16:59</td>\n",
       "      <td>4802</td>\n",
       "      <td>6465</td>\n",
       "      <td>large wildfire in california history officiall...</td>\n",
       "      <td></td>\n",
       "      <td></td>\n",
       "      <td>#</td>\n",
       "      <td>1.04256e+18</td>\n",
       "      <td>https://twitter.com/mdrtindia/status/104256384...</td>\n",
       "      <td>shasta_2018</td>\n",
       "      <td>positive</td>\n",
       "      <td>0.214286</td>\n",
       "      <td>en</td>\n",
       "      <td>large wildlife in california history officiall...</td>\n",
       "      <td>large wildlife california history officially c...</td>\n",
       "      <td>[(large, wildlife), (wildlife, california), (c...</td>\n",
       "      <td>[large, wildlife, california, history, officia...</td>\n",
       "    </tr>\n",
       "    <tr>\n",
       "      <td>1</td>\n",
       "      <td>5dcb3fc81641db7377bb1e4f</td>\n",
       "      <td></td>\n",
       "      <td>2018-09-19 16:59</td>\n",
       "      <td>0</td>\n",
       "      <td>2</td>\n",
       "      <td>have -PRON- see the new nfpa ’s wildfire and f...</td>\n",
       "      <td></td>\n",
       "      <td></td>\n",
       "      <td></td>\n",
       "      <td>1.04256e+18</td>\n",
       "      <td>https://twitter.com/JCFD3FireInfo/status/10425...</td>\n",
       "      <td>shasta_2018</td>\n",
       "      <td>positive</td>\n",
       "      <td>0.214545</td>\n",
       "      <td>en</td>\n",
       "      <td>have -PRON- see the new papa ’s wildlife and l...</td>\n",
       "      <td>new papa ’ s wildlife likewise programs commun...</td>\n",
       "      <td>[(new, papa), (papa, ’), (’, s), (s, wildlife)...</td>\n",
       "      <td>[new, papa, ’, s, wildlife, likewise, programs...</td>\n",
       "    </tr>\n",
       "    <tr>\n",
       "      <td>2</td>\n",
       "      <td>5dcb3fc81641db7377bb1e50</td>\n",
       "      <td></td>\n",
       "      <td>2018-09-19 16:59</td>\n",
       "      <td>7</td>\n",
       "      <td>8</td>\n",
       "      <td>rattlesnake creek fire unofficial wildfire upd...</td>\n",
       "      <td></td>\n",
       "      <td></td>\n",
       "      <td></td>\n",
       "      <td>1.04256e+18</td>\n",
       "      <td>https://twitter.com/FireUnofficial/status/1042...</td>\n",
       "      <td>shasta_2018</td>\n",
       "      <td>neutral</td>\n",
       "      <td>0.000000</td>\n",
       "      <td>en</td>\n",
       "      <td>rattlesnake creek fire unofficial wildlife upd...</td>\n",
       "      <td>rattlesnake creek unofficial wildlife update a...</td>\n",
       "      <td>[(rattlesnake, creek), (creek, unofficial), (u...</td>\n",
       "      <td>[rattlesnake, creek, unofficial, wildlife, upd...</td>\n",
       "    </tr>\n",
       "    <tr>\n",
       "      <td>3</td>\n",
       "      <td>5dcb3fc81641db7377bb1e51</td>\n",
       "      <td></td>\n",
       "      <td>2018-09-19 16:57</td>\n",
       "      <td>0</td>\n",
       "      <td>1</td>\n",
       "      <td>wyoming ’s martencreekfire wildfire wyfire wyb...</td>\n",
       "      <td></td>\n",
       "      <td></td>\n",
       "      <td># # # # #</td>\n",
       "      <td>1.04256e+18</td>\n",
       "      <td>https://twitter.com/RSFireNerd/status/10425634...</td>\n",
       "      <td>shasta_2018</td>\n",
       "      <td>neutral</td>\n",
       "      <td>0.000000</td>\n",
       "      <td>en</td>\n",
       "      <td>wyoming ’s martencreekfire wildlife fire wyeth...</td>\n",
       "      <td>wyoming ’ s martencreekfire wildlife wyeth int...</td>\n",
       "      <td>[(wyoming, ’), (’, s), (s, martencreekfire), (...</td>\n",
       "      <td>[wyoming, ’, s, martencreekfire, wildlife, wye...</td>\n",
       "    </tr>\n",
       "    <tr>\n",
       "      <td>4</td>\n",
       "      <td>5dcb3fc81641db7377bb1e52</td>\n",
       "      <td></td>\n",
       "      <td>2018-09-19 16:56</td>\n",
       "      <td>0</td>\n",
       "      <td>0</td>\n",
       "      <td>honey cs video for numb drop soon queenhoneyc ...</td>\n",
       "      <td></td>\n",
       "      <td>@</td>\n",
       "      <td></td>\n",
       "      <td>1.04256e+18</td>\n",
       "      <td>https://twitter.com/HONEYCOCAINA_/status/10425...</td>\n",
       "      <td>shasta_2018</td>\n",
       "      <td>negative</td>\n",
       "      <td>-0.354545</td>\n",
       "      <td>en</td>\n",
       "      <td>honey is video for numb drop soon queenhoneyc ...</td>\n",
       "      <td>honey video numb drop soon queenhoneyc stream ...</td>\n",
       "      <td>[(honey, video), (video, numb), (numb, drop), ...</td>\n",
       "      <td>[honey, video, numb, drop, soon, queenhoneyc, ...</td>\n",
       "    </tr>\n",
       "  </tbody>\n",
       "</table>\n",
       "</div>"
      ],
      "text/plain": [
       "                        _id username              date  retweets  favorites  \\\n",
       "0  5dcb3fc81641db7377bb1e4e           2018-09-19 16:59      4802       6465   \n",
       "1  5dcb3fc81641db7377bb1e4f           2018-09-19 16:59         0          2   \n",
       "2  5dcb3fc81641db7377bb1e50           2018-09-19 16:59         7          8   \n",
       "3  5dcb3fc81641db7377bb1e51           2018-09-19 16:57         0          1   \n",
       "4  5dcb3fc81641db7377bb1e52           2018-09-19 16:56         0          0   \n",
       "\n",
       "                                                text geo mentions   hashtags  \\\n",
       "0  large wildfire in california history officiall...                       #   \n",
       "1  have -PRON- see the new nfpa ’s wildfire and f...                           \n",
       "2  rattlesnake creek fire unofficial wildfire upd...                           \n",
       "3  wyoming ’s martencreekfire wildfire wyfire wyb...               # # # # #   \n",
       "4  honey cs video for numb drop soon queenhoneyc ...            @              \n",
       "\n",
       "            id                                          permalink  \\\n",
       "0  1.04256e+18  https://twitter.com/mdrtindia/status/104256384...   \n",
       "1  1.04256e+18  https://twitter.com/JCFD3FireInfo/status/10425...   \n",
       "2  1.04256e+18  https://twitter.com/FireUnofficial/status/1042...   \n",
       "3  1.04256e+18  https://twitter.com/RSFireNerd/status/10425634...   \n",
       "4  1.04256e+18  https://twitter.com/HONEYCOCAINA_/status/10425...   \n",
       "\n",
       "          fire sentiment  sent_num language  \\\n",
       "0  shasta_2018  positive  0.214286       en   \n",
       "1  shasta_2018  positive  0.214545       en   \n",
       "2  shasta_2018   neutral  0.000000       en   \n",
       "3  shasta_2018   neutral  0.000000       en   \n",
       "4  shasta_2018  negative -0.354545       en   \n",
       "\n",
       "                                         spell_trans  \\\n",
       "0  large wildlife in california history officiall...   \n",
       "1  have -PRON- see the new papa ’s wildlife and l...   \n",
       "2  rattlesnake creek fire unofficial wildlife upd...   \n",
       "3  wyoming ’s martencreekfire wildlife fire wyeth...   \n",
       "4  honey is video for numb drop soon queenhoneyc ...   \n",
       "\n",
       "                                               clean  \\\n",
       "0  large wildlife california history officially c...   \n",
       "1  new papa ’ s wildlife likewise programs commun...   \n",
       "2  rattlesnake creek unofficial wildlife update a...   \n",
       "3  wyoming ’ s martencreekfire wildlife wyeth int...   \n",
       "4  honey video numb drop soon queenhoneyc stream ...   \n",
       "\n",
       "                                             bigrams  \\\n",
       "0  [(large, wildlife), (wildlife, california), (c...   \n",
       "1  [(new, papa), (papa, ’), (’, s), (s, wildlife)...   \n",
       "2  [(rattlesnake, creek), (creek, unofficial), (u...   \n",
       "3  [(wyoming, ’), (’, s), (s, martencreekfire), (...   \n",
       "4  [(honey, video), (video, numb), (numb, drop), ...   \n",
       "\n",
       "                                              tokens  \n",
       "0  [large, wildlife, california, history, officia...  \n",
       "1  [new, papa, ’, s, wildlife, likewise, programs...  \n",
       "2  [rattlesnake, creek, unofficial, wildlife, upd...  \n",
       "3  [wyoming, ’, s, martencreekfire, wildlife, wye...  \n",
       "4  [honey, video, numb, drop, soon, queenhoneyc, ...  "
      ]
     },
     "execution_count": 46,
     "metadata": {},
     "output_type": "execute_result"
    }
   ],
   "source": [
    "df_shasta.head()"
   ]
  },
  {
   "cell_type": "code",
   "execution_count": 50,
   "metadata": {
    "Collapsed": "false"
   },
   "outputs": [],
   "source": [
    "doc_word, words = count_vec(df_shasta['clean'])"
   ]
  },
  {
   "cell_type": "code",
   "execution_count": 52,
   "metadata": {
    "Collapsed": "false"
   },
   "outputs": [],
   "source": [
    "n_terms = len(words)"
   ]
  },
  {
   "cell_type": "code",
   "execution_count": 54,
   "metadata": {
    "Collapsed": "false"
   },
   "outputs": [
    {
     "name": "stdout",
     "output_type": "stream",
     "text": [
      "In stage 0: transferred 8034 clusters with 15 clusters populated\n",
      "In stage 1: transferred 4782 clusters with 15 clusters populated\n",
      "In stage 2: transferred 4009 clusters with 15 clusters populated\n",
      "In stage 3: transferred 3731 clusters with 15 clusters populated\n",
      "In stage 4: transferred 3565 clusters with 15 clusters populated\n",
      "In stage 5: transferred 3466 clusters with 15 clusters populated\n",
      "In stage 6: transferred 3430 clusters with 15 clusters populated\n",
      "In stage 7: transferred 3327 clusters with 15 clusters populated\n",
      "In stage 8: transferred 3330 clusters with 15 clusters populated\n",
      "In stage 9: transferred 3243 clusters with 15 clusters populated\n"
     ]
    }
   ],
   "source": [
    "mgp = gsdmm(df_shasta['bigrams'], n_terms)"
   ]
  },
  {
   "cell_type": "code",
   "execution_count": 55,
   "metadata": {
    "Collapsed": "false"
   },
   "outputs": [
    {
     "name": "stdout",
     "output_type": "stream",
     "text": [
      "Number of documents per topic : [681 691 609 746 627 700 627 701 624 696 660 615 655 694 646]\n",
      "********************\n",
      "Most important clusters (by number of docs inside): [ 3  7  5  9 13  1  0 10 12 14  6  4  8 11  2]\n",
      "********************\n"
     ]
    }
   ],
   "source": [
    "doc_count = np.array(mgp.cluster_doc_count)\n",
    "print('Number of documents per topic :', doc_count)\n",
    "print('*'*20)\n",
    "# Topics sorted by the number of document they are allocated to\n",
    "top_index = doc_count.argsort()[-15:][::-1]\n",
    "print('Most important clusters (by number of docs inside):', top_index)\n",
    "print('*'*20)"
   ]
  },
  {
   "cell_type": "code",
   "execution_count": 57,
   "metadata": {
    "Collapsed": "false"
   },
   "outputs": [],
   "source": [
    "import operator"
   ]
  },
  {
   "cell_type": "code",
   "execution_count": 58,
   "metadata": {
    "Collapsed": "false"
   },
   "outputs": [
    {
     "name": "stdout",
     "output_type": "stream",
     "text": [
      "\n",
      " Topic: 0\n",
      "[(('spread', 'wildlife'), 125), (('california', 'wildlife'), 34), (('wildlife', 'smoke'), 33), (('sugar', 'creek'), 29), (('wildlife', '…'), 26), (('creek', 'lose'), 17), (('creek', 'wildlife'), 14), (('air', 'quality'), 13), (('…', 'incised'), 13), (('bc', 'wildlife'), 13), (('ca', 'wildlife'), 13), (('burn', 'wildlife'), 13), (('michael', 'martin'), 12), (('martin', 'murphy'), 12), (('…', '…'), 11), (('’', 's'), 11), (('north', 'america'), 11), (('horizon', 'throttle'), 11), (('die', 'wildlife'), 11), (('british', 'columbia'), 11)]\n",
      "\n",
      " Topic: 1\n",
      "[(('west', 'coast'), 67), (('east', 'coast'), 42), (('wildlife', '…'), 39), (('coast', 'wildlife'), 38), (('wildlife', 'affect'), 36), (('wildlife', 'west'), 35), (('’', 's'), 30), (('aftermath', 'wildlife'), 29), (('capture', 'aftermath'), 28), (('wildlife', 'france'), 28), (('rings', 'lonely'), 25), (('affect', 'taste'), 21), (('taste', 'wine'), 21), (('natural', 'disaster'), 20), (('wildlife', 'earthquake'), 17), (('pp', 'pp'), 17), (('make', 'sure'), 16), (('smoke', 'report'), 16), (('report', 'taylor'), 16), (('…', 'incised'), 15)]\n",
      "\n",
      " Topic: 2\n",
      "[(('wildlife', 'update'), 125), (('acre', 'contain'), 118), (('unofficial', 'wildlife'), 116), (('update', 'acre'), 116), (('consult', 'official'), 116), (('official', 'safety'), 116), (('incorrectoutdate', 'consult'), 59), (('incorrect', 'consult'), 57), (('safety', 'disclaimer'), 57), (('disclaimer', 'image'), 57), (('contain', 'mi'), 52), (('climate', 'change'), 39), (('wildlife', '…'), 38), (('…', '…'), 36), (('california', 'wildlife'), 31), (('lake', 'city'), 20), (('salt', 'lake'), 19), (('city', 'utah'), 19), (('’', 's'), 16), (('northern', 'california'), 16)]\n",
      "\n",
      " Topic: 3\n",
      "[(('spread', 'wildlife'), 128), (('wildlife', '…'), 61), (('california', 'wildlife'), 35), (('make', 'sure'), 30), (('storm', 'wildlife'), 28), (('recover', 'wildlife'), 25), (('natural', 'disaster'), 25), (('wildlife', 'make'), 22), (('wildlife', 'earthquake'), 22), (('leave', 'home'), 21), (('social', 'medium'), 21), (('struggle', 'recover'), 20), (('bull', 'draw'), 20), (('watch', 'wildlife'), 20), (('ahead', 'storm'), 19), (('sure', 'ready'), 19), (('ready', 'case'), 19), (('case', 'ask'), 19), (('ask', 'leave'), 19), (('hurricane', 'tornado'), 19)]\n",
      "\n",
      " Topic: 4\n",
      "[(('wildlife', 'smoke'), 29), (('’', 's'), 28), (('bc', 'wildlife'), 28), (('…', '…'), 25), (('bull', 'draw'), 21), (('spread', 'wildlife'), 15), (('community', 'meeting'), 15), (('flood', 'wildlife'), 14), (('flag', 'warning'), 14), (('forest', 'management'), 13), (('red', 'flag'), 13), (('wildlife', 'service'), 13), (('wildlife', 'hurricane'), 13), (('wildlife', 'today'), 12), (('smoke', 'wildlife'), 12), (('wildlife', 'season'), 11), (('fight', 'wildlife'), 11), (('wildlife', 'recovery'), 11), (('wildlife', 'california'), 10), (('wildlife', '…'), 10)]\n",
      "\n",
      " Topic: 5\n",
      "[(('wildlife', 'california'), 68), (('large', 'wildlife'), 58), (('california', 'history'), 43), (('big', 'wildlife'), 43), (('’', 's'), 40), (('fully', 'contain'), 37), (('wildlife', 'record'), 32), (('contain', '…'), 32), (('force', 'evacuation'), 31), (('california', 'wildlife'), 29), (('record', 'california'), 29), (('wildlife', 'force'), 26), (('forest', 'service'), 23), (('utah', 'county'), 21), (('percent', 'contain'), 20), (('california', 'fully'), 20), (('area', 'closure'), 20), (('utah', 'wildlife'), 19), (('emergency', 'area'), 18), (('wildlife', '…'), 17)]\n",
      "\n",
      " Topic: 6\n",
      "[(('air', 'quality'), 65), (('wildlife', 'smoke'), 57), (('wildlife', 'handle'), 40), (('handle', 'flame'), 32), (('main', 'wildlife'), 24), (('count', 'main'), 23), (('wildlife', 'utah'), 21), (('pole', 'creek'), 21), (('wildlife', 'burn'), 20), (('…', '…'), 18), (('wildlife', '…'), 18), (('ear', 'sound'), 18), (('sound', 'count'), 18), (('bald', 'mountain'), 16), (('quality', 'update'), 16), (('raleigh', 'roi'), 16), (('spanish', 'fork'), 16), (('world', 'wildlife'), 15), (('catch', 'video'), 15), (('update', 'felt'), 15)]\n",
      "\n",
      " Topic: 7\n",
      "[(('’', 's'), 70), (('video', 'couture'), 51), (('couture', 'playlist'), 37), (('s', 'wildlife'), 34), (('couture', 'video'), 34), (('add', 'video'), 33), (('mendocino', 'complex'), 29), (('wildlife', 'victim'), 27), (('firefighter', 'battle'), 24), (('!', '!'), 24), (('california', '’'), 24), (('fairbank', 'wildlife'), 22), (('wildlife', 'relief'), 20), (('wildlife', 'feat'), 20), (('battle', 'california'), 20), (('added', 'video'), 18), (('form', 'slavery'), 18), (('slavery', 'meet'), 18), (('wildlife', 'hour'), 18), (('accuradio', 'channel'), 17)]\n",
      "\n",
      " Topic: 8\n",
      "[(('iron', 'east'), 44), (('drone', 'help'), 38), (('help', 'protect'), 38), (('protect', 'california'), 37), (('earthquake', 'wildlife'), 35), (('lidarequippe', 'drone'), 34), (('california', 'future'), 33), (('future', 'wildlife'), 32), (('hurricane', 'wildlife'), 29), (('wildlife', 'utah'), 27), (('wildlife', 'tornado'), 26), (('flood', 'earthquake'), 24), (('’', 's'), 22), (('natural', 'disaster'), 22), (('california', 'wildlife'), 21), (('wildlife', '…'), 21), (('…', 'incised'), 19), (('silver', 'creek'), 19), (('update', 'september'), 19), (('displace', 'people'), 19)]\n",
      "\n",
      " Topic: 9\n",
      "[(('fight', 'wildlife'), 57), (('california', 'wildlife'), 54), (('’', 's'), 53), (('wildlife', '…'), 39), (('indian', 'butte'), 34), (('wildlife', '``'), 22), (('wildlife', 'work'), 22), (('``', '``'), 22), (('s', 'wildlife'), 20), (('firefighter', 'head'), 19), (('head', 'utah'), 19), (('``', 'wildlife'), 18), (('wildlife', 'smoke'), 17), (('butte', 'wildlife'), 17), (('wildlife', 'near'), 17), (('utah', 'fight'), 17), (('air', 'quality'), 16), (('utah', 'county'), 16), (('impact', 'wildlife'), 15), (('wildlife', 'start'), 15)]\n",
      "\n",
      " Topic: 10\n",
      "[(('california', 'wildlife'), 57), (('wildlife', '…'), 33), (('wildlife', 'burn'), 28), (('rings', 'lonely'), 28), (('…', '…'), 23), (('deadly', 'wildlife'), 23), (('bacon', 'mind'), 22), (('wildlife', 'state'), 20), (('large', 'wildlife'), 18), (('wildlife', 'season'), 18), (('wildlife', 'west'), 16), (('september', 'update'), 16), (('wildlife', 'california'), 14), (('going', 'wildlife'), 14), (('bryce', 'canyon'), 14), (('wildlife', 'rage'), 14), (('…', 'incised'), 13), (('national', 'forest'), 13), (('hurricane', 'wildlife'), 13), (('thank', 'going'), 13)]\n",
      "\n",
      " Topic: 11\n",
      "[(('spread', 'wildlife'), 68), (('high', 'school'), 33), (('wildlife', '…'), 29), (('prevent', 'wildlife'), 26), (('’', 's'), 22), (('update', 'september'), 22), (('california', 'wildlife'), 19), (('incident', 'management'), 19), (('management', 'team'), 19), (('pole', 'creek'), 16), (('…', 'incised'), 15), (('team', 'incident'), 15), (('incident', 'commander'), 15), (('ca', 'wildlife'), 13), (('terwilliger', 'update'), 13), (('terwilliger', 'wildlife'), 13), (('community', 'meeting'), 12), (('machine', 'learn'), 12), (('wildlife', 'northwest'), 12), (('northwest', 'incident'), 12)]\n",
      "\n",
      " Topic: 12\n",
      "[(('pole', 'creek'), 39), (('bald', 'mountain'), 33), (('update', 'klondike'), 25), (('klondike', 'wildlife'), 25), (('spread', 'wildlife'), 22), (('…', '…'), 20), (('silver', 'creek'), 20), (('…', 'incised'), 19), (('klondike', 'west'), 18), (('west', 'zone'), 18), (('mountain', 'wildlife'), 17), (('wildlife', 'brockhampton'), 16), (('wildlife', 'make'), 16), (('september', 'update'), 14), (('update', 'pole'), 14), (('fight', 'wildlife'), 14), (('forest', 'service'), 13), (('wildlife', '…'), 13), (('wildlife', 'burn'), 12), (('klondike', 'update'), 12)]\n",
      "\n",
      " Topic: 13\n",
      "[(('spread', 'wildlife'), 117), (('howe', 'ridge'), 34), (('incident', 'management'), 30), (('management', 'team'), 29), (('whale', 'butte'), 29), (('northern', 'rockies'), 29), (('september', 'northern'), 27), (('rockies', 'incident'), 27), (('team', 'mike'), 27), (('mike', 'goicoechea'), 27), (('goicoechea', 'incident'), 27), (('paula', 'ridge'), 26), (('wildlife', '…'), 25), (('incident', 'commander'), 25), (('ridge', 'wildlife'), 25), (('ridge', 'update'), 23), (('utah', 'wildlife'), 21), (('nasal', 'sabotage'), 21), (('information', '…'), 20), (('russian', 'theory'), 20)]\n",
      "\n",
      " Topic: 14\n",
      "[(('climate', 'change'), 69), (('california', 'wildlife'), 39), (('wildlife', 'smoke'), 23), (('hurricane', 'wildlife'), 22), (('spread', 'wildlife'), 18), (('utah', 'county'), 18), (('high', 'wind'), 16), (('wildlife', 'california'), 15), (('affect', 'wildlife'), 15), (('force', 'evacuation'), 14), (('wildlife', 'drought'), 14), (('fan', 'high'), 14), (('double', 'size'), 14), (('issue', 'wildlife'), 14), (('brockhampton', 'wildlife'), 13), (('…', 'incised'), 13), (('restoration', 'continue'), 13), (('continue', 'sting'), 13), (('sting', 'cat'), 13), (('wildlife', 'hurricane'), 13)]\n"
     ]
    }
   ],
   "source": [
    "for i, topic in enumerate(mgp.cluster_word_distribution):\n",
    "    sorted_x = sorted(topic.items(), key=operator.itemgetter(1), reverse = True)\n",
    "    print('\\n Topic: {}'.format(i))\n",
    "    print(sorted_x[:20])"
   ]
  },
  {
   "cell_type": "markdown",
   "metadata": {
    "Collapsed": "false"
   },
   "source": [
    "## NCA "
   ]
  },
  {
   "cell_type": "code",
   "execution_count": 59,
   "metadata": {
    "Collapsed": "false"
   },
   "outputs": [],
   "source": [
    "with open('data/nca_2017_5000.pickle', 'rb') as read_file:\n",
    "    nca_2017 = pickle.load(read_file)"
   ]
  },
  {
   "cell_type": "code",
   "execution_count": 60,
   "metadata": {
    "Collapsed": "false"
   },
   "outputs": [],
   "source": [
    "my_additional_stop_words = ['wildfire', 'like', '-pron-']\n",
    "stop_words = text.ENGLISH_STOP_WORDS.union(my_additional_stop_words)"
   ]
  },
  {
   "cell_type": "code",
   "execution_count": 61,
   "metadata": {
    "Collapsed": "false"
   },
   "outputs": [],
   "source": [
    "clean = []\n",
    "for tweet in nca_2017['spell_trans']:\n",
    "    word_tokens = nltk.word_tokenize(str(tweet).lower())\n",
    "    filtered_sentence = [w for w in word_tokens if w not in stop_words]  \n",
    "    sentence = ' '.join(filtered_sentence)\n",
    "    clean.append(sentence)\n",
    "nca_2017['clean'] = clean"
   ]
  },
  {
   "cell_type": "code",
   "execution_count": 62,
   "metadata": {
    "Collapsed": "false"
   },
   "outputs": [],
   "source": [
    "nca_2017['bigrams'] = [[gram for gram in nltk.ngrams(tweet.split(), 2)] for tweet in nca_2017['clean']]"
   ]
  },
  {
   "cell_type": "code",
   "execution_count": 63,
   "metadata": {
    "Collapsed": "false"
   },
   "outputs": [],
   "source": [
    "nca_2017['tokens'] = [tweet.split(' ') for tweet in nca_2017['clean']]"
   ]
  },
  {
   "cell_type": "code",
   "execution_count": 64,
   "metadata": {
    "Collapsed": "false"
   },
   "outputs": [],
   "source": [
    "doc_word, words = count_vec(nca_2017['clean'])"
   ]
  },
  {
   "cell_type": "code",
   "execution_count": 65,
   "metadata": {
    "Collapsed": "false"
   },
   "outputs": [],
   "source": [
    "n_terms = len(words)"
   ]
  },
  {
   "cell_type": "code",
   "execution_count": 66,
   "metadata": {
    "Collapsed": "false"
   },
   "outputs": [
    {
     "data": {
      "text/plain": [
       "1996"
      ]
     },
     "execution_count": 66,
     "metadata": {},
     "output_type": "execute_result"
    }
   ],
   "source": [
    "n_terms"
   ]
  },
  {
   "cell_type": "code",
   "execution_count": 67,
   "metadata": {
    "Collapsed": "false"
   },
   "outputs": [
    {
     "name": "stdout",
     "output_type": "stream",
     "text": [
      "In stage 0: transferred 4012 clusters with 15 clusters populated\n",
      "In stage 1: transferred 2010 clusters with 15 clusters populated\n",
      "In stage 2: transferred 1654 clusters with 15 clusters populated\n",
      "In stage 3: transferred 1536 clusters with 15 clusters populated\n",
      "In stage 4: transferred 1479 clusters with 15 clusters populated\n",
      "In stage 5: transferred 1490 clusters with 15 clusters populated\n",
      "In stage 6: transferred 1469 clusters with 15 clusters populated\n",
      "In stage 7: transferred 1480 clusters with 15 clusters populated\n",
      "In stage 8: transferred 1454 clusters with 15 clusters populated\n",
      "In stage 9: transferred 1434 clusters with 15 clusters populated\n"
     ]
    }
   ],
   "source": [
    "mgp = gsdmm(nca_2017['bigrams'], n_terms)"
   ]
  },
  {
   "cell_type": "code",
   "execution_count": 68,
   "metadata": {
    "Collapsed": "false"
   },
   "outputs": [
    {
     "name": "stdout",
     "output_type": "stream",
     "text": [
      "Number of documents per topic : [385 353 300 321 323 304 325 355 319 322 311 367 371 315 328]\n",
      "********************\n",
      "Most important clusters (by number of docs inside): [ 0 12 11  7  1 14  6  4  9  3  8 13 10  5  2]\n",
      "********************\n"
     ]
    }
   ],
   "source": [
    "doc_count = np.array(mgp.cluster_doc_count)\n",
    "print('Number of documents per topic :', doc_count)\n",
    "print('*'*20)\n",
    "# Topics sorted by the number of document they are allocated to\n",
    "top_index = doc_count.argsort()[-15:][::-1]\n",
    "print('Most important clusters (by number of docs inside):', top_index)\n",
    "print('*'*20)"
   ]
  },
  {
   "cell_type": "code",
   "execution_count": 69,
   "metadata": {
    "Collapsed": "false"
   },
   "outputs": [],
   "source": [
    "import operator"
   ]
  },
  {
   "cell_type": "code",
   "execution_count": 70,
   "metadata": {
    "Collapsed": "false"
   },
   "outputs": [
    {
     "name": "stdout",
     "output_type": "stream",
     "text": [
      "\n",
      " Topic: 0\n",
      "[(('california', 'wildlife'), 219), (('wildlife', '…'), 54), (('burn', 'california'), 36), (('farm', 'burn'), 34), (('pot', 'farm'), 29), (('wildlife', 'victim'), 25), (('burn', 'home'), 22), (('victim', 'search'), 20), (('search', 'burn'), 20), (('home', 'memory'), 20), (('wildlife', 'threat'), 19), (('santa', 'ana'), 17), (('record', 'heat'), 16), (('heat', 'fierce'), 16), (('ana', 'wind'), 16), (('fuel', 'wildlife'), 16), (('fierce', 'santa'), 15), (('threat', 'california'), 15), (('doctor', 'brave'), 15), (('brave', 'wildlife'), 15)]\n",
      "\n",
      " Topic: 1\n",
      "[(('california', 'wildlife'), 125), (('vineyards', 'worker'), 76), (('worker', 'owner'), 73), (('wildlife', '…'), 63), (('start', 'california'), 54), (('arrest', 'start'), 49), (('wildlife', 'affect'), 44), (('muslin', 'ran'), 39), (('affect', 'vineyards'), 39), (('illegal', 'muslin'), 38), (('ran', 'arrest'), 38), (('plunge', 'vineyards'), 33), (('owner', 'struggle'), 33), (('forgive', 'wildlife'), 30), (('break', 'illegal'), 29), (('wildlife', 'plunge'), 29), (('santa', 'rosa'), 17), (('northern', 'california'), 16), (('owner', '…'), 15), (('resident', 'return'), 14)]\n",
      "\n",
      " Topic: 2\n",
      "[(('california', 'wildlife'), 27), (('start', 'wildlife'), 16), (('wildlife', 'smoke'), 13), (('wildlife', 'california'), 12), (('spread', 'wildlife'), 12), (('ca', 'wildlife'), 12), (('wildlife', 'burn'), 11), (('wildlife', 's'), 9), (('wildlife', 'dignity'), 9), (('wildlife', '``'), 8), (('life', '…'), 8), (('wildlife', 'vs'), 8), (('weather', 'wildlife'), 8), (('dignity', 'vineyards'), 8), (('vineyards', 'worker'), 8), (('worker', 'stop'), 8), (('stop', 'pick'), 8), (('pick', 'grape'), 8), (('grape', 'flee'), 8), (('flee', 'life'), 8)]\n",
      "\n",
      " Topic: 3\n",
      "[(('san', 'diego'), 37), (('california', 'wildlife'), 30), (('wildlife', 'burn'), 27), (('wildlife', '…'), 25), (('diego', 'county'), 23), (('…', '…'), 20), (('wine', 'country'), 15), (('evacuation', 'order'), 14), (('wildlife', 'san'), 14), (('’', 's'), 11), (('wildlife', 'evacuate'), 11), (('wildlife', 'threaten'), 11), (('risk', 'wildlife'), 10), (('order', 'wildlife'), 10), (('threaten', 'home'), 10), (('home', 'san'), 10), (('wildlife', 'rage'), 10), (('near', 'strawberry'), 9), (('record', 'heat'), 9), (('strong', 'wind'), 9)]\n",
      "\n",
      " Topic: 4\n",
      "[(('’', 's'), 92), (('california', '’'), 67), (('destructive', 'wildlife'), 65), (('wildlife', 'spread'), 54), (('s', 'destructive'), 52), (('california', 'wildlife'), 50), (('spread', 'hour'), 43), (('hour', 'hour'), 41), (('wildlife', '…'), 20), (('wine', 'country'), 19), (('wildlife', 'burn'), 14), (('battle', 'california'), 13), (('…', '…'), 12), (('hour', '…'), 12), (('country', 'wildlife'), 11), (('deadly', 'wildlife'), 11), (('survive', 'california'), 11), (('wildlife', 'california'), 10), (('s', 'wildlife'), 10), (('burn', 'building'), 10)]\n",
      "\n",
      " Topic: 5\n",
      "[(('california', 'wildlife'), 66), (('wildlife', '…'), 41), (('ca', 'wildlife'), 20), (('portuguese', 'wildlife'), 19), (('christian', 'donald'), 17), (('people', 'injure'), 17), (('treatment', 'people'), 15), (('injure', 'portuguese'), 14), (('make', 'bad'), 12), (('sonya', 'sheriff'), 12), (('sheriff', 'battle'), 12), (('battle', 'ice'), 12), (('donald', 'pay'), 12), (('medical', 'treatment'), 12), (('santa', 'rosa'), 11), (('bad', '…'), 11), (('ice', 'misinformation'), 11), (('misinformation', 'california'), 11), (('pay', 'medical'), 11), (('iris', 'celebrate'), 11)]\n",
      "\n",
      " Topic: 6\n",
      "[(('wildlife', '…'), 36), (('santa', 'rosa'), 18), (('portugal', 'wildlife'), 18), (('california', 'wildlife'), 17), (('ca', 'wildlife'), 15), (('homeowner', 'wildlife'), 14), (('pay', 'medical'), 14), (('advice', 'homeowner'), 13), (('wildlife', 'diary'), 13), (('porto', 'rico'), 13), (('estimate', 'population'), 11), (('squirrel', 'plumes'), 11), (('hurricane', 'wildlife'), 11), (('christian', 'donald'), 11), (('treatment', 'wound'), 11), (('population', 'squirrel'), 10), (('recent', 'wildlife'), 10), (('donald', 'pay'), 10), (('wound', 'people'), 10), (('wildlife', 'hurricane'), 10)]\n",
      "\n",
      " Topic: 7\n",
      "[(('california', 'wildlife'), 135), (('climate', 'change'), 50), (('wildlife', '…'), 36), (('pet', 'people'), 31), (('people', 'joyously'), 31), (('joyously', 'reunite'), 31), (('reunite', 'california'), 31), (('change', 'make'), 22), (('immigrant', 'start'), 21), (('northern', 'california'), 19), (('start', 'deadly'), 19), (('make', 'wildlife'), 17), (('wildlife', 'extreme'), 15), (('story', 'immigrant'), 12), (('deadly', 'sonya'), 12), (('extreme', 'professor'), 12), (('survive', 'california'), 12), (('spread', 'wildlife'), 11), (('wildlife', 'torch'), 11), (('’', 's'), 11)]\n",
      "\n",
      " Topic: 8\n",
      "[(('hurricane', 'wildlife'), 42), (('wildlife', 'devastation'), 18), (('california', 'wildlife'), 17), (('sun', 'wildlife'), 17), (('wine', 'industry'), 15), (('wildlife', 'hit'), 14), (('evacuate', 'sun'), 14), (('risk', 'wildlife'), 13), (('northern', 'california'), 13), (('hit', 'construction'), 13), (('construction', 'industry'), 13), (('industry', 'hard'), 13), (('southern', 'calf'), 11), (('calf', 'critical'), 11), (('critical', 'risk'), 11), (('wildlife', 'amid'), 11), (('calf', 'evacuate'), 11), (('amid', 'extreme'), 9), (('extreme', 'heat'), 9), (('california', 'wine'), 9)]\n",
      "\n",
      " Topic: 9\n",
      "[(('california', 'wildlife'), 53), (('spread', 'wildlife'), 43), (('french', 'authority'), 20), (('’', 's'), 20), (('loss', 'california'), 18), (('wildlife', '…'), 17), (('authority', 'corsican'), 16), (('corsican', 'wildlife'), 16), (('wildlife', 'control'), 16), (('wildlife', 'season'), 14), (('elected', 'rise'), 13), (('billion', 'elected'), 12), (('rise', 'dramatically'), 12), (('affect', 'wildlife'), 11), (('wildlife', 'billion'), 11), (('s', 'wildlife'), 10), (('climate', 'change'), 9), (('northern', 'california'), 9), (('year', '’'), 9), (('weather', 'pin'), 8)]\n",
      "\n",
      " Topic: 10\n",
      "[(('power', 'line'), 48), (('effort', 'map'), 43), (('california', 'wildlife'), 42), (('wildlife', '…'), 38), (('delay', 'effort'), 26), (('utility', 'delay'), 22), (('wildlife', 'risk'), 22), (('prone', 'wildlife'), 18), (('victim', 'california'), 18), (('help', 'stall'), 17), (('stall', 'effort'), 17), (('map', 'power'), 16), (('’', 's'), 16), (('help', 'animal'), 16), (('map', 'risky'), 15), (('risky', 'power'), 15), (('line', 'prone'), 15), (('rescue', 'come'), 15), (('come', 'help'), 15), (('animal', 'victim'), 15)]\n",
      "\n",
      " Topic: 11\n",
      "[(('california', 'wildlife'), 89), (('wildlife', 'relief'), 76), (('north', 'bay'), 59), (('bay', 'wildlife'), 54), (('wildlife', 'disrupt'), 45), (('disrupt', 'school'), 45), (('school', 'quarter'), 45), (('quarter', 'million'), 44), (('million', 'student'), 40), (('lay', 'thompson'), 37), (('relief', 'effort'), 37), (('thompson', 'donate'), 34), (('donate', 'point'), 32), (('wildlife', 'destroy'), 30), (('destroy', 'home'), 28), (('northern', 'california'), 27), (('young', 'fan'), 24), (('fan', 'meet'), 24), (('bruce', 'maxwell'), 24), (('bob', 'pelvis'), 24)]\n",
      "\n",
      " Topic: 12\n",
      "[(('california', 'wildlife'), 77), (('wildlife', 'spare'), 34), (('vineyards', 'wine'), 33), (('wine', 'suffer'), 33), (('wildlife', 'burn'), 33), (('spare', 'vineyards'), 32), (('american', 'flag'), 23), (('direct', 'energy'), 21), (('muslin', 'set'), 19), (('burn', 'american'), 19), (('flag', 'berkeley'), 19), (('berkeley', 'protest'), 19), (('ran', 'muslin'), 18), (('set', 'california'), 18), (('couture', 'video'), 16), (('spread', 'wildlife'), 15), (('video', 'couture'), 15), (('face', 'news'), 15), (('wildlife', 'start'), 14), (('energy', 'weapon'), 14)]\n",
      "\n",
      " Topic: 13\n",
      "[(('scotch', 'marijuana'), 71), (('marijuana', 'crop'), 71), (('wildlife', 'scotch'), 70), (('’', 's'), 68), (('crop', 'possibly'), 63), (('possibly', 'complicate'), 63), (('complicate', 'california'), 56), (('california', '’'), 55), (('roylott', 'legal'), 52), (('legal', 'sale'), 50), (('california', 'wildlife'), 45), (('s', 'roylott'), 37), (('deadly', 'wildlife'), 27), (('wildlife', 'california'), 21), (('protest', 'portugal'), 15), (('failure', 'tackle'), 14), (('tackle', 'deadly'), 14), (('sale', '…'), 14), (('california', 'roylott'), 14), (('northern', 'california'), 13)]\n",
      "\n",
      " Topic: 14\n",
      "[(('california', 'wildlife'), 83), (('wildlife', 'victim'), 25), (('wildlife', '…'), 18), (('wildlife', 'season'), 18), (('death', 'toll'), 18), (('’', 's'), 18), (('wildlife', 'bad'), 13), (('victim', '…'), 12), (('cause', 'wildlife'), 11), (('ca', 'wildlife'), 11), (('season', 'california'), 11), (('california', 'history'), 11), (('porto', 'rico'), 11), (('climate', 'change'), 10), (('danger', 'threaten'), 10), (('threaten', 'worse'), 10), (('worse', 'disastrous'), 10), (('disastrous', 'wildlife'), 10), (('bad', 'ready'), 10), (('wildlife', 'death'), 10)]\n"
     ]
    }
   ],
   "source": [
    "for i, topic in enumerate(mgp.cluster_word_distribution):\n",
    "    sorted_x = sorted(topic.items(), key=operator.itemgetter(1), reverse = True)\n",
    "    print('\\n Topic: {}'.format(i))\n",
    "    print(sorted_x[:20])"
   ]
  },
  {
   "cell_type": "code",
   "execution_count": 73,
   "metadata": {
    "Collapsed": "false"
   },
   "outputs": [
    {
     "name": "stdout",
     "output_type": "stream",
     "text": [
      "4999\n",
      "4999\n",
      "\n",
      "Topic  0\n",
      "california wildlife, wildlife scotch, marijuana crop, scotch marijuana, possibly complicate, crop possibly, complicate california, california roylott, northern california, roylott legal\n",
      "\n",
      "Topic  5\n",
      "california wildlife, spread wildlife, northern california, wildlife burn, wildlife california, wildlife victim, climate change, vineyards worker, worker owner, wildlife relief\n"
     ]
    },
    {
     "name": "stderr",
     "output_type": "stream",
     "text": [
      "/Users/brittb28/anaconda3/lib/python3.7/site-packages/ipykernel_launcher.py:27: FutureWarning: elementwise comparison failed; returning scalar instead, but in the future will perform elementwise comparison\n",
      "/Users/brittb28/anaconda3/lib/python3.7/site-packages/ipykernel_launcher.py:27: FutureWarning: elementwise comparison failed; returning scalar instead, but in the future will perform elementwise comparison\n"
     ]
    }
   ],
   "source": [
    "display_gsdmm(mgp, nca_2017['clean'], 10)"
   ]
  },
  {
   "cell_type": "code",
   "execution_count": 78,
   "metadata": {
    "Collapsed": "false"
   },
   "outputs": [],
   "source": [
    "nca_2017['preds'] = [mgp.choose_best_label(x)[0] for x in nca_2017['clean']]"
   ]
  },
  {
   "cell_type": "code",
   "execution_count": 79,
   "metadata": {
    "Collapsed": "false"
   },
   "outputs": [
    {
     "data": {
      "text/html": [
       "<div>\n",
       "<style scoped>\n",
       "    .dataframe tbody tr th:only-of-type {\n",
       "        vertical-align: middle;\n",
       "    }\n",
       "\n",
       "    .dataframe tbody tr th {\n",
       "        vertical-align: top;\n",
       "    }\n",
       "\n",
       "    .dataframe thead th {\n",
       "        text-align: right;\n",
       "    }\n",
       "</style>\n",
       "<table border=\"1\" class=\"dataframe\">\n",
       "  <thead>\n",
       "    <tr style=\"text-align: right;\">\n",
       "      <th></th>\n",
       "      <th>_id</th>\n",
       "      <th>username</th>\n",
       "      <th>date</th>\n",
       "      <th>retweets</th>\n",
       "      <th>favorites</th>\n",
       "      <th>text</th>\n",
       "      <th>geo</th>\n",
       "      <th>mentions</th>\n",
       "      <th>hashtags</th>\n",
       "      <th>id</th>\n",
       "      <th>permalink</th>\n",
       "      <th>fire</th>\n",
       "      <th>sentiment</th>\n",
       "      <th>sent_num</th>\n",
       "      <th>language</th>\n",
       "      <th>spell_trans</th>\n",
       "      <th>clean</th>\n",
       "      <th>bigrams</th>\n",
       "      <th>tokens</th>\n",
       "      <th>preds</th>\n",
       "    </tr>\n",
       "  </thead>\n",
       "  <tbody>\n",
       "    <tr>\n",
       "      <td>0</td>\n",
       "      <td>5dcb401b1641db7377bda6e1</td>\n",
       "      <td></td>\n",
       "      <td>2017-10-23 02:18</td>\n",
       "      <td>1</td>\n",
       "      <td>0</td>\n",
       "      <td>french authority get corsica wildfire under co...</td>\n",
       "      <td></td>\n",
       "      <td></td>\n",
       "      <td>#</td>\n",
       "      <td>9.22392e+17</td>\n",
       "      <td>https://twitter.com/PtCharlotteHelp/status/922...</td>\n",
       "      <td>nca_2017</td>\n",
       "      <td>neutral</td>\n",
       "      <td>0.000000</td>\n",
       "      <td>en</td>\n",
       "      <td>french authority get corsican wildlife under c...</td>\n",
       "      <td>french authority corsican wildlife control tod...</td>\n",
       "      <td>[(french, authority), (authority, corsican), (...</td>\n",
       "      <td>[french, authority, corsican, wildlife, contro...</td>\n",
       "      <td>0</td>\n",
       "    </tr>\n",
       "    <tr>\n",
       "      <td>1</td>\n",
       "      <td>5dcb401b1641db7377bda6e3</td>\n",
       "      <td></td>\n",
       "      <td>2017-10-23 02:17</td>\n",
       "      <td>0</td>\n",
       "      <td>0</td>\n",
       "      <td>building destroy by deadly california wildfire</td>\n",
       "      <td></td>\n",
       "      <td></td>\n",
       "      <td></td>\n",
       "      <td>9.22392e+17</td>\n",
       "      <td>https://twitter.com/cjournal/status/9223915645...</td>\n",
       "      <td>nca_2017</td>\n",
       "      <td>negative</td>\n",
       "      <td>-0.200000</td>\n",
       "      <td>en</td>\n",
       "      <td>building destroy by deadly california wildlife</td>\n",
       "      <td>building destroy deadly california wildlife</td>\n",
       "      <td>[(building, destroy), (destroy, deadly), (dead...</td>\n",
       "      <td>[building, destroy, deadly, california, wildlife]</td>\n",
       "      <td>5</td>\n",
       "    </tr>\n",
       "    <tr>\n",
       "      <td>2</td>\n",
       "      <td>5dcb401b1641db7377bda6e4</td>\n",
       "      <td></td>\n",
       "      <td>2017-10-23 02:17</td>\n",
       "      <td>7</td>\n",
       "      <td>4</td>\n",
       "      <td>how climate change make the santa rosa wildfir...</td>\n",
       "      <td></td>\n",
       "      <td>@</td>\n",
       "      <td></td>\n",
       "      <td>9.22392e+17</td>\n",
       "      <td>https://twitter.com/passion4recom2/status/9223...</td>\n",
       "      <td>nca_2017</td>\n",
       "      <td>negative</td>\n",
       "      <td>-0.700000</td>\n",
       "      <td>en</td>\n",
       "      <td>how climate change make the santa rosa wildlif...</td>\n",
       "      <td>climate change make santa rosa wildlife bad … ...</td>\n",
       "      <td>[(climate, change), (change, make), (make, san...</td>\n",
       "      <td>[climate, change, make, santa, rosa, wildlife,...</td>\n",
       "      <td>5</td>\n",
       "    </tr>\n",
       "    <tr>\n",
       "      <td>3</td>\n",
       "      <td>5dcb401b1641db7377bda6e5</td>\n",
       "      <td></td>\n",
       "      <td>2017-10-23 02:17</td>\n",
       "      <td>0</td>\n",
       "      <td>0</td>\n",
       "      <td>southern california on the brink of deadly wil...</td>\n",
       "      <td></td>\n",
       "      <td></td>\n",
       "      <td></td>\n",
       "      <td>9.22391e+17</td>\n",
       "      <td>https://twitter.com/YNaija/status/922391403103...</td>\n",
       "      <td>nca_2017</td>\n",
       "      <td>negative</td>\n",
       "      <td>-0.013333</td>\n",
       "      <td>en</td>\n",
       "      <td>southern california on the brink of deadly wil...</td>\n",
       "      <td>southern california brink deadly wildlife amid...</td>\n",
       "      <td>[(southern, california), (california, brink), ...</td>\n",
       "      <td>[southern, california, brink, deadly, wildlife...</td>\n",
       "      <td>0</td>\n",
       "    </tr>\n",
       "    <tr>\n",
       "      <td>4</td>\n",
       "      <td>5dcb401b1641db7377bda6e6</td>\n",
       "      <td></td>\n",
       "      <td>2017-10-23 02:16</td>\n",
       "      <td>1</td>\n",
       "      <td>1</td>\n",
       "      <td>see -PRON- guy at geninnovate editor lab on wi...</td>\n",
       "      <td></td>\n",
       "      <td>@ @ @ @</td>\n",
       "      <td>#</td>\n",
       "      <td>9.22391e+17</td>\n",
       "      <td>https://twitter.com/wildflyingpanda/status/922...</td>\n",
       "      <td>nca_2017</td>\n",
       "      <td>neutral</td>\n",
       "      <td>0.000000</td>\n",
       "      <td>en</td>\n",
       "      <td>see -PRON- guy at geninnovate editor lab on wi...</td>\n",
       "      <td>guy geninnovate editor lab wildlife report tim...</td>\n",
       "      <td>[(guy, geninnovate), (geninnovate, editor), (e...</td>\n",
       "      <td>[guy, geninnovate, editor, lab, wildlife, repo...</td>\n",
       "      <td>0</td>\n",
       "    </tr>\n",
       "  </tbody>\n",
       "</table>\n",
       "</div>"
      ],
      "text/plain": [
       "                        _id username              date  retweets  favorites  \\\n",
       "0  5dcb401b1641db7377bda6e1           2017-10-23 02:18         1          0   \n",
       "1  5dcb401b1641db7377bda6e3           2017-10-23 02:17         0          0   \n",
       "2  5dcb401b1641db7377bda6e4           2017-10-23 02:17         7          4   \n",
       "3  5dcb401b1641db7377bda6e5           2017-10-23 02:17         0          0   \n",
       "4  5dcb401b1641db7377bda6e6           2017-10-23 02:16         1          1   \n",
       "\n",
       "                                                text geo mentions hashtags  \\\n",
       "0  french authority get corsica wildfire under co...                     #   \n",
       "1     building destroy by deadly california wildfire                         \n",
       "2  how climate change make the santa rosa wildfir...            @            \n",
       "3  southern california on the brink of deadly wil...                         \n",
       "4  see -PRON- guy at geninnovate editor lab on wi...      @ @ @ @        #   \n",
       "\n",
       "            id                                          permalink      fire  \\\n",
       "0  9.22392e+17  https://twitter.com/PtCharlotteHelp/status/922...  nca_2017   \n",
       "1  9.22392e+17  https://twitter.com/cjournal/status/9223915645...  nca_2017   \n",
       "2  9.22392e+17  https://twitter.com/passion4recom2/status/9223...  nca_2017   \n",
       "3  9.22391e+17  https://twitter.com/YNaija/status/922391403103...  nca_2017   \n",
       "4  9.22391e+17  https://twitter.com/wildflyingpanda/status/922...  nca_2017   \n",
       "\n",
       "  sentiment  sent_num language  \\\n",
       "0   neutral  0.000000       en   \n",
       "1  negative -0.200000       en   \n",
       "2  negative -0.700000       en   \n",
       "3  negative -0.013333       en   \n",
       "4   neutral  0.000000       en   \n",
       "\n",
       "                                         spell_trans  \\\n",
       "0  french authority get corsican wildlife under c...   \n",
       "1     building destroy by deadly california wildlife   \n",
       "2  how climate change make the santa rosa wildlif...   \n",
       "3  southern california on the brink of deadly wil...   \n",
       "4  see -PRON- guy at geninnovate editor lab on wi...   \n",
       "\n",
       "                                               clean  \\\n",
       "0  french authority corsican wildlife control tod...   \n",
       "1        building destroy deadly california wildlife   \n",
       "2  climate change make santa rosa wildlife bad … ...   \n",
       "3  southern california brink deadly wildlife amid...   \n",
       "4  guy geninnovate editor lab wildlife report tim...   \n",
       "\n",
       "                                             bigrams  \\\n",
       "0  [(french, authority), (authority, corsican), (...   \n",
       "1  [(building, destroy), (destroy, deadly), (dead...   \n",
       "2  [(climate, change), (change, make), (make, san...   \n",
       "3  [(southern, california), (california, brink), ...   \n",
       "4  [(guy, geninnovate), (geninnovate, editor), (e...   \n",
       "\n",
       "                                              tokens  preds  \n",
       "0  [french, authority, corsican, wildlife, contro...      0  \n",
       "1  [building, destroy, deadly, california, wildlife]      5  \n",
       "2  [climate, change, make, santa, rosa, wildlife,...      5  \n",
       "3  [southern, california, brink, deadly, wildlife...      0  \n",
       "4  [guy, geninnovate, editor, lab, wildlife, repo...      0  "
      ]
     },
     "execution_count": 79,
     "metadata": {},
     "output_type": "execute_result"
    }
   ],
   "source": [
    "nca_2017.head()"
   ]
  },
  {
   "cell_type": "code",
   "execution_count": 81,
   "metadata": {
    "Collapsed": "false"
   },
   "outputs": [],
   "source": [
    "import seaborn as sns"
   ]
  },
  {
   "cell_type": "code",
   "execution_count": 82,
   "metadata": {
    "Collapsed": "false"
   },
   "outputs": [
    {
     "data": {
      "text/plain": [
       "<matplotlib.axes._subplots.AxesSubplot at 0x1a37381f50>"
      ]
     },
     "execution_count": 82,
     "metadata": {},
     "output_type": "execute_result"
    },
    {
     "data": {
      "image/png": "[encoded data removed]",
      "text/plain": [
       "<Figure size 432x288 with 1 Axes>"
      ]
     },
     "metadata": {
      "needs_background": "light"
     },
     "output_type": "display_data"
    }
   ],
   "source": [
    "sns.countplot(nca_2017.loc[nca_2017['preds']==5, 'sentiment'])"
   ]
  },
  {
   "cell_type": "code",
   "execution_count": 83,
   "metadata": {
    "Collapsed": "false"
   },
   "outputs": [
    {
     "data": {
      "text/plain": [
       "<matplotlib.axes._subplots.AxesSubplot at 0x1a3740da50>"
      ]
     },
     "execution_count": 83,
     "metadata": {},
     "output_type": "execute_result"
    },
    {
     "data": {
      "image/png": "[encoded data removed]",
      "text/plain": [
       "<Figure size 432x288 with 1 Axes>"
      ]
     },
     "metadata": {
      "needs_background": "light"
     },
     "output_type": "display_data"
    }
   ],
   "source": [
    "sns.countplot(nca_2017.loc[nca_2017['preds']==0, 'sentiment'])"
   ]
  },
  {
   "cell_type": "code",
   "execution_count": 113,
   "metadata": {
    "Collapsed": "false"
   },
   "outputs": [],
   "source": [
    "doc_word, words, id2word, cv_tfidf = tfidf(nca_2017['clean'])"
   ]
  },
  {
   "cell_type": "code",
   "execution_count": 114,
   "metadata": {
    "Collapsed": "false"
   },
   "outputs": [],
   "source": [
    "lsa, doc_topic, lsa.explained_variance_ratio_ = dim_lsa(doc_word, 10)"
   ]
  },
  {
   "cell_type": "code",
   "execution_count": 115,
   "metadata": {
    "Collapsed": "false"
   },
   "outputs": [
    {
     "name": "stdout",
     "output_type": "stream",
     "text": [
      "\n",
      "Topic  0\n",
      "california wildlife, northern california wildlife, northern california, start california wildlife, start california, arrest start, wildlife disrupt, california wildlife disrupt, arrest start california, farm burn california\n",
      "\n",
      "Topic  1\n",
      "spread wildlife, spread wildlife people, wildlife today, social medium, wildlife people, watch spread, watch spread wildlife, misinformation spread, spread wildlife social, hope spread wildlife\n",
      "\n",
      "Topic  2\n",
      "scotch marijuana, marijuana crop, scotch marijuana crop, wildlife scotch, wildlife scotch marijuana, possibly complicate, marijuana crop possibly, crop possibly complicate, crop possibly, complicate california\n",
      "\n",
      "Topic  3\n",
      "vineyards worker, vineyards worker owner, worker owner, wildlife affect, affect vineyards, affect vineyards worker, wildlife affect vineyards, forgive wildlife affect, forgive wildlife, worker owner struggle\n",
      "\n",
      "Topic  4\n",
      "wildlife disrupt, school quarter, disrupt school, disrupt school quarter, wildlife disrupt school, quarter million, school quarter million, california wildlife disrupt, million student, quarter million student\n",
      "\n",
      "Topic  5\n",
      "destructive wildlife, wildlife spread, california destructive wildlife, california destructive, spread hour, wildlife spread hour, destructive wildlife spread, hour hour, spread hour hour, wildlife california\n",
      "\n",
      "Topic  6\n",
      "start california, start california wildlife, arrest start, arrest start california, muslin ran, ran arrest start, muslin ran arrest, ran arrest, illegal muslin, illegal muslin ran\n",
      "\n",
      "Topic  7\n",
      "ca wildlife, wildlife relief, porto rico, pot farm, hurricane wildlife, climate change, wildlife victim, affect ca, affect ca wildlife, relief effort\n",
      "\n",
      "Topic  8\n",
      "hurricane wildlife, wildlife victim, wildlife relief, hurricane wildlife victim, north bay, bay wildlife, north bay wildlife, wildlife hit, construction industry hard, construction industry\n",
      "\n",
      "Topic  9\n",
      "wildlife california, wildlife california ireland, california ireland, start wildlife, wildlife california history, california history, fight wildlife, deadly wildlife, wildlife california portugal, california portugal\n"
     ]
    }
   ],
   "source": [
    "display_topics(lsa, words, 10)"
   ]
  },
  {
   "cell_type": "code",
   "execution_count": 151,
   "metadata": {
    "Collapsed": "false"
   },
   "outputs": [
    {
     "data": {
      "text/plain": [
       "array(['shasta_2018', 'kincade', 'nca_2017', 'sb_2017', 'camp'],\n",
       "      dtype=object)"
      ]
     },
     "execution_count": 151,
     "metadata": {},
     "output_type": "execute_result"
    }
   ],
   "source": [
    "df_all.fire.unique()"
   ]
  },
  {
   "cell_type": "code",
   "execution_count": 153,
   "metadata": {
    "Collapsed": "false"
   },
   "outputs": [],
   "source": [
    "doc_word, words, id2word, cv_tfidf = tfidf(df_all.loc[df_all['fire']=='nca_2017', 'clean_tweet'])"
   ]
  },
  {
   "cell_type": "code",
   "execution_count": 157,
   "metadata": {
    "Collapsed": "false"
   },
   "outputs": [],
   "source": [
    "lsa, doc_topic, lsa.explained_variance_ratio_ = dim_lsa(doc_word, 5)"
   ]
  },
  {
   "cell_type": "code",
   "execution_count": 158,
   "metadata": {
    "Collapsed": "false"
   },
   "outputs": [
    {
     "name": "stdout",
     "output_type": "stream",
     "text": [
      "\n",
      "Topic  0\n",
      "death toll, toll rise, death toll rise, california death, california death toll, northern california, mile wide, toll reach, death toll reach, wide death, wide death toll, mile wide death, rise blaze, toll rise blaze, rise california, toll rise california, rise blaze continue, blaze continue, toll climb, death toll climb, california rage, record death toll, record death, rage record, rage record death, california rage record, northern california death, death toll california, toll california, rise firefighter\n",
      "\n",
      "Topic  1\n",
      "dog emerge, emerge alive, dog emerge alive, family dog, family dog emerge, alive happy, emerge alive happy, happy aftermath, alive happy aftermath, northern california, alive california, emerge alive california, alive amid, emerge alive amid, alive amid aftermath, amid aftermath, happy california, alive happy california, california aftermath, news family dog, news family, happy california aftermath, dog alive, santa rosa, family dog alive, good dog emerge, good dog, aftermath news, aftermath ap, happy aftermath ap\n",
      "\n",
      "Topic  2\n",
      "northern california, deadly northern, deadly northern california, california kill, victim northern, victim northern california, northern california kill, devastating northern california, devastating northern, wine country, survive deadly northern, survive deadly, help survivor, california wine, help victim, kill people, survivor devastating, help survivor devastating, survivor devastating northern, exist survive, exist survive deadly, evacuation northern, evacuation northern california, affect northern, affect northern california, help victim northern, california kill people, california wine country, dead northern california, dead northern\n",
      "\n",
      "Topic  3\n",
      "portugal spain, kill portugal, kill portugal spain, spain kill, portugal spain kill, rage portugal, rage portugal spain, kill people, spain kill people, portugal spain dozen, dozen dead, spain dozen, kill rage, kill rage portugal, spain dozen dead, people kill, people die, ravage portugal spain, ravage portugal, people kill portugal, dozen dead injured, dead injured, deadly rage portugal, deadly rage, dead portugal, die portugal, dead portugal spain, portugal spain death, spain death, spain death toll\n",
      "\n",
      "Topic  4\n",
      "peanut creator, creator charles, peanut creator charles, charles schulz, home peanut, home peanut creator, creator charles schulz, burns home, burns home peanut, destroy home peanut, destroy home, california destroy, burn home peanut, burn home, california burns home, california burns, destroy california, charles schulz destroy, schulz destroy, california destroy home, california burn, climate change, charles schulzs, california burn home, creator charles schulzs, schulzs home, charles schulzs home, home destroy, schulz destroy california, schulz ground\n"
     ]
    }
   ],
   "source": [
    "display_topics(lsa, words, 30)"
   ]
  },
  {
   "cell_type": "code",
   "execution_count": null,
   "metadata": {
    "Collapsed": "false"
   },
   "outputs": [],
   "source": []
  },
  {
   "cell_type": "markdown",
   "metadata": {
    "Collapsed": "false"
   },
   "source": [
    "## Kincade"
   ]
  },
  {
   "cell_type": "code",
   "execution_count": 93,
   "metadata": {
    "Collapsed": "false"
   },
   "outputs": [],
   "source": [
    "with open('data/kincade_5000.pickle', 'rb') as read_file:\n",
    "    kincade_2019 = pickle.load(read_file)"
   ]
  },
  {
   "cell_type": "code",
   "execution_count": 94,
   "metadata": {
    "Collapsed": "false"
   },
   "outputs": [
    {
     "data": {
      "text/html": [
       "<div>\n",
       "<style scoped>\n",
       "    .dataframe tbody tr th:only-of-type {\n",
       "        vertical-align: middle;\n",
       "    }\n",
       "\n",
       "    .dataframe tbody tr th {\n",
       "        vertical-align: top;\n",
       "    }\n",
       "\n",
       "    .dataframe thead th {\n",
       "        text-align: right;\n",
       "    }\n",
       "</style>\n",
       "<table border=\"1\" class=\"dataframe\">\n",
       "  <thead>\n",
       "    <tr style=\"text-align: right;\">\n",
       "      <th></th>\n",
       "      <th>_id</th>\n",
       "      <th>username</th>\n",
       "      <th>date</th>\n",
       "      <th>retweets</th>\n",
       "      <th>favorites</th>\n",
       "      <th>text</th>\n",
       "      <th>geo</th>\n",
       "      <th>mentions</th>\n",
       "      <th>hashtags</th>\n",
       "      <th>id</th>\n",
       "      <th>permalink</th>\n",
       "      <th>fire</th>\n",
       "      <th>sentiment</th>\n",
       "      <th>sent_num</th>\n",
       "      <th>language</th>\n",
       "      <th>spell_trans</th>\n",
       "    </tr>\n",
       "  </thead>\n",
       "  <tbody>\n",
       "    <tr>\n",
       "      <td>0</td>\n",
       "      <td>5dcb3fe31641db7377bbf436</td>\n",
       "      <td></td>\n",
       "      <td>2019-11-03 00:14</td>\n",
       "      <td>0</td>\n",
       "      <td>0</td>\n",
       "      <td>california fire wildfire utilitie this   calif...</td>\n",
       "      <td></td>\n",
       "      <td></td>\n",
       "      <td># # # #</td>\n",
       "      <td>1.19089e+18</td>\n",
       "      <td>https://twitter.com/LuluWalcott1/status/119089...</td>\n",
       "      <td>kincade</td>\n",
       "      <td>neutral</td>\n",
       "      <td>0.000000</td>\n",
       "      <td>en</td>\n",
       "      <td>california fire wildlife utilities this   cali...</td>\n",
       "    </tr>\n",
       "    <tr>\n",
       "      <td>1</td>\n",
       "      <td>5dcb3fe31641db7377bbf439</td>\n",
       "      <td></td>\n",
       "      <td>2019-11-03 00:14</td>\n",
       "      <td>0</td>\n",
       "      <td>0</td>\n",
       "      <td>here ’ how state regulator play a role in cali...</td>\n",
       "      <td></td>\n",
       "      <td></td>\n",
       "      <td># # #</td>\n",
       "      <td>1.19089e+18</td>\n",
       "      <td>https://twitter.com/1stAirDel_USMCR/status/119...</td>\n",
       "      <td>kincade</td>\n",
       "      <td>neutral</td>\n",
       "      <td>0.000000</td>\n",
       "      <td>en</td>\n",
       "      <td>here ’ how state regulatory play a role in cal...</td>\n",
       "    </tr>\n",
       "    <tr>\n",
       "      <td>2</td>\n",
       "      <td>5dcb3fe31641db7377bbf43a</td>\n",
       "      <td></td>\n",
       "      <td>2019-11-03 00:13</td>\n",
       "      <td>4</td>\n",
       "      <td>3</td>\n",
       "      <td>remember whentrump offer russia help with sibe...</td>\n",
       "      <td></td>\n",
       "      <td></td>\n",
       "      <td></td>\n",
       "      <td>1.19089e+18</td>\n",
       "      <td>https://twitter.com/SlavicLady88/status/119088...</td>\n",
       "      <td>kincade</td>\n",
       "      <td>negative</td>\n",
       "      <td>-0.266667</td>\n",
       "      <td>en</td>\n",
       "      <td>remember whentrump offer russia help with sibe...</td>\n",
       "    </tr>\n",
       "    <tr>\n",
       "      <td>3</td>\n",
       "      <td>5dcb3fe31641db7377bbf43b</td>\n",
       "      <td></td>\n",
       "      <td>2019-11-03 00:12</td>\n",
       "      <td>0</td>\n",
       "      <td>0</td>\n",
       "      <td>musicfamily giveupsumluv wildfire wildfiresing...</td>\n",
       "      <td></td>\n",
       "      <td>@ @</td>\n",
       "      <td># # # #2019 # # #</td>\n",
       "      <td>1.19089e+18</td>\n",
       "      <td>https://twitter.com/RockinWOAPRadio/status/119...</td>\n",
       "      <td>kincade</td>\n",
       "      <td>neutral</td>\n",
       "      <td>0.000000</td>\n",
       "      <td>tl</td>\n",
       "      <td>musicfamily giveupsumluv wildlife wildfiresing...</td>\n",
       "    </tr>\n",
       "    <tr>\n",
       "      <td>4</td>\n",
       "      <td>5dcb3fe31641db7377bbf43d</td>\n",
       "      <td></td>\n",
       "      <td>2019-11-03 00:12</td>\n",
       "      <td>0</td>\n",
       "      <td>0</td>\n",
       "      <td>right all because the -PRON- neighbor be a fir...</td>\n",
       "      <td></td>\n",
       "      <td></td>\n",
       "      <td>#</td>\n",
       "      <td>1.19089e+18</td>\n",
       "      <td>https://twitter.com/MJaySFH/status/11908894501...</td>\n",
       "      <td>kincade</td>\n",
       "      <td>positive</td>\n",
       "      <td>0.061905</td>\n",
       "      <td>en</td>\n",
       "      <td>right all because the -PRON- neighbor be a fir...</td>\n",
       "    </tr>\n",
       "  </tbody>\n",
       "</table>\n",
       "</div>"
      ],
      "text/plain": [
       "                        _id username              date  retweets  favorites  \\\n",
       "0  5dcb3fe31641db7377bbf436           2019-11-03 00:14         0          0   \n",
       "1  5dcb3fe31641db7377bbf439           2019-11-03 00:14         0          0   \n",
       "2  5dcb3fe31641db7377bbf43a           2019-11-03 00:13         4          3   \n",
       "3  5dcb3fe31641db7377bbf43b           2019-11-03 00:12         0          0   \n",
       "4  5dcb3fe31641db7377bbf43d           2019-11-03 00:12         0          0   \n",
       "\n",
       "                                                text geo mentions  \\\n",
       "0  california fire wildfire utilitie this   calif...                \n",
       "1  here ’ how state regulator play a role in cali...                \n",
       "2  remember whentrump offer russia help with sibe...                \n",
       "3  musicfamily giveupsumluv wildfire wildfiresing...          @ @   \n",
       "4  right all because the -PRON- neighbor be a fir...                \n",
       "\n",
       "            hashtags           id  \\\n",
       "0            # # # #  1.19089e+18   \n",
       "1              # # #  1.19089e+18   \n",
       "2                     1.19089e+18   \n",
       "3  # # # #2019 # # #  1.19089e+18   \n",
       "4                  #  1.19089e+18   \n",
       "\n",
       "                                           permalink     fire sentiment  \\\n",
       "0  https://twitter.com/LuluWalcott1/status/119089...  kincade   neutral   \n",
       "1  https://twitter.com/1stAirDel_USMCR/status/119...  kincade   neutral   \n",
       "2  https://twitter.com/SlavicLady88/status/119088...  kincade  negative   \n",
       "3  https://twitter.com/RockinWOAPRadio/status/119...  kincade   neutral   \n",
       "4  https://twitter.com/MJaySFH/status/11908894501...  kincade  positive   \n",
       "\n",
       "   sent_num language                                        spell_trans  \n",
       "0  0.000000       en  california fire wildlife utilities this   cali...  \n",
       "1  0.000000       en  here ’ how state regulatory play a role in cal...  \n",
       "2 -0.266667       en  remember whentrump offer russia help with sibe...  \n",
       "3  0.000000       tl  musicfamily giveupsumluv wildlife wildfiresing...  \n",
       "4  0.061905       en  right all because the -PRON- neighbor be a fir...  "
      ]
     },
     "execution_count": 94,
     "metadata": {},
     "output_type": "execute_result"
    }
   ],
   "source": [
    "kincade_2019.head()"
   ]
  },
  {
   "cell_type": "code",
   "execution_count": 95,
   "metadata": {
    "Collapsed": "false"
   },
   "outputs": [],
   "source": [
    "my_additional_stop_words = ['wildfire', 'like', '-pron-']\n",
    "stop_words = text.ENGLISH_STOP_WORDS.union(my_additional_stop_words)"
   ]
  },
  {
   "cell_type": "code",
   "execution_count": 96,
   "metadata": {
    "Collapsed": "false"
   },
   "outputs": [],
   "source": [
    "clean = []\n",
    "for tweet in kincade_2019['spell_trans']:\n",
    "    word_tokens = nltk.word_tokenize(str(tweet).lower())\n",
    "    filtered_sentence = [w for w in word_tokens if w not in stop_words]  \n",
    "    sentence = ' '.join(filtered_sentence)\n",
    "    clean.append(sentence)\n",
    "kincade_2019['clean'] = clean"
   ]
  },
  {
   "cell_type": "code",
   "execution_count": 97,
   "metadata": {
    "Collapsed": "false"
   },
   "outputs": [],
   "source": [
    "kincade_2019['bigrams'] = [[gram for gram in nltk.ngrams(tweet.split(), 2)] for tweet in kincade_2019['clean']]"
   ]
  },
  {
   "cell_type": "code",
   "execution_count": 98,
   "metadata": {
    "Collapsed": "false"
   },
   "outputs": [],
   "source": [
    "kincade_2019['tokens'] = [tweet.split(' ') for tweet in kincade_2019['clean']]"
   ]
  },
  {
   "cell_type": "code",
   "execution_count": 99,
   "metadata": {
    "Collapsed": "false"
   },
   "outputs": [],
   "source": [
    "doc_word, words = count_vec(kincade_2019['clean'])"
   ]
  },
  {
   "cell_type": "code",
   "execution_count": 100,
   "metadata": {
    "Collapsed": "false"
   },
   "outputs": [],
   "source": [
    "n_terms = len(words)"
   ]
  },
  {
   "cell_type": "code",
   "execution_count": 101,
   "metadata": {
    "Collapsed": "false"
   },
   "outputs": [
    {
     "data": {
      "text/plain": [
       "2446"
      ]
     },
     "execution_count": 101,
     "metadata": {},
     "output_type": "execute_result"
    }
   ],
   "source": [
    "n_terms"
   ]
  },
  {
   "cell_type": "code",
   "execution_count": 102,
   "metadata": {
    "Collapsed": "false"
   },
   "outputs": [
    {
     "name": "stdout",
     "output_type": "stream",
     "text": [
      "In stage 0: transferred 4060 clusters with 15 clusters populated\n",
      "In stage 1: transferred 2443 clusters with 15 clusters populated\n",
      "In stage 2: transferred 2053 clusters with 15 clusters populated\n",
      "In stage 3: transferred 1908 clusters with 15 clusters populated\n",
      "In stage 4: transferred 1845 clusters with 15 clusters populated\n",
      "In stage 5: transferred 1854 clusters with 15 clusters populated\n",
      "In stage 6: transferred 1815 clusters with 15 clusters populated\n",
      "In stage 7: transferred 1744 clusters with 15 clusters populated\n",
      "In stage 8: transferred 1762 clusters with 15 clusters populated\n",
      "In stage 9: transferred 1741 clusters with 15 clusters populated\n"
     ]
    }
   ],
   "source": [
    "mgp = gsdmm(kincade_2019['bigrams'], n_terms)"
   ]
  },
  {
   "cell_type": "code",
   "execution_count": 103,
   "metadata": {
    "Collapsed": "false"
   },
   "outputs": [
    {
     "name": "stdout",
     "output_type": "stream",
     "text": [
      "Number of documents per topic : [317 282 351 359 283 363 358 341 268 362 345 321 337 368 337]\n",
      "********************\n",
      "Most important clusters (by number of docs inside): [13  5  9  3  6  2 10  7 14 12 11  0  4  1  8]\n",
      "********************\n"
     ]
    }
   ],
   "source": [
    "doc_count = np.array(mgp.cluster_doc_count)\n",
    "print('Number of documents per topic :', doc_count)\n",
    "print('*'*20)\n",
    "# Topics sorted by the number of document they are allocated to\n",
    "top_index = doc_count.argsort()[-15:][::-1]\n",
    "print('Most important clusters (by number of docs inside):', top_index)\n",
    "print('*'*20)"
   ]
  },
  {
   "cell_type": "code",
   "execution_count": 104,
   "metadata": {
    "Collapsed": "false"
   },
   "outputs": [],
   "source": [
    "import operator"
   ]
  },
  {
   "cell_type": "code",
   "execution_count": 105,
   "metadata": {
    "Collapsed": "false"
   },
   "outputs": [
    {
     "name": "stdout",
     "output_type": "stream",
     "text": [
      "\n",
      " Topic: 0\n",
      "[(('california', 'wildlife'), 42), (('grow', 'acre'), 16), (('wildlife', 'grow'), 15), (('ca', 'wildlife'), 14), (('new', 'california'), 11), (('burn', 'wildlife'), 11), (('acre', 'overnight'), 10), (('spread', 'wildlife'), 9), (('save', 'home'), 9), (('wildlife', 'season'), 9), (('wildlife', 'california'), 8), (('new', 'normal'), 8), (('los', 'angeles'), 8), (('flood', 'tornado'), 8), (('year', 'wildlife'), 8), (('southern', 'california'), 7), (('gain', 'news'), 7), (('dave', 'ruin'), 7), (('home', 'life'), 7), (('earthquake', 'wildlife'), 7)]\n",
      "\n",
      " Topic: 1\n",
      "[(('wildlife', 'california'), 26), (('california', 'wildlife'), 24), (('climate', 'change'), 20), (('rage', 'wildlife'), 10), (('control', 'wildlife'), 9), (('california', '…'), 9), (('wildlife', 'smoke'), 8), (('natural', 'disaster'), 8), (('destructive', 'wildlife'), 8), (('’', 's'), 7), (('invasion', 'grass'), 6), (('california', 'wildfires'), 6), (('state', 'california'), 6), (('stay', 'safe'), 6), (('need', 'wildlife'), 6), (('wildlife', 'state'), 6), (('affect', 'wildlife'), 6), (('southern', 'california'), 5), (('wildlife', '…'), 5), (('wildlife', 'culprit'), 5)]\n",
      "\n",
      " Topic: 2\n",
      "[(('spread', 'wildlife'), 80), (('wildlife', '…'), 36), (('california', 'wildlife'), 19), (('battle', 'wildlife'), 14), (('california', 'inmate'), 14), (('inmate', 'pay'), 14), (('pay', 'hour'), 14), (('hour', 'battle'), 14), (('california', 'resident'), 13), (('cause', 'wildlife'), 13), (('wildlife', 'hit'), 10), (('pantanal', 'zealand'), 10), (('late', 'wildlife'), 10), (('tapping', 'point'), 10), (('resident', 'late'), 9), (('wildlife', 'tapping'), 9), (('massive', 'wildlife'), 8), (('solar', 'panel'), 8), (('wildlife', 'blackest'), 7), (('panel', 'microgrid'), 7)]\n",
      "\n",
      " Topic: 3\n",
      "[(('california', 'wildlife'), 67), (('wildlife', '…'), 41), (('battle', 'wildlife'), 36), (('wildlife', 'california'), 35), (('matthew', 'mcconaughey'), 31), (('firefighter', 'battle'), 27), (('’', 's'), 25), (('southern', 'california'), 24), (('venture', 'county'), 15), (('mcconaughey', 'visit'), 13), (('california', 'firefighter'), 13), (('help', 'wildlife'), 12), (('prevent', 'wildlife'), 12), (('horse', 'run'), 12), (('responded', 'battle'), 11), (('mcconaughey', 'help'), 11), (('sonya', 'county'), 11), (('la', 'firefighter'), 11), (('california', '…'), 10), (('firefighter', 'struggle'), 10)]\n",
      "\n",
      " Topic: 4\n",
      "[(('’', 's'), 33), (('california', 'wildlife'), 32), (('wildlife', 'season'), 16), (('wildlife', '…'), 14), (('wildlife', 'crisis'), 14), (('wildlife', 'california'), 11), (('amid', 'california'), 9), (('vital', 'wedding'), 8), (('wedding', 'photo'), 8), (('photo', 'capture'), 8), (('capture', 'joy'), 8), (('joy', 'sorrow'), 8), (('sorrow', 'amid'), 8), (('california', '’'), 7), (('wildlife', 'prevention'), 7), (('power', 'shutoff'), 6), (('wildlife', 'area'), 6), (('gain', 'news'), 5), (('relief', 'effort'), 5), (('housing', 'crisis'), 5)]\n",
      "\n",
      " Topic: 5\n",
      "[(('california', 'wildlife'), 66), (('southern', 'california'), 42), (('make', 'progress'), 32), (('wildlife', '…'), 31), (('progress', 'large'), 25), (('spread', 'wildlife'), 23), (('crew', 'make'), 17), (('air', 'quality'), 16), (('wildlife', 'southern'), 15), (('large', 'southern'), 15), (('firefighter', 'make'), 14), (('evacuation', 'order'), 14), (('large', 'wildlife'), 14), (('wildlife', 'destroy'), 12), (('’', 's'), 10), (('san', 'diego'), 10), (('wildlife', 'victim'), 9), (('calf', 'wildlife'), 9), (('authority', 'lift'), 9), (('lift', 'evacuation'), 9)]\n",
      "\n",
      " Topic: 6\n",
      "[(('southern', 'california'), 80), (('wildlife', 'burn'), 71), (('california', 'wildlife'), 59), (('wildlife', 'southern'), 52), (('economical', 'breakdown'), 44), (('youth', 'activist'), 44), (('activist', 'rally'), 44), (('rally', 'wildlife'), 42), (('great', 'thunder'), 40), (('thunder', 'youth'), 39), (('california', 'farm'), 37), (('firefighter', 'make'), 35), (('gain', 'wildlife'), 35), (('breakdown', 'great'), 35), (('wildlife', 'smoke'), 33), (('farm', 'country'), 32), (('make', 'gain'), 31), (('wildlife', 'spread'), 19), (('burn', '…'), 17), (('burn', 'california'), 16)]\n",
      "\n",
      " Topic: 7\n",
      "[(('california', 'wildlife'), 97), (('’', 's'), 33), (('wildlife', '…'), 27), (('southern', 'california'), 24), (('battle', 'stubborn'), 24), (('stubborn', 'southern'), 23), (('crew', 'battle'), 22), (('wildlife', 'california'), 20), (('ca', 'wildlife'), 17), (('california', '’'), 15), (('climate', 'crisis'), 15), (('climate', 'change'), 14), (('fight', 'wildlife'), 13), (('fight', 'california'), 11), (('say', 'thank'), 11), (('great', 'thunder'), 10), (('crisis', 'weekly'), 10), (('weekly', 'california'), 10), (('wildlife', 'elson'), 10), (('thunder', 'say'), 10)]\n",
      "\n",
      " Topic: 8\n",
      "[(('california', 'wildlife'), 27), (('northern', 'california'), 14), (('wildlife', 'strong'), 11), (('economical', 'breakdown'), 11), (('’', 's'), 10), (('air', 'quality'), 10), (('strong', 'season'), 10), (('citizen', 'evacuate'), 10), (('statemandate', 'catastrophe'), 10), (('catastrophe', 'unintended'), 10), (('consequence', 'century'), 10), (('century', 'underinvestment'), 10), (('underinvestment', 'northern'), 10), (('quality', 'alert'), 9), (('wildlife', 'erupt'), 9), (('erupt', 'overnight'), 9), (('new', 'california'), 9), (('overnight', 'forcing'), 9), (('forcing', 'evacuation'), 9), (('california', 'infrastructure'), 9)]\n",
      "\n",
      " Topic: 9\n",
      "[(('california', 'wildlife'), 56), (('wildlife', 'continue'), 36), (('wildlife', 'burn'), 27), (('southern', 'california'), 24), (('los', 'angeles'), 24), (('say', 'wildlife'), 21), (('fight', 'wildlife'), 19), (('climate', 'change'), 19), (('great', 'thunder'), 19), (('burn', 'california'), 18), (('thunder', 'join'), 18), (('climate', 'strike'), 18), (('continue', 'bad'), 18), (('join', 'la'), 16), (('monsta', 'x'), 15), (('la', 'climate'), 15), (('strike', 'say'), 15), (('prepare', 'wildlife'), 14), (('love', 'monsta'), 14), (('time', 'southern'), 13)]\n",
      "\n",
      " Topic: 10\n",
      "[(('california', 'wildlife'), 86), (('wildlife', 'signal'), 36), (('wildlife', 'rage'), 30), (('power', 'line'), 25), (('los', 'angeles'), 24), (('signal', 'arrival'), 23), (('arrival', 'plantar'), 23), (('plantar', 'age'), 23), (('rage', 'california'), 19), (('great', 'thunder'), 16), (('climate', 'crisis'), 15), ((\"'\", 'exert'), 15), (('climate', 'change'), 14), (('southern', 'california'), 14), (('angeles', 'wildlife'), 14), (('signal', \"'\"), 14), ((\"'\", 'age'), 14), (('age', \"'\"), 14), (('exert', 'claim'), 14), (('thunder', 'condemn'), 12)]\n",
      "\n",
      " Topic: 11\n",
      "[(('climate', 'change'), 28), (('wildlife', '…'), 21), (('’', 's'), 19), (('wildlife', 'ravage'), 19), (('ravage', 'california'), 18), (('california', 'wildlife'), 17), (('large', 'wildlife'), 15), (('wildlife', 'southern'), 13), (('southern', 'california'), 13), (('wildlife', 'california'), 11), (('battle', 'remain'), 11), (('remain', 'large'), 11), (('california', '’'), 9), (('ban', 'wildlife'), 9), (('wildlife', 'continue'), 9), (('wildlife', 'ca'), 9), (('california', 'stubborn'), 9), (('stubborn', 'flame'), 9), (('threaten', 'nearly'), 9), (('nearly', 'home'), 9)]\n",
      "\n",
      " Topic: 12\n",
      "[(('california', 'wildlife'), 43), (('wildlife', '…'), 42), (('began', 'presidential'), 33), (('presidential', 'library'), 33), (('save', 'began'), 23), (('donald', 'began'), 20), (('goat', 'save'), 19), (('began', 'library'), 17), (('herd', 'goat'), 15), (('library', 'wildlife'), 15), (('wildlife', 'california'), 14), (('rage', 'wildlife'), 14), (('save', 'donald'), 14), (('california', 'wildfires'), 13), (('goat', 'help'), 13), (('help', 'save'), 13), (('wildlife', 'smoke'), 11), (('santa', 'ana'), 10), (('ana', 'wind'), 10), (('library', 'rage'), 10)]\n",
      "\n",
      " Topic: 13\n",
      "[(('california', 'wildlife'), 62), (('’', 's'), 61), (('california', '’'), 43), (('power', 'outrage'), 41), (('s', 'wildlife'), 27), (('wildlife', '…'), 23), (('wildlife', 'power'), 23), (('wildlife', 'maria'), 20), (('force', 'evacuation'), 20), (('wildlife', 'california'), 19), (('maria', 'force'), 18), (('threat', 'wildlife'), 17), (('blackest', 'wildlife'), 16), (('evacuation', '…'), 16), (('play', 'role'), 14), (('role', 'california'), 14), (('prisoner', 'fight'), 14), (('fight', 'california'), 14), (('state', 'regulatory'), 13), (('regulatory', 'play'), 12)]\n",
      "\n",
      " Topic: 14\n",
      "[(('california', 'wildlife'), 55), (('climate', 'change'), 42), (('wildlife', 'cause'), 41), (('wildlife', 'california'), 28), (('wildlife', 'climate'), 23), (('environmental', 'policy'), 22), (('wildlife', 'chase'), 19), (('cause', 'california'), 17), (('chase', 'new'), 17), (('policy', 'cause'), 16), (('new', 'tornado'), 16), (('tornado', 'chase'), 16), (('cause', 'wildlife'), 16), (('change', 'drive'), 15), (('horror', 'terror'), 15), (('devastating', 'blaze'), 15), (('california', 'forest'), 15), (('’', 's'), 14), (('blaze', 'say'), 14), (('bad', 'environmental'), 14)]\n"
     ]
    }
   ],
   "source": [
    "for i, topic in enumerate(mgp.cluster_word_distribution):\n",
    "    sorted_x = sorted(topic.items(), key=operator.itemgetter(1), reverse = True)\n",
    "    print('\\n Topic: {}'.format(i))\n",
    "    print(sorted_x[:20])"
   ]
  },
  {
   "cell_type": "code",
   "execution_count": 106,
   "metadata": {
    "Collapsed": "false"
   },
   "outputs": [
    {
     "name": "stdout",
     "output_type": "stream",
     "text": [
      "4992\n",
      "4992\n",
      "\n",
      "Topic  0\n",
      "california wildlife, climate change, southern california, wildlife california, los angeles, wildlife burn, great thunder, spread wildlife, wildlife southern, economical breakdown\n",
      "\n",
      "Topic  4\n",
      "california wildlife, southern california, wildlife california, spread wildlife, wildlife burn, ca wildlife, climate change, wildlife continue, battle wildlife, wildlife southern\n",
      "\n",
      "Topic  2\n",
      "\n",
      "Topic  13\n"
     ]
    },
    {
     "name": "stderr",
     "output_type": "stream",
     "text": [
      "/Users/brittb28/anaconda3/lib/python3.7/site-packages/ipykernel_launcher.py:27: FutureWarning: elementwise comparison failed; returning scalar instead, but in the future will perform elementwise comparison\n",
      "/Users/brittb28/anaconda3/lib/python3.7/site-packages/ipykernel_launcher.py:27: FutureWarning: elementwise comparison failed; returning scalar instead, but in the future will perform elementwise comparison\n"
     ]
    }
   ],
   "source": [
    "display_gsdmm(mgp, kincade_2019['clean'], 10)"
   ]
  },
  {
   "cell_type": "code",
   "execution_count": 107,
   "metadata": {
    "Collapsed": "false"
   },
   "outputs": [],
   "source": [
    "kincade_2019['preds'] = [mgp.choose_best_label(x)[0] for x in kincade_2019['clean']]"
   ]
  },
  {
   "cell_type": "code",
   "execution_count": 110,
   "metadata": {
    "Collapsed": "false"
   },
   "outputs": [
    {
     "data": {
      "text/html": [
       "<div>\n",
       "<style scoped>\n",
       "    .dataframe tbody tr th:only-of-type {\n",
       "        vertical-align: middle;\n",
       "    }\n",
       "\n",
       "    .dataframe tbody tr th {\n",
       "        vertical-align: top;\n",
       "    }\n",
       "\n",
       "    .dataframe thead th {\n",
       "        text-align: right;\n",
       "    }\n",
       "</style>\n",
       "<table border=\"1\" class=\"dataframe\">\n",
       "  <thead>\n",
       "    <tr style=\"text-align: right;\">\n",
       "      <th></th>\n",
       "      <th>_id</th>\n",
       "      <th>username</th>\n",
       "      <th>date</th>\n",
       "      <th>retweets</th>\n",
       "      <th>favorites</th>\n",
       "      <th>text</th>\n",
       "      <th>geo</th>\n",
       "      <th>mentions</th>\n",
       "      <th>hashtags</th>\n",
       "      <th>id</th>\n",
       "      <th>permalink</th>\n",
       "      <th>fire</th>\n",
       "      <th>sentiment</th>\n",
       "      <th>sent_num</th>\n",
       "      <th>language</th>\n",
       "      <th>spell_trans</th>\n",
       "      <th>clean</th>\n",
       "      <th>bigrams</th>\n",
       "      <th>tokens</th>\n",
       "      <th>preds</th>\n",
       "    </tr>\n",
       "  </thead>\n",
       "  <tbody>\n",
       "    <tr>\n",
       "      <td>0</td>\n",
       "      <td>5dcb3fe31641db7377bbf436</td>\n",
       "      <td></td>\n",
       "      <td>2019-11-03 00:14</td>\n",
       "      <td>0</td>\n",
       "      <td>0</td>\n",
       "      <td>california fire wildfire utilitie this   calif...</td>\n",
       "      <td></td>\n",
       "      <td></td>\n",
       "      <td># # # #</td>\n",
       "      <td>1.19089e+18</td>\n",
       "      <td>https://twitter.com/LuluWalcott1/status/119089...</td>\n",
       "      <td>kincade</td>\n",
       "      <td>neutral</td>\n",
       "      <td>0.000000</td>\n",
       "      <td>en</td>\n",
       "      <td>california fire wildlife utilities this   cali...</td>\n",
       "      <td>california wildlife utilities california gover...</td>\n",
       "      <td>[(california, wildlife), (wildlife, utilities)...</td>\n",
       "      <td>[california, wildlife, utilities, california, ...</td>\n",
       "      <td>0</td>\n",
       "    </tr>\n",
       "    <tr>\n",
       "      <td>1</td>\n",
       "      <td>5dcb3fe31641db7377bbf439</td>\n",
       "      <td></td>\n",
       "      <td>2019-11-03 00:14</td>\n",
       "      <td>0</td>\n",
       "      <td>0</td>\n",
       "      <td>here ’ how state regulator play a role in cali...</td>\n",
       "      <td></td>\n",
       "      <td></td>\n",
       "      <td># # #</td>\n",
       "      <td>1.19089e+18</td>\n",
       "      <td>https://twitter.com/1stAirDel_USMCR/status/119...</td>\n",
       "      <td>kincade</td>\n",
       "      <td>neutral</td>\n",
       "      <td>0.000000</td>\n",
       "      <td>en</td>\n",
       "      <td>here ’ how state regulatory play a role in cal...</td>\n",
       "      <td>’ state regulatory play role california ’ s ro...</td>\n",
       "      <td>[(’, state), (state, regulatory), (regulatory,...</td>\n",
       "      <td>[’, state, regulatory, play, role, california,...</td>\n",
       "      <td>0</td>\n",
       "    </tr>\n",
       "    <tr>\n",
       "      <td>2</td>\n",
       "      <td>5dcb3fe31641db7377bbf43a</td>\n",
       "      <td></td>\n",
       "      <td>2019-11-03 00:13</td>\n",
       "      <td>4</td>\n",
       "      <td>3</td>\n",
       "      <td>remember whentrump offer russia help with sibe...</td>\n",
       "      <td></td>\n",
       "      <td></td>\n",
       "      <td></td>\n",
       "      <td>1.19089e+18</td>\n",
       "      <td>https://twitter.com/SlavicLady88/status/119088...</td>\n",
       "      <td>kincade</td>\n",
       "      <td>negative</td>\n",
       "      <td>-0.266667</td>\n",
       "      <td>en</td>\n",
       "      <td>remember whentrump offer russia help with sibe...</td>\n",
       "      <td>remember whentrump offer russia help siberia w...</td>\n",
       "      <td>[(remember, whentrump), (whentrump, offer), (o...</td>\n",
       "      <td>[remember, whentrump, offer, russia, help, sib...</td>\n",
       "      <td>0</td>\n",
       "    </tr>\n",
       "    <tr>\n",
       "      <td>3</td>\n",
       "      <td>5dcb3fe31641db7377bbf43b</td>\n",
       "      <td></td>\n",
       "      <td>2019-11-03 00:12</td>\n",
       "      <td>0</td>\n",
       "      <td>0</td>\n",
       "      <td>musicfamily giveupsumluv wildfire wildfiresing...</td>\n",
       "      <td></td>\n",
       "      <td>@ @</td>\n",
       "      <td># # # #2019 # # #</td>\n",
       "      <td>1.19089e+18</td>\n",
       "      <td>https://twitter.com/RockinWOAPRadio/status/119...</td>\n",
       "      <td>kincade</td>\n",
       "      <td>neutral</td>\n",
       "      <td>0.000000</td>\n",
       "      <td>tl</td>\n",
       "      <td>musicfamily giveupsumluv wildlife wildfiresing...</td>\n",
       "      <td>musicfamily giveupsumluv wildlife wildfiresing...</td>\n",
       "      <td>[(musicfamily, giveupsumluv), (giveupsumluv, w...</td>\n",
       "      <td>[musicfamily, giveupsumluv, wildlife, wildfire...</td>\n",
       "      <td>0</td>\n",
       "    </tr>\n",
       "    <tr>\n",
       "      <td>4</td>\n",
       "      <td>5dcb3fe31641db7377bbf43d</td>\n",
       "      <td></td>\n",
       "      <td>2019-11-03 00:12</td>\n",
       "      <td>0</td>\n",
       "      <td>0</td>\n",
       "      <td>right all because the -PRON- neighbor be a fir...</td>\n",
       "      <td></td>\n",
       "      <td></td>\n",
       "      <td>#</td>\n",
       "      <td>1.19089e+18</td>\n",
       "      <td>https://twitter.com/MJaySFH/status/11908894501...</td>\n",
       "      <td>kincade</td>\n",
       "      <td>positive</td>\n",
       "      <td>0.061905</td>\n",
       "      <td>en</td>\n",
       "      <td>right all because the -PRON- neighbor be a fir...</td>\n",
       "      <td>right neighbor fireplace freak winter regardle...</td>\n",
       "      <td>[(right, neighbor), (neighbor, fireplace), (fi...</td>\n",
       "      <td>[right, neighbor, fireplace, freak, winter, re...</td>\n",
       "      <td>0</td>\n",
       "    </tr>\n",
       "  </tbody>\n",
       "</table>\n",
       "</div>"
      ],
      "text/plain": [
       "                        _id username              date  retweets  favorites  \\\n",
       "0  5dcb3fe31641db7377bbf436           2019-11-03 00:14         0          0   \n",
       "1  5dcb3fe31641db7377bbf439           2019-11-03 00:14         0          0   \n",
       "2  5dcb3fe31641db7377bbf43a           2019-11-03 00:13         4          3   \n",
       "3  5dcb3fe31641db7377bbf43b           2019-11-03 00:12         0          0   \n",
       "4  5dcb3fe31641db7377bbf43d           2019-11-03 00:12         0          0   \n",
       "\n",
       "                                                text geo mentions  \\\n",
       "0  california fire wildfire utilitie this   calif...                \n",
       "1  here ’ how state regulator play a role in cali...                \n",
       "2  remember whentrump offer russia help with sibe...                \n",
       "3  musicfamily giveupsumluv wildfire wildfiresing...          @ @   \n",
       "4  right all because the -PRON- neighbor be a fir...                \n",
       "\n",
       "            hashtags           id  \\\n",
       "0            # # # #  1.19089e+18   \n",
       "1              # # #  1.19089e+18   \n",
       "2                     1.19089e+18   \n",
       "3  # # # #2019 # # #  1.19089e+18   \n",
       "4                  #  1.19089e+18   \n",
       "\n",
       "                                           permalink     fire sentiment  \\\n",
       "0  https://twitter.com/LuluWalcott1/status/119089...  kincade   neutral   \n",
       "1  https://twitter.com/1stAirDel_USMCR/status/119...  kincade   neutral   \n",
       "2  https://twitter.com/SlavicLady88/status/119088...  kincade  negative   \n",
       "3  https://twitter.com/RockinWOAPRadio/status/119...  kincade   neutral   \n",
       "4  https://twitter.com/MJaySFH/status/11908894501...  kincade  positive   \n",
       "\n",
       "   sent_num language                                        spell_trans  \\\n",
       "0  0.000000       en  california fire wildlife utilities this   cali...   \n",
       "1  0.000000       en  here ’ how state regulatory play a role in cal...   \n",
       "2 -0.266667       en  remember whentrump offer russia help with sibe...   \n",
       "3  0.000000       tl  musicfamily giveupsumluv wildlife wildfiresing...   \n",
       "4  0.061905       en  right all because the -PRON- neighbor be a fir...   \n",
       "\n",
       "                                               clean  \\\n",
       "0  california wildlife utilities california gover...   \n",
       "1  ’ state regulatory play role california ’ s ro...   \n",
       "2  remember whentrump offer russia help siberia w...   \n",
       "3  musicfamily giveupsumluv wildlife wildfiresing...   \n",
       "4  right neighbor fireplace freak winter regardle...   \n",
       "\n",
       "                                             bigrams  \\\n",
       "0  [(california, wildlife), (wildlife, utilities)...   \n",
       "1  [(’, state), (state, regulatory), (regulatory,...   \n",
       "2  [(remember, whentrump), (whentrump, offer), (o...   \n",
       "3  [(musicfamily, giveupsumluv), (giveupsumluv, w...   \n",
       "4  [(right, neighbor), (neighbor, fireplace), (fi...   \n",
       "\n",
       "                                              tokens  preds  \n",
       "0  [california, wildlife, utilities, california, ...      0  \n",
       "1  [’, state, regulatory, play, role, california,...      0  \n",
       "2  [remember, whentrump, offer, russia, help, sib...      0  \n",
       "3  [musicfamily, giveupsumluv, wildlife, wildfire...      0  \n",
       "4  [right, neighbor, fireplace, freak, winter, re...      0  "
      ]
     },
     "execution_count": 110,
     "metadata": {},
     "output_type": "execute_result"
    }
   ],
   "source": [
    "kincade_2019.head()"
   ]
  },
  {
   "cell_type": "code",
   "execution_count": 108,
   "metadata": {
    "Collapsed": "false"
   },
   "outputs": [],
   "source": [
    "import seaborn as sns"
   ]
  },
  {
   "cell_type": "code",
   "execution_count": 111,
   "metadata": {
    "Collapsed": "false"
   },
   "outputs": [
    {
     "data": {
      "text/plain": [
       "<matplotlib.axes._subplots.AxesSubplot at 0x1a3cf329d0>"
      ]
     },
     "execution_count": 111,
     "metadata": {},
     "output_type": "execute_result"
    },
    {
     "data": {
      "image/png": "[encoded data removed]",
      "text/plain": [
       "<Figure size 432x288 with 1 Axes>"
      ]
     },
     "metadata": {
      "needs_background": "light"
     },
     "output_type": "display_data"
    }
   ],
   "source": [
    "sns.countplot(kincade_2019.loc[kincade_2019['preds']==0, 'sentiment'])"
   ]
  },
  {
   "cell_type": "code",
   "execution_count": 112,
   "metadata": {
    "Collapsed": "false"
   },
   "outputs": [
    {
     "data": {
      "text/plain": [
       "<matplotlib.axes._subplots.AxesSubplot at 0x1a3ca58810>"
      ]
     },
     "execution_count": 112,
     "metadata": {},
     "output_type": "execute_result"
    },
    {
     "data": {
      "image/png": "[encoded data removed]",
      "text/plain": [
       "<Figure size 432x288 with 1 Axes>"
      ]
     },
     "metadata": {
      "needs_background": "light"
     },
     "output_type": "display_data"
    }
   ],
   "source": [
    "sns.countplot(kincade_2019.loc[kincade_2019['preds']==4, 'sentiment'])"
   ]
  },
  {
   "cell_type": "code",
   "execution_count": 143,
   "metadata": {
    "Collapsed": "false"
   },
   "outputs": [
    {
     "data": {
      "text/plain": [
       "Index(['_id', 'username', 'date', 'retweets', 'favorites', 'text', 'geo',\n",
       "       'mentions', 'hashtags', 'id', 'permalink', 'fire', 'clean_tweet',\n",
       "       'bigrams', 'tokens'],\n",
       "      dtype='object')"
      ]
     },
     "execution_count": 143,
     "metadata": {},
     "output_type": "execute_result"
    }
   ],
   "source": [
    "df_all.columns"
   ]
  },
  {
   "cell_type": "code",
   "execution_count": 144,
   "metadata": {
    "Collapsed": "false"
   },
   "outputs": [],
   "source": [
    "doc_word, words, id2word, cv_tfidf = tfidf(df_all.loc[df_all['fire'] == 'kincade', 'clean_tweet'])"
   ]
  },
  {
   "cell_type": "code",
   "execution_count": 147,
   "metadata": {
    "Collapsed": "false"
   },
   "outputs": [],
   "source": [
    "lsa, doc_topic, lsa.explained_variance_ratio_ = dim_lsa(doc_word, 5)"
   ]
  },
  {
   "cell_type": "code",
   "execution_count": 148,
   "metadata": {
    "Collapsed": "false"
   },
   "outputs": [
    {
     "name": "stdout",
     "output_type": "stream",
     "text": [
      "\n",
      "Topic  0\n",
      "federal aid, federal aid california, aid california, california devastating, devastating continue, vow federal, vow federal aid, aid california devastating, california devastating continue, devastating continue burn, continue burn, trump vow, trump vow federal, burn independent, continue burn independent, trump threaten, climate change, threaten cut, pull federal, pull federal aid, threaten pull, threaten pull federal, trump threaten pull, trump threaten cut, continue burn smartnew, burn smartnew, burn yahoo, continue burn yahoo, cut federal, threaten cut federal\n",
      "\n",
      "Topic  1\n",
      "climate change, dereliction duty, california look, hey aoc, government dereliction, hey aoc california, aoc california, duty climate, dereliction duty climate, aoc california look, government dereliction duty, duty climate change, look government dereliction, look government, california look government, turner hey aoc, turner hey, daniel turner, daniel turner hey, change cause, climate change cause, california climate, california climate change, cause climate, cause climate change, change california, climate change california, blame climate, blame climate change, gavin newsom\n",
      "\n",
      "Topic  2\n",
      "gavin newsom, gov gavin newsom, gov gavin, grapple blackout, newsom grapple, gavin newsom grapple, newsom grapple blackout, chaos gov, chaos gov gavin, california chaos, california chaos gov, grapple blackout foxnew, blackout foxnew, gas price, struggle stay, stay control, spread gas, dark spread, spread gas price, struggle stay control, dark spread gas, california dark spread, california dark, control california, newsom struggle, stay control california, control california dark, newsom struggle stay, gavin newsom struggle, price spike\n",
      "\n",
      "Topic  3\n",
      "threaten cut, trump threaten, trump threaten cut, funding california, cut federal, threaten cut federal, federal funding, cut funding, cut federal funding, cut funding california, threaten cut funding, federal funding california, abc news, california abc, funding california abc, california abc news, president trump, president trump threaten, abc news abc, news abc, california aid, funding california aid, cut federal aid, donald trump, cut aid, threaten pull, trump threaten pull, threaten cut aid, fight california, donald trump threaten\n",
      "\n",
      "Topic  4\n",
      "space station, observe californias space, observe californias, californias space, californias space station, space station nasa, station nasa, nasa observe, nasa observe californias, nasa space, day observe, stay safe, day observe californias, california space station, california space, station nasa space, nasa nasa, image day, observe california, observe california space, la nasa, picture day, los angeles, international space station, international space, southern california, station nasa nasa, andrew morgan, reagan library, northern california\n"
     ]
    }
   ],
   "source": [
    "display_topics(lsa, words, 30)"
   ]
  },
  {
   "cell_type": "markdown",
   "metadata": {
    "Collapsed": "false"
   },
   "source": [
    "## Comparing 2017 to 2019"
   ]
  },
  {
   "cell_type": "code",
   "execution_count": 161,
   "metadata": {
    "Collapsed": "false"
   },
   "outputs": [
    {
     "data": {
      "text/plain": [
       "<matplotlib.axes._subplots.AxesSubplot at 0x1a77b2ea90>"
      ]
     },
     "execution_count": 161,
     "metadata": {},
     "output_type": "execute_result"
    },
    {
     "data": {
      "image/png": "[encoded data removed]",
      "text/plain": [
       "<Figure size 432x288 with 1 Axes>"
      ]
     },
     "metadata": {
      "needs_background": "light"
     },
     "output_type": "display_data"
    }
   ],
   "source": [
    "sns.countplot(df_all.fire)"
   ]
  },
  {
   "cell_type": "code",
   "execution_count": 160,
   "metadata": {
    "Collapsed": "false"
   },
   "outputs": [
    {
     "data": {
      "text/plain": [
       "array(['shasta_2018', 'kincade', 'nca_2017', 'sb_2017', 'camp'],\n",
       "      dtype=object)"
      ]
     },
     "execution_count": 160,
     "metadata": {},
     "output_type": "execute_result"
    }
   ],
   "source": [
    "df_all.fire.unique()"
   ]
  },
  {
   "cell_type": "code",
   "execution_count": 162,
   "metadata": {
    "Collapsed": "false"
   },
   "outputs": [],
   "source": [
    "year = []\n",
    "for fire in df_all['fire']:\n",
    "    if fire == 'shasta_2018':\n",
    "        year.append('2018')\n",
    "    elif fire == 'kincade':\n",
    "        year.append('2019')\n",
    "    elif fire == 'nca_2017':\n",
    "        year.append('2017')\n",
    "    elif fire == 'sb_2017':\n",
    "        year.append('2017')\n",
    "    else:\n",
    "        year.append('2018')"
   ]
  },
  {
   "cell_type": "code",
   "execution_count": 163,
   "metadata": {
    "Collapsed": "false"
   },
   "outputs": [],
   "source": [
    "df_all['year'] = year"
   ]
  },
  {
   "cell_type": "code",
   "execution_count": 166,
   "metadata": {
    "Collapsed": "false"
   },
   "outputs": [],
   "source": [
    "doc_word, words, id2word, cv_tfidf = tfidf(df_all['clean_tweet'])"
   ]
  },
  {
   "cell_type": "code",
   "execution_count": 169,
   "metadata": {
    "Collapsed": "false"
   },
   "outputs": [],
   "source": [
    "lsa, doc_topic, lsa.explained_variance_ratio_ = dim_lsa(doc_word, 15)"
   ]
  },
  {
   "cell_type": "code",
   "execution_count": 170,
   "metadata": {
    "Collapsed": "false"
   },
   "outputs": [
    {
     "name": "stdout",
     "output_type": "stream",
     "text": [
      "\n",
      "Topic  0\n",
      "gender reveal, video gender, video gender reveal, gender reveal cause, reveal cause, cause million, reveal cause million, reveal party, gender reveal party, reveal party ignite, party ignite, release video, release video gender, official release, official release video, reveal party start, party start, ignite cnn, party ignite cnn, baby gender, baby gender reveal, border patrol, party cause, patrol agent, border patrol agent, reveal party cause, idiot video gender, idiot video, reveal party spark, party spark\n",
      "\n",
      "Topic  1\n",
      "death toll, toll rise, death toll rise, california death, california death toll, northern california, climate change, toll reach, death toll reach, mile wide, wide death, wide death toll, mile wide death, toll climb, death toll climb, rise blaze, toll rise blaze, rise california, toll rise california, rise blaze continue, blaze continue, death toll california, toll california, california rage, northern california death, record death toll, record death, rage record, rage record death, california rage record\n",
      "\n",
      "Topic  2\n",
      "climate change, change cause, climate change cause, california climate, california climate change, cause climate change, cause climate, change california, climate change california, blame climate, blame climate change, dereliction duty, hey aoc, california look, dereliction duty climate, duty climate, government dereliction, duty climate change, government dereliction duty, hey aoc california, aoc california, aoc california look, look government dereliction, look government, california look government, change bad, climate change bad, turner hey aoc, turner hey, change drive\n",
      "\n",
      "Topic  3\n",
      "federal aid, aid california, federal aid california, california devastating, continue burn, devastating continue, vow federal, vow federal aid, aid california devastating, california devastating continue, devastating continue burn, trump vow, trump vow federal, northern california, burn independent, continue burn independent, trump threaten, threaten cut, pull federal, pull federal aid, threaten pull, threaten pull federal, trump threaten cut, trump threaten pull, cut federal, continue burn smartnew, burn smartnew, burn yahoo, continue burn yahoo, threaten cut federal\n",
      "\n",
      "Topic  4\n",
      "northern california, deadly northern california, deadly northern, california force, california kill, force evacuation, victim northern california, victim northern, wine country, rage northern, rage northern california, devastating northern california, devastating northern, california force evacuation, northern california kill, northern california force, california wine, california relief, help victim, california wine country, kill people, survive deadly northern, evacuation northern california, evacuation northern, northern california wine, survive deadly, california kill people, burn northern, burn northern california, help survivor\n",
      "\n",
      "Topic  5\n",
      "video youtube, add video, youtube playlist, video youtube playlist, add video youtube, youtube playlist california, playlist california, southern california, reveal party, gender reveal party, gender reveal, stay safe, channel live, california victim, santa rosa, california relief, disaster year, affect california, year record, disaster year record, costly disaster year, costly disaster, threaten cut, hurricane costly, trump threaten, hurricane costly disaster, trump threaten cut, channel live news, funding california, party ignite\n",
      "\n",
      "Topic  6\n",
      "dog emerge, emerge alive, family dog, dog emerge alive, family dog emerge, alive happy, emerge alive happy, happy aftermath, alive happy aftermath, alive california, emerge alive california, alive amid, emerge alive amid, alive amid aftermath, amid aftermath, santa rosa, alive happy california, happy california, wine country, affect california, dog alive, california aftermath, family dog alive, happy california aftermath, news family dog, news family, good dog emerge, good dog, aftermath news, moment family dog\n",
      "\n",
      "Topic  7\n",
      "gavin newsom, gov gavin, gov gavin newsom, grapple blackout, newsom grapple, gavin newsom grapple, newsom grapple blackout, chaos gov, chaos gov gavin, california chaos, california chaos gov, grapple blackout foxnew, blackout foxnew, video youtube, add video, youtube playlist, add video youtube, video youtube playlist, gas price, struggle stay, dark spread, stay control, spread gas, spread gas price, struggle stay control, dark spread gas, control california, california dark spread, california dark, newsom struggle\n",
      "\n",
      "Topic  8\n",
      "portugal spain, kill portugal, kill portugal spain, spain kill, portugal spain kill, rage portugal, rage portugal spain, kill people, spain kill people, dozen dead, portugal spain dozen, spain dozen, kill rage, kill rage portugal, spain dozen dead, california victim, video youtube, ravage portugal, ravage portugal spain, people die, people kill, add video, youtube playlist, add video youtube, video youtube playlist, people kill portugal, dozen dead injured, dead injured, reveal party, gender reveal party\n",
      "\n",
      "Topic  9\n",
      "california relief, threaten cut, trump threaten, donate california, trump threaten cut, funding california, donate california relief, relief effort, cut federal, threaten cut federal, kanye west, federal funding, cut funding, cut federal funding, cut funding california, threaten cut funding, federal funding california, west donate, kanye west donate, california relief effort, west donate california, help victim, metallica donate, metallica donate california, reveal party, gender reveal party, victim california, abc news, gender reveal, help victim california\n",
      "\n",
      "Topic  10\n",
      "reveal party, gender reveal party, gender reveal, party ignite, reveal party ignite, release video, official release, official release video, release video gender, party start, reveal party start, threaten cut, wine country, trump threaten, trump threaten cut, ignite cnn, party ignite cnn, funding california, malware detect, new malware detect, new malware, border patrol, party spark, border patrol agent, patrol agent, reveal party spark, reveal party cause, party cause, california wine, cut federal\n",
      "\n",
      "Topic  11\n",
      "threaten cut, trump threaten, trump threaten cut, funding california, cut federal, threaten cut federal, federal funding, cut funding, cut federal funding, cut funding california, threaten cut funding, federal funding california, wine country, gender reveal cause, reveal cause, reveal cause million, cause million, california wine, california wine country, abc news, santa rosa, california abc, california abc news, funding california abc, state emergency, presidential library, reagan presidential, reagan presidential library, president trump, video gender\n",
      "\n",
      "Topic  12\n",
      "peanut creator, creator charles, peanut creator charles, charles schulz, creator charles schulz, home peanut, home peanut creator, wine country, burns home, burns home peanut, force evacuation, california force, los angeles, california wine, california force evacuation, california wine country, destroy home, destroy home peanut, california destroy, santa rosa, mile wide, kill people, toll reach, death toll reach, wide death, wide death toll, mile wide death, burn home, burn home peanut, reagan library\n",
      "\n",
      "Topic  13\n",
      "los angeles, event occur, think event, think event occur, oct cdt, southern california, occur california, event occur california, wine country, fri oct cdt, fri oct, reagan library, force evacuation, california wine, mon oct cdt, mon oct, california force, california fri, occur california fri, california fri oct, california wine country, california force evacuation, california mon, presidential library, occur california mon, california mon oct, reagan presidential, reagan presidential library, occur los angeles, occur los\n",
      "\n",
      "Topic  14\n",
      "help victim, victim california, southern california, wine country, help victim california, california wine, california wine country, los angeles, force evacuation, reagan library, california force, california force evacuation, presidential library, reagan presidential, help california, reagan presidential library, stay safe, youtube video, air quality, ronald reagan, northern southern, northern southern california, california victim, near reagan, ronald reagan presidential, near reagan library, help save, goat help, goat help save, sonoma county\n"
     ]
    }
   ],
   "source": [
    "display_topics(lsa, words, 30)"
   ]
  },
  {
   "cell_type": "markdown",
   "metadata": {
    "Collapsed": "false"
   },
   "source": [
    "## Clustering by K Means to try and correlate year "
   ]
  },
  {
   "cell_type": "code",
   "execution_count": 176,
   "metadata": {
    "Collapsed": "false"
   },
   "outputs": [],
   "source": [
    "def inertia_plot(X, k_max):\n",
    "    inertias = []\n",
    "    for k in range(1,k_max):\n",
    "        km = KMeans(n_clusters=k)\n",
    "        km.fit(X)\n",
    "        inertias.append(km.inertia_)\n",
    "        plt.scatter(k,km.inertia_, color = 'b')\n",
    "    plt.plot(range(1,k_max),inertias, color = 'b')\n",
    "    plt.xlabel(\"Number of Clusters\")\n",
    "    plt.ylabel(\"Inertia\")\n",
    "    return plt.show()"
   ]
  },
  {
   "cell_type": "code",
   "execution_count": 173,
   "metadata": {
    "Collapsed": "false"
   },
   "outputs": [],
   "source": [
    "def km(X, k):\n",
    "    km = KMeans(n_clusters=k)\n",
    "    km.fit(X)\n",
    "    return "
   ]
  },
  {
   "cell_type": "code",
   "execution_count": 187,
   "metadata": {
    "Collapsed": "false"
   },
   "outputs": [
    {
     "data": {
      "text/plain": [
       "KMeans(algorithm='auto', copy_x=True, init='random', max_iter=300, n_clusters=3,\n",
       "       n_init=10, n_jobs=None, precompute_distances='auto', random_state=None,\n",
       "       tol=0.0001, verbose=0)"
      ]
     },
     "execution_count": 187,
     "metadata": {},
     "output_type": "execute_result"
    }
   ],
   "source": [
    "num_clusters = 3\n",
    "km = KMeans(n_clusters=num_clusters, init= 'random')\n",
    "km.fit(doc_topic)"
   ]
  },
  {
   "cell_type": "code",
   "execution_count": 188,
   "metadata": {
    "Collapsed": "false"
   },
   "outputs": [],
   "source": [
    "df_all['preds'] = km.predict(doc_topic)"
   ]
  },
  {
   "cell_type": "code",
   "execution_count": 189,
   "metadata": {
    "Collapsed": "false"
   },
   "outputs": [
    {
     "data": {
      "text/plain": [
       "<matplotlib.axes._subplots.AxesSubplot at 0x1a3cba0090>"
      ]
     },
     "execution_count": 189,
     "metadata": {},
     "output_type": "execute_result"
    },
    {
     "data": {
      "image/png": "[encoded data removed]",
      "text/plain": [
       "<Figure size 432x288 with 1 Axes>"
      ]
     },
     "metadata": {
      "needs_background": "light"
     },
     "output_type": "display_data"
    }
   ],
   "source": [
    "sns.countplot(df_all['preds'])"
   ]
  },
  {
   "cell_type": "code",
   "execution_count": 177,
   "metadata": {
    "Collapsed": "false"
   },
   "outputs": [
    {
     "data": {
      "image/png": "[encoded data removed]",
      "text/plain": [
       "<Figure size 432x288 with 1 Axes>"
      ]
     },
     "metadata": {
      "needs_background": "light"
     },
     "output_type": "display_data"
    }
   ],
   "source": [
    "inertia_plot(doc_topic, 15)"
   ]
  },
  {
   "cell_type": "code",
   "execution_count": 190,
   "metadata": {
    "Collapsed": "false"
   },
   "outputs": [],
   "source": [
    "doc_word, words = count_vec(df_all['clean_tweet'])"
   ]
  },
  {
   "cell_type": "code",
   "execution_count": 191,
   "metadata": {
    "Collapsed": "false"
   },
   "outputs": [],
   "source": [
    "n_terms = len(words)"
   ]
  },
  {
   "cell_type": "code",
   "execution_count": 192,
   "metadata": {
    "Collapsed": "false"
   },
   "outputs": [
    {
     "data": {
      "text/plain": [
       "112308"
      ]
     },
     "execution_count": 192,
     "metadata": {},
     "output_type": "execute_result"
    }
   ],
   "source": [
    "n_terms"
   ]
  },
  {
   "cell_type": "code",
   "execution_count": 193,
   "metadata": {
    "Collapsed": "false"
   },
   "outputs": [
    {
     "data": {
      "text/html": [
       "<div>\n",
       "<style scoped>\n",
       "    .dataframe tbody tr th:only-of-type {\n",
       "        vertical-align: middle;\n",
       "    }\n",
       "\n",
       "    .dataframe tbody tr th {\n",
       "        vertical-align: top;\n",
       "    }\n",
       "\n",
       "    .dataframe thead th {\n",
       "        text-align: right;\n",
       "    }\n",
       "</style>\n",
       "<table border=\"1\" class=\"dataframe\">\n",
       "  <thead>\n",
       "    <tr style=\"text-align: right;\">\n",
       "      <th></th>\n",
       "      <th>_id</th>\n",
       "      <th>username</th>\n",
       "      <th>date</th>\n",
       "      <th>retweets</th>\n",
       "      <th>favorites</th>\n",
       "      <th>text</th>\n",
       "      <th>geo</th>\n",
       "      <th>mentions</th>\n",
       "      <th>hashtags</th>\n",
       "      <th>id</th>\n",
       "      <th>permalink</th>\n",
       "      <th>fire</th>\n",
       "      <th>clean_tweet</th>\n",
       "      <th>bigrams</th>\n",
       "      <th>tokens</th>\n",
       "      <th>year</th>\n",
       "      <th>preds</th>\n",
       "    </tr>\n",
       "  </thead>\n",
       "  <tbody>\n",
       "    <tr>\n",
       "      <td>0</td>\n",
       "      <td>5dcb3fc81641db7377bb1e4e</td>\n",
       "      <td></td>\n",
       "      <td>2018-09-19 16:59</td>\n",
       "      <td>4802</td>\n",
       "      <td>6465</td>\n",
       "      <td>large wildfire in california history officiall...</td>\n",
       "      <td></td>\n",
       "      <td></td>\n",
       "      <td>#</td>\n",
       "      <td>1.04256e+18</td>\n",
       "      <td>https://twitter.com/mdrtindia/status/104256384...</td>\n",
       "      <td>shasta_2018</td>\n",
       "      <td>large  california history officially contain</td>\n",
       "      <td>[(large, california), (california, history), (...</td>\n",
       "      <td>[large, , california, history, officially, con...</td>\n",
       "      <td>2018</td>\n",
       "      <td>2</td>\n",
       "    </tr>\n",
       "    <tr>\n",
       "      <td>1</td>\n",
       "      <td>5dcb3fc81641db7377bb1e4f</td>\n",
       "      <td></td>\n",
       "      <td>2018-09-19 16:59</td>\n",
       "      <td>0</td>\n",
       "      <td>2</td>\n",
       "      <td>have -PRON- see the new nfpa ’s wildfire and f...</td>\n",
       "      <td></td>\n",
       "      <td></td>\n",
       "      <td></td>\n",
       "      <td>1.04256e+18</td>\n",
       "      <td>https://twitter.com/JCFD3FireInfo/status/10425...</td>\n",
       "      <td>shasta_2018</td>\n",
       "      <td>new nfpa  firewise usa programs community wes...</td>\n",
       "      <td>[(new, nfpa), (nfpa, firewise), (firewise, usa...</td>\n",
       "      <td>[, new, nfpa, , firewise, usa, programs, commu...</td>\n",
       "      <td>2018</td>\n",
       "      <td>2</td>\n",
       "    </tr>\n",
       "    <tr>\n",
       "      <td>2</td>\n",
       "      <td>5dcb3fc81641db7377bb1e50</td>\n",
       "      <td></td>\n",
       "      <td>2018-09-19 16:59</td>\n",
       "      <td>7</td>\n",
       "      <td>8</td>\n",
       "      <td>rattlesnake creek fire unofficial wildfire upd...</td>\n",
       "      <td></td>\n",
       "      <td></td>\n",
       "      <td></td>\n",
       "      <td>1.04256e+18</td>\n",
       "      <td>https://twitter.com/FireUnofficial/status/1042...</td>\n",
       "      <td>shasta_2018</td>\n",
       "      <td>rattlesnake creek fire unofficial  update acre...</td>\n",
       "      <td>[(rattlesnake, creek), (creek, fire), (fire, u...</td>\n",
       "      <td>[rattlesnake, creek, fire, unofficial, , updat...</td>\n",
       "      <td>2018</td>\n",
       "      <td>2</td>\n",
       "    </tr>\n",
       "    <tr>\n",
       "      <td>3</td>\n",
       "      <td>5dcb3fc81641db7377bb1e51</td>\n",
       "      <td></td>\n",
       "      <td>2018-09-19 16:57</td>\n",
       "      <td>0</td>\n",
       "      <td>1</td>\n",
       "      <td>wyoming ’s martencreekfire wildfire wyfire wyb...</td>\n",
       "      <td></td>\n",
       "      <td></td>\n",
       "      <td># # # # #</td>\n",
       "      <td>1.04256e+18</td>\n",
       "      <td>https://twitter.com/RSFireNerd/status/10425634...</td>\n",
       "      <td>shasta_2018</td>\n",
       "      <td>wyoming martencreekfire  wyfire wybtf intterra</td>\n",
       "      <td>[(wyoming, martencreekfire), (martencreekfire,...</td>\n",
       "      <td>[wyoming, martencreekfire, , wyfire, wybtf, in...</td>\n",
       "      <td>2018</td>\n",
       "      <td>2</td>\n",
       "    </tr>\n",
       "    <tr>\n",
       "      <td>4</td>\n",
       "      <td>5dcb3fc81641db7377bb1e52</td>\n",
       "      <td></td>\n",
       "      <td>2018-09-19 16:56</td>\n",
       "      <td>0</td>\n",
       "      <td>0</td>\n",
       "      <td>honey cs video for numb drop soon queenhoneyc ...</td>\n",
       "      <td></td>\n",
       "      <td>@</td>\n",
       "      <td></td>\n",
       "      <td>1.04256e+18</td>\n",
       "      <td>https://twitter.com/HONEYCOCAINA_/status/10425...</td>\n",
       "      <td>shasta_2018</td>\n",
       "      <td>honey cs video numb drop soon queenhoneyc stre...</td>\n",
       "      <td>[(honey, cs), (cs, video), (video, numb), (num...</td>\n",
       "      <td>[honey, cs, video, numb, drop, soon, queenhone...</td>\n",
       "      <td>2018</td>\n",
       "      <td>2</td>\n",
       "    </tr>\n",
       "  </tbody>\n",
       "</table>\n",
       "</div>"
      ],
      "text/plain": [
       "                        _id username              date  retweets  favorites  \\\n",
       "0  5dcb3fc81641db7377bb1e4e           2018-09-19 16:59      4802       6465   \n",
       "1  5dcb3fc81641db7377bb1e4f           2018-09-19 16:59         0          2   \n",
       "2  5dcb3fc81641db7377bb1e50           2018-09-19 16:59         7          8   \n",
       "3  5dcb3fc81641db7377bb1e51           2018-09-19 16:57         0          1   \n",
       "4  5dcb3fc81641db7377bb1e52           2018-09-19 16:56         0          0   \n",
       "\n",
       "                                                text geo mentions   hashtags  \\\n",
       "0  large wildfire in california history officiall...                       #   \n",
       "1  have -PRON- see the new nfpa ’s wildfire and f...                           \n",
       "2  rattlesnake creek fire unofficial wildfire upd...                           \n",
       "3  wyoming ’s martencreekfire wildfire wyfire wyb...               # # # # #   \n",
       "4  honey cs video for numb drop soon queenhoneyc ...            @              \n",
       "\n",
       "            id                                          permalink  \\\n",
       "0  1.04256e+18  https://twitter.com/mdrtindia/status/104256384...   \n",
       "1  1.04256e+18  https://twitter.com/JCFD3FireInfo/status/10425...   \n",
       "2  1.04256e+18  https://twitter.com/FireUnofficial/status/1042...   \n",
       "3  1.04256e+18  https://twitter.com/RSFireNerd/status/10425634...   \n",
       "4  1.04256e+18  https://twitter.com/HONEYCOCAINA_/status/10425...   \n",
       "\n",
       "          fire                                        clean_tweet  \\\n",
       "0  shasta_2018       large  california history officially contain   \n",
       "1  shasta_2018   new nfpa  firewise usa programs community wes...   \n",
       "2  shasta_2018  rattlesnake creek fire unofficial  update acre...   \n",
       "3  shasta_2018     wyoming martencreekfire  wyfire wybtf intterra   \n",
       "4  shasta_2018  honey cs video numb drop soon queenhoneyc stre...   \n",
       "\n",
       "                                             bigrams  \\\n",
       "0  [(large, california), (california, history), (...   \n",
       "1  [(new, nfpa), (nfpa, firewise), (firewise, usa...   \n",
       "2  [(rattlesnake, creek), (creek, fire), (fire, u...   \n",
       "3  [(wyoming, martencreekfire), (martencreekfire,...   \n",
       "4  [(honey, cs), (cs, video), (video, numb), (num...   \n",
       "\n",
       "                                              tokens  year  preds  \n",
       "0  [large, , california, history, officially, con...  2018      2  \n",
       "1  [, new, nfpa, , firewise, usa, programs, commu...  2018      2  \n",
       "2  [rattlesnake, creek, fire, unofficial, , updat...  2018      2  \n",
       "3  [wyoming, martencreekfire, , wyfire, wybtf, in...  2018      2  \n",
       "4  [honey, cs, video, numb, drop, soon, queenhone...  2018      2  "
      ]
     },
     "execution_count": 193,
     "metadata": {},
     "output_type": "execute_result"
    }
   ],
   "source": [
    "df_all.head()"
   ]
  },
  {
   "cell_type": "code",
   "execution_count": 194,
   "metadata": {
    "Collapsed": "false"
   },
   "outputs": [
    {
     "name": "stdout",
     "output_type": "stream",
     "text": [
      "In stage 0: transferred 192840 clusters with 15 clusters populated\n",
      "In stage 1: transferred 106530 clusters with 15 clusters populated\n",
      "In stage 2: transferred 80706 clusters with 15 clusters populated\n",
      "In stage 3: transferred 71539 clusters with 15 clusters populated\n",
      "In stage 4: transferred 66452 clusters with 15 clusters populated\n",
      "In stage 5: transferred 63112 clusters with 15 clusters populated\n",
      "In stage 6: transferred 60579 clusters with 15 clusters populated\n",
      "In stage 7: transferred 58387 clusters with 15 clusters populated\n",
      "In stage 8: transferred 56076 clusters with 15 clusters populated\n",
      "In stage 9: transferred 54335 clusters with 15 clusters populated\n"
     ]
    }
   ],
   "source": [
    "mgp = gsdmm(df_all['bigrams'], n_terms)"
   ]
  },
  {
   "cell_type": "code",
   "execution_count": 195,
   "metadata": {
    "Collapsed": "false"
   },
   "outputs": [
    {
     "name": "stdout",
     "output_type": "stream",
     "text": [
      "Number of documents per topic : [16309 12552 16236 14396 24905 16572 13496 13419 18337 13770 14059 14605\n",
      " 12246 16677 16688]\n",
      "********************\n",
      "Most important clusters (by number of docs inside): [ 4  8 14 13  5  0  2 11  3 10  9  6  7  1 12]\n",
      "********************\n"
     ]
    }
   ],
   "source": [
    "doc_count = np.array(mgp.cluster_doc_count)\n",
    "print('Number of documents per topic :', doc_count)\n",
    "print('*'*20)\n",
    "# Topics sorted by the number of document they are allocated to\n",
    "top_index = doc_count.argsort()[-15:][::-1]\n",
    "print('Most important clusters (by number of docs inside):', top_index)\n",
    "print('*'*20)"
   ]
  },
  {
   "cell_type": "code",
   "execution_count": 196,
   "metadata": {
    "Collapsed": "false"
   },
   "outputs": [
    {
     "name": "stdout",
     "output_type": "stream",
     "text": [
      "\n",
      " Topic: 0\n",
      "[(('air', 'quality'), 635), (('stay', 'safe'), 550), (('burn', 'california'), 279), (('bay', 'area'), 270), (('northern', 'california'), 211), (('smoke', 'california'), 185), (('power', 'outage'), 176), (('santa', 'rosa'), 147), (('lose', 'home'), 147), (('climate', 'change'), 145), (('report', 'warn'), 139), (('santa', 'ana'), 133), (('hour', 'pool'), 129), (('survive', 'hour'), 127), (('pool', 'burn'), 126), (('farm', 'burn'), 125), (('ana', 'wind'), 120), (('burn', 'neighborhood'), 120), (('neighborhood', 'ground'), 115), (('smell', 'smoke'), 114)]\n",
      "\n",
      " Topic: 1\n",
      "[(('climate', 'change'), 308), (('acre', 'contain'), 164), (('trump', 'tweet'), 160), (('official', 'safety'), 145), (('safety', 'info'), 145), (('consult', 'official'), 144), (('unofficial', 'update'), 143), (('tweet', 'fatal'), 139), (('wonder', 'trump'), 134), (('californians', 'wonder'), 126), (('los', 'angeles'), 120), (('update', 'acre'), 119), (('northern', 'california'), 119), (('sonoma', 'county'), 116), (('cause', 'california'), 116), (('california', 'victim'), 108), (('san', 'diego'), 106), (('trump', 'right'), 102), (('burn', 'inside'), 96), (('tree', 'burn'), 94)]\n",
      "\n",
      " Topic: 2\n",
      "[(('puerto', 'rico'), 640), (('threaten', 'cut'), 568), (('trump', 'threaten'), 547), (('funding', 'california'), 432), (('climate', 'change'), 389), (('cut', 'federal'), 360), (('trump', 'offer'), 290), (('donald', 'trump'), 284), (('cut', 'funding'), 271), (('aid', 'california'), 263), (('president', 'trump'), 262), (('federal', 'aid'), 253), (('federal', 'funding'), 252), (('california', 's'), 251), (('putin', 'help'), 224), (('offer', 'putin'), 211), (('rake', 'forest'), 211), (('offer', 'help'), 189), (('california', 'trump'), 184), (('fight', 'california'), 177)]\n",
      "\n",
      " Topic: 3\n",
      "[(('continue', 'burn'), 349), (('aid', 'california'), 339), (('california', 'relief'), 335), (('federal', 'aid'), 327), (('california', 'devastating'), 327), (('vow', 'federal'), 315), (('devastating', 'continue'), 314), (('trump', 'vow'), 298), (('donate', 'california'), 285), (('video', 'youtube'), 282), (('add', 'video'), 255), (('youtube', 'playlist'), 255), (('social', 'medium'), 254), (('kanye', 'west'), 212), (('relief', 'effort'), 205), (('spread', 'wildfir'), 162), (('west', 'donate'), 152), (('news', 'spread'), 128), (('metallica', 'donate'), 116), (('climate', 'change'), 104)]\n",
      "\n",
      " Topic: 4\n",
      "[(('northern', 'california'), 1792), (('los', 'angeles'), 1657), (('southern', 'california'), 1395), (('wine', 'country'), 978), (('force', 'evacuation'), 916), (('reagan', 'library'), 902), (('state', 'emergency'), 721), (('california', 'force'), 718), (('evacuation', 'order'), 702), (('sonoma', 'county'), 655), (('presidential', 'library'), 596), (('reagan', 'presidential'), 558), (('high', 'wind'), 507), (('statewide', 'emergency'), 501), (('ronald', 'reagan'), 473), (('order', 'evacuate'), 451), (('kincade', 'fire'), 444), (('california', 'fire'), 434), (('power', 'outage'), 411), (('california', 'wine'), 396)]\n",
      "\n",
      " Topic: 5\n",
      "[(('climate', 'change'), 3176), (('forest', 'management'), 480), (('power', 'line'), 339), (('global', 'warming'), 331), (('control', 'burn'), 308), (('lose', 'home'), 285), (('dead', 'tree'), 265), (('year', 'record'), 249), (('reduce', 'risk'), 242), (('las', 'vegas'), 215), (('disaster', 'year'), 197), (('costly', 'disaster'), 178), (('hurricane', 'costly'), 176), (('cause', 'california'), 167), (('change', 'cause'), 164), (('forest', 'fire'), 154), (('jerry', 'brown'), 145), (('year', 'ago'), 137), (('cause', 'climate'), 137), (('california', 'climate'), 134)]\n",
      "\n",
      " Topic: 6\n",
      "[(('climate', 'change'), 1493), (('global', 'warming'), 330), (('california', 'evacuee'), 274), (('zinke', 'blame'), 191), (('sea', 'level'), 173), (('extreme', 'weather'), 167), (('return', 'home'), 165), (('natural', 'disaster'), 160), (('ryan', 'zinke'), 160), (('heat', 'wave'), 159), (('northern', 'california'), 154), (('solar', 'panel'), 150), (('radical', 'environmentalist'), 147), (('interior', 'secretary'), 141), (('hurricane', 'flood'), 131), (('evacuee', 'return'), 128), (('deadly', 'california'), 124), (('los', 'angeles'), 123), (('blame', 'radical'), 119), (('miss', 'california'), 114)]\n",
      "\n",
      " Topic: 7\n",
      "[(('air', 'quality'), 578), (('santa', 'rosa'), 250), (('climate', 'change'), 245), (('bay', 'area'), 226), (('san', 'francisco'), 168), (('air', 'pollution'), 157), (('northern', 'california'), 153), (('marijuana', 'crop'), 139), (('wine', 'country'), 135), (('power', 'outage'), 125), (('million', 'acre'), 120), (('los', 'angeles'), 120), (('fire', 'season'), 119), (('•', '•'), 118), (('power', 'line'), 117), (('scorch', 'marijuana'), 111), (('pantanal', 'wetland'), 106), (('southern', 'california'), 104), (('california', 'signal'), 95), (('fire', 'age'), 95)]\n",
      "\n",
      " Topic: 8\n",
      "[(('affect', 'california'), 827), (('northern', 'california'), 606), (('victim', 'california'), 541), (('help', 'victim'), 503), (('lebron', 'james'), 394), (('relief', 'effort'), 336), (('lose', 'home'), 328), (('relief', 'fund'), 316), (('california', 'victim'), 314), (('help', 'affect'), 309), (('red', 'cross'), 301), (('california', 'relief'), 268), (('gavin', 'newsom'), 265), (('help', 'california'), 249), (('gov', 'gavin'), 245), (('evacuate', 'home'), 244), (('grapple', 'blackout'), 241), (('newsom', 'grapple'), 237), (('chaos', 'gov'), 230), (('california', 'chaos'), 225)]\n",
      "\n",
      " Topic: 9\n",
      "[(('northern', 'california'), 614), (('death', 'toll'), 456), (('space', 'station'), 280), (('california', 'rage'), 268), (('battle', 'california'), 256), (('observe', 'californias'), 218), (('californias', 'space'), 218), (('john', 'cena'), 184), (('fire', 'update'), 180), (('klondike', 'fire'), 173), (('camp', 'fire'), 173), (('deadly', 'california'), 162), (('record', 'death'), 156), (('search', 'remain'), 153), (('remain', 'california'), 149), (('rage', 'record'), 147), (('station', 'nasa'), 142), (('toll', 'rise'), 137), (('pass', 'cost'), 133), (('fight', 'california'), 129)]\n",
      "\n",
      " Topic: 10\n",
      "[(('portugal', 'spain'), 887), (('direct', 'energy'), 241), (('energy', 'weapon'), 227), (('kill', 'portugal'), 212), (('california', 'highway'), 210), (('climate', 'change'), 200), (('northern', 'california'), 188), (('power', 'line'), 181), (('kill', 'people'), 177), (('rage', 'portugal'), 160), (('dog', 'refuse'), 137), (('refuse', 'leave'), 133), (('spain', 'kill'), 128), (('people', 'die'), 121), (('clean', 'energy'), 115), (('record', 'shift'), 111), (('response', 'record'), 111), (('shift', 'clean'), 105), (('californias', 'response'), 103), (('dozen', 'dead'), 95)]\n",
      "\n",
      " Topic: 11\n",
      "[(('gender', 'reveal'), 1848), (('reveal', 'party'), 767), (('video', 'gender'), 703), (('cause', 'million'), 572), (('reveal', 'cause'), 520), (('northern', 'california'), 392), (('aaron', 'rodgers'), 388), (('border', 'patrol'), 330), (('patrol', 'agent'), 295), (('climate', 'change'), 280), (('donate', 'million'), 278), (('rodgers', 'donate'), 227), (('genderreveal', 'party'), 213), (('release', 'video'), 206), (('california', 'look'), 181), (('southern', 'california'), 170), (('dereliction', 'duty'), 168), (('party', 'spark'), 163), (('spark', 'arizona'), 162), (('party', 'ignite'), 161)]\n",
      "\n",
      " Topic: 12\n",
      "[(('fire', 'update'), 441), (('ridge', 'fire'), 244), (('fire', 'information'), 202), (('climate', 'change'), 199), (('creek', 'fire'), 187), (('incident', 'management'), 148), (('management', 'team'), 144), (('koala', 'fear'), 142), (('fear', 'dead'), 140), (('northern', 'california'), 125), (('terwilliger', 'fire'), 121), (('boundary', 'fire'), 119), (('tucker', 'carlson'), 118), (('whale', 'butte'), 114), (('howe', 'ridge'), 113), (('information', '–'), 110), (('housing', 'crunch'), 108), (('incident', 'commander'), 104), (('california', 'victim'), 104), (('fox', 'news'), 100)]\n",
      "\n",
      " Topic: 13\n",
      "[(('fight', 'california'), 415), (('california', 'history'), 404), (('family', 'dog'), 362), (('camp', 'fire'), 345), (('death', 'toll'), 334), (('emerge', 'alive'), 307), (('peanut', 'creator'), 302), (('dog', 'emerge'), 299), (('creator', 'charles'), 297), (('mile', 'wide'), 284), (('charles', 'schulz'), 255), (('duffel', 'bag'), 229), (('help', 'fight'), 227), (('california', 'fire'), 220), (('california', 'deadly'), 219), (('home', 'peanut'), 219), (('pound', 'dog'), 211), (('deadly', 'destructive'), 208), (('alive', 'happy'), 208), (('dog', 'duffel'), 207)]\n",
      "\n",
      " Topic: 14\n",
      "[(('death', 'toll'), 1419), (('northern', 'california'), 689), (('toll', 'rise'), 609), (('california', 'death'), 529), (('event', 'occur'), 353), (('think', 'event'), 350), (('climate', 'change'), 278), (('oct', 'cdt'), 267), (('natural', 'disaster'), 261), (('deadly', 'california'), 252), (('heavy', 'rain'), 232), (('search', 'victim'), 192), (('occur', 'california'), 187), (('state', 'history'), 179), (('drone', 'footage'), 173), (('new', 'york'), 162), (('california', 'deadly'), 147), (('toll', 'climb'), 138), (('california', 'today'), 137), (('california', 'kill'), 135)]\n"
     ]
    }
   ],
   "source": [
    "for i, topic in enumerate(mgp.cluster_word_distribution):\n",
    "    sorted_x = sorted(topic.items(), key=operator.itemgetter(1), reverse = True)\n",
    "    print('\\n Topic: {}'.format(i))\n",
    "    print(sorted_x[:20])"
   ]
  },
  {
   "cell_type": "code",
   "execution_count": 220,
   "metadata": {
    "Collapsed": "false"
   },
   "outputs": [],
   "source": [
    "df_all = df_all.reset_index(drop = True)"
   ]
  },
  {
   "cell_type": "code",
   "execution_count": null,
   "metadata": {
    "Collapsed": "false"
   },
   "outputs": [
    {
     "name": "stdout",
     "output_type": "stream",
     "text": [
      "234267\n",
      "234267\n"
     ]
    },
    {
     "name": "stderr",
     "output_type": "stream",
     "text": [
      "/Users/brittb28/anaconda3/lib/python3.7/site-packages/ipykernel_launcher.py:27: FutureWarning: elementwise comparison failed; returning scalar instead, but in the future will perform elementwise comparison\n"
     ]
    },
    {
     "name": "stdout",
     "output_type": "stream",
     "text": [
      "\n",
      "Topic  1\n",
      "northern california, death toll, climate change, portugal spain, gender reveal, wine country, los angeles, southern california, burn california, california victim\n"
     ]
    }
   ],
   "source": [
    "display_gsdmm(df_all['preds'], df_all['clean_tweet'], 10)"
   ]
  },
  {
   "cell_type": "code",
   "execution_count": 201,
   "metadata": {
    "Collapsed": "false"
   },
   "outputs": [],
   "source": [
    "from tqdm import tqdm"
   ]
  },
  {
   "cell_type": "code",
   "execution_count": 203,
   "metadata": {
    "Collapsed": "false"
   },
   "outputs": [
    {
     "name": "stderr",
     "output_type": "stream",
     "text": [
      "100%|██████████| 234267/234267 [46:09<00:00, 84.58it/s]    \n"
     ]
    }
   ],
   "source": [
    "preds = []\n",
    "for tweet in tqdm(df_all['clean_tweet']):\n",
    "    preds.append(mgp.choose_best_label(tweet)[0])\n",
    "df_all['preds'] = preds"
   ]
  },
  {
   "cell_type": "code",
   "execution_count": 205,
   "metadata": {
    "Collapsed": "false"
   },
   "outputs": [
    {
     "data": {
      "text/plain": [
       "array([ 1,  0, 11,  4, 14])"
      ]
     },
     "execution_count": 205,
     "metadata": {},
     "output_type": "execute_result"
    }
   ],
   "source": [
    "df_all.preds.unique()"
   ]
  },
  {
   "cell_type": "code",
   "execution_count": 210,
   "metadata": {
    "Collapsed": "false"
   },
   "outputs": [
    {
     "data": {
      "text/plain": [
       "<matplotlib.axes._subplots.AxesSubplot at 0x1a7a28dcd0>"
      ]
     },
     "execution_count": 210,
     "metadata": {},
     "output_type": "execute_result"
    },
    {
     "data": {
      "image/png": "[encoded data removed]",
      "text/plain": [
       "<Figure size 432x288 with 1 Axes>"
      ]
     },
     "metadata": {
      "needs_background": "light"
     },
     "output_type": "display_data"
    }
   ],
   "source": [
    "sns.countplot(df_all.loc[df_all['preds']==1, 'year'])"
   ]
  },
  {
   "cell_type": "code",
   "execution_count": 211,
   "metadata": {
    "Collapsed": "false"
   },
   "outputs": [
    {
     "data": {
      "text/plain": [
       "<matplotlib.axes._subplots.AxesSubplot at 0x1a3ca6a490>"
      ]
     },
     "execution_count": 211,
     "metadata": {},
     "output_type": "execute_result"
    },
    {
     "data": {
      "image/png": "[encoded data removed]",
      "text/plain": [
       "<Figure size 432x288 with 1 Axes>"
      ]
     },
     "metadata": {
      "needs_background": "light"
     },
     "output_type": "display_data"
    }
   ],
   "source": [
    "sns.countplot(df_all.loc[df_all['preds']==0, 'year'])"
   ]
  },
  {
   "cell_type": "code",
   "execution_count": 212,
   "metadata": {
    "Collapsed": "false"
   },
   "outputs": [
    {
     "data": {
      "text/plain": [
       "<matplotlib.axes._subplots.AxesSubplot at 0x1a7fde5d10>"
      ]
     },
     "execution_count": 212,
     "metadata": {},
     "output_type": "execute_result"
    },
    {
     "data": {
      "image/png": "[encoded data removed]",
      "text/plain": [
       "<Figure size 432x288 with 1 Axes>"
      ]
     },
     "metadata": {
      "needs_background": "light"
     },
     "output_type": "display_data"
    }
   ],
   "source": [
    "sns.countplot(df_all.loc[df_all['preds']==11, 'year'])"
   ]
  },
  {
   "cell_type": "code",
   "execution_count": 214,
   "metadata": {
    "Collapsed": "false"
   },
   "outputs": [
    {
     "data": {
      "text/plain": [
       "<matplotlib.axes._subplots.AxesSubplot at 0x1a7d0ef6d0>"
      ]
     },
     "execution_count": 214,
     "metadata": {},
     "output_type": "execute_result"
    },
    {
     "data": {
      "image/png": "[encoded data removed]",
      "text/plain": [
       "<Figure size 432x288 with 1 Axes>"
      ]
     },
     "metadata": {
      "needs_background": "light"
     },
     "output_type": "display_data"
    }
   ],
   "source": [
    "sns.countplot(df_all.loc[df_all['preds']==4, 'year'])"
   ]
  },
  {
   "cell_type": "code",
   "execution_count": 215,
   "metadata": {
    "Collapsed": "false"
   },
   "outputs": [
    {
     "data": {
      "text/plain": [
       "<matplotlib.axes._subplots.AxesSubplot at 0x1a7a061ad0>"
      ]
     },
     "execution_count": 215,
     "metadata": {},
     "output_type": "execute_result"
    },
    {
     "data": {
      "image/png": "[encoded data removed]",
      "text/plain": [
       "<Figure size 432x288 with 1 Axes>"
      ]
     },
     "metadata": {
      "needs_background": "light"
     },
     "output_type": "display_data"
    }
   ],
   "source": [
    "sns.countplot(df_all.loc[df_all['preds']==14, 'year'])"
   ]
  },
  {
   "cell_type": "code",
   "execution_count": null,
   "metadata": {
    "Collapsed": "false"
   },
   "outputs": [],
   "source": []
  }
 ],
 "metadata": {
  "kernelspec": {
   "display_name": "Python 3",
   "language": "python",
   "name": "python3"
  },
  "language_info": {
   "codemirror_mode": {
    "name": "ipython",
    "version": 3
   },
   "file_extension": ".py",
   "mimetype": "text/x-python",
   "name": "python",
   "nbconvert_exporter": "python",
   "pygments_lexer": "ipython3",
   "version": "3.7.4"
  }
 },
 "nbformat": 4,
 "nbformat_minor": 4
}
