{
 "cells": [
  {
   "cell_type": "markdown",
   "metadata": {},
   "source": [
    "## Exploring the Data"
   ]
  },
  {
   "cell_type": "code",
   "execution_count": 2,
   "metadata": {},
   "outputs": [],
   "source": [
    "import pandas as pd\n",
    "import numpy as np\n",
    "import pickle\n",
    "#import preprocessor as p\n",
    "import re\n",
    "import matplotlib.pyplot as plt\n",
    "import seaborn as sns\n",
    "import string"
   ]
  },
  {
   "cell_type": "code",
   "execution_count": 2,
   "metadata": {},
   "outputs": [
    {
     "name": "stderr",
     "output_type": "stream",
     "text": [
      "b'Skipping line 1478: expected 10 fields, saw 11\\nSkipping line 2082: expected 10 fields, saw 11\\nSkipping line 2715: expected 10 fields, saw 11\\nSkipping line 2887: expected 10 fields, saw 11\\nSkipping line 4732: expected 10 fields, saw 13\\nSkipping line 7478: expected 10 fields, saw 12\\nSkipping line 7543: expected 10 fields, saw 12\\nSkipping line 8491: expected 10 fields, saw 11\\nSkipping line 8847: expected 10 fields, saw 11\\nSkipping line 9630: expected 10 fields, saw 11\\nSkipping line 10010: expected 10 fields, saw 11\\nSkipping line 10139: expected 10 fields, saw 11\\nSkipping line 10167: expected 10 fields, saw 11\\nSkipping line 10306: expected 10 fields, saw 11\\nSkipping line 10517: expected 10 fields, saw 11\\nSkipping line 11393: expected 10 fields, saw 11\\nSkipping line 12215: expected 10 fields, saw 11\\nSkipping line 12539: expected 10 fields, saw 11\\n'\n"
     ]
    }
   ],
   "source": [
    "# Reading in one time frame\n",
    "df = pd.read_csv('data/camp_wf_clim.csv', delimiter = ';', error_bad_lines = False)"
   ]
  },
  {
   "cell_type": "code",
   "execution_count": 3,
   "metadata": {},
   "outputs": [
    {
     "data": {
      "text/html": [
       "<div>\n",
       "<style scoped>\n",
       "    .dataframe tbody tr th:only-of-type {\n",
       "        vertical-align: middle;\n",
       "    }\n",
       "\n",
       "    .dataframe tbody tr th {\n",
       "        vertical-align: top;\n",
       "    }\n",
       "\n",
       "    .dataframe thead th {\n",
       "        text-align: right;\n",
       "    }\n",
       "</style>\n",
       "<table border=\"1\" class=\"dataframe\">\n",
       "  <thead>\n",
       "    <tr style=\"text-align: right;\">\n",
       "      <th></th>\n",
       "      <th>username</th>\n",
       "      <th>date</th>\n",
       "      <th>retweets</th>\n",
       "      <th>favorites</th>\n",
       "      <th>text</th>\n",
       "      <th>geo</th>\n",
       "      <th>mentions</th>\n",
       "      <th>hashtags</th>\n",
       "      <th>id</th>\n",
       "      <th>permalink</th>\n",
       "    </tr>\n",
       "  </thead>\n",
       "  <tbody>\n",
       "    <tr>\n",
       "      <td>0</td>\n",
       "      <td>NaN</td>\n",
       "      <td>2018-11-29 15:57</td>\n",
       "      <td>0</td>\n",
       "      <td>0</td>\n",
       "      <td>Hey, I believe in climate change. I really do....</td>\n",
       "      <td>NaN</td>\n",
       "      <td>NaN</td>\n",
       "      <td>NaN</td>\n",
       "      <td>1.068293e+18</td>\n",
       "      <td>https://twitter.com/davetylerdat4/status/10682...</td>\n",
       "    </tr>\n",
       "    <tr>\n",
       "      <td>1</td>\n",
       "      <td>NaN</td>\n",
       "      <td>2018-11-29 15:56</td>\n",
       "      <td>1</td>\n",
       "      <td>2</td>\n",
       "      <td>Tejon Ranch’s Centennial: Just after the clima...</td>\n",
       "      <td>NaN</td>\n",
       "      <td>NaN</td>\n",
       "      <td>#</td>\n",
       "      <td>1.068293e+18</td>\n",
       "      <td>https://twitter.com/WilderUtopia/status/106829...</td>\n",
       "    </tr>\n",
       "    <tr>\n",
       "      <td>2</td>\n",
       "      <td>NaN</td>\n",
       "      <td>2018-11-29 15:49</td>\n",
       "      <td>0</td>\n",
       "      <td>0</td>\n",
       "      <td>California’s 2018 Wildfires Should Be a Turnin...</td>\n",
       "      <td>NaN</td>\n",
       "      <td>NaN</td>\n",
       "      <td>NaN</td>\n",
       "      <td>1.068291e+18</td>\n",
       "      <td>https://twitter.com/katslefty/status/106829101...</td>\n",
       "    </tr>\n",
       "    <tr>\n",
       "      <td>3</td>\n",
       "      <td>NaN</td>\n",
       "      <td>2018-11-29 15:40</td>\n",
       "      <td>1</td>\n",
       "      <td>3</td>\n",
       "      <td>PG&amp;E wildfire mishaps spark fury, profanity, p...</td>\n",
       "      <td>NaN</td>\n",
       "      <td>NaN</td>\n",
       "      <td># # #</td>\n",
       "      <td>1.068289e+18</td>\n",
       "      <td>https://twitter.com/RisingTideNA/status/106828...</td>\n",
       "    </tr>\n",
       "    <tr>\n",
       "      <td>4</td>\n",
       "      <td>NaN</td>\n",
       "      <td>2018-11-29 15:30</td>\n",
       "      <td>0</td>\n",
       "      <td>2</td>\n",
       "      <td>RT+ @ ClimateNexus: Extreme weather events lik...</td>\n",
       "      <td>NaN</td>\n",
       "      <td>@</td>\n",
       "      <td># # # #</td>\n",
       "      <td>1.068286e+18</td>\n",
       "      <td>https://twitter.com/HappsHealthHome/status/106...</td>\n",
       "    </tr>\n",
       "  </tbody>\n",
       "</table>\n",
       "</div>"
      ],
      "text/plain": [
       "   username              date  retweets  favorites  \\\n",
       "0       NaN  2018-11-29 15:57         0          0   \n",
       "1       NaN  2018-11-29 15:56         1          2   \n",
       "2       NaN  2018-11-29 15:49         0          0   \n",
       "3       NaN  2018-11-29 15:40         1          3   \n",
       "4       NaN  2018-11-29 15:30         0          2   \n",
       "\n",
       "                                                text  geo mentions hashtags  \\\n",
       "0  Hey, I believe in climate change. I really do....  NaN      NaN      NaN   \n",
       "1  Tejon Ranch’s Centennial: Just after the clima...  NaN      NaN        #   \n",
       "2  California’s 2018 Wildfires Should Be a Turnin...  NaN      NaN      NaN   \n",
       "3  PG&E wildfire mishaps spark fury, profanity, p...  NaN      NaN    # # #   \n",
       "4  RT+ @ ClimateNexus: Extreme weather events lik...  NaN        @  # # # #   \n",
       "\n",
       "             id                                          permalink  \n",
       "0  1.068293e+18  https://twitter.com/davetylerdat4/status/10682...  \n",
       "1  1.068293e+18  https://twitter.com/WilderUtopia/status/106829...  \n",
       "2  1.068291e+18  https://twitter.com/katslefty/status/106829101...  \n",
       "3  1.068289e+18  https://twitter.com/RisingTideNA/status/106828...  \n",
       "4  1.068286e+18  https://twitter.com/HappsHealthHome/status/106...  "
      ]
     },
     "execution_count": 3,
     "metadata": {},
     "output_type": "execute_result"
    }
   ],
   "source": [
    "df.head()"
   ]
  },
  {
   "cell_type": "code",
   "execution_count": 110,
   "metadata": {},
   "outputs": [
    {
     "name": "stdout",
     "output_type": "stream",
     "text": [
      "<class 'pandas.core.frame.DataFrame'>\n",
      "RangeIndex: 12922 entries, 0 to 12921\n",
      "Data columns (total 10 columns):\n",
      "username     0 non-null float64\n",
      "date         12922 non-null object\n",
      "retweets     12922 non-null int64\n",
      "favorites    12922 non-null int64\n",
      "text         12922 non-null object\n",
      "geo          1 non-null object\n",
      "mentions     3042 non-null object\n",
      "hashtags     2921 non-null object\n",
      "id           12921 non-null float64\n",
      "permalink    12921 non-null object\n",
      "dtypes: float64(2), int64(2), object(6)\n",
      "memory usage: 1009.7+ KB\n"
     ]
    }
   ],
   "source": [
    "df.info()"
   ]
  },
  {
   "cell_type": "markdown",
   "metadata": {},
   "source": [
    "## Connecting to Mongo "
   ]
  },
  {
   "cell_type": "code",
   "execution_count": 4,
   "metadata": {},
   "outputs": [],
   "source": [
    "from pymongo import MongoClient"
   ]
  },
  {
   "cell_type": "code",
   "execution_count": 5,
   "metadata": {},
   "outputs": [],
   "source": [
    "config = {\n",
    "    'host': 'xxxx',\n",
    "    'username': 'brittany',\n",
    "    'password': 'xxxx',\n",
    "    'authSource': 'fires'\n",
    "}\n",
    "\n",
    "client = MongoClient(**config)\n",
    "\n",
    "db = client.fires"
   ]
  },
  {
   "cell_type": "code",
   "execution_count": 6,
   "metadata": {},
   "outputs": [
    {
     "data": {
      "text/plain": [
       "['all_fires', 'shasta', 'sb', 'kincade', 'nca', 'camp']"
      ]
     },
     "execution_count": 6,
     "metadata": {},
     "output_type": "execute_result"
    }
   ],
   "source": [
    "db.list_collection_names()"
   ]
  },
  {
   "cell_type": "code",
   "execution_count": 7,
   "metadata": {},
   "outputs": [],
   "source": [
    "df = db.all_fires"
   ]
  },
  {
   "cell_type": "code",
   "execution_count": null,
   "metadata": {},
   "outputs": [],
   "source": [
    "df = pd.DataFrame(list(db.all_fires.find()))"
   ]
  },
  {
   "cell_type": "code",
   "execution_count": null,
   "metadata": {},
   "outputs": [],
   "source": [
    "df.head()"
   ]
  },
  {
   "cell_type": "code",
   "execution_count": 220,
   "metadata": {},
   "outputs": [],
   "source": [
    "with open('data/fire_raw.pickle', 'wb') as to_write:\n",
    "    pickle.dump(df, to_write)"
   ]
  },
  {
   "cell_type": "markdown",
   "metadata": {},
   "source": [
    "## Cleaning Pipeline"
   ]
  },
  {
   "cell_type": "code",
   "execution_count": 32,
   "metadata": {},
   "outputs": [],
   "source": [
    "with open('data/fire_raw.pickle', 'rb') as read_file:\n",
    "    df = pickle.load(read_file)"
   ]
  },
  {
   "cell_type": "code",
   "execution_count": 33,
   "metadata": {},
   "outputs": [],
   "source": [
    "# convert to string\n",
    "df['text'] = [str(x) for x in df['text']]"
   ]
  },
  {
   "cell_type": "code",
   "execution_count": 34,
   "metadata": {},
   "outputs": [],
   "source": [
    "# lower case\n",
    "df['text'] = [x.lower() for x in df['text']]"
   ]
  },
  {
   "cell_type": "code",
   "execution_count": 35,
   "metadata": {},
   "outputs": [],
   "source": [
    "# Use preprocessor to clean text of hashtags, links, emojis, etc\n",
    "df['text'] = [p.clean(x) for x in df['text']]"
   ]
  },
  {
   "cell_type": "code",
   "execution_count": 36,
   "metadata": {},
   "outputs": [],
   "source": [
    "# remove links\n",
    "df['text'] = [x.split('http', 1)[0] for x in df['text']]\n",
    "df['text'] = [x.split('pic.',1)[0] for x in df['text']]"
   ]
  },
  {
   "cell_type": "code",
   "execution_count": 37,
   "metadata": {},
   "outputs": [],
   "source": [
    "# Remove rt using regex\n",
    "test = [re.sub(r'(.*)\\brt\\b(.*)','',x) for x in df['text']]"
   ]
  },
  {
   "cell_type": "code",
   "execution_count": 38,
   "metadata": {},
   "outputs": [],
   "source": [
    "df['text'] = test"
   ]
  },
  {
   "cell_type": "code",
   "execution_count": 39,
   "metadata": {},
   "outputs": [],
   "source": [
    "df = df.drop(columns = [''])"
   ]
  },
  {
   "cell_type": "code",
   "execution_count": 40,
   "metadata": {},
   "outputs": [
    {
     "name": "stdout",
     "output_type": "stream",
     "text": [
      "234267\n",
      "343888\n"
     ]
    }
   ],
   "source": [
    "# Get rid of duplicates\n",
    "print(len(df['text'].unique()))\n",
    "print(len(df['text']))"
   ]
  },
  {
   "cell_type": "code",
   "execution_count": 41,
   "metadata": {},
   "outputs": [],
   "source": [
    "retweets = [x for x in df.groupby('text')['retweets'].sum()]\n",
    "favorites = [x for x in df.groupby('text')['favorites'].sum()]"
   ]
  },
  {
   "cell_type": "code",
   "execution_count": 42,
   "metadata": {},
   "outputs": [],
   "source": [
    "df = df.drop_duplicates(subset = 'text')"
   ]
  },
  {
   "cell_type": "code",
   "execution_count": 43,
   "metadata": {},
   "outputs": [],
   "source": [
    "df['retweets'] = retweets\n",
    "df['favorites'] = favorites"
   ]
  },
  {
   "cell_type": "code",
   "execution_count": 44,
   "metadata": {},
   "outputs": [],
   "source": [
    "df.loc[(df['fire'] == 'kincade_1'), 'fire'] = ['kincade' for x in df.loc[(df['fire'] == 'kincade_1'), 'fire']]\n",
    "df.loc[(df['fire'] == 'kincade_2'), 'fire'] = ['kincade' for x in df.loc[(df['fire'] == 'kincade_2'), 'fire']]"
   ]
  },
  {
   "cell_type": "code",
   "execution_count": 45,
   "metadata": {},
   "outputs": [
    {
     "data": {
      "text/plain": [
       "array(['shasta_2018', 'kincade', 'nca_2017', 'sb_2017', 'camp'],\n",
       "      dtype=object)"
      ]
     },
     "execution_count": 45,
     "metadata": {},
     "output_type": "execute_result"
    }
   ],
   "source": [
    "df['fire'].unique()"
   ]
  },
  {
   "cell_type": "code",
   "execution_count": 46,
   "metadata": {},
   "outputs": [],
   "source": [
    "# Remove punctuation\n",
    "# Far as I can tell [%s] is the same as \\s* \n",
    "df['text'] = [re.sub('[%s]' % re.escape(string.punctuation), '', text)  for text in df['text']]"
   ]
  },
  {
   "cell_type": "code",
   "execution_count": 47,
   "metadata": {},
   "outputs": [],
   "source": [
    "# Removes text containing digits\n",
    "df['text'] = [re.sub('\\w*\\d\\w*', ' ', text) for text in df['text']]"
   ]
  },
  {
   "cell_type": "code",
   "execution_count": 50,
   "metadata": {},
   "outputs": [],
   "source": [
    "copy_text = df['text']"
   ]
  },
  {
   "cell_type": "markdown",
   "metadata": {},
   "source": [
    "## Exploring Stemming"
   ]
  },
  {
   "cell_type": "markdown",
   "metadata": {},
   "source": [
    "- Stemming: Uses rough heuristics to reduce words to base \n",
    "- Lemmatization: Uses vocabulary and morphological analysis\n",
    "\n",
    "- PorterStemmer, LancasterStemmer, SnowballStemmer \n",
    "- WordNetLemmatizer"
   ]
  },
  {
   "cell_type": "code",
   "execution_count": 74,
   "metadata": {},
   "outputs": [],
   "source": [
    "from nltk.stem.lancaster import LancasterStemmer\n",
    "from nltk.stem.porter import PorterStemmer\n",
    "from nltk.stem.snowball import SnowballStemmer\n",
    "from nltk.stem.wordnet import WordNetLemmatizer\n",
    "stemmerl = LancasterStemmer()\n",
    "stemmerp = PorterStemmer()\n",
    "stemmers = SnowballStemmer('english')\n",
    "stemmerwn = WordNetLemmatizer()"
   ]
  },
  {
   "cell_type": "code",
   "execution_count": 78,
   "metadata": {},
   "outputs": [
    {
     "name": "stderr",
     "output_type": "stream",
     "text": [
      "[nltk_data] Downloading package wordnet to\n",
      "[nltk_data]     /Users/brittb28/nltk_data...\n",
      "[nltk_data]   Unzipping corpora/wordnet.zip.\n"
     ]
    },
    {
     "data": {
      "text/plain": [
       "True"
      ]
     },
     "execution_count": 78,
     "metadata": {},
     "output_type": "execute_result"
    }
   ],
   "source": [
    "import nltk\n",
    "nltk.download('wordnet')"
   ]
  },
  {
   "cell_type": "code",
   "execution_count": 52,
   "metadata": {},
   "outputs": [],
   "source": [
    "copy_text = [stemmer.stem(tweet) for tweet in copy_text]"
   ]
  },
  {
   "cell_type": "code",
   "execution_count": 55,
   "metadata": {},
   "outputs": [
    {
     "data": {
      "text/plain": [
       "'this is a secondary argument for biomass power it gives an economic reason to remove the crappy trees that can fuel wildfires this isnt really an issue in the northeast but it sure is out west …'"
      ]
     },
     "execution_count": 55,
     "metadata": {},
     "output_type": "execute_result"
    }
   ],
   "source": [
    "copy_text[2456]"
   ]
  },
  {
   "cell_type": "code",
   "execution_count": 61,
   "metadata": {},
   "outputs": [],
   "source": [
    "res = re.findall(r'\\w+', copy_text[2456]) "
   ]
  },
  {
   "cell_type": "code",
   "execution_count": 63,
   "metadata": {},
   "outputs": [
    {
     "name": "stdout",
     "output_type": "stream",
     "text": [
      "['thi', 'is', 'a', 'second', 'argu', 'for', 'biomass', 'pow', 'it', 'giv', 'an', 'econom', 'reason', 'to', 'remov', 'the', 'crappy', 'tre', 'that', 'can', 'fuel', 'wildfir', 'thi', 'isnt', 'real', 'an', 'issu', 'in', 'the', 'northeast', 'but', 'it', 'sur', 'is', 'out', 'west']\n"
     ]
    }
   ],
   "source": [
    "print([stemmer.stem(word) for word in res])"
   ]
  },
  {
   "cell_type": "code",
   "execution_count": 65,
   "metadata": {},
   "outputs": [
    {
     "name": "stdout",
     "output_type": "stream",
     "text": [
      "['thi', 'is', 'a', 'secondari', 'argument', 'for', 'biomass', 'power', 'it', 'give', 'an', 'econom', 'reason', 'to', 'remov', 'the', 'crappi', 'tree', 'that', 'can', 'fuel', 'wildfir', 'thi', 'isnt', 'realli', 'an', 'issu', 'in', 'the', 'northeast', 'but', 'it', 'sure', 'is', 'out', 'west']\n"
     ]
    }
   ],
   "source": [
    "print([stemmerp.stem(word) for word in res])"
   ]
  },
  {
   "cell_type": "code",
   "execution_count": 73,
   "metadata": {},
   "outputs": [
    {
     "name": "stdout",
     "output_type": "stream",
     "text": [
      "['this', 'is', 'a', 'secondari', 'argument', 'for', 'biomass', 'power', 'it', 'give', 'an', 'econom', 'reason', 'to', 'remov', 'the', 'crappi', 'tree', 'that', 'can', 'fuel', 'wildfir', 'this', 'isnt', 'realli', 'an', 'issu', 'in', 'the', 'northeast', 'but', 'it', 'sure', 'is', 'out', 'west']\n"
     ]
    }
   ],
   "source": [
    "print([stemmers.stem(word) for word in res])"
   ]
  },
  {
   "cell_type": "code",
   "execution_count": 79,
   "metadata": {},
   "outputs": [
    {
     "name": "stdout",
     "output_type": "stream",
     "text": [
      "['this', 'is', 'a', 'secondary', 'argument', 'for', 'biomass', 'power', 'it', 'give', 'an', 'economic', 'reason', 'to', 'remove', 'the', 'crappy', 'tree', 'that', 'can', 'fuel', 'wildfire', 'this', 'isnt', 'really', 'an', 'issue', 'in', 'the', 'northeast', 'but', 'it', 'sure', 'is', 'out', 'west']\n"
     ]
    }
   ],
   "source": [
    "print([stemmerwn.lemmatize(word) for word in res])"
   ]
  },
  {
   "cell_type": "markdown",
   "metadata": {},
   "source": [
    "Another thing to consider is parts of speach. This can be done via the word net lemmatizer and mapped back onto the words...or there's this other cool package"
   ]
  },
  {
   "cell_type": "code",
   "execution_count": 80,
   "metadata": {},
   "outputs": [],
   "source": [
    "import spacy"
   ]
  },
  {
   "cell_type": "code",
   "execution_count": 81,
   "metadata": {},
   "outputs": [],
   "source": [
    "nlp = spacy.load('en', disable=['parser', 'ner'])"
   ]
  },
  {
   "cell_type": "code",
   "execution_count": 85,
   "metadata": {},
   "outputs": [
    {
     "name": "stdout",
     "output_type": "stream",
     "text": [
      "['this', 'be', 'a', 'secondary', 'argument', 'for', 'biomass', 'power', '-PRON-', 'give', 'an', 'economic', 'reason', 'to', 'remove', 'the', 'crappy', 'tree', 'that', 'can', 'fuel', 'wildfire', 'this', 'be', 'not', 'really', 'an', 'issue', 'in', 'the', 'northeast', 'but', '-PRON-', 'sure', 'be', 'out', 'west', '…']\n"
     ]
    }
   ],
   "source": [
    "new = nlp(copy_text[2456])\n",
    "print([word.lemma_ for word in new])"
   ]
  },
  {
   "cell_type": "markdown",
   "metadata": {},
   "source": [
    "**Using Spacy it is the best**"
   ]
  },
  {
   "cell_type": "code",
   "execution_count": 92,
   "metadata": {},
   "outputs": [],
   "source": [
    "new_copy = []\n",
    "for tweet in copy_text:\n",
    "    new = nlp(tweet)\n",
    "    new_copy.append([\" \".join([token.lemma_ for token in new])])"
   ]
  },
  {
   "cell_type": "code",
   "execution_count": 98,
   "metadata": {},
   "outputs": [],
   "source": [
    "df['text'] = [tweet[0] for tweet in df['text']]"
   ]
  },
  {
   "cell_type": "code",
   "execution_count": 99,
   "metadata": {},
   "outputs": [],
   "source": [
    "with open('data/fire_clean.pickle', 'wb') as to_write:\n",
    "    pickle.dump(df, to_write)"
   ]
  },
  {
   "cell_type": "markdown",
   "metadata": {},
   "source": [
    "## Word Similarity - Spelling"
   ]
  },
  {
   "cell_type": "code",
   "execution_count": 280,
   "metadata": {},
   "outputs": [],
   "source": [
    "with open('data/fire_clean.pickle', 'rb') as read_file:\n",
    "    df = pickle.load(read_file)"
   ]
  },
  {
   "cell_type": "code",
   "execution_count": 6,
   "metadata": {},
   "outputs": [],
   "source": [
    "from textblob import TextBlob"
   ]
  },
  {
   "cell_type": "code",
   "execution_count": null,
   "metadata": {},
   "outputs": [],
   "source": [
    "df['text_copy'] = [TextBlob(x).correct() for x in df['text']] "
   ]
  },
  {
   "cell_type": "code",
   "execution_count": 10,
   "metadata": {},
   "outputs": [
    {
     "data": {
      "text/html": [
       "<div>\n",
       "<style scoped>\n",
       "    .dataframe tbody tr th:only-of-type {\n",
       "        vertical-align: middle;\n",
       "    }\n",
       "\n",
       "    .dataframe tbody tr th {\n",
       "        vertical-align: top;\n",
       "    }\n",
       "\n",
       "    .dataframe thead th {\n",
       "        text-align: right;\n",
       "    }\n",
       "</style>\n",
       "<table border=\"1\" class=\"dataframe\">\n",
       "  <thead>\n",
       "    <tr style=\"text-align: right;\">\n",
       "      <th></th>\n",
       "      <th>_id</th>\n",
       "      <th>username</th>\n",
       "      <th>date</th>\n",
       "      <th>retweets</th>\n",
       "      <th>favorites</th>\n",
       "      <th>text</th>\n",
       "      <th>geo</th>\n",
       "      <th>mentions</th>\n",
       "      <th>hashtags</th>\n",
       "      <th>id</th>\n",
       "      <th>permalink</th>\n",
       "      <th>fire</th>\n",
       "      <th>text_copy</th>\n",
       "    </tr>\n",
       "  </thead>\n",
       "  <tbody>\n",
       "    <tr>\n",
       "      <td>0</td>\n",
       "      <td>5dcb3fc81641db7377bb1e4e</td>\n",
       "      <td></td>\n",
       "      <td>2018-09-19 16:59</td>\n",
       "      <td>4802</td>\n",
       "      <td>6465</td>\n",
       "      <td>large wildfire in california history officiall...</td>\n",
       "      <td></td>\n",
       "      <td></td>\n",
       "      <td>#</td>\n",
       "      <td>1.04256e+18</td>\n",
       "      <td>https://twitter.com/mdrtindia/status/104256384...</td>\n",
       "      <td>shasta_2018</td>\n",
       "      <td>(l, a, r, g, e,  , w, i, l, d, f, i, r, e,  , ...</td>\n",
       "    </tr>\n",
       "    <tr>\n",
       "      <td>1</td>\n",
       "      <td>5dcb3fc81641db7377bb1e4f</td>\n",
       "      <td></td>\n",
       "      <td>2018-09-19 16:59</td>\n",
       "      <td>0</td>\n",
       "      <td>2</td>\n",
       "      <td>have -PRON- see the new nfpa ’s wildfire and f...</td>\n",
       "      <td></td>\n",
       "      <td></td>\n",
       "      <td></td>\n",
       "      <td>1.04256e+18</td>\n",
       "      <td>https://twitter.com/JCFD3FireInfo/status/10425...</td>\n",
       "      <td>shasta_2018</td>\n",
       "      <td>(h, a, v, e,  , -, P, R, O, N, -,  , s, e, e, ...</td>\n",
       "    </tr>\n",
       "    <tr>\n",
       "      <td>2</td>\n",
       "      <td>5dcb3fc81641db7377bb1e50</td>\n",
       "      <td></td>\n",
       "      <td>2018-09-19 16:59</td>\n",
       "      <td>7</td>\n",
       "      <td>8</td>\n",
       "      <td>rattlesnake creek fire unofficial wildfire upd...</td>\n",
       "      <td></td>\n",
       "      <td></td>\n",
       "      <td></td>\n",
       "      <td>1.04256e+18</td>\n",
       "      <td>https://twitter.com/FireUnofficial/status/1042...</td>\n",
       "      <td>shasta_2018</td>\n",
       "      <td>(r, a, t, t, l, e, s, n, a, k, e,  , c, r, e, ...</td>\n",
       "    </tr>\n",
       "    <tr>\n",
       "      <td>3</td>\n",
       "      <td>5dcb3fc81641db7377bb1e51</td>\n",
       "      <td></td>\n",
       "      <td>2018-09-19 16:57</td>\n",
       "      <td>0</td>\n",
       "      <td>1</td>\n",
       "      <td>wyoming ’s martencreekfire wildfire wyfire wyb...</td>\n",
       "      <td></td>\n",
       "      <td></td>\n",
       "      <td># # # # #</td>\n",
       "      <td>1.04256e+18</td>\n",
       "      <td>https://twitter.com/RSFireNerd/status/10425634...</td>\n",
       "      <td>shasta_2018</td>\n",
       "      <td>(w, y, o, m, i, n, g,  , ’, s,  , m, a, r, t, ...</td>\n",
       "    </tr>\n",
       "    <tr>\n",
       "      <td>4</td>\n",
       "      <td>5dcb3fc81641db7377bb1e52</td>\n",
       "      <td></td>\n",
       "      <td>2018-09-19 16:56</td>\n",
       "      <td>0</td>\n",
       "      <td>0</td>\n",
       "      <td>honey cs video for numb drop soon queenhoneyc ...</td>\n",
       "      <td></td>\n",
       "      <td>@</td>\n",
       "      <td></td>\n",
       "      <td>1.04256e+18</td>\n",
       "      <td>https://twitter.com/HONEYCOCAINA_/status/10425...</td>\n",
       "      <td>shasta_2018</td>\n",
       "      <td>(h, o, n, e, y,  , c, s,  , v, i, d, e, o,  , ...</td>\n",
       "    </tr>\n",
       "  </tbody>\n",
       "</table>\n",
       "</div>"
      ],
      "text/plain": [
       "                        _id username              date  retweets  favorites  \\\n",
       "0  5dcb3fc81641db7377bb1e4e           2018-09-19 16:59      4802       6465   \n",
       "1  5dcb3fc81641db7377bb1e4f           2018-09-19 16:59         0          2   \n",
       "2  5dcb3fc81641db7377bb1e50           2018-09-19 16:59         7          8   \n",
       "3  5dcb3fc81641db7377bb1e51           2018-09-19 16:57         0          1   \n",
       "4  5dcb3fc81641db7377bb1e52           2018-09-19 16:56         0          0   \n",
       "\n",
       "                                                text geo mentions   hashtags  \\\n",
       "0  large wildfire in california history officiall...                       #   \n",
       "1  have -PRON- see the new nfpa ’s wildfire and f...                           \n",
       "2  rattlesnake creek fire unofficial wildfire upd...                           \n",
       "3  wyoming ’s martencreekfire wildfire wyfire wyb...               # # # # #   \n",
       "4  honey cs video for numb drop soon queenhoneyc ...            @              \n",
       "\n",
       "            id                                          permalink  \\\n",
       "0  1.04256e+18  https://twitter.com/mdrtindia/status/104256384...   \n",
       "1  1.04256e+18  https://twitter.com/JCFD3FireInfo/status/10425...   \n",
       "2  1.04256e+18  https://twitter.com/FireUnofficial/status/1042...   \n",
       "3  1.04256e+18  https://twitter.com/RSFireNerd/status/10425634...   \n",
       "4  1.04256e+18  https://twitter.com/HONEYCOCAINA_/status/10425...   \n",
       "\n",
       "          fire                                          text_copy  \n",
       "0  shasta_2018  (l, a, r, g, e,  , w, i, l, d, f, i, r, e,  , ...  \n",
       "1  shasta_2018  (h, a, v, e,  , -, P, R, O, N, -,  , s, e, e, ...  \n",
       "2  shasta_2018  (r, a, t, t, l, e, s, n, a, k, e,  , c, r, e, ...  \n",
       "3  shasta_2018  (w, y, o, m, i, n, g,  , ’, s,  , m, a, r, t, ...  \n",
       "4  shasta_2018  (h, o, n, e, y,  , c, s,  , v, i, d, e, o,  , ...  "
      ]
     },
     "execution_count": 10,
     "metadata": {},
     "output_type": "execute_result"
    }
   ],
   "source": [
    "df.head()"
   ]
  },
  {
   "cell_type": "markdown",
   "metadata": {},
   "source": [
    "## Get Sentiment from Tweets"
   ]
  },
  {
   "cell_type": "code",
   "execution_count": 11,
   "metadata": {},
   "outputs": [],
   "source": [
    "from tqdm import tqdm"
   ]
  },
  {
   "cell_type": "code",
   "execution_count": 31,
   "metadata": {},
   "outputs": [
    {
     "name": "stdout",
     "output_type": "stream",
     "text": [
      "es\n"
     ]
    }
   ],
   "source": [
    "string = \"Yo quiero fresas\"\n",
    "analysis = TextBlob(string)\n",
    "lang = analysis.detect_language()\n",
    "print(lang)\n",
    "translate = str(analysis.translate(from_lang='es', to ='en'))"
   ]
  },
  {
   "cell_type": "code",
   "execution_count": 32,
   "metadata": {},
   "outputs": [
    {
     "data": {
      "text/plain": [
       "'I want strawberries'"
      ]
     },
     "execution_count": 32,
     "metadata": {},
     "output_type": "execute_result"
    }
   ],
   "source": [
    "translate"
   ]
  },
  {
   "cell_type": "code",
   "execution_count": 34,
   "metadata": {},
   "outputs": [],
   "source": [
    "list_ = []\n",
    "list_.append(analysis)"
   ]
  },
  {
   "cell_type": "markdown",
   "metadata": {},
   "source": [
    "Bin the data "
   ]
  },
  {
   "cell_type": "code",
   "execution_count": 38,
   "metadata": {},
   "outputs": [
    {
     "data": {
      "text/plain": [
       "kincade        80831\n",
       "nca_2017       62624\n",
       "camp           37886\n",
       "shasta_2018    35443\n",
       "sb_2017        17483\n",
       "Name: fire, dtype: int64"
      ]
     },
     "execution_count": 38,
     "metadata": {},
     "output_type": "execute_result"
    }
   ],
   "source": [
    "df['fire'].value_counts()"
   ]
  },
  {
   "cell_type": "code",
   "execution_count": 47,
   "metadata": {},
   "outputs": [
    {
     "data": {
      "text/plain": [
       "Index(['_id', 'username', 'date', 'retweets', 'favorites', 'text', 'geo',\n",
       "       'mentions', 'hashtags', 'id', 'permalink', 'fire', 'sentiment'],\n",
       "      dtype='object')"
      ]
     },
     "execution_count": 47,
     "metadata": {},
     "output_type": "execute_result"
    }
   ],
   "source": [
    "df.columns"
   ]
  },
  {
   "cell_type": "code",
   "execution_count": 48,
   "metadata": {},
   "outputs": [],
   "source": [
    "df = df.drop(columns = ['username', 'geo', 'mentions', 'hashtags', 'permalink', '_id'])"
   ]
  },
  {
   "cell_type": "code",
   "execution_count": 95,
   "metadata": {},
   "outputs": [],
   "source": [
    "kincade_split = df.loc[df['fire'] == 'kincade', :].reset_index()\n",
    "nca_split = df.loc[df['fire'] == 'nca_2017', :].reset_index()\n",
    "camp_split = df.loc[df['fire'] == 'camp', :].reset_index()\n",
    "shasta_split = df.loc[df['fire'] == 'shasta_2018', :].reset_index()\n",
    "sb_split = df.loc[df['fire'] == 'sb_2017', :].reset_index()"
   ]
  },
  {
   "cell_type": "code",
   "execution_count": 96,
   "metadata": {},
   "outputs": [],
   "source": [
    "kincade_split = kincade_split[0:5000]\n",
    "nca_split = nca_split[0:10000]\n",
    "camp_split = camp_split[0:10000]\n",
    "shasta_split = shasta_split[0:10000]\n",
    "sb_split = sb_split[0:10000]"
   ]
  },
  {
   "cell_type": "code",
   "execution_count": 85,
   "metadata": {},
   "outputs": [],
   "source": [
    "kincade_split = kincade_split[0:2465].reset_index()"
   ]
  },
  {
   "cell_type": "code",
   "execution_count": 87,
   "metadata": {},
   "outputs": [],
   "source": [
    "nca_split = nca_split[0:5000].reset_index()"
   ]
  },
  {
   "cell_type": "code",
   "execution_count": null,
   "metadata": {},
   "outputs": [],
   "source": [
    "sentiment_lst = []\n",
    "sent_num = []\n",
    "language = []\n",
    "spell_trans_lst = []\n",
    "analysis = []\n",
    "for i,tweet in tqdm(enumerate(kincade_split['text'])):\n",
    "    if len(tweet) <= 3:\n",
    "        kincade_split.drop(i)\n",
    "    else:\n",
    "        ana = TextBlob(tweet)\n",
    "        analysis.append(ana)\n",
    "        sent_num.append(ana.sentiment.polarity)\n",
    "        lang = ana.detect_language()\n",
    "        language.append(lang)\n",
    "        if lang != 'en':\n",
    "            try:\n",
    "                translate = str(ana.translate(from_lang=lang, to ='en'))\n",
    "                new_analysis = TextBlob(translate)\n",
    "                spell_trans = new_analysis.correct()\n",
    "            except:\n",
    "                spell_trans = np.nan\n",
    "        else:\n",
    "            spell_trans = ana.correct()\n",
    "        spell_trans_lst.append(spell_trans)\n",
    "        if ana.sentiment.polarity > 0:\n",
    "            sentiment = 'positive'\n",
    "        elif ana.sentiment.polarity == 0:\n",
    "            sentiment = 'neutral'\n",
    "        else:\n",
    "            sentiment = 'negative'\n",
    "        sentiment_lst.append(sentiment)"
   ]
  },
  {
   "cell_type": "code",
   "execution_count": 106,
   "metadata": {},
   "outputs": [],
   "source": [
    "mask = kincade_split.loc[kincade_split['text'].str.len() <=3, :]\n",
    "kincade_split = kincade_split.drop(mask.index)"
   ]
  },
  {
   "cell_type": "code",
   "execution_count": 133,
   "metadata": {},
   "outputs": [],
   "source": [
    "kincade_split = kincade_split.reset_index()"
   ]
  },
  {
   "cell_type": "code",
   "execution_count": 142,
   "metadata": {},
   "outputs": [],
   "source": [
    "bottom = kincade_split.loc[0:2463,:]"
   ]
  },
  {
   "cell_type": "code",
   "execution_count": 143,
   "metadata": {},
   "outputs": [],
   "source": [
    "top = kincade_split.loc[2465:,:]"
   ]
  },
  {
   "cell_type": "code",
   "execution_count": 147,
   "metadata": {},
   "outputs": [],
   "source": [
    "df_kincade_5000 = pd.concat([top, bottom], ignore_index= True)"
   ]
  },
  {
   "cell_type": "code",
   "execution_count": 158,
   "metadata": {},
   "outputs": [],
   "source": [
    "df_kincade_5000['sentiment'] = sentiment_lst\n",
    "df_kincade_5000['sent_num'] = sent_num\n",
    "df_kincade_5000['language'] = language\n",
    "df_kincade_5000['spell_trans'] = spell_trans_lst\n",
    "df_kincade_5000['analysis'] = analysis"
   ]
  },
  {
   "cell_type": "code",
   "execution_count": 170,
   "metadata": {},
   "outputs": [],
   "source": [
    "df_kincade_5000['sent_num'] = [float(x) for x in df_kincade_5000['sent_num']]\n",
    "df_kincade_5000['language'] = [str(x) for x in df_kincade_5000['language']]\n",
    "df_kincade_5000 = df_kincade_5000.drop(columns = ['analysis', 'spell_trans'], axis = 1)"
   ]
  },
  {
   "cell_type": "code",
   "execution_count": 172,
   "metadata": {},
   "outputs": [],
   "source": [
    "df_kincade_5000 = df_kincade_5000.drop(columns = ['level_0', 'index'], axis = 1)"
   ]
  },
  {
   "cell_type": "code",
   "execution_count": 178,
   "metadata": {},
   "outputs": [
    {
     "data": {
      "text/plain": [
       "'citidiot do not understand forest management or how important -PRON- be to remove natural wildfire fuel dead tree leave and other flammable debris never let a predictable and natural disaster go to waste though'"
      ]
     },
     "execution_count": 178,
     "metadata": {},
     "output_type": "execute_result"
    }
   ],
   "source": [
    "df_kincade_5000.loc[0,'text']"
   ]
  },
  {
   "cell_type": "code",
   "execution_count": 161,
   "metadata": {
    "collapsed": true,
    "jupyter": {
     "outputs_hidden": true
    }
   },
   "outputs": [
    {
     "data": {
      "text/plain": [
       "en       4901\n",
       "fr         28\n",
       "ja         17\n",
       "ne          8\n",
       "es          8\n",
       "de          8\n",
       "pt          7\n",
       "zh-CN       3\n",
       "ru          2\n",
       "ar          2\n",
       "tl          2\n",
       "hr          1\n",
       "th          1\n",
       "mi          1\n",
       "hmn         1\n",
       "nl          1\n",
       "hi          1\n",
       "sl          1\n",
       "da          1\n",
       "co          1\n",
       "ms          1\n",
       "Name: language, dtype: int64"
      ]
     },
     "execution_count": 161,
     "metadata": {},
     "output_type": "execute_result"
    }
   ],
   "source": [
    "df_kincade_5000['language'].value_counts()"
   ]
  },
  {
   "cell_type": "code",
   "execution_count": 162,
   "metadata": {},
   "outputs": [
    {
     "data": {
      "text/plain": [
       "<matplotlib.axes._subplots.AxesSubplot at 0x1a3264fac8>"
      ]
     },
     "execution_count": 162,
     "metadata": {},
     "output_type": "execute_result"
    },
    {
     "data": {
      "image/png": "[encoded data removed]",
      "text/plain": [
       "<Figure size 432x288 with 1 Axes>"
      ]
     },
     "metadata": {
      "needs_background": "light"
     },
     "output_type": "display_data"
    }
   ],
   "source": [
    "sns.countplot(df_kincade_5000['sentiment'])"
   ]
  },
  {
   "cell_type": "code",
   "execution_count": 179,
   "metadata": {},
   "outputs": [],
   "source": [
    "with open('data/df_kincade_5000.pickle', 'wb') as to_write:\n",
    "    pickle.dump(df_kincade_5000, to_write)"
   ]
  },
  {
   "cell_type": "code",
   "execution_count": 278,
   "metadata": {},
   "outputs": [],
   "source": [
    "with open('data/not_equal.pickle', 'rb') as to_read:\n",
    "    df_nca_ne = pickle.load(to_read)"
   ]
  },
  {
   "cell_type": "code",
   "execution_count": 282,
   "metadata": {},
   "outputs": [],
   "source": [
    "nca_split = df.loc[df['fire'] == 'nca_2017', :].reset_index(drop = True)"
   ]
  },
  {
   "cell_type": "code",
   "execution_count": 288,
   "metadata": {},
   "outputs": [],
   "source": [
    "nca_split = nca_split.loc[0:5000,:].reset_index(drop = True)"
   ]
  },
  {
   "cell_type": "code",
   "execution_count": 296,
   "metadata": {},
   "outputs": [],
   "source": [
    "mask = nca_split.loc[nca_split['text'].str.len()<=3,:]\n",
    "nca_split = nca_split.drop(mask.index)"
   ]
  },
  {
   "cell_type": "code",
   "execution_count": 301,
   "metadata": {},
   "outputs": [],
   "source": [
    "nca_split = nca_split.reset_index(drop = True)"
   ]
  },
  {
   "cell_type": "code",
   "execution_count": 298,
   "metadata": {},
   "outputs": [
    {
     "data": {
      "text/html": [
       "<div>\n",
       "<style scoped>\n",
       "    .dataframe tbody tr th:only-of-type {\n",
       "        vertical-align: middle;\n",
       "    }\n",
       "\n",
       "    .dataframe tbody tr th {\n",
       "        vertical-align: top;\n",
       "    }\n",
       "\n",
       "    .dataframe thead th {\n",
       "        text-align: right;\n",
       "    }\n",
       "</style>\n",
       "<table border=\"1\" class=\"dataframe\">\n",
       "  <thead>\n",
       "    <tr style=\"text-align: right;\">\n",
       "      <th></th>\n",
       "      <th>sentiment</th>\n",
       "      <th>sent_num</th>\n",
       "      <th>language</th>\n",
       "      <th>spell_trans</th>\n",
       "    </tr>\n",
       "  </thead>\n",
       "  <tbody>\n",
       "    <tr>\n",
       "      <td>0</td>\n",
       "      <td>neutral</td>\n",
       "      <td>0.000000</td>\n",
       "      <td>en</td>\n",
       "      <td>mind horse escape wildlife in backseat of car</td>\n",
       "    </tr>\n",
       "    <tr>\n",
       "      <td>1</td>\n",
       "      <td>neutral</td>\n",
       "      <td>0.000000</td>\n",
       "      <td>en</td>\n",
       "      <td>bc news   california wildlife destroy legal ma...</td>\n",
       "    </tr>\n",
       "    <tr>\n",
       "      <td>2</td>\n",
       "      <td>neutral</td>\n",
       "      <td>0.000000</td>\n",
       "      <td>en</td>\n",
       "      <td>-PRON- definitely belong in an asylum -PRON- j...</td>\n",
       "    </tr>\n",
       "    <tr>\n",
       "      <td>3</td>\n",
       "      <td>neutral</td>\n",
       "      <td>0.000000</td>\n",
       "      <td>en</td>\n",
       "      <td>wildlife evacuation lift road open in papa cou...</td>\n",
       "    </tr>\n",
       "    <tr>\n",
       "      <td>4</td>\n",
       "      <td>neutral</td>\n",
       "      <td>0.000000</td>\n",
       "      <td>en</td>\n",
       "      <td>california launch wildlife clean ' for the rec...</td>\n",
       "    </tr>\n",
       "    <tr>\n",
       "      <td>...</td>\n",
       "      <td>...</td>\n",
       "      <td>...</td>\n",
       "      <td>...</td>\n",
       "      <td>...</td>\n",
       "    </tr>\n",
       "    <tr>\n",
       "      <td>4994</td>\n",
       "      <td>positive</td>\n",
       "      <td>0.100000</td>\n",
       "      <td>en</td>\n",
       "      <td>wildlife burn near strawberry reservoir threat...</td>\n",
       "    </tr>\n",
       "    <tr>\n",
       "      <td>4995</td>\n",
       "      <td>neutral</td>\n",
       "      <td>0.000000</td>\n",
       "      <td>en</td>\n",
       "      <td>wildlife in utah force evacuation threaten str...</td>\n",
       "    </tr>\n",
       "    <tr>\n",
       "      <td>4996</td>\n",
       "      <td>negative</td>\n",
       "      <td>-0.013333</td>\n",
       "      <td>en</td>\n",
       "      <td>nigerianewsdesk southern california on the bri...</td>\n",
       "    </tr>\n",
       "    <tr>\n",
       "      <td>4997</td>\n",
       "      <td>neutral</td>\n",
       "      <td>0.000000</td>\n",
       "      <td>en</td>\n",
       "      <td>news via foxes french authority get corsican...</td>\n",
       "    </tr>\n",
       "    <tr>\n",
       "      <td>4998</td>\n",
       "      <td>neutral</td>\n",
       "      <td>0.000000</td>\n",
       "      <td>en</td>\n",
       "      <td>french authority get corsican wildlife under c...</td>\n",
       "    </tr>\n",
       "  </tbody>\n",
       "</table>\n",
       "<p>4999 rows × 4 columns</p>\n",
       "</div>"
      ],
      "text/plain": [
       "     sentiment  sent_num language  \\\n",
       "0      neutral  0.000000       en   \n",
       "1      neutral  0.000000       en   \n",
       "2      neutral  0.000000       en   \n",
       "3      neutral  0.000000       en   \n",
       "4      neutral  0.000000       en   \n",
       "...        ...       ...      ...   \n",
       "4994  positive  0.100000       en   \n",
       "4995   neutral  0.000000       en   \n",
       "4996  negative -0.013333       en   \n",
       "4997   neutral  0.000000       en   \n",
       "4998   neutral  0.000000       en   \n",
       "\n",
       "                                            spell_trans  \n",
       "0         mind horse escape wildlife in backseat of car  \n",
       "1     bc news   california wildlife destroy legal ma...  \n",
       "2     -PRON- definitely belong in an asylum -PRON- j...  \n",
       "3     wildlife evacuation lift road open in papa cou...  \n",
       "4     california launch wildlife clean ' for the rec...  \n",
       "...                                                 ...  \n",
       "4994  wildlife burn near strawberry reservoir threat...  \n",
       "4995  wildlife in utah force evacuation threaten str...  \n",
       "4996  nigerianewsdesk southern california on the bri...  \n",
       "4997    news via foxes french authority get corsican...  \n",
       "4998  french authority get corsican wildlife under c...  \n",
       "\n",
       "[4999 rows x 4 columns]"
      ]
     },
     "execution_count": 298,
     "metadata": {},
     "output_type": "execute_result"
    }
   ],
   "source": [
    "df_nca_ne"
   ]
  },
  {
   "cell_type": "code",
   "execution_count": 303,
   "metadata": {},
   "outputs": [],
   "source": [
    "nca_2017_5000 = pd.concat([nca_split,df_nca_ne], axis = 1 )"
   ]
  },
  {
   "cell_type": "code",
   "execution_count": 305,
   "metadata": {},
   "outputs": [
    {
     "data": {
      "text/plain": [
       "<matplotlib.axes._subplots.AxesSubplot at 0x1a394ff048>"
      ]
     },
     "execution_count": 305,
     "metadata": {},
     "output_type": "execute_result"
    },
    {
     "data": {
      "image/png": "[encoded data removed]",
      "text/plain": [
       "<Figure size 432x288 with 1 Axes>"
      ]
     },
     "metadata": {
      "needs_background": "light"
     },
     "output_type": "display_data"
    }
   ],
   "source": [
    "sns.countplot(nca_2017_5000['sentiment'])"
   ]
  },
  {
   "cell_type": "code",
   "execution_count": 307,
   "metadata": {},
   "outputs": [
    {
     "data": {
      "text/plain": [
       "en       4896\n",
       "ja         31\n",
       "pt         11\n",
       "es          7\n",
       "nl          4\n",
       "ko          4\n",
       "tl          4\n",
       "it          3\n",
       "lb          3\n",
       "ne          3\n",
       "de          3\n",
       "st          3\n",
       "th          3\n",
       "hr          3\n",
       "fr          2\n",
       "hi          2\n",
       "ca          2\n",
       "fy          2\n",
       "sw          1\n",
       "zu          1\n",
       "fa          1\n",
       "sk          1\n",
       "co          1\n",
       "gl          1\n",
       "zh-TW       1\n",
       "ceb         1\n",
       "ru          1\n",
       "cy          1\n",
       "eo          1\n",
       "ar          1\n",
       "vi          1\n",
       "Name: language, dtype: int64"
      ]
     },
     "execution_count": 307,
     "metadata": {},
     "output_type": "execute_result"
    }
   ],
   "source": [
    "nca_2017_5000['language'].value_counts()"
   ]
  },
  {
   "cell_type": "code",
   "execution_count": 304,
   "metadata": {},
   "outputs": [],
   "source": [
    "with open('data/nca_2017_5000.pickle', 'wb') as to_write:\n",
    "    pickle.dump(nca_2017_5000, to_write)"
   ]
  },
  {
   "cell_type": "markdown",
   "metadata": {},
   "source": [
    "## Some EDA of other features"
   ]
  },
  {
   "cell_type": "code",
   "execution_count": 286,
   "metadata": {},
   "outputs": [
    {
     "data": {
      "text/plain": [
       "<matplotlib.axes._subplots.AxesSubplot at 0x12897aed0>"
      ]
     },
     "execution_count": 286,
     "metadata": {},
     "output_type": "execute_result"
    },
    {
     "data": {
      "image/png": "[encoded data removed]",
      "text/plain": [
       "<Figure size 432x288 with 1 Axes>"
      ]
     },
     "metadata": {
      "needs_background": "light"
     },
     "output_type": "display_data"
    }
   ],
   "source": [
    "sns.distplot(df['retweets'])"
   ]
  },
  {
   "cell_type": "code",
   "execution_count": 308,
   "metadata": {},
   "outputs": [],
   "source": [
    "df['retweet_binary'] = pd.cut(df['retweets'], bins = [0, 1, 1000000], labels = [0,1])"
   ]
  },
  {
   "cell_type": "code",
   "execution_count": 309,
   "metadata": {},
   "outputs": [
    {
     "data": {
      "text/plain": [
       "<matplotlib.axes._subplots.AxesSubplot at 0x1adb53d690>"
      ]
     },
     "execution_count": 309,
     "metadata": {},
     "output_type": "execute_result"
    },
    {
     "data": {
      "image/png": "[encoded data removed]",
      "text/plain": [
       "<Figure size 432x288 with 1 Axes>"
      ]
     },
     "metadata": {
      "needs_background": "light"
     },
     "output_type": "display_data"
    }
   ],
   "source": [
    "sns.countplot(df['retweet_binary'])"
   ]
  }
 ],
 "metadata": {
  "kernelspec": {
   "display_name": "Python 3",
   "language": "python",
   "name": "python3"
  },
  "language_info": {
   "codemirror_mode": {
    "name": "ipython",
    "version": 3
   },
   "file_extension": ".py",
   "mimetype": "text/x-python",
   "name": "python",
   "nbconvert_exporter": "python",
   "pygments_lexer": "ipython3",
   "version": "3.6.9"
  }
 },
 "nbformat": 4,
 "nbformat_minor": 4
}
