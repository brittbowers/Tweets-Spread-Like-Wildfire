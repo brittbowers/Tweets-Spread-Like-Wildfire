{
 "cells": [
  {
   "cell_type": "markdown",
   "metadata": {},
   "source": [
    "## Imports"
   ]
  },
  {
   "cell_type": "code",
   "execution_count": 11,
   "metadata": {},
   "outputs": [],
   "source": [
    "import pandas as pd\n",
    "import numpy as np\n",
    "import pickle\n",
    "import matplotlib.pyplot as plt\n",
    "import seaborn as sns"
   ]
  },
  {
   "cell_type": "markdown",
   "metadata": {},
   "source": [
    "## Data"
   ]
  },
  {
   "cell_type": "code",
   "execution_count": 5,
   "metadata": {},
   "outputs": [],
   "source": [
    "with open('data/camp_5000.pickle', 'rb') as read_file:\n",
    "    df_camp_1 = pickle.load(read_file)\n",
    "with open('data/camp_5001.pickle', 'rb') as read_file:\n",
    "    df_camp_2 = pickle.load(read_file)"
   ]
  },
  {
   "cell_type": "code",
   "execution_count": 66,
   "metadata": {},
   "outputs": [],
   "source": [
    "with open('data/df_kincade_5000.pickle', 'rb') as read_file:\n",
    "    df_kincade_1 = pickle.load(read_file)\n",
    "with open('data/kincade_5000.pickle', 'rb') as read_file:\n",
    "    df_kincade_2 = pickle.load(read_file)"
   ]
  },
  {
   "cell_type": "code",
   "execution_count": 31,
   "metadata": {},
   "outputs": [],
   "source": [
    "df_camp = pd.concat([df_camp_1, df_camp_2], axis=0)"
   ]
  },
  {
   "cell_type": "code",
   "execution_count": 32,
   "metadata": {},
   "outputs": [],
   "source": [
    "df_camp['spell_trans'] = df_camp['spell_trans'].fillna(df_camp['text'])"
   ]
  },
  {
   "cell_type": "code",
   "execution_count": 67,
   "metadata": {},
   "outputs": [
    {
     "name": "stderr",
     "output_type": "stream",
     "text": [
      "/Users/brittb28/anaconda3/lib/python3.7/site-packages/ipykernel_launcher.py:1: FutureWarning: Sorting because non-concatenation axis is not aligned. A future version\n",
      "of pandas will change to not sort by default.\n",
      "\n",
      "To accept the future behavior, pass 'sort=False'.\n",
      "\n",
      "To retain the current behavior and silence the warning, pass 'sort=True'.\n",
      "\n",
      "  \"\"\"Entry point for launching an IPython kernel.\n"
     ]
    }
   ],
   "source": [
    "df_kincade = pd.concat([df_kincade_1, df_kincade_2], axis=0)"
   ]
  },
  {
   "cell_type": "code",
   "execution_count": 68,
   "metadata": {},
   "outputs": [],
   "source": [
    "df_kincade['spell_trans'] = df_kincade['spell_trans'].fillna(df_kincade['text'])"
   ]
  },
  {
   "cell_type": "code",
   "execution_count": 76,
   "metadata": {},
   "outputs": [],
   "source": [
    "df_kincade = df_kincade.reset_index(drop = True)"
   ]
  },
  {
   "cell_type": "code",
   "execution_count": 77,
   "metadata": {},
   "outputs": [],
   "source": [
    "for i,tweet in enumerate(df_kincade['spell_trans']):\n",
    "    if 'like wildfire' in tweet:\n",
    "        df_kincade = df_kincade.drop(i)"
   ]
  },
  {
   "cell_type": "code",
   "execution_count": 69,
   "metadata": {},
   "outputs": [
    {
     "data": {
      "text/plain": [
       "<matplotlib.axes._subplots.AxesSubplot at 0x1a20b1a850>"
      ]
     },
     "execution_count": 69,
     "metadata": {},
     "output_type": "execute_result"
    },
    {
     "data": {
      "image/png": "[encoded data removed]",
      "text/plain": [
       "<Figure size 432x288 with 1 Axes>"
      ]
     },
     "metadata": {
      "needs_background": "light"
     },
     "output_type": "display_data"
    }
   ],
   "source": [
    "sns.countplot(df_kincade['sentiment'])"
   ]
  },
  {
   "cell_type": "code",
   "execution_count": 12,
   "metadata": {},
   "outputs": [
    {
     "data": {
      "text/plain": [
       "<matplotlib.axes._subplots.AxesSubplot at 0x1a1a9541d0>"
      ]
     },
     "execution_count": 12,
     "metadata": {},
     "output_type": "execute_result"
    },
    {
     "data": {
      "image/png": "[encoded data removed]",
      "text/plain": [
       "<Figure size 432x288 with 1 Axes>"
      ]
     },
     "metadata": {
      "needs_background": "light"
     },
     "output_type": "display_data"
    }
   ],
   "source": [
    "sns.countplot(df_camp['sentiment'])"
   ]
  },
  {
   "cell_type": "markdown",
   "metadata": {},
   "source": [
    "## Models"
   ]
  },
  {
   "cell_type": "code",
   "execution_count": 46,
   "metadata": {},
   "outputs": [],
   "source": [
    "from sklearn.feature_extraction.text import TfidfVectorizer \n",
    "from sklearn.decomposition import TruncatedSVD\n",
    "from sklearn.feature_extraction import text \n",
    "from sklearn.decomposition import LatentDirichletAllocation"
   ]
  },
  {
   "cell_type": "code",
   "execution_count": 20,
   "metadata": {},
   "outputs": [],
   "source": [
    "def tfidf(documents):\n",
    "    my_additional_stop_words = ['wildfire', 'like', 'pron']\n",
    "    stop_words = text.ENGLISH_STOP_WORDS.union(my_additional_stop_words)\n",
    "    cv_tfidf = TfidfVectorizer(analyzer = 'word',ngram_range = (2,3), min_df = 3, stop_words=stop_words, token_pattern = \"\\\\b[a-z][a-z]+\\\\b\") \n",
    "    doc_word = cv_tfidf.fit_transform(documents)\n",
    "    words = cv_tfidf.get_feature_names()\n",
    "    id2word = dict((v, k) for k, v in cv_tfidf.vocabulary_.items())\n",
    "    return doc_word, words, cv_tfidf"
   ]
  },
  {
   "cell_type": "code",
   "execution_count": 21,
   "metadata": {},
   "outputs": [],
   "source": [
    "def dim_lsa(doc_word, no_topics):\n",
    "    '''\n",
    "    This function takes a sparse matrix map of documents to words and reduces the dimensions\n",
    "    to topics. It returns an array of documents mapped to topics by \"relatedness\". Each row in the array\n",
    "    has (no_topics) items in it.\n",
    "    --------------------\n",
    "    Inputs: sparse matrix, int\n",
    "    Outputs: model, array, list\n",
    "    '''\n",
    "    lsa = TruncatedSVD(no_topics)\n",
    "    doc_topic = lsa.fit_transform(doc_word)\n",
    "    return lsa, doc_topic, lsa.explained_variance_ratio_"
   ]
  },
  {
   "cell_type": "code",
   "execution_count": 37,
   "metadata": {},
   "outputs": [],
   "source": [
    "def display_topics(model, words, no_top_words, topic_names=None):\n",
    "    '''\n",
    "    This function takes a dim reduction model, words, number of words to display, and topic_names \n",
    "    (default= none). It returns strings of topics.\n",
    "    ----------------\n",
    "    Input: function, list, int\n",
    "    Output: strs\n",
    "    '''\n",
    "    for ix, topic in enumerate(model.components_):\n",
    "        if not topic_names or not topic_names[ix]:\n",
    "            print(\"\\nTopic \", ix)\n",
    "        else:\n",
    "            print(\"\\nTopic: '\",topic_names[ix],\"'\")\n",
    "        print(\", \".join([words[i]\n",
    "                        for i in topic.argsort()[:-no_top_words - 1:-1]]))"
   ]
  },
  {
   "cell_type": "code",
   "execution_count": 45,
   "metadata": {},
   "outputs": [],
   "source": [
    "def sk_lda(doc_word, n_topics):\n",
    "    lda = LatentDirichletAllocation(n_components=n_topics,random_state=0)\n",
    "    doc_topic = lda.fit_transform(doc_word)\n",
    "    return lda, doc_topic, lda.exp_dirichlet_component_"
   ]
  },
  {
   "cell_type": "markdown",
   "metadata": {},
   "source": [
    "## Camp Fire"
   ]
  },
  {
   "cell_type": "code",
   "execution_count": 35,
   "metadata": {},
   "outputs": [],
   "source": [
    "doc_word, words, cv_tfidf = tfidf(df_camp['spell_trans'])"
   ]
  },
  {
   "cell_type": "code",
   "execution_count": 56,
   "metadata": {},
   "outputs": [],
   "source": [
    "lsa, doc_topic, variance = dim_lsa(doc_word, 6)"
   ]
  },
  {
   "cell_type": "code",
   "execution_count": 52,
   "metadata": {},
   "outputs": [],
   "source": [
    "lda, doc_topic, variance = sk_lda(doc_word, 3)"
   ]
  },
  {
   "cell_type": "code",
   "execution_count": 57,
   "metadata": {},
   "outputs": [
    {
     "name": "stdout",
     "output_type": "stream",
     "text": [
      "\n",
      "Topic  0\n",
      "cause million wildlife, million wildlife, gender reveal cause, reveal cause, reveal cause million, video gender, video gender reveal, cause million, gender reveal, reveal party\n",
      "\n",
      "Topic  1\n",
      "california wildlife, wildlife victim, california wildlife victim, wildlife relief, california wildlife relief, victim california, victim california wildlife, affect california, affect california wildlife, help california wildlife\n",
      "\n",
      "Topic  2\n",
      "reveal party, gender reveal party, dignity wildlife, party dignity, reveal party dignity, party dignity wildlife, official release, official release video, release video, release video gender\n",
      "\n",
      "Topic  3\n",
      "spread wildlife, social medium, wildlife california, rumor spread wildlife, rumor spread, wildlife know, lie spread, lie spread wildlife, rumour spread wildlife, rumour spread\n",
      "\n",
      "Topic  4\n",
      "accuse use, official accuse, official accuse use, tramp official, deadly wildlife, tramp official accuse, use deadly, use deadly wildlife, wildlife boost, deadly wildlife boost\n",
      "\n",
      "Topic  5\n",
      "start wildlife, gender reveal, reveal party, gender reveal party, cause wildlife, border patrol, arizona wildlife, patrol agent, border patrol agent, baby gender\n"
     ]
    }
   ],
   "source": [
    "display_topics(lsa, words, 10)"
   ]
  },
  {
   "cell_type": "markdown",
   "metadata": {},
   "source": [
    "## Kincade Fire"
   ]
  },
  {
   "cell_type": "code",
   "execution_count": 78,
   "metadata": {},
   "outputs": [],
   "source": [
    "doc_word, words, cv_tfidf = tfidf(df_kincade['spell_trans'])"
   ]
  },
  {
   "cell_type": "code",
   "execution_count": 81,
   "metadata": {},
   "outputs": [],
   "source": [
    "lsa, doc_topic, variance = dim_lsa(doc_word, 3)"
   ]
  },
  {
   "cell_type": "code",
   "execution_count": 52,
   "metadata": {},
   "outputs": [],
   "source": [
    "lda, doc_topic, variance = sk_lda(doc_word, 3)"
   ]
  },
  {
   "cell_type": "code",
   "execution_count": 82,
   "metadata": {},
   "outputs": [
    {
     "name": "stdout",
     "output_type": "stream",
     "text": [
      "\n",
      "Topic  0\n",
      "federal aid, federal aid california, aid california, devastating continue, vow federal, vow federal aid, california devastating, aid california devastating, california devastating continue, devastating continue burn\n",
      "\n",
      "Topic  1\n",
      "threaten cut, trump threaten cut, trump threaten, funding california, cut funding, threaten cut funding, threaten cut federal, cut funding california, cut federal, federal funding\n",
      "\n",
      "Topic  2\n",
      "california wildlife, southern california, southern california wildlife, climate change, california wildlife signal, wildlife signal, battle stubborn, stubborn southern california, battle stubborn southern, stubborn southern\n"
     ]
    }
   ],
   "source": [
    "display_topics(lsa, words, 10)"
   ]
  },
  {
   "cell_type": "code",
   "execution_count": null,
   "metadata": {},
   "outputs": [],
   "source": []
  }
 ],
 "metadata": {
  "kernelspec": {
   "display_name": "Python 3",
   "language": "python",
   "name": "python3"
  },
  "language_info": {
   "codemirror_mode": {
    "name": "ipython",
    "version": 3
   },
   "file_extension": ".py",
   "mimetype": "text/x-python",
   "name": "python",
   "nbconvert_exporter": "python",
   "pygments_lexer": "ipython3",
   "version": "3.7.4"
  }
 },
 "nbformat": 4,
 "nbformat_minor": 4
}
