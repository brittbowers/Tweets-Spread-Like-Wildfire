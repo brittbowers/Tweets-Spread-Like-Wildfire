{
 "cells": [
  {
   "cell_type": "markdown",
   "metadata": {
    "Collapsed": "false"
   },
   "source": [
    "# Modeling Wildfire Tweets\n",
    "### Table of Contents\n",
    "- [Imports](#imports)\n",
    "- [Data](#data)\n",
    "- [Functions - Vectorizers](#func-vec)\n",
    "- [Functions - Dimensionality Reduction](#func-dim)\n",
    "- [Functions - Clustering](#func-cluster)\n",
    "- [Functions - Visualization](#func-visual)\n",
    "- [Topic Modeling - LSA](#topic-lsa)\n",
    "- [Topic Modeling - LDA](#topic-lda)"
   ]
  },
  {
   "cell_type": "markdown",
   "metadata": {
    "Collapsed": "false"
   },
   "source": [
    "<a class=\"anchor\" id=\"imports\"></a>\n",
    "## Imports"
   ]
  },
  {
   "cell_type": "code",
   "execution_count": 2,
   "metadata": {
    "Collapsed": "false"
   },
   "outputs": [
    {
     "name": "stderr",
     "output_type": "stream",
     "text": [
      "/Users/brittb28/anaconda3/envs/metis/lib/python3.6/site-packages/scipy/sparse/sparsetools.py:21: DeprecationWarning: `scipy.sparse.sparsetools` is deprecated!\n",
      "scipy.sparse.sparsetools is a private module for scipy.sparse, and should not be used.\n",
      "  _deprecated()\n"
     ]
    }
   ],
   "source": [
    "import pandas as pd\n",
    "import numpy as np\n",
    "import pickle\n",
    "import nltk\n",
    "import matplotlib.pyplot as plt\n",
    "from sklearn.feature_extraction.text import CountVectorizer \n",
    "from sklearn.decomposition import TruncatedSVD\n",
    "from sklearn.decomposition import NMF\n",
    "from sklearn.metrics.pairwise import cosine_similarity\n",
    "from sklearn.feature_extraction import text \n",
    "from sklearn.feature_extraction.text import TfidfVectorizer \n",
    "from gensim import corpora, models, similarities, matutils\n",
    "# logging for gensim (set to INFO)\n",
    "import logging\n",
    "logging.basicConfig(format='%(asctime)s : %(levelname)s : %(message)s', level=logging.INFO)\n",
    "from sklearn.decomposition import LatentDirichletAllocation"
   ]
  },
  {
   "cell_type": "markdown",
   "metadata": {
    "Collapsed": "false"
   },
   "source": [
    "![alt text](workflow.png)"
   ]
  },
  {
   "cell_type": "markdown",
   "metadata": {
    "Collapsed": "false"
   },
   "source": [
    "<a class=\"anchor\" id=\"data\"></a>\n",
    "## Data"
   ]
  },
  {
   "cell_type": "code",
   "execution_count": 3,
   "metadata": {
    "Collapsed": "false"
   },
   "outputs": [],
   "source": [
    "with open('data/fire_clean.pickle', 'rb') as read_file:\n",
    "    df = pickle.load(read_file)"
   ]
  },
  {
   "cell_type": "markdown",
   "metadata": {
    "Collapsed": "false"
   },
   "source": [
    "## Functions"
   ]
  },
  {
   "cell_type": "markdown",
   "metadata": {
    "Collapsed": "false"
   },
   "source": [
    "<a class=\"anchor\" id=\"func-vec\"></a>\n",
    "#### Vectorizers"
   ]
  },
  {
   "cell_type": "markdown",
   "metadata": {
    "Collapsed": "false"
   },
   "source": [
    "<a class=\"anchor\" id=\"count_vec\"></a>\n",
    "Count Vectorizer"
   ]
  },
  {
   "cell_type": "code",
   "execution_count": 4,
   "metadata": {
    "Collapsed": "false"
   },
   "outputs": [],
   "source": [
    "def count_vec(documents):\n",
    "    '''\n",
    "    This function takes a corpus of documents and returns a sparse matrix mapping\n",
    "    words and ngrams to documents. \n",
    "    Ex. [\"This is a tweet\", \"Another tweet\"]\n",
    "                        This     is     a .   tweet .   another\n",
    "    \"This is a tweet\"     1       1 .   1 .    1 .         0\n",
    "    \"Another tweet\"       0 .     0 .   0 .    1 .         1\n",
    "    \n",
    "    --------------------------------\n",
    "    Input: pd Series\n",
    "    Output: Sparse Matrix\n",
    "    '''\n",
    "    # Adding additional stop words\n",
    "    my_additional_stop_words = ['wildfire', 'like', 'pron']\n",
    "    stop_words = text.ENGLISH_STOP_WORDS.union(my_additional_stop_words)\n",
    "    vectorizer = CountVectorizer(ngram_range = (2,3), min_df = 3, max_df = 0.7, stop_words=stop_words, token_pattern = \"\\\\b[a-z][a-z]+\\\\b\")\n",
    "    doc_word = vectorizer.fit_transform(documents)\n",
    "    words = vectorizer.get_feature_names()\n",
    "    id2word = dict((v, k) for k, v in vectorizer.vocabulary_.items())\n",
    "    return doc_word, words, id2word"
   ]
  },
  {
   "cell_type": "markdown",
   "metadata": {
    "Collapsed": "false"
   },
   "source": [
    "<a class=\"anchor\" id=\"tfidf\"></a>\n",
    "tf-idf"
   ]
  },
  {
   "cell_type": "code",
   "execution_count": 17,
   "metadata": {
    "Collapsed": "false"
   },
   "outputs": [],
   "source": [
    "def tfidf(documents):\n",
    "    my_additional_stop_words = ['wildfire', 'like', 'pron']\n",
    "    stop_words = text.ENGLISH_STOP_WORDS.union(my_additional_stop_words)\n",
    "    cv_tfidf = TfidfVectorizer(analyzer = 'word',ngram_range = (2,3), min_df = 3, stop_words=stop_words, token_pattern = \"\\\\b[a-z][a-z]+\\\\b\") \n",
    "    doc_word = cv_tfidf.fit_transform(documents)\n",
    "    words = cv_tfidf.get_feature_names()\n",
    "    id2word = dict((v, k) for k, v in cv_tfidf.vocabulary_.items())\n",
    "    return doc_word, words, id2word, cv_tfidf"
   ]
  },
  {
   "cell_type": "code",
   "execution_count": 11,
   "metadata": {
    "Collapsed": "false"
   },
   "outputs": [],
   "source": [
    "doc_word, words, id2word = count_vec(df['text'])"
   ]
  },
  {
   "cell_type": "markdown",
   "metadata": {
    "Collapsed": "false"
   },
   "source": [
    "<a class=\"anchor\" id=\"func-dim\"></a>\n",
    "#### Dimensional Reduction"
   ]
  },
  {
   "cell_type": "markdown",
   "metadata": {
    "Collapsed": "false"
   },
   "source": [
    "<a class=\"anchor\" id=\"lsa\"></a>\n",
    "LSA"
   ]
  },
  {
   "cell_type": "code",
   "execution_count": 6,
   "metadata": {
    "Collapsed": "false"
   },
   "outputs": [],
   "source": [
    "def dim_lsa(doc_word, no_topics):\n",
    "    '''\n",
    "    This function takes a sparse matrix map of documents to words and reduces the dimensions\n",
    "    to topics. It returns an array of documents mapped to topics by \"relatedness\". Each row in the array\n",
    "    has (no_topics) items in it.\n",
    "    --------------------\n",
    "    Inputs: sparse matrix, int\n",
    "    Outputs: model, array, list\n",
    "    '''\n",
    "    lsa = TruncatedSVD(no_topics)\n",
    "    doc_topic = lsa.fit_transform(doc_word)\n",
    "    return lsa, doc_topic, lsa.explained_variance_ratio_"
   ]
  },
  {
   "cell_type": "code",
   "execution_count": 13,
   "metadata": {
    "Collapsed": "false"
   },
   "outputs": [],
   "source": [
    "lsa, doc_topic, variance = dim_lsa(doc_word, 10)"
   ]
  },
  {
   "cell_type": "code",
   "execution_count": 14,
   "metadata": {
    "Collapsed": "false"
   },
   "outputs": [
    {
     "data": {
      "text/plain": [
       "array([[ 0.98501479, -0.18551606,  0.18958886, ..., -0.04205011,\n",
       "         0.01012588, -0.02847846],\n",
       "       [ 0.19075545,  0.22815703, -0.35203939, ...,  0.07540616,\n",
       "        -0.34973454,  0.05570193],\n",
       "       [ 0.08761066,  0.05130767, -0.23996302, ..., -0.26960418,\n",
       "         0.12009253, -0.08828233],\n",
       "       ...,\n",
       "       [ 1.01877135, -0.13925951,  0.0149609 , ...,  0.163988  ,\n",
       "        -0.10524165,  0.22523437],\n",
       "       [ 0.0950898 ,  0.07097962, -0.12327627, ...,  0.01154855,\n",
       "        -0.16253182,  0.01161781],\n",
       "       [ 1.06951253, -0.00336677, -0.03423027, ...,  0.00628293,\n",
       "        -0.4350482 ,  0.00323925]])"
      ]
     },
     "execution_count": 14,
     "metadata": {},
     "output_type": "execute_result"
    }
   ],
   "source": [
    "doc_topic"
   ]
  },
  {
   "cell_type": "markdown",
   "metadata": {
    "Collapsed": "false"
   },
   "source": [
    "<a class=\"anchor\" id=\"lda\"></a>\n",
    "[LDA](#topic-lda)"
   ]
  },
  {
   "cell_type": "code",
   "execution_count": 7,
   "metadata": {
    "Collapsed": "false"
   },
   "outputs": [],
   "source": [
    "def dim_lda(doc_word, id2word):\n",
    "    corpus = matutils.Sparse2Corpus(doc_word)\n",
    "    lda = models.LdaModel(corpus=corpus, num_topics=10, id2word=id2word, passes=5)\n",
    "    return lda.print_topics"
   ]
  },
  {
   "cell_type": "code",
   "execution_count": 20,
   "metadata": {
    "Collapsed": "false"
   },
   "outputs": [],
   "source": [
    "def sk_lda(doc_word, n_topics):\n",
    "    lda = LatentDirichletAllocation(n_components=n_topics,random_state=0)\n",
    "    doc_topic = lda.fit_transform(doc_word)\n",
    "    return lda, doc_topic, lda.exp_dirichlet_component_"
   ]
  },
  {
   "cell_type": "markdown",
   "metadata": {
    "Collapsed": "false"
   },
   "source": [
    "<a class=\"anchor\" id=\"func-cluster\"></a>\n",
    "#### Clustering Algorithms"
   ]
  },
  {
   "cell_type": "markdown",
   "metadata": {
    "Collapsed": "false"
   },
   "source": [
    "K Means"
   ]
  },
  {
   "cell_type": "code",
   "execution_count": 8,
   "metadata": {
    "Collapsed": "false"
   },
   "outputs": [],
   "source": [
    "def km(X, k):\n",
    "    km = KMeans(n_clusters=k)\n",
    "    km.fit(X)\n",
    "    return "
   ]
  },
  {
   "cell_type": "markdown",
   "metadata": {
    "Collapsed": "false"
   },
   "source": [
    "<a class=\"anchor\" id=\"func-visual\"></a>\n",
    "#### Visualizing"
   ]
  },
  {
   "cell_type": "code",
   "execution_count": 9,
   "metadata": {
    "Collapsed": "false"
   },
   "outputs": [],
   "source": [
    "def display_topics(model, words, no_top_words, topic_names=None):\n",
    "    '''\n",
    "    This function takes a dim reduction model, words, number of words to display, and topic_names \n",
    "    (default= none). It returns strings of topics.\n",
    "    ----------------\n",
    "    Input: function, list, int\n",
    "    Output: strs\n",
    "    '''\n",
    "    for ix, topic in enumerate(model.components_):\n",
    "        if not topic_names or not topic_names[ix]:\n",
    "            print(\"\\nTopic \", ix)\n",
    "        else:\n",
    "            print(\"\\nTopic: '\",topic_names[ix],\"'\")\n",
    "        print(\", \".join([words[i]\n",
    "                        for i in topic.argsort()[:-no_top_words - 1:-1]]))"
   ]
  },
  {
   "cell_type": "code",
   "execution_count": 10,
   "metadata": {
    "Collapsed": "false"
   },
   "outputs": [],
   "source": [
    "def display_cluster(X,km=[],num_clusters=0):\n",
    "    color = 'brgcmyk'\n",
    "    alpha = 0.5\n",
    "    s = 20\n",
    "    if num_clusters == 0:\n",
    "        plt.scatter(X[:,0],X[:,1],c = color[0],alpha = alpha,s = s)\n",
    "    else:\n",
    "        for i in range(num_clusters):\n",
    "            plt.scatter(X[km.labels_==i,0],X[km.labels_==i,1],c = color[i],alpha = alpha,s=s)\n",
    "            plt.scatter(km.cluster_centers_[i][0],km.cluster_centers_[i][1],c = color[i], marker = 'x', s = 100)"
   ]
  },
  {
   "cell_type": "code",
   "execution_count": 11,
   "metadata": {
    "Collapsed": "false"
   },
   "outputs": [],
   "source": [
    "def inertia_plot(X, k_max):\n",
    "    inertias = []\n",
    "    for k in range(1,k_max):\n",
    "        km = KMeans(n_clusters=k)\n",
    "        km.fit(X)\n",
    "        inertias.append(km.inertia_)\n",
    "        plt.scatter(k,km.inertia_, color = 'b')\n",
    "    plt.plot(range(1,k_max),inertias, color = 'b')\n",
    "    plt.xlabel(\"Number of Clusters\")\n",
    "    plt.ylabel(\"Inertia\")\n",
    "    return plt.show()"
   ]
  },
  {
   "cell_type": "markdown",
   "metadata": {
    "Collapsed": "false"
   },
   "source": [
    "<a class=\"anchor\" id=\"topic-lsa\"></a>\n",
    "## LSA Topic Modeling"
   ]
  },
  {
   "cell_type": "markdown",
   "metadata": {
    "Collapsed": "false"
   },
   "source": [
    "#### All Data"
   ]
  },
  {
   "cell_type": "markdown",
   "metadata": {
    "Collapsed": "false"
   },
   "source": [
    "[Count Vectorizer](#count_vec)"
   ]
  },
  {
   "cell_type": "code",
   "execution_count": 21,
   "metadata": {
    "Collapsed": "false"
   },
   "outputs": [],
   "source": [
    "doc_word, words = count_vec(df['text'])"
   ]
  },
  {
   "cell_type": "code",
   "execution_count": 22,
   "metadata": {
    "Collapsed": "false"
   },
   "outputs": [],
   "source": [
    "lsa, doc_topic,variance = dim_lsa(doc_word, 10)"
   ]
  },
  {
   "cell_type": "markdown",
   "metadata": {
    "Collapsed": "false"
   },
   "source": [
    "Using unigrams"
   ]
  },
  {
   "cell_type": "code",
   "execution_count": 23,
   "metadata": {
    "Collapsed": "false"
   },
   "outputs": [
    {
     "name": "stdout",
     "output_type": "stream",
     "text": [
      "\n",
      "Topic  0\n",
      "california, help, people, northern, home\n",
      "\n",
      "Topic  1\n",
      "climate, change, climate change, ca, year\n",
      "\n",
      "Topic  2\n",
      "climate, california, change, climate change, aoc\n",
      "\n",
      "Topic  3\n",
      "help, trump, ca, victim, affect\n",
      "\n",
      "Topic  4\n",
      "burn, trump, forest, state, area\n",
      "\n",
      "Topic  5\n",
      "home, help, new, burn, los\n",
      "\n",
      "Topic  6\n",
      "people, burn, trump, home, federal\n",
      "\n",
      "Topic  7\n",
      "home, trump, ca, state, say\n",
      "\n",
      "Topic  8\n",
      "power, state, ca, pge, northern\n",
      "\n",
      "Topic  9\n",
      "news, trump, new, spread, wind\n"
     ]
    }
   ],
   "source": [
    "display_topics(lsa, words, 5)"
   ]
  },
  {
   "cell_type": "markdown",
   "metadata": {
    "Collapsed": "false"
   },
   "source": [
    "Using only bigrams and trigrams"
   ]
  },
  {
   "cell_type": "code",
   "execution_count": 25,
   "metadata": {
    "Collapsed": "false"
   },
   "outputs": [],
   "source": [
    "doc_word, words = count_vec(df['text'])"
   ]
  },
  {
   "cell_type": "code",
   "execution_count": 26,
   "metadata": {
    "Collapsed": "false"
   },
   "outputs": [],
   "source": [
    "lsa, doc_topic,variance = dim_lsa(doc_word, 10)"
   ]
  },
  {
   "cell_type": "code",
   "execution_count": 27,
   "metadata": {
    "Collapsed": "false"
   },
   "outputs": [
    {
     "name": "stdout",
     "output_type": "stream",
     "text": [
      "\n",
      "Topic  0\n",
      "climate change, change make, climate change make, change cause, climate change cause\n",
      "\n",
      "Topic  1\n",
      "northern california, death toll, toll rise, death toll rise, california death\n",
      "\n",
      "Topic  2\n",
      "gender reveal, video gender, video gender reveal, reveal party, gender reveal party\n",
      "\n",
      "Topic  3\n",
      "death toll, toll rise, death toll rise, california death, california death toll\n",
      "\n",
      "Topic  4\n",
      "aid california, federal aid, federal aid california, continue burn, california devastating\n",
      "\n",
      "Topic  5\n",
      "los angeles, southern california, gavin newsom, presidential library, reagan presidential\n",
      "\n",
      "Topic  6\n",
      "gavin newsom, gov gavin, gov gavin newsom, grapple blackout, newsom grapple\n",
      "\n",
      "Topic  7\n",
      "southern california, presidential library, reagan presidential, reagan presidential library, ronald reagan\n",
      "\n",
      "Topic  8\n",
      "california look, dereliction duty, hey aoc, aoc california, hey aoc california\n",
      "\n",
      "Topic  9\n",
      "threaten cut, trump threaten, trump threaten cut, funding california, cut federal\n"
     ]
    }
   ],
   "source": [
    "display_topics(lsa, words, 5)"
   ]
  },
  {
   "cell_type": "markdown",
   "metadata": {
    "Collapsed": "false"
   },
   "source": [
    "[TFIDF](#tfidf)"
   ]
  },
  {
   "cell_type": "code",
   "execution_count": 16,
   "metadata": {
    "Collapsed": "false"
   },
   "outputs": [],
   "source": [
    "doc_word, words = tfidf(df['text'])"
   ]
  },
  {
   "cell_type": "code",
   "execution_count": 17,
   "metadata": {
    "Collapsed": "false"
   },
   "outputs": [],
   "source": [
    "lsa, doc_topic,variance = dim_lsa(doc_word, 10)"
   ]
  },
  {
   "cell_type": "code",
   "execution_count": 18,
   "metadata": {
    "Collapsed": "false"
   },
   "outputs": [
    {
     "name": "stdout",
     "output_type": "stream",
     "text": [
      "\n",
      "Topic  0\n",
      "california, help, people, burn, northern\n",
      "\n",
      "Topic  1\n",
      "spread, climate, change, climate change, gender\n",
      "\n",
      "Topic  2\n",
      "gender, reveal, gender reveal, video, video gender\n",
      "\n",
      "Topic  3\n",
      "spread, gender, video, reveal, gender reveal\n",
      "\n",
      "Topic  4\n",
      "death, toll, death toll, rise, toll rise\n",
      "\n",
      "Topic  5\n",
      "portugal, spain, kill, portugal spain, people\n",
      "\n",
      "Topic  6\n",
      "portugal, spain, kill, california, portugal spain\n",
      "\n",
      "Topic  7\n",
      "help, victim, affect, donate, help victim\n",
      "\n",
      "Topic  8\n",
      "trump, burn, federal, aid, say\n",
      "\n",
      "Topic  9\n",
      "burn, home, help, northern, northern california\n"
     ]
    }
   ],
   "source": [
    "display_topics(lsa, words, 5)"
   ]
  },
  {
   "cell_type": "markdown",
   "metadata": {
    "Collapsed": "false"
   },
   "source": [
    "Using only bigrams and trigrams tfidf"
   ]
  },
  {
   "cell_type": "code",
   "execution_count": 29,
   "metadata": {
    "Collapsed": "false"
   },
   "outputs": [],
   "source": [
    "doc_word, words = tfidf(df['text'])"
   ]
  },
  {
   "cell_type": "code",
   "execution_count": 30,
   "metadata": {
    "Collapsed": "false"
   },
   "outputs": [],
   "source": [
    "lsa, doc_topic,variance = dim_lsa(doc_word, 10)"
   ]
  },
  {
   "cell_type": "code",
   "execution_count": 31,
   "metadata": {
    "Collapsed": "false"
   },
   "outputs": [
    {
     "name": "stdout",
     "output_type": "stream",
     "text": [
      "\n",
      "Topic  0\n",
      "gender reveal, video gender, video gender reveal, gender reveal cause, reveal cause\n",
      "\n",
      "Topic  1\n",
      "death toll, toll rise, death toll rise, california death, california death toll\n",
      "\n",
      "Topic  2\n",
      "climate change, climate change make, change make, change cause, climate change cause\n",
      "\n",
      "Topic  3\n",
      "federal aid, aid california, federal aid california, california devastating, continue burn\n",
      "\n",
      "Topic  4\n",
      "northern california, california force, force evacuation, california kill, deadly northern california\n",
      "\n",
      "Topic  5\n",
      "video youtube, youtube playlist, add video, add video youtube, video youtube playlist\n",
      "\n",
      "Topic  6\n",
      "dog emerge, emerge alive, family dog, dog emerge alive, family dog emerge\n",
      "\n",
      "Topic  7\n",
      "gavin newsom, gov gavin, gov gavin newsom, grapple blackout, newsom grapple\n",
      "\n",
      "Topic  8\n",
      "portugal spain, kill portugal, kill portugal spain, spain kill, portugal spain kill\n",
      "\n",
      "Topic  9\n",
      "threaten cut, trump threaten, trump threaten cut, funding california, cut federal\n"
     ]
    }
   ],
   "source": [
    "display_topics(lsa, words, 5)"
   ]
  },
  {
   "cell_type": "markdown",
   "metadata": {
    "Collapsed": "false"
   },
   "source": [
    "#### By Fire - Shasta"
   ]
  },
  {
   "cell_type": "code",
   "execution_count": 32,
   "metadata": {
    "Collapsed": "false"
   },
   "outputs": [],
   "source": [
    "doc_word, words = tfidf(df.loc[df['fire'] == 'shasta_2018','text'])"
   ]
  },
  {
   "cell_type": "code",
   "execution_count": 33,
   "metadata": {
    "Collapsed": "false"
   },
   "outputs": [],
   "source": [
    "lsa, doc_topic,variance = dim_lsa(doc_word, 10)"
   ]
  },
  {
   "cell_type": "code",
   "execution_count": 34,
   "metadata": {
    "Collapsed": "false"
   },
   "outputs": [
    {
     "name": "stdout",
     "output_type": "stream",
     "text": [
      "\n",
      "Topic  0\n",
      "australian firefighter, firefighter shoot, australian firefighter shoot, shoot battle, firefighter shoot battle\n",
      "\n",
      "Topic  1\n",
      "climate change, record shift, response record, response record shift, clean energy\n",
      "\n",
      "Topic  2\n",
      "climate change, trump right, cause california, admit trump, inadvertently admit\n",
      "\n",
      "Topic  3\n",
      "trump right, cause california, admit trump, inadvertently admit, right cause\n",
      "\n",
      "Topic  4\n",
      "california highway, abandon truck, abandon truck litter, truck litter, litter california\n",
      "\n",
      "Topic  5\n",
      "approve measure, measure pass, pass cost, approve measure pass, california approve measure\n",
      "\n",
      "Topic  6\n",
      "safety info, acre contain, official safety info, consult official, official safety\n",
      "\n",
      "Topic  7\n",
      "northern california, rage northern, rage northern california, force evacuation, california force\n",
      "\n",
      "Topic  8\n",
      "video youtube, youtube video, video youtube playlist, add video, add video youtube\n",
      "\n",
      "Topic  9\n",
      "youtube video, rescue california, firefighter adopt, dog rescue, dog rescue california\n"
     ]
    }
   ],
   "source": [
    "display_topics(lsa, words, 5)"
   ]
  },
  {
   "cell_type": "markdown",
   "metadata": {
    "Collapsed": "false"
   },
   "source": [
    "#### By Fire - Kincade"
   ]
  },
  {
   "cell_type": "code",
   "execution_count": 35,
   "metadata": {
    "Collapsed": "false"
   },
   "outputs": [],
   "source": [
    "doc_word, words = count_vec(df.loc[df['fire'] == 'kincade','text'])"
   ]
  },
  {
   "cell_type": "code",
   "execution_count": 36,
   "metadata": {
    "Collapsed": "false"
   },
   "outputs": [],
   "source": [
    "lsa, doc_topic,variance = dim_lsa(doc_word, 10)"
   ]
  },
  {
   "cell_type": "code",
   "execution_count": 37,
   "metadata": {
    "Collapsed": "false"
   },
   "outputs": [
    {
     "name": "stdout",
     "output_type": "stream",
     "text": [
      "\n",
      "Topic  0\n",
      "climate change, dereliction duty, hey aoc, california look, government dereliction\n",
      "\n",
      "Topic  1\n",
      "federal aid, aid california, federal aid california, continue burn, california devastating\n",
      "\n",
      "Topic  2\n",
      "gavin newsom, gov gavin, gov gavin newsom, grapple blackout, newsom grapple\n",
      "\n",
      "Topic  3\n",
      "los angeles, southern california, presidential library, reagan presidential, reagan presidential library\n",
      "\n",
      "Topic  4\n",
      "threaten cut, trump threaten, trump threaten cut, funding california, cut federal\n",
      "\n",
      "Topic  5\n",
      "presidential library, reagan presidential, reagan presidential library, southern california, ronald reagan\n",
      "\n",
      "Topic  6\n",
      "dereliction duty, hey aoc, california look, aoc california, hey aoc california\n",
      "\n",
      "Topic  7\n",
      "gas price, dark spread, spread gas, dark spread gas, spread gas price\n",
      "\n",
      "Topic  8\n",
      "statewide emergency, declare statewide, declare statewide emergency, governor declare, state emergency\n",
      "\n",
      "Topic  9\n",
      "presidential library, reagan presidential library, reagan presidential, ronald reagan, ronald reagan presidential\n"
     ]
    }
   ],
   "source": [
    "display_topics(lsa, words, 5)"
   ]
  },
  {
   "cell_type": "markdown",
   "metadata": {
    "Collapsed": "false"
   },
   "source": [
    "A fire threatened the reagan library"
   ]
  },
  {
   "cell_type": "markdown",
   "metadata": {
    "Collapsed": "false"
   },
   "source": [
    "#### By Fire - nca_2017"
   ]
  },
  {
   "cell_type": "code",
   "execution_count": 38,
   "metadata": {
    "Collapsed": "false"
   },
   "outputs": [],
   "source": [
    "doc_word, words = count_vec(df.loc[df['fire'] == 'nca_2017','text'])"
   ]
  },
  {
   "cell_type": "code",
   "execution_count": 39,
   "metadata": {
    "Collapsed": "false"
   },
   "outputs": [],
   "source": [
    "lsa, doc_topic,variance = dim_lsa(doc_word, 10)"
   ]
  },
  {
   "cell_type": "code",
   "execution_count": 40,
   "metadata": {
    "Collapsed": "false"
   },
   "outputs": [
    {
     "name": "stdout",
     "output_type": "stream",
     "text": [
      "\n",
      "Topic  0\n",
      "death toll, northern california, toll rise, death toll rise, california death\n",
      "\n",
      "Topic  1\n",
      "northern california, deadly northern, deadly northern california, california kill, northern california kill\n",
      "\n",
      "Topic  2\n",
      "family dog, dog emerge, emerge alive, dog emerge alive, family dog emerge\n",
      "\n",
      "Topic  3\n",
      "peanut creator, creator charles, peanut creator charles, charles schulz, creator charles schulz\n",
      "\n",
      "Topic  4\n",
      "portugal spain, wine country, kill portugal, kill portugal spain, rage portugal\n",
      "\n",
      "Topic  5\n",
      "wine country, california wine, california wine country, californias wine, report progress\n",
      "\n",
      "Topic  6\n",
      "santa rosa, duffel bag, dog duffel, dog duffel bag, pound dog\n",
      "\n",
      "Topic  7\n",
      "santa rosa, sonoma napa, rosa sonoma, santa rosa sonoma, evacuation santa\n",
      "\n",
      "Topic  8\n",
      "death toll, mile wide, toll reach, death toll reach, wide death\n",
      "\n",
      "Topic  9\n",
      "deadly california, fierce wind, wind stir, stir deadly california, stir deadly\n"
     ]
    }
   ],
   "source": [
    "display_topics(lsa, words, 5)"
   ]
  },
  {
   "cell_type": "markdown",
   "metadata": {
    "Collapsed": "false"
   },
   "source": [
    "#### By Fire - sb 2017"
   ]
  },
  {
   "cell_type": "code",
   "execution_count": 41,
   "metadata": {
    "Collapsed": "false"
   },
   "outputs": [],
   "source": [
    "doc_word, words = count_vec(df.loc[df['fire'] == 'sb_2017','text'])"
   ]
  },
  {
   "cell_type": "code",
   "execution_count": 42,
   "metadata": {
    "Collapsed": "false"
   },
   "outputs": [],
   "source": [
    "lsa, doc_topic,variance = dim_lsa(doc_word, 10)"
   ]
  },
  {
   "cell_type": "code",
   "execution_count": 43,
   "metadata": {
    "Collapsed": "false"
   },
   "outputs": [
    {
     "name": "stdout",
     "output_type": "stream",
     "text": [
      "\n",
      "Topic  0\n",
      "year record, disaster year, make costly, hurricane make, costly disaster\n",
      "\n",
      "Topic  1\n",
      "mastermatt arisesuperafrica, master matt, wild master, wild master matt, newmusic presenter\n",
      "\n",
      "Topic  2\n",
      "southern california, california mudslide, deadly mudslide, heavy rain, mudslide kill\n",
      "\n",
      "Topic  3\n",
      "california mudslide, mudslide kill, california mudslide kill, area ravage, kill people\n",
      "\n",
      "Topic  4\n",
      "large record, record california, large record california, finally contain, california finally\n",
      "\n",
      "Topic  5\n",
      "rebuild puerto, cover damage, end homelessness, fund chip, puerto ricos\n",
      "\n",
      "Topic  6\n",
      "dead tree, million dead tree, million dead, prompt fear, tree prompt\n",
      "\n",
      "Topic  7\n",
      "weather disaster, disaster billion, weather disaster billion, tornado drought, flooding tornado\n",
      "\n",
      "Topic  8\n",
      "sunday january, saturday sunday january, africa tbt, travel dateoneside capetown, travel dateoneside\n",
      "\n",
      "Topic  9\n",
      "climate change, deadly weather, drought californias deadly, drought californias, californias deadly weather\n"
     ]
    }
   ],
   "source": [
    "display_topics(lsa, words, 5)"
   ]
  },
  {
   "cell_type": "markdown",
   "metadata": {
    "Collapsed": "false"
   },
   "source": [
    "#### By Fire - camp"
   ]
  },
  {
   "cell_type": "code",
   "execution_count": 44,
   "metadata": {
    "Collapsed": "false"
   },
   "outputs": [],
   "source": [
    "doc_word, words = count_vec(df.loc[df['fire'] == 'camp','text'])"
   ]
  },
  {
   "cell_type": "code",
   "execution_count": 45,
   "metadata": {
    "Collapsed": "false"
   },
   "outputs": [],
   "source": [
    "lsa, doc_topic,variance = dim_lsa(doc_word, 10)"
   ]
  },
  {
   "cell_type": "code",
   "execution_count": 46,
   "metadata": {
    "Collapsed": "false"
   },
   "outputs": [
    {
     "name": "stdout",
     "output_type": "stream",
     "text": [
      "\n",
      "Topic  0\n",
      "gender reveal, video gender, video gender reveal, cause million, reveal cause\n",
      "\n",
      "Topic  1\n",
      "climate change, heat wave, hurricane heat, hurricane heat wave, united states\n",
      "\n",
      "Topic  2\n",
      "reveal party, gender reveal party, gender reveal, party ignite, reveal party ignite\n",
      "\n",
      "Topic  3\n",
      "northern california, death toll, california relief, donate california, aaron rodgers\n",
      "\n",
      "Topic  4\n",
      "report warn, federal report, federal report warn, extreme weather, weather disaster\n",
      "\n",
      "Topic  5\n",
      "california relief, donate california, donate california relief, kanye west, aaron rodgers\n",
      "\n",
      "Topic  6\n",
      "deadly california, ryan zinke, zinke blame, interior secretary, radical environmentalist\n",
      "\n",
      "Topic  7\n",
      "border patrol, patrol agent, border patrol agent, genderreveal party, spark arizona\n",
      "\n",
      "Topic  8\n",
      "heat wave, hurricane heat, hurricane heat wave, debilitate hurricane, aaron rodgers\n",
      "\n",
      "Topic  9\n",
      "donate california relief, kanye west, donate california, california relief, west donate\n"
     ]
    }
   ],
   "source": [
    "display_topics(lsa, words, 5)"
   ]
  },
  {
   "cell_type": "markdown",
   "metadata": {
    "Collapsed": "false"
   },
   "source": [
    "There was evidently a wildfire in Arizona in November 2018 as well... and it was caused by a gender reveal party"
   ]
  },
  {
   "cell_type": "markdown",
   "metadata": {
    "Collapsed": "false"
   },
   "source": [
    "<a class=\"anchor\" id=\"topic-lda\"></a>\n",
    "## [LDA](#lda)  Topic Modeling\n",
    "\n",
    "Remember pyldavis"
   ]
  },
  {
   "cell_type": "markdown",
   "metadata": {
    "Collapsed": "false"
   },
   "source": [
    "Change n_gram range to (1,2) in tfidf"
   ]
  },
  {
   "cell_type": "code",
   "execution_count": 77,
   "metadata": {
    "Collapsed": "false"
   },
   "outputs": [],
   "source": [
    "doc_word, words, id2word = tfidf(df['text'])"
   ]
  },
  {
   "cell_type": "code",
   "execution_count": 78,
   "metadata": {
    "Collapsed": "false"
   },
   "outputs": [
    {
     "data": {
      "text/plain": [
       "(145216, 234267)"
      ]
     },
     "execution_count": 78,
     "metadata": {},
     "output_type": "execute_result"
    }
   ],
   "source": [
    "doc_word.transpose().shape"
   ]
  },
  {
   "cell_type": "code",
   "execution_count": 76,
   "metadata": {
    "Collapsed": "false"
   },
   "outputs": [
    {
     "data": {
      "text/plain": [
       "145216"
      ]
     },
     "execution_count": 76,
     "metadata": {},
     "output_type": "execute_result"
    }
   ],
   "source": [
    "len(id2word)"
   ]
  },
  {
   "cell_type": "code",
   "execution_count": null,
   "metadata": {
    "Collapsed": "false"
   },
   "outputs": [],
   "source": [
    "lda_thing = dim_lda(doc_word.transpose(), id2word)"
   ]
  },
  {
   "cell_type": "code",
   "execution_count": 88,
   "metadata": {
    "Collapsed": "false"
   },
   "outputs": [
    {
     "name": "stderr",
     "output_type": "stream",
     "text": [
      "2019-11-14 18:10:09,264 : INFO : topic #0 (0.100): 0.015*\"donate california\" + 0.011*\"california smoke\" + 0.010*\"retweet\" + 0.009*\"volunteer\" + 0.009*\"thanksgive\" + 0.009*\"quality\" + 0.008*\"gop\" + 0.008*\"air quality\" + 0.008*\"devastation\" + 0.008*\"air\"\n",
      "2019-11-14 18:10:09,268 : INFO : topic #1 (0.100): 0.014*\"gender\" + 0.012*\"gender reveal\" + 0.012*\"environmentalist\" + 0.008*\"video\" + 0.008*\"money\" + 0.008*\"party\" + 0.007*\"spread\" + 0.007*\"start\" + 0.006*\"video gender\" + 0.006*\"californiafire\"\n",
      "2019-11-14 18:10:09,272 : INFO : topic #2 (0.100): 0.014*\"california\" + 0.011*\"death\" + 0.010*\"toll\" + 0.009*\"campfire\" + 0.009*\"reveal\" + 0.009*\"death toll\" + 0.009*\"miss\" + 0.008*\"search\" + 0.007*\"deadly california\" + 0.007*\"deadly\"\n",
      "2019-11-14 18:10:09,275 : INFO : topic #3 (0.100): 0.010*\"rescue\" + 0.009*\"cat\" + 0.009*\"california\" + 0.009*\"kill\" + 0.007*\"dog\" + 0.007*\"displace\" + 0.006*\"dollar\" + 0.006*\"helicopter\" + 0.005*\"photo\" + 0.005*\"housing\"\n",
      "2019-11-14 18:10:09,279 : INFO : topic #4 (0.100): 0.014*\"california\" + 0.008*\"help\" + 0.007*\"relief\" + 0.007*\"climate\" + 0.006*\"change\" + 0.006*\"victim\" + 0.005*\"thanksgiving\" + 0.005*\"trump\" + 0.005*\"climate change\" + 0.005*\"ca\"\n",
      "2019-11-14 18:10:09,283 : INFO : topic #5 (0.100): 0.021*\"donate\" + 0.018*\"california\" + 0.013*\"aaron\" + 0.012*\"rodgers\" + 0.010*\"deadly\" + 0.010*\"aaron rodgers\" + 0.009*\"contain\" + 0.008*\"camp\" + 0.008*\"northern\" + 0.008*\"northern california\"\n",
      "2019-11-14 18:10:09,287 : INFO : topic #6 (0.100): 0.008*\"wave\" + 0.008*\"heat\" + 0.007*\"smoke make\" + 0.007*\"climb\" + 0.006*\"heat wave\" + 0.006*\"mother\" + 0.006*\"blast\" + 0.006*\"sea\" + 0.006*\"moment\" + 0.005*\"theory\"\n",
      "2019-11-14 18:10:09,291 : INFO : topic #7 (0.100): 0.014*\"heavy\" + 0.013*\"heavy rain\" + 0.013*\"rain\" + 0.012*\"new york\" + 0.012*\"york\" + 0.012*\"secretary\" + 0.009*\"global\" + 0.009*\"smoke\" + 0.008*\"new\" + 0.008*\"warming\"\n",
      "2019-11-14 18:10:09,295 : INFO : topic #8 (0.100): 0.018*\"zinke\" + 0.018*\"blame\" + 0.013*\"zinke blame\" + 0.012*\"radical environmentalist\" + 0.011*\"affect california\" + 0.010*\"ryan zinke\" + 0.010*\"interior secretary\" + 0.010*\"blame radical\" + 0.008*\"california\" + 0.008*\"secretary ryan\"\n",
      "2019-11-14 18:10:09,298 : INFO : topic #9 (0.100): 0.032*\"rain\" + 0.027*\"mudslide\" + 0.018*\"interior\" + 0.011*\"cnn\" + 0.009*\"abc\" + 0.008*\"aid\" + 0.008*\"butte\" + 0.007*\"united\" + 0.007*\"butte county\" + 0.006*\"amid\"\n"
     ]
    },
    {
     "data": {
      "text/plain": [
       "[(0,\n",
       "  '0.015*\"donate california\" + 0.011*\"california smoke\" + 0.010*\"retweet\" + 0.009*\"volunteer\" + 0.009*\"thanksgive\" + 0.009*\"quality\" + 0.008*\"gop\" + 0.008*\"air quality\" + 0.008*\"devastation\" + 0.008*\"air\"'),\n",
       " (1,\n",
       "  '0.014*\"gender\" + 0.012*\"gender reveal\" + 0.012*\"environmentalist\" + 0.008*\"video\" + 0.008*\"money\" + 0.008*\"party\" + 0.007*\"spread\" + 0.007*\"start\" + 0.006*\"video gender\" + 0.006*\"californiafire\"'),\n",
       " (2,\n",
       "  '0.014*\"california\" + 0.011*\"death\" + 0.010*\"toll\" + 0.009*\"campfire\" + 0.009*\"reveal\" + 0.009*\"death toll\" + 0.009*\"miss\" + 0.008*\"search\" + 0.007*\"deadly california\" + 0.007*\"deadly\"'),\n",
       " (3,\n",
       "  '0.010*\"rescue\" + 0.009*\"cat\" + 0.009*\"california\" + 0.009*\"kill\" + 0.007*\"dog\" + 0.007*\"displace\" + 0.006*\"dollar\" + 0.006*\"helicopter\" + 0.005*\"photo\" + 0.005*\"housing\"'),\n",
       " (4,\n",
       "  '0.014*\"california\" + 0.008*\"help\" + 0.007*\"relief\" + 0.007*\"climate\" + 0.006*\"change\" + 0.006*\"victim\" + 0.005*\"thanksgiving\" + 0.005*\"trump\" + 0.005*\"climate change\" + 0.005*\"ca\"'),\n",
       " (5,\n",
       "  '0.021*\"donate\" + 0.018*\"california\" + 0.013*\"aaron\" + 0.012*\"rodgers\" + 0.010*\"deadly\" + 0.010*\"aaron rodgers\" + 0.009*\"contain\" + 0.008*\"camp\" + 0.008*\"northern\" + 0.008*\"northern california\"'),\n",
       " (6,\n",
       "  '0.008*\"wave\" + 0.008*\"heat\" + 0.007*\"smoke make\" + 0.007*\"climb\" + 0.006*\"heat wave\" + 0.006*\"mother\" + 0.006*\"blast\" + 0.006*\"sea\" + 0.006*\"moment\" + 0.005*\"theory\"'),\n",
       " (7,\n",
       "  '0.014*\"heavy\" + 0.013*\"heavy rain\" + 0.013*\"rain\" + 0.012*\"new york\" + 0.012*\"york\" + 0.012*\"secretary\" + 0.009*\"global\" + 0.009*\"smoke\" + 0.008*\"new\" + 0.008*\"warming\"'),\n",
       " (8,\n",
       "  '0.018*\"zinke\" + 0.018*\"blame\" + 0.013*\"zinke blame\" + 0.012*\"radical environmentalist\" + 0.011*\"affect california\" + 0.010*\"ryan zinke\" + 0.010*\"interior secretary\" + 0.010*\"blame radical\" + 0.008*\"california\" + 0.008*\"secretary ryan\"'),\n",
       " (9,\n",
       "  '0.032*\"rain\" + 0.027*\"mudslide\" + 0.018*\"interior\" + 0.011*\"cnn\" + 0.009*\"abc\" + 0.008*\"aid\" + 0.008*\"butte\" + 0.007*\"united\" + 0.007*\"butte county\" + 0.006*\"amid\"')]"
      ]
     },
     "execution_count": 88,
     "metadata": {},
     "output_type": "execute_result"
    }
   ],
   "source": [
    "lda_thing()"
   ]
  },
  {
   "cell_type": "code",
   "execution_count": 18,
   "metadata": {
    "Collapsed": "false"
   },
   "outputs": [],
   "source": [
    "doc_word, words, id2word, tfidf = tfidf(df.loc[df['fire']=='camp','text'])"
   ]
  },
  {
   "cell_type": "code",
   "execution_count": 15,
   "metadata": {
    "Collapsed": "false"
   },
   "outputs": [],
   "source": [
    "lda, doc_topics, explain = sk_lda(doc_word)"
   ]
  },
  {
   "cell_type": "code",
   "execution_count": 16,
   "metadata": {
    "Collapsed": "false"
   },
   "outputs": [
    {
     "name": "stdout",
     "output_type": "stream",
     "text": [
      "\n",
      "Topic  0\n",
      "death toll, california death, california death toll, death toll rise, toll rise, california bad, climate change, trump right, california say, make california\n",
      "\n",
      "Topic  1\n",
      "gender reveal, reveal cause, gender reveal cause, cause million, reveal cause million, video gender, video gender reveal, deadly finally, youtube video, finally tame\n",
      "\n",
      "Topic  2\n",
      "air quality, kill people, northern california, climate change, california contain, california kill, california kill people, california survivor, fully contain, kill people fully\n",
      "\n",
      "Topic  3\n",
      "climate change, california victim, help california, search remain, remain california, search remain california, heavy rain, help california victim, donation relief, family drama\n",
      "\n",
      "Topic  4\n",
      "california history, spark arizona, genderreveal party, climate change, deadly california, party spark, deadly destructive, camp deadly, border patrol, deadly california history\n",
      "\n",
      "Topic  5\n",
      "california relief, aaron rodgers, donate million, relief effort, rodgers donate, aaron rodgers donate, forest management, rodgers donate million, california relief effort, million california\n",
      "\n",
      "Topic  6\n",
      "reveal party, gender reveal party, gender reveal, affect california, party ignite, reveal party ignite, release video, help affect, new york, official release\n",
      "\n",
      "Topic  7\n",
      "victim california, help victim, help victim california, climate change, sea level, energy weapon, northern california, direct energy, high school, california miss\n",
      "\n",
      "Topic  8\n",
      "kanye west, donate california, california relief, west donate, kanye west donate, global warming, donate california relief, climate change, west donate california, gender reveal\n",
      "\n",
      "Topic  9\n",
      "climate change, accuse use, ryan zinke, trump official, official accuse use, official accuse, trump official accuse, radical environmentalist, relief fund, use deadly\n"
     ]
    }
   ],
   "source": [
    "display_topics(lda, words, 10)"
   ]
  },
  {
   "cell_type": "code",
   "execution_count": 1,
   "metadata": {
    "Collapsed": "false"
   },
   "outputs": [],
   "source": [
    "import pyLDAvis\n",
    "import pyLDAvis.sklearn\n",
    "pyLDAvis.enable_notebook()"
   ]
  },
  {
   "cell_type": "code",
   "execution_count": 19,
   "metadata": {
    "Collapsed": "false"
   },
   "outputs": [
    {
     "name": "stderr",
     "output_type": "stream",
     "text": [
      "2019-11-17 22:00:43,945 : INFO : NumExpr defaulting to 4 threads.\n",
      "/Users/brittb28/anaconda3/envs/metis/lib/python3.6/site-packages/pyLDAvis/_prepare.py:257: FutureWarning: Sorting because non-concatenation axis is not aligned. A future version\n",
      "of pandas will change to not sort by default.\n",
      "\n",
      "To accept the future behavior, pass 'sort=False'.\n",
      "\n",
      "To retain the current behavior and silence the warning, pass 'sort=True'.\n",
      "\n",
      "  return pd.concat([default_term_info] + list(topic_dfs))\n"
     ]
    },
    {
     "data": {
      "text/html": [
       "\n",
       "<link rel=\"stylesheet\" type=\"text/css\" href=\"https://cdn.rawgit.com/bmabey/pyLDAvis/files/ldavis.v1.0.0.css\">\n",
       "\n",
       "\n",
       "<div id=\"ldavis_el128201123814969203912372800\"></div>\n",
       "<script type=\"text/javascript\">\n",
       "\n",
       "var ldavis_el128201123814969203912372800_data = {\"mdsDat\": {\"x\": [0.10302229608179043, 0.008210532821440089, 0.05819896247393509, 0.19355708328650367, -0.01944185207796074, -0.09042622685463252, -0.060722713673996, -0.10225127996624375, -0.029782173047257336, -0.060364629043578866], \"y\": [0.06563699451025122, -0.1489136143616652, 0.05104308462021749, -0.06762165730304245, 0.01717162786604441, -0.05129692338328801, 0.07659388136395032, -0.1113524585209321, 0.12179438548842345, 0.04694467972004047], \"topics\": [1, 2, 3, 4, 5, 6, 7, 8, 9, 10], \"cluster\": [1, 1, 1, 1, 1, 1, 1, 1, 1, 1], \"Freq\": [10.675224803220265, 10.21292079112117, 10.201048660745547, 10.175160449264244, 10.16864434084847, 9.874540594785069, 9.795234576640798, 9.712304430100238, 9.657880337713376, 9.527041015560819]}, \"tinfo\": {\"Category\": [\"Default\", \"Default\", \"Default\", \"Default\", \"Default\", \"Default\", \"Default\", \"Default\", \"Default\", \"Default\", \"Default\", \"Default\", \"Default\", \"Default\", \"Default\", \"Default\", \"Default\", \"Default\", \"Default\", \"Default\", \"Default\", \"Default\", \"Default\", \"Default\", \"Default\", \"Default\", \"Default\", \"Default\", \"Default\", \"Default\", \"Topic1\", \"Topic1\", \"Topic1\", \"Topic1\", \"Topic1\", \"Topic1\", \"Topic1\", \"Topic1\", \"Topic1\", \"Topic1\", \"Topic1\", \"Topic1\", \"Topic1\", \"Topic1\", \"Topic1\", \"Topic1\", \"Topic1\", \"Topic1\", \"Topic1\", \"Topic1\", \"Topic1\", \"Topic1\", \"Topic1\", \"Topic1\", \"Topic1\", \"Topic1\", \"Topic1\", \"Topic1\", \"Topic1\", \"Topic1\", \"Topic1\", \"Topic1\", \"Topic1\", \"Topic1\", \"Topic1\", \"Topic1\", \"Topic1\", \"Topic1\", \"Topic1\", \"Topic1\", \"Topic1\", \"Topic1\", \"Topic1\", \"Topic1\", \"Topic1\", \"Topic1\", \"Topic1\", \"Topic1\", \"Topic1\", \"Topic1\", \"Topic1\", \"Topic2\", \"Topic2\", \"Topic2\", \"Topic2\", \"Topic2\", \"Topic2\", \"Topic2\", \"Topic2\", \"Topic2\", \"Topic2\", \"Topic2\", \"Topic2\", \"Topic2\", \"Topic2\", \"Topic2\", \"Topic2\", \"Topic2\", \"Topic2\", \"Topic2\", \"Topic2\", \"Topic2\", \"Topic2\", \"Topic2\", \"Topic2\", \"Topic2\", \"Topic2\", \"Topic2\", \"Topic2\", \"Topic2\", \"Topic2\", \"Topic2\", \"Topic2\", \"Topic2\", \"Topic2\", \"Topic2\", \"Topic2\", \"Topic2\", \"Topic2\", \"Topic2\", \"Topic2\", \"Topic2\", \"Topic2\", \"Topic2\", \"Topic2\", \"Topic2\", \"Topic2\", \"Topic2\", \"Topic2\", \"Topic2\", \"Topic3\", \"Topic3\", \"Topic3\", \"Topic3\", \"Topic3\", \"Topic3\", \"Topic3\", \"Topic3\", \"Topic3\", \"Topic3\", \"Topic3\", \"Topic3\", \"Topic3\", \"Topic3\", \"Topic3\", \"Topic3\", \"Topic3\", \"Topic3\", \"Topic3\", \"Topic3\", \"Topic3\", \"Topic3\", \"Topic3\", \"Topic3\", \"Topic3\", \"Topic3\", \"Topic3\", \"Topic3\", \"Topic3\", \"Topic3\", \"Topic3\", \"Topic3\", \"Topic3\", \"Topic3\", \"Topic3\", \"Topic3\", \"Topic3\", \"Topic3\", \"Topic3\", \"Topic3\", \"Topic3\", \"Topic3\", \"Topic3\", \"Topic3\", \"Topic3\", \"Topic3\", \"Topic3\", \"Topic3\", \"Topic3\", \"Topic3\", \"Topic3\", \"Topic3\", \"Topic3\", \"Topic4\", \"Topic4\", \"Topic4\", \"Topic4\", \"Topic4\", \"Topic4\", \"Topic4\", \"Topic4\", \"Topic4\", \"Topic4\", \"Topic4\", \"Topic4\", \"Topic4\", \"Topic4\", \"Topic4\", \"Topic4\", \"Topic4\", \"Topic4\", \"Topic4\", \"Topic4\", \"Topic4\", \"Topic4\", \"Topic4\", \"Topic4\", \"Topic4\", \"Topic4\", \"Topic4\", \"Topic4\", \"Topic4\", \"Topic4\", \"Topic4\", \"Topic4\", \"Topic4\", \"Topic4\", \"Topic4\", \"Topic4\", \"Topic4\", \"Topic4\", \"Topic4\", \"Topic4\", \"Topic4\", \"Topic4\", \"Topic4\", \"Topic4\", \"Topic4\", \"Topic4\", \"Topic4\", \"Topic4\", \"Topic4\", \"Topic4\", \"Topic5\", \"Topic5\", \"Topic5\", \"Topic5\", \"Topic5\", \"Topic5\", \"Topic5\", \"Topic5\", \"Topic5\", \"Topic5\", \"Topic5\", \"Topic5\", \"Topic5\", \"Topic5\", \"Topic5\", \"Topic5\", \"Topic5\", \"Topic5\", \"Topic5\", \"Topic5\", \"Topic5\", \"Topic5\", \"Topic5\", \"Topic5\", \"Topic5\", \"Topic5\", \"Topic5\", \"Topic5\", \"Topic5\", \"Topic5\", \"Topic5\", \"Topic5\", \"Topic5\", \"Topic5\", \"Topic5\", \"Topic5\", \"Topic5\", \"Topic5\", \"Topic5\", \"Topic5\", \"Topic5\", \"Topic5\", \"Topic5\", \"Topic5\", \"Topic5\", \"Topic5\", \"Topic5\", \"Topic5\", \"Topic5\", \"Topic6\", \"Topic6\", \"Topic6\", \"Topic6\", \"Topic6\", \"Topic6\", \"Topic6\", \"Topic6\", \"Topic6\", \"Topic6\", \"Topic6\", \"Topic6\", \"Topic6\", \"Topic6\", \"Topic6\", \"Topic6\", \"Topic6\", \"Topic6\", \"Topic6\", \"Topic6\", \"Topic6\", \"Topic6\", \"Topic6\", \"Topic6\", \"Topic6\", \"Topic6\", \"Topic6\", \"Topic6\", \"Topic6\", \"Topic6\", \"Topic6\", \"Topic6\", \"Topic6\", \"Topic6\", \"Topic6\", \"Topic6\", \"Topic6\", \"Topic6\", \"Topic6\", \"Topic6\", \"Topic6\", \"Topic6\", \"Topic6\", \"Topic6\", \"Topic6\", \"Topic6\", \"Topic6\", \"Topic6\", \"Topic6\", \"Topic6\", \"Topic6\", \"Topic6\", \"Topic6\", \"Topic6\", \"Topic6\", \"Topic6\", \"Topic6\", \"Topic6\", \"Topic6\", \"Topic7\", \"Topic7\", \"Topic7\", \"Topic7\", \"Topic7\", \"Topic7\", \"Topic7\", \"Topic7\", \"Topic7\", \"Topic7\", \"Topic7\", \"Topic7\", \"Topic7\", \"Topic7\", \"Topic7\", \"Topic7\", \"Topic7\", \"Topic7\", \"Topic7\", \"Topic7\", \"Topic7\", \"Topic7\", \"Topic7\", \"Topic7\", \"Topic7\", \"Topic7\", \"Topic7\", \"Topic7\", \"Topic7\", \"Topic7\", \"Topic7\", \"Topic7\", \"Topic7\", \"Topic7\", \"Topic7\", \"Topic7\", \"Topic7\", \"Topic7\", \"Topic7\", \"Topic7\", \"Topic7\", \"Topic7\", \"Topic7\", \"Topic7\", \"Topic8\", \"Topic8\", \"Topic8\", \"Topic8\", \"Topic8\", \"Topic8\", \"Topic8\", \"Topic8\", \"Topic8\", \"Topic8\", \"Topic8\", \"Topic8\", \"Topic8\", \"Topic8\", \"Topic8\", \"Topic8\", \"Topic8\", \"Topic8\", \"Topic8\", \"Topic8\", \"Topic8\", \"Topic8\", \"Topic8\", \"Topic8\", \"Topic8\", \"Topic8\", \"Topic8\", \"Topic8\", \"Topic8\", \"Topic8\", \"Topic8\", \"Topic8\", \"Topic8\", \"Topic8\", \"Topic8\", \"Topic8\", \"Topic8\", \"Topic8\", \"Topic8\", \"Topic8\", \"Topic8\", \"Topic8\", \"Topic8\", \"Topic8\", \"Topic8\", \"Topic8\", \"Topic8\", \"Topic8\", \"Topic8\", \"Topic8\", \"Topic8\", \"Topic8\", \"Topic9\", \"Topic9\", \"Topic9\", \"Topic9\", \"Topic9\", \"Topic9\", \"Topic9\", \"Topic9\", \"Topic9\", \"Topic9\", \"Topic9\", \"Topic9\", \"Topic9\", \"Topic9\", \"Topic9\", \"Topic9\", \"Topic9\", \"Topic9\", \"Topic9\", \"Topic9\", \"Topic9\", \"Topic9\", \"Topic9\", \"Topic9\", \"Topic9\", \"Topic9\", \"Topic9\", \"Topic9\", \"Topic9\", \"Topic9\", \"Topic9\", \"Topic9\", \"Topic9\", \"Topic9\", \"Topic9\", \"Topic9\", \"Topic9\", \"Topic9\", \"Topic9\", \"Topic9\", \"Topic9\", \"Topic9\", \"Topic9\", \"Topic9\", \"Topic9\", \"Topic9\", \"Topic10\", \"Topic10\", \"Topic10\", \"Topic10\", \"Topic10\", \"Topic10\", \"Topic10\", \"Topic10\", \"Topic10\", \"Topic10\", \"Topic10\", \"Topic10\", \"Topic10\", \"Topic10\", \"Topic10\", \"Topic10\", \"Topic10\", \"Topic10\", \"Topic10\", \"Topic10\", \"Topic10\", \"Topic10\", \"Topic10\", \"Topic10\", \"Topic10\", \"Topic10\", \"Topic10\", \"Topic10\", \"Topic10\", \"Topic10\", \"Topic10\", \"Topic10\", \"Topic10\", \"Topic10\", \"Topic10\", \"Topic10\", \"Topic10\", \"Topic10\", \"Topic10\", \"Topic10\", \"Topic10\", \"Topic10\", \"Topic10\", \"Topic10\", \"Topic10\", \"Topic10\", \"Topic10\"], \"Freq\": [119.0, 118.0, 261.0, 121.0, 110.0, 141.0, 141.0, 115.0, 114.0, 88.0, 102.0, 48.0, 88.0, 49.0, 36.0, 63.0, 36.0, 50.0, 48.0, 43.0, 42.0, 79.0, 33.0, 33.0, 34.0, 33.0, 43.0, 30.0, 81.0, 36.0, 33.26838432320575, 32.94234598178337, 19.93676196314327, 17.41178650676097, 17.21669326497913, 16.80313836502757, 16.43197410012995, 15.30626000632367, 15.25293650781019, 15.25293650781019, 15.08120966833937, 15.023778813334657, 14.770222300339812, 13.735095645608027, 13.735095645608027, 27.514542121940735, 27.23180442886426, 14.327186273395993, 9.769800235519838, 9.701251213427758, 9.681125256245068, 9.448078361282546, 9.401832347313682, 24.03898488871485, 9.169890017522363, 20.976436235309418, 9.027468676727958, 8.818909682880816, 8.626293152657018, 8.489072115106085, 15.214959149344903, 27.129259210542944, 87.9482115989543, 16.144359982491096, 88.48517177570186, 29.93123946138041, 12.443198805315147, 29.82780025095555, 26.898152900064535, 21.075418027615218, 29.789558808863415, 77.78620636730595, 33.73668474837355, 17.838951022159634, 20.44525164458809, 27.299960981146448, 27.29049103492005, 17.64270245289105, 20.588078154095896, 16.907624415968066, 17.518994991325407, 36.03068699715891, 35.3915903685772, 30.233239237776928, 20.06766290456312, 19.36640867820055, 19.3060388853638, 19.306038885363794, 19.306038885363794, 19.3060388853638, 46.42686354739337, 11.448126356882396, 11.19596979345924, 11.06216277018153, 9.068165029685886, 21.49642772166784, 8.93702511452458, 8.926099939079592, 8.715684288844852, 8.715684288844852, 8.699657540614997, 8.699657540614997, 8.63501142233309, 8.568345344402264, 8.568345344402264, 8.568345344402264, 8.504684598789003, 11.017377090354753, 8.285574768173609, 8.244830842551009, 8.24483084255101, 12.847846653680964, 12.847846653680964, 34.935448603749506, 12.505403189465612, 39.94521399138541, 20.429672162191743, 21.48845752361241, 15.461176478316618, 35.29750581550269, 14.402965017864748, 19.103190025498684, 37.424281200237175, 25.381763583322368, 34.11815626071068, 11.46658185439713, 30.176139151572965, 12.80301418545142, 11.670440007290292, 11.904697914565924, 18.40030616806229, 17.94699865592, 16.268142004443526, 15.368737070318316, 14.427389769593319, 13.611751923978765, 13.48533237674795, 13.299007300613626, 11.535672776540071, 11.046132234790033, 16.864316897353508, 10.621473303563285, 10.564528639992835, 10.44995126887324, 10.327701953103686, 10.147189664744111, 9.957430039285711, 9.877133086591396, 28.30776165174659, 9.738619716232925, 9.690342903443302, 9.459362428616137, 9.412467489201346, 9.289476299401095, 8.920619901343823, 11.412371782619623, 7.722902308517346, 7.615112870354319, 7.5467475636846695, 7.5467475636846695, 7.5467475636846695, 22.407909666909386, 20.74593442122134, 13.927472662546894, 39.09220445747553, 22.20005035562628, 23.77624637809607, 27.669793720990924, 15.100755850649556, 19.6451992278966, 22.789825201110478, 12.609749182109166, 22.386690768828807, 25.63473706077224, 18.91612831621968, 18.86808367422944, 12.751645660919339, 11.824630992764925, 25.92390282222749, 12.764653886662606, 12.906814193065024, 15.603267940941048, 12.779682334992955, 118.48653636098034, 118.27222964571214, 109.81442602726293, 27.245412105458822, 24.71772754367465, 117.72405690850209, 20.25015637125055, 14.467048856691601, 14.29055811751004, 14.005236295705801, 13.679337339206864, 32.448130235503484, 12.971989056433525, 10.437484662514525, 10.411375468066765, 10.301217891622246, 10.078151542374718, 9.531337698019485, 9.531337698019485, 8.876818077353594, 8.876818077353594, 8.876818077353594, 8.876818077353594, 8.838458879682674, 8.559638703997546, 8.253615867406449, 8.253615867406449, 8.253615867406449, 8.253615867406449, 8.253615867406449, 15.317149419849189, 107.74940953804483, 107.58690559970321, 17.67428876293335, 129.73684307703843, 27.346093769588688, 10.477214601439979, 25.875270406267322, 20.92867670399893, 19.32885062103379, 10.066793529839378, 11.778881120269762, 12.056517781714012, 17.752501120922382, 13.179095755445003, 12.97119938402709, 12.774255629337727, 13.178797356891822, 12.349876817541173, 12.174502715641346, 21.729617562834957, 21.255961375739613, 21.198060869043164, 21.198060869043164, 19.850838214628933, 17.219707382611556, 16.170448457412807, 16.170448457412807, 16.170448457412807, 16.170448457412807, 16.077984991277546, 12.629184842683873, 12.629184842683873, 12.544416654672753, 10.320220082824259, 9.431751531372898, 8.61696912340708, 8.61696912340708, 8.423209424330107, 8.317038519630382, 8.298309993853549, 17.080835601533263, 17.08083560153327, 7.747268284620226, 7.630117871790292, 7.625451936852508, 7.5029058914752245, 7.5029058914752245, 7.632702460022473, 7.632702460016307, 15.886751981593193, 12.799123884379677, 9.108741366989424, 11.272816779691576, 10.331783095173483, 21.64464175777098, 14.634697286034703, 15.84854766278722, 14.221074427962689, 14.553516953422697, 18.26279316647993, 10.252970108194416, 15.875248991690633, 14.720694125720524, 17.225373189045097, 14.77513690960459, 25.294143985140824, 17.005756304115895, 13.112542022519943, 13.238739016989582, 11.889929188486361, 11.889929188486361, 32.160719097833756, 8.939626947795135, 8.939626947795135, 7.894835790739011, 7.894835790739011, 7.894835790739011, 7.894835790739011, 7.894835790739011, 7.748766924403417, 7.71063312439725, 7.5467273865480555, 7.5467273865480555, 7.447532599787954, 7.246324853789505, 7.067798012449877, 6.763175034311553, 6.738414104410864, 6.738414104410864, 6.700149073913462, 6.70014907391346, 6.642235273280577, 6.638265476810472, 6.617145691505462, 6.289979146595397, 6.289979146595397, 6.285310217192506, 6.053883343424569, 15.586297343219513, 12.843754910967162, 11.453058833727468, 17.35733284372696, 12.172810138573485, 13.370879567952304, 16.12236758006557, 51.36158529905626, 13.652927039985615, 14.033906145122625, 16.589943986523824, 12.914181483922565, 17.979273548312644, 43.261747111981016, 10.495574814515042, 12.352790930851633, 8.88764924086592, 9.05894287002079, 8.500463834104451, 13.96124475671037, 9.247487552930309, 25.08205263888998, 14.486323354279342, 16.911009482407007, 11.387802119694413, 10.499708066452474, 13.306988023228598, 10.634101874908822, 11.342479894886718, 15.812857413590207, 15.317793370650614, 15.317793370650627, 15.281361703110452, 14.942681875839622, 13.958251807978312, 13.958251807978312, 13.431407950512769, 13.251927164379799, 13.251927164379799, 12.862141876380717, 11.544837720401839, 11.544837720401839, 11.180312772320658, 11.180312772320658, 10.99015656124231, 17.955052540093337, 10.778359053446412, 10.774924660055966, 9.85796333088079, 9.165253270277836, 8.88193654217787, 8.589126569372914, 8.589126569372914, 8.41413786233536, 26.780718677180346, 8.173590350459452, 7.896759631661472, 7.835614889404248, 7.78446237000709, 21.559060692887012, 11.198145507004256, 19.689007689801773, 26.770077600732538, 33.99398992144429, 62.260763854814435, 32.5884858238439, 20.739373655642787, 19.38588645821158, 19.37525791800377, 14.776706173343296, 13.243645976753717, 21.177906587813695, 14.618044742879317, 19.14020396783488, 16.8749957345314, 13.383755356762103, 13.046073509390183, 12.81944722664162, 12.003060955617155, 11.99452641334459, 10.918038355304507, 10.893290509443181, 10.49056569127966, 10.268692204671812, 10.048512837429609, 10.045067490454244, 10.045067490454244, 10.045067490454244, 9.921298583324573, 9.714996667864792, 9.636064982948852, 9.60607399499357, 9.452537103228678, 9.40236226862331, 9.368742126353016, 9.01973262839278, 8.88869080217191, 8.88869080217191, 8.88869080217191, 8.801553775724708, 8.801553775724708, 8.776415407904251, 8.550105040593548, 13.588850658383546, 11.25791660476456, 29.299648103381884, 23.555583596771683, 23.743396301422226, 34.36494995299928, 30.666883756730478, 11.747764306614961, 41.857512339512354, 48.22898436511526, 32.4110308493759, 24.63859060974874, 15.177143616347616, 12.081815601817562, 13.813309973063499, 14.410681433549355, 12.413703203096631, 10.641976829585664, 12.709111395680198, 11.339335968326601, 13.11437137691513, 10.824301572103291, 18.613087822723216, 15.646015311280937, 15.646015311280937, 15.56616398925675, 12.601849282335023, 11.830952501548978, 11.830952501548978, 11.830952501548978, 11.830952501548978, 11.830952501548978, 11.830952501548978, 11.830952501548978, 12.432498788315177, 10.345599083708757, 12.201630282851635, 10.004587522165654, 9.906056124431853, 9.559614105657595, 9.559614105657595, 9.559614105657595, 9.559614105657595, 9.559614105657595, 9.559614105657595, 9.559614105657595, 9.559614105657595, 9.517615445901672, 9.098980902294585, 9.098980902294585, 9.098980902294585, 9.098980902294585, 9.098980902294585, 12.170136562104679, 12.17013656210368, 22.512223588658074, 22.310215676265855, 28.021117436494993, 17.030607686557097, 29.394245752446636, 10.111964730278416, 26.135391817821176, 16.42072552503367, 10.386405197475229, 22.86585104224201, 11.658324495486841, 11.470773026556088, 10.692720629224414, 23.070712382946073, 14.678510910064853, 13.040384287925598, 12.515902907584397, 11.896625261589575, 11.708965576728856, 11.657604864049606, 11.630895726994721, 11.113067441432806, 11.113067441432806, 10.86512189955943, 10.86512189955943, 10.436507857823669, 10.31544211839455, 9.976838565554512, 9.900052474718292, 9.900052474718292, 9.900052474718292, 9.632978318666158, 9.552933584046999, 9.406042744793613, 9.19234785164883, 9.136733626801014, 9.136733626801014, 9.136733626801014, 8.803406429635379, 13.96418285314993, 8.671481817023896, 8.634891118714355, 8.48716835312241, 12.883748269097143, 20.53472834143289, 26.74304219787172, 23.5299909555181, 41.94726586834983, 28.48545329982814, 51.40944515113471, 10.86115024997545, 21.513864789573297, 12.747271058265438, 12.816155070096586, 13.818842234181888, 12.31580473678583, 11.569147107305914, 11.282957990053086, 10.7684598936554, 10.57825868797625], \"Term\": [\"reveal cause\", \"gender reveal cause\", \"gender reveal\", \"cause million\", \"reveal cause million\", \"video gender\", \"video gender reveal\", \"reveal party\", \"gender reveal party\", \"death toll\", \"california relief\", \"kanye west\", \"victim california\", \"donate million\", \"west donate\", \"donate california\", \"kanye west donate\", \"donate california relief\", \"california history\", \"california death\", \"california death toll\", \"help victim\", \"party ignite\", \"reveal party ignite\", \"deadly finally\", \"help victim california\", \"rodgers donate\", \"west donate california\", \"aaron rodgers\", \"aaron rodgers donate\", \"party ignite\", \"reveal party ignite\", \"help affect california\", \"ignite cnn\", \"party ignite cnn\", \"smoke spread\", \"california smoke spread\", \"animal affect\", \"york mile\", \"new york mile\", \"smoke spread new\", \"york mile away\", \"spread new york\", \"new york city\", \"york city\", \"official release\", \"official release video\", \"reveal party cause\", \"california search victim\", \"rain end\", \"end northern\", \"rain end northern\", \"end northern california\", \"mile away\", \"trump rake prevent\", \"reveal party start\", \"rake prevent california\", \"search victim continue\", \"pressure work\", \"agree trump rake\", \"spread new\", \"release video gender\", \"gender reveal party\", \"rake prevent\", \"reveal party\", \"release video\", \"finally rain\", \"help affect\", \"california smoke\", \"party start\", \"new york\", \"gender reveal\", \"affect california\", \"mass shooting\", \"smoke california\", \"video gender reveal\", \"video gender\", \"happy thanksgiving\", \"northern california\", \"border patrol\", \"help victim\", \"west donate\", \"kanye west donate\", \"west donate california\", \"reveal spark\", \"gender reveal spark\", \"youtube playlist\", \"add video\", \"add video youtube\", \"video youtube playlist\", \"kanye west\", \"rain month\", \"raise risk\", \"gender reveal elosion\", \"spark weeklong\", \"video youtube\", \"california raise risk\", \"fuel nationwide\", \"forest management end\", \"management end\", \"end reduce risk\", \"end reduce\", \"reveal spark weeklong\", \"month douse\", \"month douse california\", \"rain month douse\", \"new report warn\", \"reveal elosion\", \"management end reduce\", \"kim kardashian kanye\", \"kardashian kanye\", \"climate change fuel\", \"change fuel\", \"donate california relief\", \"california start\", \"donate california\", \"baby gender reveal\", \"baby gender\", \"burn california\", \"global warming\", \"forest floor\", \"reduce risk\", \"california relief\", \"lose home\", \"climate change\", \"new report\", \"gender reveal\", \"social medium\", \"kim kardashian\", \"forest service\", \"party spark arizona\", \"destructive california history\", \"boeing use\", \"genderreveal party spark\", \"elosion border\", \"elosion border agent\", \"use fight\", \"agent genderreveal party\", \"video elosion border\", \"camp deadly destructive\", \"deadly destructive california\", \"agent spark arizona\", \"boeing use fight\", \"fight time\", \"arizona gunshot\", \"spark arizona gunshot\", \"gunshot genderreveal\", \"history percent\", \"spark arizona\", \"gunshot genderreveal party\", \"arizona gunshot genderreveal\", \"history percent contain\", \"use fight time\", \"camp deadly california\", \"california history percent\", \"california history contain\", \"face heavy\", \"deadly californias\", \"homeless face\", \"homeless face heavy\", \"leave homeless face\", \"camp deadly\", \"destructive california\", \"video elosion\", \"california history\", \"deadly california history\", \"party spark\", \"genderreveal party\", \"history contain\", \"border agent\", \"deadly destructive\", \"border agent genderreveal\", \"border patrol\", \"deadly california\", \"border patrol agent\", \"patrol agent\", \"official say\", \"just california\", \"climate change\", \"agent genderreveal\", \"cause california\", \"gender reveal\", \"affect california\", \"reveal cause\", \"gender reveal cause\", \"reveal cause million\", \"finally tame\", \"deadly finally tame\", \"cause million\", \"californias deadly finally\", \"number miss\", \"video california\", \"money victim\", \"miss deadly\", \"deadly finally\", \"miss deadly california\", \"california revise\", \"raise money victim\", \"number miss deadly\", \"deadly california revise\", \"revise rain\", \"revise rain way\", \"rebuild life hard\", \"life hard old\", \"life hard\", \"hard old\", \"youtube video california\", \"california revise rain\", \"gridlock major\", \"narrow main\", \"narrow main road\", \"main road\", \"despite warning\", \"california deadly finally\", \"video gender\", \"video gender reveal\", \"make sure\", \"gender reveal\", \"youtube video\", \"smokey bear\", \"californias deadly\", \"california deadly\", \"raise money\", \"rain way\", \"miley cyrus\", \"family lose\", \"lose home\", \"home california\", \"devastate california\", \"los angeles\", \"victim california\", \"deadly california\", \"reveal party\", \"accuse use\", \"trump official\", \"official accuse\", \"official accuse use\", \"trump official accuse\", \"use deadly\", \"use deadly boost\", \"boost log\", \"deadly boost\", \"deadly boost log\", \"accuse use deadly\", \"radical environmentalist deadly\", \"environmentalist deadly\", \"environmentalist deadly california\", \"california community foundation\", \"genderreveal elosion\", \"foundation relief\", \"community foundation relief\", \"future fight\", \"agent genderreveal elosion\", \"foundation relief fund\", \"secretary ryan\", \"secretary ryan zinke\", \"flee california\", \"evacuee brace\", \"accuse use tragedy\", \"use tragedy ease\", \"tragedy ease\", \"warn extreme weather\", \"warn extreme\", \"interior secretary ryan\", \"bad california\", \"use tragedy\", \"effect climate\", \"effect climate change\", \"ryan zinke\", \"zinke blame radical\", \"blame radical\", \"ryan zinke blame\", \"blame radical environmentalist\", \"radical environmentalist\", \"rain hamper\", \"interior secretary\", \"paradise california\", \"relief fund\", \"zinke blame\", \"climate change\", \"deadly california\", \"united states\", \"california miss list\", \"donate million victim\", \"million victim\", \"help victim california\", \"green bay packers\", \"bay packers\", \"insurance company response\", \"company response\", \"shape insurance\", \"shape insurance company\", \"technology shape insurance\", \"nationwide health\", \"packers aaron\", \"smoke nationwide health\", \"smoke nationwide\", \"nationwide health threat\", \"california completely\", \"packers aaron rodgers\", \"california completely contain\", \"scorch ignore\", \"scorch ignore california\", \"alyssa milano scorch\", \"milano scorch\", \"ignore california victim\", \"king queen\", \"mountain lion\", \"california victim focus\", \"victim focus\", \"milano scorch ignore\", \"bay packers aaron\", \"california miss\", \"alyssa milano\", \"green bay\", \"energy weapon\", \"rise sea level\", \"asylum seeker\", \"high school\", \"victim california\", \"miss list\", \"direct energy weapon\", \"direct energy\", \"rise sea\", \"sea level\", \"help victim\", \"trump california\", \"insurance company\", \"just need\", \"queen plague\", \"technology shape\", \"southern california\", \"need rake\", \"climate change\", \"donate million\", \"northern california\", \"butte county\", \"san francisco\", \"california victim\", \"rodgers donate\", \"aaron rodgers\", \"california say trump\", \"toll california\", \"death toll california\", \"make california bad\", \"say trump right\", \"toll climb\", \"death toll climb\", \"bad death\", \"death size\", \"bad death size\", \"california bad death\", \"climb unaccounted\", \"toll climb unaccounted\", \"actually california\", \"actually california say\", \"start gender\", \"say trump\", \"destroy thousand\", \"start gender reveal\", \"good luck\", \"destroy thousand home\", \"instagram influencer\", \"instagram influencer use\", \"influencer use\", \"california remain\", \"death toll rise\", \"california fully\", \"volunteer search california\", \"california fully contain\", \"search california remain\", \"california bad\", \"thousand home\", \"california say\", \"toll rise\", \"california death\", \"death toll\", \"california death toll\", \"trump right\", \"make california\", \"rake forest\", \"donald trump\", \"people miss\", \"climate change\", \"northern california\", \"million california\", \"donate million california\", \"kanye donate\", \"environmentalist california\", \"kim kanye\", \"blame environmentalist california\", \"kim kanye donate\", \"zinke blame environmentalist\", \"fix problem\", \"force stay\", \"help fix\", \"kanye donate california\", \"supercomputer help fix\", \"supercomputer help\", \"help fix problem\", \"farmworker force\", \"farmworker force stay\", \"california farmworker force\", \"grim task\", \"area risk\", \"million california relief\", \"million relief\", \"flash flood risk\", \"rain complicate grim\", \"complicate grim task\", \"complicate grim\", \"grim task remain\", \"task remain\", \"spread wildfir\", \"task remain california\", \"blame environmentalist\", \"live area\", \"aaron rodgers donate\", \"california relief effort\", \"rodgers donate million\", \"donate million\", \"rodgers donate\", \"california relief fund\", \"aaron rodgers\", \"california relief\", \"relief effort\", \"forest management\", \"air pollution\", \"hurricane flood\", \"donate california relief\", \"donate california\", \"zinke blame\", \"rescue california\", \"help california\", \"year ago\", \"climate change\", \"blame california\", \"california kill people\", \"people fully\", \"kill people fully\", \"people fully contain\", \"program help\", \"housing program\", \"major housing program\", \"housing program help\", \"enact major\", \"fema enact major\", \"major housing\", \"enact major housing\", \"clean air\", \"help california survivor\", \"fema enact\", \"program help california\", \"neighbor knock\", \"knock official alert\", \"alert close\", \"frantic neighbor\", \"official alert close\", \"official alert\", \"frantic neighbor knock\", \"knock official\", \"neighbor knock official\", \"likely spread\", \"toxic site\", \"spread nuclear contamination\", \"nuclear contamination\", \"likely spread nuclear\", \"spread nuclear\", \"climate change cause\", \"change cause\", \"california contain\", \"california kill\", \"kill people\", \"california survivor\", \"air quality\", \"survivor california\", \"northern california\", \"fully contain\", \"california likely\", \"climate change\", \"devastating california\", \"help california\", \"jerry brown\", \"search remain california\", \"donation relief\", \"death toll reach\", \"relief family\", \"donation relief family\", \"remain california victim\", \"relief family drama\", \"amid destruction\", \"destruction evacuee\", \"amid destruction evacuee\", \"toll reach unaccounted\", \"reach unaccounted\", \"ease search\", \"new meaning\", \"rain break\", \"break ease search\", \"ease search remain\", \"break ease\", \"rain break ease\", \"hinder search victim\", \"save cat\", \"meaning holiday\", \"rodger donation\", \"rodger donation relief\", \"aaron rodger donation\", \"good thanksgiving\", \"family drama\", \"evacuee new\", \"thanksgiving life\", \"evacuee new meaning\", \"toll reach\", \"help california victim\", \"search remain\", \"remain california\", \"california victim\", \"help california\", \"climate change\", \"hinder search\", \"heavy rain\", \"people affect\", \"aaron rodger\", \"red cross\", \"california rain\", \"help people\", \"search victim\", \"northern california\", \"victim california\"], \"Total\": [119.0, 118.0, 261.0, 121.0, 110.0, 141.0, 141.0, 115.0, 114.0, 88.0, 102.0, 48.0, 88.0, 49.0, 36.0, 63.0, 36.0, 50.0, 48.0, 43.0, 42.0, 79.0, 33.0, 33.0, 34.0, 33.0, 43.0, 30.0, 81.0, 36.0, 33.92828889747182, 33.60224690163444, 20.596673865069448, 18.071683170581032, 17.876588720060187, 17.46304011742736, 17.09187603616901, 15.966183295303068, 15.912832323563775, 15.912832323563775, 15.741105455680907, 15.683674606088294, 15.430118120287247, 14.395013134679173, 14.395013134679173, 29.16145667690128, 28.88138712355935, 15.264928340892187, 10.429705058889093, 10.361148561247058, 10.34102261041674, 10.107975799815636, 10.061729801363057, 25.742865611341013, 9.829784666913906, 22.50256648482206, 9.687363921454637, 9.478807376484461, 9.28619216744152, 9.14896678772313, 16.444005015480336, 29.90858530570229, 114.34408815580738, 18.171485639519123, 115.86606994183849, 37.301853500399915, 13.916735148478976, 39.65366864390581, 36.276367515930914, 27.221608247536963, 46.98069119278085, 261.3848903444639, 82.84218520051564, 24.802756530102172, 34.93581859159743, 141.0721625892728, 141.22311452212094, 38.110465911272414, 123.7567666100592, 50.238136034348194, 79.95917421558578, 36.690723210321536, 36.05162139919246, 30.893261341411883, 20.727688825245664, 20.02643481290935, 19.96607268395515, 19.966072683955144, 19.966072683955144, 19.96607268395515, 48.87753532011432, 12.10817083672871, 11.856001217552112, 11.722209533899237, 9.72818742996792, 23.072882850569265, 9.597050010266825, 9.586120882308736, 9.375705091545418, 9.375705091545418, 9.359678344116507, 9.359678344116507, 9.29503393867375, 9.228367477280944, 9.228367477280944, 9.228367477280944, 9.16475610899303, 11.88877591396019, 8.945595595285553, 8.904861575640533, 8.904861575640535, 14.944373281348689, 14.944373281348689, 50.17004000269162, 14.657934014740185, 63.04147880415388, 28.244343132405987, 30.49351196654984, 20.751166512917727, 77.17074486486686, 19.888131501255216, 30.5900119060194, 102.86393766386384, 76.95116787804645, 242.1752634215223, 17.71781951848393, 261.3848903444639, 27.16216316529524, 20.664832406491467, 26.919969595884474, 19.06012824113611, 18.606830465175523, 16.927963686936845, 16.028558613282765, 15.087212646996923, 14.271574188682933, 14.14515535277501, 13.958825849361782, 12.195492240049443, 11.705961545354137, 17.897647404643493, 11.281291818102936, 11.224347737484537, 11.109772302840026, 10.987520499580912, 10.807008088090736, 10.617248173149909, 10.536960289075855, 30.206969049265528, 10.398437861663481, 10.35016105120879, 10.119189122731301, 10.072286208660808, 9.949297716544262, 9.580439004265578, 12.317353753612997, 8.382729476132493, 8.274943106623581, 8.206571420333823, 8.206571420333823, 8.206571420333823, 24.6516900399365, 24.0557276234092, 15.80666202004769, 48.50556416360834, 27.031712097926714, 30.51605625139242, 36.828477858319225, 17.847075043711747, 27.140488915324475, 33.93655042481131, 16.152305256312168, 50.238136034348194, 78.74452751993945, 42.31321609520067, 42.99082477245808, 17.76979004578741, 15.6444849528981, 242.1752634215223, 20.46710869457952, 32.15855554703063, 261.3848903444639, 82.84218520051564, 119.14709436222297, 118.93278753259105, 110.47497403807722, 27.905970869080445, 25.378274539516934, 121.00880023247517, 20.910703137434027, 15.127621775499827, 14.951118755261732, 14.665798567485304, 14.339901575842148, 34.09048532030392, 13.632540802555361, 11.098032627427052, 11.071940179783521, 10.961765334678777, 10.738699586183587, 10.191885883414427, 10.191885883414427, 9.537372339965128, 9.537372339965128, 9.537372339965128, 9.537372339965128, 9.499027950780878, 9.220187172716752, 8.914162835249673, 8.914162835249673, 8.914162835249673, 8.914162835249673, 8.914162835249673, 17.11841087373549, 141.22311452212094, 141.0721625892728, 22.35905525236039, 261.3848903444639, 48.82949198469282, 12.52984865541984, 56.04769749208868, 53.7302609348634, 46.92288293903352, 12.500558302463679, 18.502126677320664, 21.536403352878487, 76.95116787804645, 29.505218412888265, 28.749231404422186, 30.78599045930564, 88.09513077992457, 78.74452751993945, 115.86606994183849, 22.389223898252727, 21.915589176193887, 21.85766720506555, 21.85766720506555, 20.51044448365688, 17.879319103808708, 16.830056644531894, 16.830056644531894, 16.830056644531894, 16.830056644531894, 16.737591530093738, 13.288791586891072, 13.288791586891072, 13.204022945353783, 10.97983632439818, 10.091366916693836, 9.27658784179383, 9.27658784179383, 9.082821580942477, 8.976646110032306, 8.957925535916955, 18.487354268605507, 18.487354268605515, 8.406919785331606, 8.2897483529739, 8.285057811040703, 8.162511770935033, 8.162511770935033, 8.306384628041474, 8.306384628041412, 17.302441591491835, 14.372126383979058, 10.14866216590594, 13.112925360434645, 11.929701250283836, 31.918871612390305, 19.326064712121205, 21.598273990184047, 18.98359959100312, 20.132877080555325, 29.8844906810898, 12.432215005064597, 27.06351573261254, 28.473943066321763, 43.10145786868811, 33.423713782793826, 242.1752634215223, 78.74452751993945, 30.050564977806054, 13.898826732228393, 12.550017427529454, 12.550017427529454, 33.97266338998414, 9.59971971392197, 9.59971971392197, 8.554920393232036, 8.554920393232036, 8.554920393232036, 8.554920393232036, 8.554920393232036, 8.4088576903883, 8.370729085679391, 8.206817881003863, 8.206817881003863, 8.107623694730238, 7.906413008455674, 7.727895332127733, 7.423261744444666, 7.398500833050852, 7.398500833050852, 7.360235539381694, 7.3602355393816925, 7.30232204727918, 7.298350776041192, 7.277242350880336, 6.950066025104715, 6.950066025104715, 6.9453968821159515, 6.713971262266447, 17.63908543058854, 14.555241287632558, 12.955520535582034, 21.572547482535764, 14.609830936292951, 16.559653390400072, 21.058892771127624, 88.09513077992457, 17.519825184489534, 18.303672671712093, 22.574701869216568, 16.645041474269924, 25.213420727491194, 79.95917421558578, 13.234054397126254, 17.253882772935565, 10.696664700313002, 11.181774728495572, 9.979212439455155, 39.16526932331446, 13.030255837655181, 242.1752634215223, 49.76269954604652, 123.7567666100592, 33.578360427994625, 24.836778250876137, 96.01593775605227, 43.70455195634797, 81.14914880791571, 16.473218799352395, 15.978150458578877, 15.97815045857889, 15.941720774260562, 15.603042451578682, 14.618620862954947, 14.618620862954947, 14.09176671217676, 13.912284686429404, 13.912284686429404, 13.522499512543764, 12.205197218421521, 12.205197218421521, 11.840669772083137, 11.840669772083137, 11.65054881473921, 19.050488826328415, 11.43873639885335, 11.435313546125363, 10.51833052551203, 9.825611540487593, 9.542293707754698, 9.249483651132879, 9.249483651132879, 9.074505562032984, 28.892577465094604, 8.833950467982953, 8.557117554323682, 8.495974903341793, 8.444822530064204, 23.499990417820083, 12.25861557668217, 22.02599683029288, 32.14207068596979, 43.886657465335425, 88.93128675679453, 42.52799622855301, 25.645014307301093, 26.298683382340386, 39.77207729452268, 26.128835967647433, 21.46707746657775, 242.1752634215223, 123.7567666100592, 19.800612726535043, 17.5353872214924, 14.044145419758904, 13.706481662249594, 13.479846712357558, 12.663450063141903, 12.65491629870463, 11.57842714935851, 11.55368078922372, 11.150958181631854, 10.929082506127195, 10.708902746461085, 10.705456997716782, 10.705456997716782, 10.705456997716782, 10.581691168493466, 10.375388281014272, 10.296454450618208, 10.266465514305226, 10.112973517699626, 10.062754838278092, 10.029141375399629, 9.680120253900386, 9.549081571306191, 9.549081571306191, 9.549081571306191, 9.461943235288166, 9.461943235288166, 9.436820550884129, 9.210494613943345, 14.8644379115676, 12.394693021139915, 36.865902200552014, 29.833701905350594, 31.456457038122903, 49.76269954604652, 43.70455195634797, 13.644039457656248, 81.14914880791571, 102.86393766386384, 61.675272639987185, 61.616270489354534, 25.260716818525765, 20.903819102017458, 50.17004000269162, 63.04147880415388, 33.423713782793826, 15.809394284324705, 63.68888829418397, 31.507869120405594, 242.1752634215223, 26.341832059741257, 19.273150254532815, 16.30607481807763, 16.30607481807763, 16.22622191572561, 13.261905216738429, 12.491006141704474, 12.491006141704474, 12.491006141704474, 12.491006141704474, 12.491006141704474, 12.491006141704474, 12.491006141704474, 13.141356799006731, 11.005654250765142, 13.006237307585717, 10.664641135205457, 10.566110227054116, 10.219668231478282, 10.219668231478282, 10.219668231478282, 10.219668231478282, 10.219668231478282, 10.219668231478282, 10.219668231478282, 10.219668231478282, 10.177669385813582, 9.759034865113678, 9.759034865113678, 9.759034865113678, 9.759034865113678, 9.759034865113678, 13.153577549400078, 13.153577549400078, 26.38354995962975, 29.205992337699275, 42.48600808536273, 22.413693221775898, 49.269463043751635, 11.585849278969942, 123.7567666100592, 39.71190790327873, 12.927507991516444, 242.1752634215223, 23.364348041106574, 63.68888829418397, 29.216037134794565, 23.731078464854473, 15.338892340489853, 13.700752252017065, 13.176268420766865, 12.556982584470125, 12.369338621125902, 12.317962196287363, 12.291260212168357, 11.773426738285654, 11.773426738285654, 11.525485108953237, 11.525485108953237, 11.096881922609732, 10.975805016283768, 10.637208095316167, 10.560419410526215, 10.560419410526215, 10.560419410526215, 10.293345570118376, 10.213295431754865, 10.066409424566917, 9.852707690151023, 9.797091067882867, 9.797091067882867, 9.797091067882867, 9.463765847202758, 15.016697899608408, 9.331854662905277, 9.29525446347008, 9.147525990063937, 14.362794026950853, 23.90947149306598, 32.36688889832547, 31.236237248418565, 96.01593775605227, 63.68888829418397, 242.1752634215223, 13.66243421076949, 56.160097161958376, 21.654671892412125, 23.04094079327819, 30.102395196263963, 24.272557837816258, 28.042350024948377, 24.5009899021483, 123.7567666100592, 88.09513077992457], \"loglift\": [30.0, 29.0, 28.0, 27.0, 26.0, 25.0, 24.0, 23.0, 22.0, 21.0, 20.0, 19.0, 18.0, 17.0, 16.0, 15.0, 14.0, 13.0, 12.0, 11.0, 10.0, 9.0, 8.0, 7.0, 6.0, 5.0, 4.0, 3.0, 2.0, 1.0, 2.2176, 2.2174, 2.2047, 2.2, 2.1996, 2.1987, 2.1979, 2.195, 2.1949, 2.1949, 2.1944, 2.1943, 2.1935, 2.1903, 2.1903, 2.1791, 2.1784, 2.1738, 2.1719, 2.1714, 2.1713, 2.1697, 2.1694, 2.1688, 2.1678, 2.167, 2.1667, 2.1651, 2.1635, 2.1624, 2.1596, 2.1397, 1.9748, 2.119, 1.9676, 2.0171, 2.1253, 1.9525, 1.9381, 1.9813, 1.7817, 1.0252, 1.3389, 1.9077, 1.7015, 0.5949, 0.5934, 1.4671, 0.4436, 1.1482, 0.719, 2.2634, 2.263, 2.2599, 2.2492, 2.248, 2.2479, 2.2479, 2.2479, 2.2479, 2.2301, 2.2255, 2.2242, 2.2236, 2.2113, 2.2107, 2.2103, 2.2102, 2.2085, 2.2085, 2.2084, 2.2084, 2.2079, 2.2073, 2.2073, 2.2073, 2.2068, 2.2054, 2.2049, 2.2045, 2.2045, 2.1304, 2.1304, 1.9196, 2.1227, 1.8252, 1.9576, 1.9315, 1.9872, 1.4993, 1.9588, 1.8107, 1.2704, 1.1724, 0.3217, 1.8464, 0.1226, 1.5294, 1.7101, 1.4656, 2.2474, 2.2466, 2.2429, 2.2406, 2.238, 2.2353, 2.2349, 2.2343, 2.2271, 2.2247, 2.2232, 2.2224, 2.2221, 2.2215, 2.2207, 2.2197, 2.2185, 2.218, 2.2177, 2.2171, 2.2168, 2.2153, 2.2149, 2.2141, 2.2113, 2.2064, 2.2007, 2.1996, 2.1989, 2.1989, 2.1989, 2.1872, 2.1347, 2.1561, 2.0669, 2.0858, 2.0331, 1.9967, 2.1156, 1.9595, 1.8845, 2.0351, 1.4744, 1.1604, 1.4776, 1.4592, 1.9508, 2.0027, 0.0482, 1.8105, 1.3698, -0.5358, 0.4136, 2.2797, 2.2797, 2.2792, 2.2613, 2.2588, 2.2577, 2.2531, 2.2406, 2.24, 2.2391, 2.2381, 2.2358, 2.2356, 2.2239, 2.2237, 2.2231, 2.2217, 2.2182, 2.2182, 2.2134, 2.2134, 2.2134, 2.2134, 2.2131, 2.2109, 2.2082, 2.2082, 2.2082, 2.2082, 2.2082, 2.174, 2.0147, 2.0142, 2.0501, 1.5847, 1.7055, 2.1063, 1.5123, 1.3424, 1.3983, 2.0687, 1.8336, 1.7051, 0.8186, 1.4793, 1.4893, 1.4056, 0.3854, 0.4327, 0.0321, 2.256, 2.2553, 2.2552, 2.2552, 2.2532, 2.2483, 2.2459, 2.2459, 2.2459, 2.2459, 2.2457, 2.235, 2.235, 2.2346, 2.2239, 2.2183, 2.2121, 2.2121, 2.2105, 2.2095, 2.2094, 2.2067, 2.2067, 2.2041, 2.2029, 2.2029, 2.2016, 2.2016, 2.2013, 2.2013, 2.2005, 2.1699, 2.1778, 2.1347, 2.1421, 1.8974, 2.0078, 1.9763, 1.997, 1.9613, 1.7934, 2.0931, 1.7524, 1.6261, 1.3687, 1.4695, 0.0268, 0.7532, 1.4565, 2.2666, 2.2612, 2.2612, 2.2604, 2.244, 2.244, 2.2349, 2.2349, 2.2349, 2.2349, 2.2349, 2.2335, 2.2331, 2.2314, 2.2314, 2.2303, 2.228, 2.2259, 2.2221, 2.2218, 2.2218, 2.2212, 2.2212, 2.2205, 2.2204, 2.2201, 2.2154, 2.2154, 2.2153, 2.2117, 2.1915, 2.1901, 2.1919, 2.0978, 2.1327, 2.1013, 2.0481, 1.7757, 2.0658, 2.0496, 2.0072, 2.0614, 1.9771, 1.701, 2.0834, 1.9811, 2.1299, 2.1047, 2.1548, 1.2837, 1.9723, 0.0477, 1.0811, 0.3249, 1.2339, 1.4542, 0.339, 0.9018, 0.3475, 2.2824, 2.2811, 2.2811, 2.281, 2.28, 2.277, 2.277, 2.2753, 2.2746, 2.2746, 2.2732, 2.2677, 2.2677, 2.2659, 2.2659, 2.2649, 2.2641, 2.2638, 2.2638, 2.2584, 2.2537, 2.2516, 2.2492, 2.2492, 2.2477, 2.2474, 2.2456, 2.243, 2.2424, 2.2419, 2.2371, 2.2328, 2.2111, 2.1404, 2.0678, 1.9667, 2.0571, 2.111, 2.0183, 1.6041, 1.7533, 1.8403, -0.1134, 0.1872, 2.2979, 2.2934, 2.2836, 2.2824, 2.2815, 2.2782, 2.2782, 2.273, 2.2729, 2.2707, 2.2694, 2.2681, 2.2681, 2.2681, 2.2681, 2.2673, 2.266, 2.2655, 2.2653, 2.2642, 2.2639, 2.2637, 2.2611, 2.2601, 2.2601, 2.2601, 2.2594, 2.2594, 2.2592, 2.2574, 2.2421, 2.2356, 2.1021, 2.0955, 2.0505, 1.9615, 1.9775, 2.1821, 1.6698, 1.5743, 1.6884, 1.4152, 1.8223, 1.7835, 1.042, 0.856, 1.3413, 1.936, 0.7201, 1.3098, -0.5842, 1.4424, 2.3025, 2.2961, 2.2961, 2.2959, 2.2863, 2.2831, 2.2831, 2.2831, 2.2831, 2.2831, 2.2831, 2.2831, 2.2819, 2.2755, 2.2735, 2.2735, 2.2729, 2.2706, 2.2706, 2.2706, 2.2706, 2.2706, 2.2706, 2.2706, 2.2706, 2.2703, 2.2674, 2.2674, 2.2674, 2.2674, 2.2674, 2.2597, 2.2597, 2.1787, 2.0681, 1.9212, 2.0627, 1.8209, 2.2013, 0.7824, 1.4543, 2.1185, -0.0226, 1.6422, 0.6232, 1.3322, 2.3228, 2.307, 2.3016, 2.2996, 2.297, 2.2962, 2.2959, 2.2958, 2.2933, 2.2933, 2.292, 2.292, 2.2897, 2.289, 2.2869, 2.2865, 2.2865, 2.2865, 2.2847, 2.2842, 2.2832, 2.2817, 2.2813, 2.2813, 2.2813, 2.2787, 2.2784, 2.2776, 2.2773, 2.2761, 2.2424, 2.1989, 2.1602, 2.0677, 1.5229, 1.5464, 0.8012, 2.1216, 1.3915, 1.8211, 1.7645, 1.5725, 1.6726, 1.4657, 1.5756, -0.0907, 0.2314], \"logprob\": [30.0, 29.0, 28.0, 27.0, 26.0, 25.0, 24.0, 23.0, 22.0, 21.0, 20.0, 19.0, 18.0, 17.0, 16.0, 15.0, 14.0, 13.0, 12.0, 11.0, 10.0, 9.0, 8.0, 7.0, 6.0, 5.0, 4.0, 3.0, 2.0, 1.0, -5.6233, -5.6331, -6.1353, -6.2707, -6.282, -6.3063, -6.3287, -6.3996, -6.4031, -6.4031, -6.4144, -6.4183, -6.4353, -6.5079, -6.5079, -5.8132, -5.8235, -6.4657, -6.8486, -6.8556, -6.8577, -6.8821, -6.887, -5.9482, -6.912, -6.0845, -6.9276, -6.951, -6.9731, -6.9891, -6.4056, -5.8273, -4.6511, -6.3463, -4.645, -5.729, -6.6067, -5.7324, -5.8358, -6.0798, -5.7337, -4.7739, -5.6093, -6.2465, -6.1101, -5.821, -5.8213, -6.2576, -6.1032, -6.3001, -6.2646, -5.4992, -5.5171, -5.6747, -6.0845, -6.1201, -6.1232, -6.1232, -6.1232, -6.1232, -5.2457, -6.6458, -6.6681, -6.6801, -6.8788, -6.0157, -6.8934, -6.8946, -6.9185, -6.9185, -6.9203, -6.9203, -6.9278, -6.9355, -6.9355, -6.9355, -6.943, -6.6841, -6.9691, -6.974, -6.974, -6.5304, -6.5304, -5.5301, -6.5575, -5.3961, -6.0666, -6.0161, -6.3453, -5.5198, -6.4162, -6.1338, -5.4613, -5.8496, -5.5538, -6.6442, -5.6766, -6.5339, -6.6266, -6.6067, -6.1701, -6.195, -6.2932, -6.3501, -6.4133, -6.4715, -6.4808, -6.4948, -6.637, -6.6804, -6.2572, -6.7196, -6.7249, -6.7359, -6.7476, -6.7653, -6.7841, -6.7922, -5.7393, -6.8063, -6.8113, -6.8354, -6.8404, -6.8536, -6.8941, -6.6478, -7.0383, -7.0523, -7.0613, -7.0613, -7.0613, -5.973, -6.0501, -6.4486, -5.4165, -5.9824, -5.9138, -5.7621, -6.3677, -6.1046, -5.9561, -6.548, -5.974, -5.8385, -6.1424, -6.145, -6.5368, -6.6123, -5.8273, -6.5358, -6.5247, -6.335, -6.5346, -4.3051, -4.3069, -4.3811, -5.775, -5.8724, -4.3116, -6.0717, -6.408, -6.4203, -6.4405, -6.464, -5.6003, -6.5171, -6.7345, -6.737, -6.7476, -6.7695, -6.8253, -6.8253, -6.8965, -6.8965, -6.8965, -6.8965, -6.9008, -6.9329, -6.9693, -6.9693, -6.9693, -6.9693, -6.9693, -6.3509, -4.4001, -4.4016, -6.2078, -4.2144, -5.7713, -6.7307, -5.8266, -6.0388, -6.1183, -6.7707, -6.6136, -6.5903, -6.2034, -6.5013, -6.5172, -6.5325, -6.5013, -6.5663, -6.5806, -6.0006, -6.0226, -6.0254, -6.0254, -6.091, -6.2332, -6.2961, -6.2961, -6.2961, -6.2961, -6.3018, -6.5433, -6.5433, -6.55, -6.7452, -6.8352, -6.9255, -6.9255, -6.9483, -6.961, -6.9632, -6.2413, -6.2413, -7.0319, -7.0472, -7.0478, -7.064, -7.064, -7.0468, -7.0468, -6.3138, -6.5299, -6.87, -6.6569, -6.744, -6.0045, -6.3959, -6.3162, -6.4245, -6.4014, -6.1744, -6.7517, -6.3145, -6.39, -6.2329, -6.3863, -5.8487, -6.2457, -6.5057, -6.4668, -6.5742, -6.5742, -5.5792, -6.8594, -6.8594, -6.9837, -6.9837, -6.9837, -6.9837, -6.9837, -7.0024, -7.0073, -7.0288, -7.0288, -7.042, -7.0694, -7.0944, -7.1384, -7.1421, -7.1421, -7.1478, -7.1478, -7.1565, -7.1571, -7.1603, -7.211, -7.211, -7.2117, -7.2492, -6.3035, -6.4971, -6.6117, -6.1959, -6.5507, -6.4568, -6.2697, -5.111, -6.436, -6.4084, -6.2411, -6.4916, -6.1607, -5.2826, -6.699, -6.536, -6.8653, -6.8462, -6.9098, -6.4136, -6.8256, -5.8278, -6.3767, -6.222, -6.6174, -6.6986, -6.4616, -6.6859, -6.6214, -6.281, -6.3128, -6.3128, -6.3152, -6.3376, -6.4058, -6.4058, -6.4443, -6.4577, -6.4577, -6.4876, -6.5956, -6.5956, -6.6277, -6.6277, -6.6449, -6.154, -6.6643, -6.6646, -6.7536, -6.8264, -6.8578, -6.8914, -6.8914, -6.9119, -5.7542, -6.9409, -6.9754, -6.9832, -6.9897, -5.9711, -6.6261, -6.0618, -5.7546, -5.5157, -4.9105, -5.5579, -6.0098, -6.0773, -6.0779, -6.3488, -6.4583, -5.9889, -6.3596, -6.0816, -6.2075, -6.4393, -6.4649, -6.4824, -6.5482, -6.5489, -6.6429, -6.6452, -6.6829, -6.7043, -6.7259, -6.7263, -6.7263, -6.7263, -6.7387, -6.7597, -6.7678, -6.771, -6.7871, -6.7924, -6.796, -6.8339, -6.8486, -6.8486, -6.8486, -6.8584, -6.8584, -6.8613, -6.8874, -6.4241, -6.6123, -5.6558, -5.874, -5.866, -5.4963, -5.6102, -6.5697, -5.2991, -5.1574, -5.5549, -5.829, -6.3136, -6.5417, -6.4077, -6.3654, -6.5146, -6.6685, -6.491, -6.6051, -6.4596, -6.6516, -6.1039, -6.2775, -6.2775, -6.2826, -6.4939, -6.557, -6.557, -6.557, -6.557, -6.557, -6.557, -6.557, -6.5074, -6.6912, -6.5262, -6.7247, -6.7346, -6.7702, -6.7702, -6.7702, -6.7702, -6.7702, -6.7702, -6.7702, -6.7702, -6.7746, -6.8196, -6.8196, -6.8196, -6.8196, -6.8196, -6.5287, -6.5287, -5.9137, -5.9227, -5.6948, -6.1927, -5.6469, -6.714, -5.7644, -6.2292, -6.6872, -5.8981, -6.5717, -6.5879, -6.6582, -5.8755, -6.3277, -6.446, -6.4871, -6.5378, -6.5537, -6.5581, -6.5604, -6.606, -6.606, -6.6285, -6.6285, -6.6688, -6.6805, -6.7138, -6.7216, -6.7216, -6.7216, -6.7489, -6.7572, -6.7727, -6.7957, -6.8018, -6.8018, -6.8018, -6.839, -6.3776, -6.8541, -6.8583, -6.8755, -6.4581, -5.992, -5.7278, -5.8558, -5.2777, -5.6647, -5.0743, -6.6289, -5.9454, -6.4688, -6.4634, -6.3881, -6.5032, -6.5658, -6.5908, -6.6375, -6.6553]}, \"token.table\": {\"Topic\": [6, 8, 10, 10, 2, 3, 6, 7, 8, 9, 10, 6, 8, 5, 5, 5, 7, 7, 2, 2, 1, 2, 3, 4, 5, 6, 7, 8, 9, 10, 3, 5, 5, 3, 3, 1, 1, 2, 3, 6, 8, 9, 1, 3, 6, 7, 9, 9, 5, 6, 6, 10, 10, 1, 8, 3, 3, 5, 6, 1, 2, 3, 5, 8, 1, 2, 3, 5, 8, 5, 8, 7, 7, 6, 6, 1, 2, 3, 6, 7, 8, 9, 7, 8, 8, 2, 5, 2, 5, 3, 3, 5, 2, 3, 5, 3, 5, 1, 3, 5, 7, 10, 1, 3, 5, 7, 10, 10, 10, 1, 2, 4, 5, 1, 2, 4, 5, 6, 8, 9, 10, 7, 10, 7, 5, 6, 6, 1, 9, 1, 2, 3, 4, 5, 6, 7, 8, 9, 10, 4, 7, 7, 10, 7, 10, 8, 7, 7, 3, 4, 5, 10, 3, 3, 9, 10, 9, 6, 9, 4, 6, 6, 1, 4, 5, 10, 2, 1, 2, 4, 5, 6, 7, 8, 10, 2, 6, 8, 4, 8, 7, 4, 4, 3, 6, 7, 7, 1, 1, 3, 5, 6, 8, 10, 1, 2, 6, 1, 3, 4, 9, 1, 2, 3, 4, 5, 6, 7, 8, 9, 10, 6, 1, 3, 4, 5, 8, 9, 10, 4, 3, 6, 9, 3, 3, 1, 2, 3, 5, 6, 7, 8, 9, 10, 3, 4, 9, 2, 3, 9, 1, 2, 3, 4, 5, 6, 7, 8, 9, 10, 9, 2, 3, 7, 5, 6, 8, 8, 5, 5, 1, 2, 3, 4, 5, 6, 7, 8, 9, 10, 3, 4, 5, 10, 4, 3, 1, 2, 3, 4, 5, 6, 10, 3, 4, 7, 4, 7, 1, 2, 6, 7, 9, 10, 7, 7, 10, 1, 2, 7, 4, 7, 7, 10, 3, 8, 9, 10, 3, 3, 4, 5, 7, 9, 10, 1, 2, 3, 4, 5, 7, 8, 9, 5, 6, 8, 6, 8, 1, 3, 6, 7, 8, 9, 10, 1, 2, 5, 6, 8, 2, 6, 8, 6, 8, 8, 6, 10, 10, 10, 10, 5, 7, 5, 7, 3, 3, 9, 9, 1, 1, 2, 2, 6, 8, 8, 5, 5, 5, 10, 10, 3, 10, 2, 4, 5, 9, 8, 8, 9, 9, 3, 1, 9, 4, 8, 8, 5, 8, 2, 5, 7, 1, 2, 3, 5, 6, 7, 8, 9, 10, 2, 2, 3, 8, 10, 5, 5, 9, 9, 2, 1, 3, 4, 7, 9, 5, 1, 2, 3, 4, 5, 6, 7, 4, 2, 1, 2, 3, 4, 7, 2, 5, 3, 5, 8, 3, 1, 2, 3, 4, 5, 6, 7, 8, 9, 10, 7, 10, 5, 6, 6, 4, 8, 8, 3, 3, 1, 2, 3, 5, 6, 7, 8, 10, 4, 1, 2, 3, 4, 5, 6, 8, 9, 10, 1, 4, 5, 6, 7, 8, 10, 1, 1, 2, 3, 4, 6, 8, 9, 10, 9, 1, 2, 6, 9, 10, 8, 8, 1, 2, 3, 4, 5, 7, 9, 10, 1, 2, 4, 5, 6, 7, 9, 10, 5, 6, 1, 4, 6, 9, 10, 5, 7, 10, 10, 3, 5, 6, 3, 3, 1, 2, 4, 5, 6, 9, 3, 3, 9, 9, 1, 5, 6, 7, 8, 9, 10, 1, 6, 7, 7, 7, 1, 6, 7, 6, 1, 2, 5, 8, 1, 5, 1, 2, 3, 5, 7, 8, 9, 10, 1, 2, 3, 4, 5, 2, 6, 8, 8, 2, 8, 2, 2, 3, 5, 6, 7, 9, 10, 9, 8, 8, 2, 4, 5, 6, 2, 6, 9, 9, 3, 4, 4, 9, 9, 5, 8, 1, 2, 3, 4, 5, 6, 7, 9, 10, 1, 2, 3, 4, 5, 6, 8, 9, 4, 9, 9, 2, 3, 5, 7, 7, 3, 4, 7, 8, 2, 2, 1, 5, 8, 9, 10, 6, 6, 1, 8, 2, 4, 5, 8, 8, 8, 6, 4, 4, 3, 6, 10, 4, 2, 2, 6, 4, 4, 6, 6, 5, 6, 9, 9, 9, 10, 2, 5, 6, 8, 2, 1, 2, 3, 4, 6, 7, 8, 9, 10, 1, 1, 1, 2, 3, 4, 5, 6, 7, 8, 9, 10, 9, 4, 4, 5, 5, 9, 9, 1, 2, 1, 2, 2, 3, 4, 6, 9, 10, 6, 6, 1, 3, 4, 5, 6, 7, 9, 10, 1, 1, 2, 3, 4, 5, 3, 1, 5, 10, 1, 3, 5, 7, 10, 1, 3, 5, 9, 10, 9, 9, 1, 2, 3, 4, 6, 7, 10, 1, 9, 9, 2, 6, 2, 4, 5, 6, 7, 5, 10, 10, 8, 1, 1, 4, 5, 2, 2, 1, 2, 4, 5, 1, 2, 3, 4, 5, 6, 7, 8, 9, 4, 2, 2, 3, 4, 5, 6, 7, 8, 10, 1, 8, 9, 1, 10, 4, 2, 3, 4, 5, 6, 7, 8, 9, 10, 1, 2, 3, 4, 6, 10, 1, 2, 3, 5, 1, 2, 1, 2, 4, 5, 6, 7, 8, 10, 10, 10, 1, 4, 5, 6, 8, 9, 8, 10, 10, 7, 8, 9, 10, 4, 4, 2, 1, 2, 3, 4, 7, 1, 1, 1, 10, 2, 2, 4, 4, 2, 6, 2, 6, 10, 10, 3, 6, 8, 6, 8, 1, 5, 6, 7, 8, 5, 8, 1, 5, 6, 7, 8, 9, 10, 10, 7, 10, 7, 6, 6, 2, 6, 8, 7, 4, 5, 7, 8, 10, 10, 1, 3, 5, 10, 1, 1, 5, 1, 5, 6, 6, 1, 3, 5, 6, 7, 8, 9, 10, 6, 6, 1, 1, 4, 8, 2, 4, 5, 7, 10, 1, 2, 3, 4, 5, 6, 7, 8, 9, 2, 3, 3, 2, 1, 2, 1, 9, 9, 8, 7, 7, 8, 8, 3, 9, 8, 8, 1, 6, 6, 10, 7, 7, 7, 7, 2, 10, 10, 1, 2, 3, 7, 9, 5, 3, 6, 7, 5, 5, 1, 2, 5, 7, 8, 1, 5, 6, 7, 8, 10, 5, 5, 3, 3, 5, 5, 3, 4, 5, 6, 8, 9, 10, 6, 4, 3, 7, 3, 1, 2, 4, 1, 2, 4, 2, 9, 10, 2, 7, 5, 5, 2, 2, 1, 3, 4, 5, 6, 7, 8, 9, 10, 1, 1, 1, 2, 1, 2, 3, 4, 5, 6, 7, 8, 9, 10, 4, 2, 5, 7, 8, 8, 2, 5], \"Freq\": [0.17360402233084743, 0.2604060334962711, 0.5642130725752541, 0.9186400266813977, 0.03696896448169971, 0.08626091712396598, 0.13555286976623226, 0.03696896448169971, 0.5175655027437959, 0.06161494080283285, 0.11090689344509913, 0.18987735501276257, 0.786634756481445, 0.9826155698821207, 0.9559320390411268, 0.9655937450839711, 0.9290015017507547, 0.9290015017507547, 0.95161428593158, 0.95161428593158, 0.4104189178219356, 0.07242686785092982, 0.15692488034368127, 0.03621343392546491, 0.012071144641821635, 0.03621343392546491, 0.060355723209108175, 0.012071144641821635, 0.09656915713457308, 0.10864030177639472, 0.6351654351375435, 0.34201215738175417, 0.8912014467250965, 0.9313104225449148, 0.9750656376380983, 0.8744156783621826, 0.07917431695894057, 0.07917431695894057, 0.07917431695894057, 0.03958715847947029, 0.5938073771920543, 0.11876147543841087, 0.2841516658618321, 0.04059309512311887, 0.04059309512311887, 0.020296547561559436, 0.5885998792852236, 0.9785053461127371, 0.06870377345442497, 0.8931490549075245, 0.951056520208597, 0.9763034703406565, 0.9343074233629389, 0.9394856442874923, 0.8899459673505808, 0.9101234441729981, 0.9661685408104935, 0.12077547475476967, 0.7850405859060029, 0.032793861235037795, 0.6886710859357937, 0.09838158370511339, 0.09838158370511339, 0.032793861235037795, 0.03540531975950454, 0.7081063951900908, 0.10621595927851361, 0.10621595927851361, 0.03540531975950454, 0.9045286447307757, 0.06957912651775197, 0.9225244971424797, 0.9344259618753142, 0.9375273724864874, 0.8936588742524003, 0.037962431684025494, 0.26573702178817843, 0.037962431684025494, 0.11388729505207648, 0.07592486336805099, 0.4175867485242804, 0.037962431684025494, 0.06727465955653752, 0.9418452337915254, 0.947609059155772, 0.2314999801499135, 0.7407999364797232, 0.2483499988597797, 0.7450499965793391, 0.9451816116753047, 0.9800124031496894, 0.9506801039317012, 0.03684532003531318, 0.7369064007062635, 0.22107192021187905, 0.8048386774339671, 0.18573200248476163, 0.33838835080141055, 0.43791433633123716, 0.09952598552982662, 0.019905197105965326, 0.09952598552982662, 0.3072326142912713, 0.4490322824257042, 0.11816639011202741, 0.023633278022405484, 0.09453311208962194, 0.9469320877570818, 0.9469320877570818, 0.09638012392002097, 0.7228509294001573, 0.09638012392002097, 0.04819006196001049, 0.17868650891595464, 0.059562169638651546, 0.059562169638651546, 0.11912433927730309, 0.3275919330125835, 0.029781084819325773, 0.029781084819325773, 0.17868650891595464, 0.936170594491705, 0.04255320884053205, 0.9613607297926628, 0.9107603888210158, 0.885357240067488, 0.9429817027856492, 0.11370721546533308, 0.8717553185675536, 0.11166891609318133, 0.07444594406212089, 0.11166891609318133, 0.39084120632613467, 0.11166891609318133, 0.018611486015530223, 0.0930574300776511, 0.018611486015530223, 0.037222972031060446, 0.037222972031060446, 0.8762495602330861, 0.058416637348872404, 0.7747229332025444, 0.2050737176124382, 0.7759594367590736, 0.21162530093429283, 0.9712081035234018, 0.9055971084504656, 0.9416223671815807, 0.8040314688115727, 0.020616191507989046, 0.14431334055592332, 0.020616191507989046, 0.8930489632786115, 0.9394141537765498, 0.7532700736760197, 0.20543729282073264, 0.9858274204826181, 0.15470885814284402, 0.7735442907142202, 0.05669228169085603, 0.9070765070536965, 0.9353307477282088, 0.04119878945934639, 0.04119878945934639, 0.3707891051341175, 0.49438547351215667, 0.9377881734878836, 0.05832948005166444, 0.35969846031859737, 0.00972158000861074, 0.00972158000861074, 0.03888632003444296, 0.01944316001722148, 0.4666358404133155, 0.01944316001722148, 0.16759569482402262, 0.033519138964804525, 0.8044593351553085, 0.07329207769469309, 0.8795049323363171, 0.8815907318930267, 0.9010606055785566, 0.9761190127063469, 0.045400896390971786, 0.045400896390971786, 0.9080179278194358, 0.9712734466095359, 0.9587998839408348, 0.7442862074914981, 0.02756615583301845, 0.0551323116660369, 0.0551323116660369, 0.1102646233320738, 0.02756615583301845, 0.9361172504493694, 0.8868916988524476, 0.13644487674653039, 0.04461558343399006, 0.04461558343399006, 0.13384675030197019, 0.758464918377831, 0.10414937596513409, 0.041659750386053636, 0.05207468798256704, 0.010414937596513409, 0.05207468798256704, 0.1353941887546743, 0.041659750386053636, 0.07290456317559385, 0.031244812789540225, 0.43742737905356316, 0.8633011511440424, 0.07136778456536262, 0.017841946141340655, 0.4638905996748571, 0.05352583842402197, 0.10705167684804394, 0.14273556913072524, 0.1248936229893846, 0.9564479907036842, 0.8924337424476504, 0.040565170111256835, 0.040565170111256835, 0.9045864599100583, 0.9396921352749259, 0.1243836960945014, 0.09328777207087605, 0.40424701230712956, 0.03109592402362535, 0.0621918480472507, 0.0621918480472507, 0.03109592402362535, 0.15547962011812674, 0.03109592402362535, 0.024791585357730777, 0.9751356907374106, 0.912299331108388, 0.8698926181283653, 0.13382963355821004, 0.9131477200974408, 0.04542164977788736, 0.14039419022256092, 0.10736026311137012, 0.04955089066678621, 0.10323102222247127, 0.10323102222247127, 0.08671405866687586, 0.05368013155568506, 0.09497254044467357, 0.2105912853338414, 0.912299331108388, 0.8698926181283653, 0.13382963355821004, 0.9831877179246384, 0.9701843127547698, 0.9351343592079425, 0.9424990176064562, 0.9424990176064562, 0.9506801039317012, 0.9506801039317012, 0.012699295195425269, 0.025398590390850538, 0.330181675081057, 0.15239154234510324, 0.2158880183222296, 0.025398590390850538, 0.025398590390850538, 0.07619577117255162, 0.11429365675882742, 0.012699295195425269, 0.8138589194906142, 0.03699358724957337, 0.11098076174872012, 0.03699358724957337, 0.9312114488113628, 0.9667740184940358, 0.02946675450162699, 0.05893350900325398, 0.6777353535374208, 0.05893350900325398, 0.05893350900325398, 0.02946675450162699, 0.05893350900325398, 0.9498455084990332, 0.9386783350057252, 0.02933369796892891, 0.9850945524713307, 0.9344259618753142, 0.04497854631226723, 0.03373390973420042, 0.022489273156133614, 0.697167467840142, 0.08995709262453445, 0.10120172920260126, 0.9387819972584056, 0.9576826795937643, 0.9488530090080347, 0.03461096543595356, 0.03461096543595356, 0.934496066770746, 0.8974482683180569, 0.9616446796608294, 0.9159735211304088, 0.9343074233629389, 0.8729729704606566, 0.041570141450507456, 0.041570141450507456, 0.041570141450507456, 0.9673866827393701, 0.034783538590397955, 0.4521860016751735, 0.06956707718079591, 0.13913415436159182, 0.24348477013278572, 0.034783538590397955, 0.12840075805761345, 0.04280025268587115, 0.04280025268587115, 0.04280025268587115, 0.0856005053717423, 0.12840075805761345, 0.04280025268587115, 0.5136030322304538, 0.044297373484414655, 0.7530553492350491, 0.17718949393765862, 0.7648738180090315, 0.218535376574009, 0.0765437849001918, 0.0382718924500959, 0.0382718924500959, 0.5740783867514385, 0.1148156773502877, 0.0382718924500959, 0.1530875698003836, 0.01586257205524355, 0.634502882209742, 0.047587716165730654, 0.07931286027621776, 0.22207600877340972, 0.6976275083321092, 0.019932214523774548, 0.27905100333284366, 0.2813352195060377, 0.6832426759432344, 0.969468183694501, 0.9561739710159328, 0.977906335544498, 0.9556435966424789, 0.9011540421661285, 0.9469320877570818, 0.8388669726733952, 0.07626063387939956, 0.8382439585200908, 0.08382439585200908, 0.9279381372533826, 0.9809709717307649, 0.9606912256599472, 0.9606912256599472, 0.9670223513414214, 0.8944784025884669, 0.9615715058901997, 0.9615715058901997, 0.7880385945963263, 0.1854208457873709, 0.9484563814654648, 0.9782680324992112, 0.9845484254156364, 0.9650473885772474, 0.9644385092896463, 0.874553404788313, 0.9543430958589074, 0.9322955082132324, 0.2785980510157031, 0.5571961020314062, 0.04643300850261718, 0.09286601700523436, 0.9450285252866361, 0.9638193510597393, 0.9226342497227201, 0.9606912256599472, 0.9001084565381838, 0.8622712059955768, 0.07185593383296474, 0.9675348736895496, 0.9520775414065321, 0.9297405160203102, 0.9515970419937158, 0.8967839209075555, 0.7039374211255797, 0.05028124436611283, 0.20112497746445132, 0.04868843855971956, 0.17852427471897173, 0.09737687711943913, 0.04868843855971956, 0.09737687711943913, 0.06491791807962609, 0.40573698799766306, 0.016229479519906522, 0.04868843855971956, 0.9599278040555892, 0.4457657337709089, 0.33432430032818167, 0.11144143344272722, 0.11144143344272722, 0.9701843127547698, 0.8930639094870642, 0.9785053461127371, 0.9785053461127371, 0.9388573449568713, 0.025181363797367115, 0.2518136379736712, 0.07554409139210135, 0.22663227417630405, 0.40290182075787384, 0.8807835680473514, 0.29841051599122026, 0.11477327538123858, 0.06121241353666057, 0.49735085998536716, 0.011477327538123857, 0.0038257758460412856, 0.015303103384165143, 0.9921570195070435, 0.9383896413205469, 0.7696069068309817, 0.01749106606434049, 0.0962008633538727, 0.10494639638604294, 0.008745533032170245, 0.9487460038444938, 0.891851428483051, 0.7602812179128671, 0.16291740383847153, 0.05430580127949051, 0.9358296252271614, 0.02591655689603859, 0.45353974568067534, 0.07774967068811578, 0.02591655689603859, 0.06479139224009647, 0.06479139224009647, 0.11662450603217367, 0.12958278448019295, 0.02591655689603859, 0.03887483534405789, 0.9507212171879532, 0.9509956338004881, 0.07718717262293888, 0.8490588988523277, 0.9375273724864874, 0.8974482683180569, 0.9740450582594433, 0.9511788198469258, 0.9418636389501683, 0.9616829117061492, 0.47231120296212153, 0.02623951127567342, 0.07871853382702027, 0.05247902255134684, 0.15743706765404053, 0.05247902255134684, 0.05247902255134684, 0.10495804510269369, 0.9436561433474356, 0.017806236999842268, 0.035612473999684535, 0.17806236999842268, 0.14244989599873814, 0.1602561329985804, 0.035612473999684535, 0.017806236999842268, 0.035612473999684535, 0.3917372139965299, 0.7565504283954964, 0.02521834761318321, 0.05043669522636642, 0.02521834761318321, 0.02521834761318321, 0.07565504283954963, 0.05043669522636642, 0.9710305717817203, 0.07850663018177689, 0.03140265207271076, 0.01570132603635538, 0.03140265207271076, 0.01570132603635538, 0.20411723847261992, 0.17271458639990916, 0.4396371290179506, 0.9086238557153269, 0.04182442929740256, 0.04182442929740256, 0.04182442929740256, 0.04182442929740256, 0.8783130152454537, 0.9149898899924745, 0.934103046897742, 0.07132069880807651, 0.035660349404038255, 0.17830174702019128, 0.07132069880807651, 0.10698104821211477, 0.07132069880807651, 0.07132069880807651, 0.42792419284845906, 0.22511488114507577, 0.10005105828670034, 0.025012764571675086, 0.037519146857512634, 0.5377744382910143, 0.05002552914335017, 0.012506382285837543, 0.037519146857512634, 0.029435431320784262, 0.9419338022650964, 0.04748587738530252, 0.04748587738530252, 0.7597740381648403, 0.04748587738530252, 0.04748587738530252, 0.14638679821956535, 0.07319339910978268, 0.8051273902076095, 0.97911590502986, 0.8404738571032743, 0.11206318094710324, 0.05603159047355162, 0.9490403043814689, 0.8893993274404562, 0.06778461938537536, 0.13556923877075072, 0.44060002600493986, 0.23724616784881378, 0.06778461938537536, 0.06778461938537536, 0.9748285356023356, 0.9748285356023356, 0.9606912256599472, 0.9606912256599472, 0.047838148384258095, 0.047838148384258095, 0.047838148384258095, 0.047838148384258095, 0.5740577806110971, 0.14351444515277428, 0.047838148384258095, 0.9406982094326648, 0.9585991900491674, 0.9730272888149467, 0.9431694596327511, 0.9730272888149467, 0.05795796883288205, 0.6954956259945846, 0.2318318753315282, 0.9351343592079425, 0.03695011431182841, 0.18475057155914207, 0.5912018289892546, 0.18475057155914207, 0.05779531141383722, 0.9247249826213956, 0.17113888433709912, 0.06845555373483965, 0.034227776867419825, 0.034227776867419825, 0.06845555373483965, 0.17113888433709912, 0.3765055455416181, 0.06845555373483965, 0.06392028903545033, 0.06392028903545033, 0.7670434684254038, 0.06392028903545033, 0.06392028903545033, 0.09348708480791572, 0.8413837632712414, 0.9256526197535749, 0.933802485348431, 0.9411276509490825, 0.020459296759762664, 0.970830121964611, 0.8983856663066155, 0.1176858035227508, 0.07061148211365048, 0.047074321409100325, 0.023537160704550163, 0.6590404997274045, 0.09414864281820065, 0.981229399380757, 0.9644026580867822, 0.9482480734565057, 0.5806967007499382, 0.2903483503749691, 0.048391391729161515, 0.09678278345832303, 0.8983856663066158, 0.9591207952047729, 0.9785053461127371, 0.9785053461127371, 0.9748285356023356, 0.9436561433474356, 0.9436561433474356, 0.9825432150447694, 0.9222223431307686, 0.08067969075913685, 0.8874765983505054, 0.0324823072144405, 0.129929228857762, 0.129929228857762, 0.4222699937877265, 0.064964614428881, 0.129929228857762, 0.0324823072144405, 0.0324823072144405, 0.0324823072144405, 0.0909667805314368, 0.3248813590408457, 0.025990508723267657, 0.2339145785094089, 0.1429477979779721, 0.07797152616980296, 0.025990508723267657, 0.05198101744653531, 0.8974482683180569, 0.9606912256599472, 0.9606912256599472, 0.038024717262899244, 0.19012358631449622, 0.038024717262899244, 0.7224696279950856, 0.940927282092341, 0.0894492176626678, 0.8050429589640101, 0.0447246088313339, 0.0447246088313339, 0.9599278040555892, 0.8942948420579291, 0.7257257868960685, 0.08063619854400761, 0.08063619854400761, 0.12095429781601141, 0.9134544820604585, 0.9510565202085972, 0.8638815177646217, 0.9322971405882182, 0.03884571419117576, 0.2702392047790293, 0.6485740914696704, 0.05404784095580586, 0.9595662650650133, 0.894387287044355, 0.8973848969839034, 0.9561739710159328, 0.9762967985488292, 0.9536006668370437, 0.17123458530031044, 0.7990947314014487, 0.05707819510010348, 0.9546019560802228, 0.9752537512357244, 0.9752537512357244, 0.9619028283637142, 0.8974482683180569, 0.8974482683180569, 0.9513777369718549, 0.8633849156750866, 0.15348892799328978, 0.690700175969804, 0.07674446399664489, 0.9464220782398605, 0.9785053461127371, 0.9110949023933954, 0.6208438904417309, 0.05644035367652099, 0.16932106102956299, 0.05644035367652099, 0.9820228594156083, 0.6385602092761432, 0.10642670154602386, 0.042570680618409545, 0.021285340309204773, 0.042570680618409545, 0.021285340309204773, 0.042570680618409545, 0.021285340309204773, 0.042570680618409545, 0.9725590292288415, 0.9426354589175147, 0.16968769122878066, 0.03232146499595823, 0.08888402873888511, 0.03232146499595823, 0.09696439498787467, 0.13736622623282246, 0.12120549373484334, 0.03232146499595823, 0.21008952247372845, 0.08888402873888511, 0.9222223431307686, 0.9254594150862441, 0.912261820490161, 0.9607612652796368, 0.9607612652796368, 0.9785053461127371, 0.9785053461127371, 0.9601715137288986, 0.03429183977603209, 0.9348581452992384, 0.034624375751823644, 0.05627528504407202, 0.7315787055729362, 0.05627528504407202, 0.05627528504407202, 0.05627528504407202, 0.05627528504407202, 0.955711255031102, 0.9058093697126562, 0.07023965719611022, 0.03511982859805511, 0.03511982859805511, 0.5267974289708266, 0.10535948579416532, 0.10535948579416532, 0.10535948579416532, 0.03511982859805511, 0.9726396783440207, 0.9509644298592312, 0.032769634180837864, 0.7864712203401087, 0.13107853672335146, 0.032769634180837864, 0.9443797949455497, 0.7714459707537705, 0.18367761208423108, 0.03673552241684622, 0.32565088188233715, 0.4419547682688861, 0.11630388638654897, 0.023260777277309793, 0.09304310910923917, 0.09235882261050592, 0.04617941130525296, 0.09235882261050592, 0.13853823391575887, 0.6003323469682885, 0.981229399380757, 0.9860582508423377, 0.09316591898053263, 0.046582959490266314, 0.046582959490266314, 0.13974887847079892, 0.046582959490266314, 0.605578473373462, 0.046582959490266314, 0.9691808911251112, 0.9802513128801534, 0.9376780590383501, 0.17886248368992905, 0.8048811766046807, 0.16731086547055934, 0.06692434618822374, 0.6023191156940136, 0.1003865192823356, 0.06692434618822374, 0.9782680324992112, 0.9400963025630057, 0.9715014357460261, 0.9424990176064562, 0.9651439645795803, 0.8903859861006153, 0.16087237866987067, 0.8043618933493534, 0.9084774362972147, 0.9752537512357244, 0.07999642702381657, 0.07999642702381657, 0.7999642702381656, 0.07999642702381657, 0.1278693810820564, 0.10655781756838034, 0.08524625405470426, 0.4049197067598453, 0.10655781756838034, 0.08524625405470426, 0.021311563513676066, 0.04262312702735213, 0.021311563513676066, 0.9031840705081844, 0.9278001746250791, 0.22628941237724737, 0.07542980412574912, 0.025143268041916373, 0.025143268041916373, 0.07542980412574912, 0.47772209279641115, 0.050286536083832746, 0.050286536083832746, 0.8805003794078012, 0.05503127371298758, 0.05503127371298758, 0.9290453081944894, 0.9544066818892483, 0.9436561433474356, 0.03321994789717301, 0.03321994789717301, 0.09965984369151903, 0.16609973948586507, 0.03321994789717301, 0.06643989579434602, 0.06643989579434602, 0.03321994789717301, 0.46507927056042214, 0.09807122694874369, 0.6211177706753767, 0.032690408982914566, 0.06538081796582913, 0.13076163593165827, 0.032690408982914566, 0.8042495797073025, 0.107233277294307, 0.0536166386471535, 0.02680831932357675, 0.9027508230171039, 0.06687043133460029, 0.03242790691294487, 0.09728372073883461, 0.08106976728236218, 0.08106976728236218, 0.048641860369417304, 0.03242790691294487, 0.518846510607118, 0.09728372073883461, 0.986622280668702, 0.9741871105609338, 0.0696032140986908, 0.09280428546492107, 0.3944182132259146, 0.04640214273246054, 0.2320107136623027, 0.1392064281973816, 0.22409869486935075, 0.7683383824092025, 0.9701407947151597, 0.12650706055089256, 0.695788833029909, 0.12650706055089256, 0.06325353027544628, 0.990372452065548, 0.9957006186947506, 0.9252424370353755, 0.759497582373973, 0.01726130869031757, 0.09493719779674663, 0.10356785214190542, 0.008630654345158785, 0.9171349964674478, 0.98207718360628, 0.9332268838829767, 0.04443937542299889, 0.9648929105709382, 0.9682589713367042, 0.9811726813261628, 0.9811726813261628, 0.18023385550810617, 0.78101337386846, 0.1368941234652968, 0.8213647407917808, 0.9186400266813977, 0.9186400266813977, 0.04576182366536091, 0.251690030159485, 0.7093082668130941, 0.22252982882072564, 0.7629594130996308, 0.03132942831261675, 0.6892474228775686, 0.09398828493785026, 0.03132942831261675, 0.125317713250467, 0.7374786816845319, 0.2107081947670091, 0.040262871049497904, 0.040262871049497904, 0.40262871049497906, 0.1207886131484937, 0.08052574209899581, 0.16105148419799162, 0.1207886131484937, 0.8940625818413106, 0.9448576445515349, 0.05249209136397416, 0.9613509702706944, 0.9461376240885647, 0.9461376240885647, 0.23796850355406007, 0.7139055106621802, 0.03966141725901001, 0.9473260061439299, 0.03089577138974688, 0.03089577138974688, 0.03089577138974688, 0.09268731416924064, 0.8341858275231657, 0.9691932051913614, 0.3673320970272658, 0.04081467744747398, 0.12244403234242195, 0.44896145192221376, 0.949486537971822, 0.05409102814122843, 0.9195474784008832, 0.05409102814122841, 0.9195474784008829, 0.9351343592079425, 0.9351343592079425, 0.5724783562051782, 0.028623917810258907, 0.17174350686155346, 0.057247835620517815, 0.028623917810258907, 0.057247835620517815, 0.057247835620517815, 0.028623917810258907, 0.9747992603220087, 0.9747992603220087, 0.9734845642961522, 0.952919097215409, 0.7980942368106303, 0.07980942368106303, 0.47860694749856814, 0.07363183807670279, 0.11044775711505418, 0.11044775711505418, 0.25771143326845974, 0.0765984774733605, 0.0255328258244535, 0.0255328258244535, 0.102131303297814, 0.0765984774733605, 0.35745956154234904, 0.0765984774733605, 0.153196954946721, 0.0765984774733605, 0.033104943378101506, 0.9269384145868422, 0.9253254849526712, 0.9251466488274352, 0.9121865376396472, 0.06081243584264314, 0.9721247681363026, 0.9222223431307686, 0.9222223431307686, 0.9537110461591639, 0.9441615304923494, 0.961932522062514, 0.934103046897742, 0.934103046897742, 0.08631218790452853, 0.8631218790452853, 0.9511788198469258, 0.9771462203968192, 0.10020830862827067, 0.901874777654436, 0.9351343592079425, 0.9682359999255086, 0.897328081722682, 0.9387819972584064, 0.9576826795937643, 0.9831877179246384, 0.06962433619277453, 0.9051163705060687, 0.9544066818892483, 0.06222374468465755, 0.031111872342328775, 0.09333561702698633, 0.8400205532428769, 0.9222223431307686, 0.9800904702503825, 0.0755626333391185, 0.7556263333911849, 0.0755626333391185, 0.9582220140725919, 0.9751129487191946, 0.9155846546967727, 0.07798786836436286, 0.07798786836436286, 0.8188726178258101, 0.03899393418218143, 0.19966346737345272, 0.4326041793091476, 0.09983173368672636, 0.03327724456224212, 0.09983173368672636, 0.06655448912448424, 0.9508192063297649, 0.9506801039317012, 0.9190425750573074, 0.8935409313787384, 0.8868163953900419, 0.9800904702503825, 0.011351365179287339, 0.14756774733073538, 0.10216228661358605, 0.5789196241436543, 0.011351365179287339, 0.011351365179287339, 0.12486501697216072, 0.8633011511440424, 0.9363847768965781, 0.8857024957099551, 0.06326446397928251, 0.983970123042065, 0.19118683291587346, 0.042485962870194106, 0.7647473316634938, 0.19139140922231168, 0.04253142427162482, 0.7655656368892467, 0.9101593474905489, 0.043340921309073764, 0.043340921309073764, 0.9516142859315797, 0.93489425022072, 0.9631145628620311, 0.9631145628620239, 0.9811744454759826, 0.9710855603252713, 0.06347620628856587, 0.12695241257713175, 0.031738103144282936, 0.09521430943284881, 0.15869051572141468, 0.06347620628856587, 0.3491191345871123, 0.06347620628856587, 0.06347620628856587, 0.9725590292288415, 0.9426354589175147, 0.9564085188414393, 0.9516142859315797, 0.040958853322229205, 0.06143827998334381, 0.06143827998334381, 0.5529445198500943, 0.06143827998334381, 0.06143827998334381, 0.020479426661114603, 0.040958853322229205, 0.06143827998334381, 0.040958853322229205, 0.9474653666283975, 0.11967551020793978, 0.4487831632797742, 0.05983775510396989, 0.35902653062381934, 0.9500426835271355, 0.20697436646226386, 0.7761538742334895], \"Term\": [\"aaron rodger\", \"aaron rodger\", \"aaron rodger\", \"aaron rodger donation\", \"aaron rodgers\", \"aaron rodgers\", \"aaron rodgers\", \"aaron rodgers\", \"aaron rodgers\", \"aaron rodgers\", \"aaron rodgers\", \"aaron rodgers donate\", \"aaron rodgers donate\", \"accuse use\", \"accuse use deadly\", \"accuse use tragedy\", \"actually california\", \"actually california say\", \"add video\", \"add video youtube\", \"affect california\", \"affect california\", \"affect california\", \"affect california\", \"affect california\", \"affect california\", \"affect california\", \"affect california\", \"affect california\", \"affect california\", \"agent genderreveal\", \"agent genderreveal\", \"agent genderreveal elosion\", \"agent genderreveal party\", \"agent spark arizona\", \"agree trump rake\", \"air pollution\", \"air pollution\", \"air pollution\", \"air pollution\", \"air pollution\", \"air pollution\", \"air quality\", \"air quality\", \"air quality\", \"air quality\", \"air quality\", \"alert close\", \"alyssa milano\", \"alyssa milano\", \"alyssa milano scorch\", \"amid destruction\", \"amid destruction evacuee\", \"animal affect\", \"area risk\", \"arizona gunshot\", \"arizona gunshot genderreveal\", \"asylum seeker\", \"asylum seeker\", \"baby gender\", \"baby gender\", \"baby gender\", \"baby gender\", \"baby gender\", \"baby gender reveal\", \"baby gender reveal\", \"baby gender reveal\", \"baby gender reveal\", \"baby gender reveal\", \"bad california\", \"bad california\", \"bad death\", \"bad death size\", \"bay packers\", \"bay packers aaron\", \"blame california\", \"blame california\", \"blame california\", \"blame california\", \"blame california\", \"blame california\", \"blame california\", \"blame environmentalist\", \"blame environmentalist\", \"blame environmentalist california\", \"blame radical\", \"blame radical\", \"blame radical environmentalist\", \"blame radical environmentalist\", \"boeing use\", \"boeing use fight\", \"boost log\", \"border agent\", \"border agent\", \"border agent\", \"border agent genderreveal\", \"border agent genderreveal\", \"border patrol\", \"border patrol\", \"border patrol\", \"border patrol\", \"border patrol\", \"border patrol agent\", \"border patrol agent\", \"border patrol agent\", \"border patrol agent\", \"border patrol agent\", \"break ease\", \"break ease search\", \"burn california\", \"burn california\", \"burn california\", \"burn california\", \"butte county\", \"butte county\", \"butte county\", \"butte county\", \"butte county\", \"butte county\", \"butte county\", \"butte county\", \"california bad\", \"california bad\", \"california bad death\", \"california community foundation\", \"california completely\", \"california completely contain\", \"california contain\", \"california contain\", \"california deadly\", \"california deadly\", \"california deadly\", \"california deadly\", \"california deadly\", \"california deadly\", \"california deadly\", \"california deadly\", \"california deadly\", \"california deadly\", \"california deadly finally\", \"california deadly finally\", \"california death\", \"california death\", \"california death toll\", \"california death toll\", \"california farmworker force\", \"california fully\", \"california fully contain\", \"california history\", \"california history\", \"california history\", \"california history\", \"california history contain\", \"california history percent\", \"california kill\", \"california kill\", \"california kill people\", \"california likely\", \"california likely\", \"california miss\", \"california miss\", \"california miss list\", \"california rain\", \"california rain\", \"california rain\", \"california rain\", \"california raise risk\", \"california relief\", \"california relief\", \"california relief\", \"california relief\", \"california relief\", \"california relief\", \"california relief\", \"california relief\", \"california relief effort\", \"california relief effort\", \"california relief effort\", \"california relief fund\", \"california relief fund\", \"california remain\", \"california revise\", \"california revise rain\", \"california say\", \"california say\", \"california say\", \"california say trump\", \"california search victim\", \"california smoke\", \"california smoke\", \"california smoke\", \"california smoke\", \"california smoke\", \"california smoke\", \"california smoke spread\", \"california start\", \"california start\", \"california survivor\", \"california survivor\", \"california survivor\", \"california survivor\", \"california victim\", \"california victim\", \"california victim\", \"california victim\", \"california victim\", \"california victim\", \"california victim\", \"california victim\", \"california victim\", \"california victim\", \"california victim focus\", \"californias deadly\", \"californias deadly\", \"californias deadly\", \"californias deadly\", \"californias deadly\", \"californias deadly\", \"californias deadly\", \"californias deadly finally\", \"camp deadly\", \"camp deadly\", \"camp deadly\", \"camp deadly california\", \"camp deadly destructive\", \"cause california\", \"cause california\", \"cause california\", \"cause california\", \"cause california\", \"cause california\", \"cause california\", \"cause california\", \"cause california\", \"cause million\", \"cause million\", \"change cause\", \"change fuel\", \"change fuel\", \"clean air\", \"climate change\", \"climate change\", \"climate change\", \"climate change\", \"climate change\", \"climate change\", \"climate change\", \"climate change\", \"climate change\", \"climate change\", \"climate change cause\", \"climate change fuel\", \"climate change fuel\", \"climb unaccounted\", \"community foundation relief\", \"company response\", \"complicate grim\", \"complicate grim task\", \"deadly boost\", \"deadly boost log\", \"deadly california\", \"deadly california\", \"deadly california\", \"deadly california\", \"deadly california\", \"deadly california\", \"deadly california\", \"deadly california\", \"deadly california\", \"deadly california\", \"deadly california history\", \"deadly california history\", \"deadly california history\", \"deadly california history\", \"deadly california revise\", \"deadly californias\", \"deadly destructive\", \"deadly destructive\", \"deadly destructive\", \"deadly destructive\", \"deadly destructive\", \"deadly destructive\", \"deadly destructive\", \"deadly destructive california\", \"deadly finally\", \"deadly finally\", \"deadly finally tame\", \"death size\", \"death toll\", \"death toll\", \"death toll\", \"death toll\", \"death toll\", \"death toll\", \"death toll california\", \"death toll climb\", \"death toll reach\", \"death toll rise\", \"death toll rise\", \"death toll rise\", \"despite warning\", \"destroy thousand\", \"destroy thousand home\", \"destruction evacuee\", \"destructive california\", \"destructive california\", \"destructive california\", \"destructive california\", \"destructive california history\", \"devastate california\", \"devastate california\", \"devastate california\", \"devastate california\", \"devastate california\", \"devastate california\", \"devastating california\", \"devastating california\", \"devastating california\", \"devastating california\", \"devastating california\", \"devastating california\", \"devastating california\", \"devastating california\", \"direct energy\", \"direct energy\", \"direct energy\", \"direct energy weapon\", \"direct energy weapon\", \"donald trump\", \"donald trump\", \"donald trump\", \"donald trump\", \"donald trump\", \"donald trump\", \"donald trump\", \"donate california\", \"donate california\", \"donate california\", \"donate california\", \"donate california\", \"donate california relief\", \"donate california relief\", \"donate california relief\", \"donate million\", \"donate million\", \"donate million california\", \"donate million victim\", \"donation relief\", \"donation relief family\", \"ease search\", \"ease search remain\", \"effect climate\", \"effect climate\", \"effect climate change\", \"effect climate change\", \"elosion border\", \"elosion border agent\", \"enact major\", \"enact major housing\", \"end northern\", \"end northern california\", \"end reduce\", \"end reduce risk\", \"energy weapon\", \"energy weapon\", \"environmentalist california\", \"environmentalist deadly\", \"environmentalist deadly california\", \"evacuee brace\", \"evacuee new\", \"evacuee new meaning\", \"face heavy\", \"family drama\", \"family lose\", \"family lose\", \"family lose\", \"family lose\", \"farmworker force\", \"farmworker force stay\", \"fema enact\", \"fema enact major\", \"fight time\", \"finally rain\", \"finally rain\", \"finally tame\", \"fix problem\", \"flash flood risk\", \"flee california\", \"force stay\", \"forest floor\", \"forest floor\", \"forest floor\", \"forest management\", \"forest management\", \"forest management\", \"forest management\", \"forest management\", \"forest management\", \"forest management\", \"forest management\", \"forest management\", \"forest management end\", \"forest service\", \"forest service\", \"forest service\", \"forest service\", \"foundation relief\", \"foundation relief fund\", \"frantic neighbor\", \"frantic neighbor knock\", \"fuel nationwide\", \"fully contain\", \"fully contain\", \"fully contain\", \"fully contain\", \"fully contain\", \"future fight\", \"gender reveal\", \"gender reveal\", \"gender reveal\", \"gender reveal\", \"gender reveal\", \"gender reveal\", \"gender reveal\", \"gender reveal cause\", \"gender reveal elosion\", \"gender reveal party\", \"gender reveal party\", \"gender reveal party\", \"gender reveal party\", \"gender reveal party\", \"gender reveal spark\", \"genderreveal elosion\", \"genderreveal party\", \"genderreveal party\", \"genderreveal party\", \"genderreveal party spark\", \"global warming\", \"global warming\", \"global warming\", \"global warming\", \"global warming\", \"global warming\", \"global warming\", \"global warming\", \"global warming\", \"global warming\", \"good luck\", \"good thanksgiving\", \"green bay\", \"green bay\", \"green bay packers\", \"gridlock major\", \"grim task\", \"grim task remain\", \"gunshot genderreveal\", \"gunshot genderreveal party\", \"happy thanksgiving\", \"happy thanksgiving\", \"happy thanksgiving\", \"happy thanksgiving\", \"happy thanksgiving\", \"happy thanksgiving\", \"happy thanksgiving\", \"happy thanksgiving\", \"hard old\", \"heavy rain\", \"heavy rain\", \"heavy rain\", \"heavy rain\", \"heavy rain\", \"heavy rain\", \"heavy rain\", \"heavy rain\", \"heavy rain\", \"help affect\", \"help affect\", \"help affect\", \"help affect\", \"help affect\", \"help affect\", \"help affect\", \"help affect california\", \"help california\", \"help california\", \"help california\", \"help california\", \"help california\", \"help california\", \"help california\", \"help california\", \"help california survivor\", \"help california victim\", \"help california victim\", \"help california victim\", \"help california victim\", \"help california victim\", \"help fix\", \"help fix problem\", \"help people\", \"help people\", \"help people\", \"help people\", \"help people\", \"help people\", \"help people\", \"help people\", \"help victim\", \"help victim\", \"help victim\", \"help victim\", \"help victim\", \"help victim\", \"help victim\", \"help victim\", \"help victim california\", \"help victim california\", \"high school\", \"high school\", \"high school\", \"high school\", \"high school\", \"hinder search\", \"hinder search\", \"hinder search\", \"hinder search victim\", \"history contain\", \"history contain\", \"history contain\", \"history percent\", \"history percent contain\", \"home california\", \"home california\", \"home california\", \"home california\", \"home california\", \"home california\", \"homeless face\", \"homeless face heavy\", \"housing program\", \"housing program help\", \"hurricane flood\", \"hurricane flood\", \"hurricane flood\", \"hurricane flood\", \"hurricane flood\", \"hurricane flood\", \"hurricane flood\", \"ignite cnn\", \"ignore california victim\", \"influencer use\", \"instagram influencer\", \"instagram influencer use\", \"insurance company\", \"insurance company\", \"insurance company\", \"insurance company response\", \"interior secretary\", \"interior secretary\", \"interior secretary\", \"interior secretary\", \"interior secretary ryan\", \"interior secretary ryan\", \"jerry brown\", \"jerry brown\", \"jerry brown\", \"jerry brown\", \"jerry brown\", \"jerry brown\", \"jerry brown\", \"jerry brown\", \"just california\", \"just california\", \"just california\", \"just california\", \"just california\", \"just need\", \"just need\", \"kanye donate\", \"kanye donate california\", \"kanye west\", \"kanye west\", \"kanye west donate\", \"kardashian kanye\", \"kill people\", \"kill people\", \"kill people\", \"kill people\", \"kill people\", \"kill people\", \"kill people fully\", \"kim kanye\", \"kim kanye donate\", \"kim kardashian\", \"kim kardashian\", \"kim kardashian\", \"kim kardashian\", \"kim kardashian kanye\", \"king queen\", \"knock official\", \"knock official alert\", \"leave homeless face\", \"life hard\", \"life hard old\", \"likely spread\", \"likely spread nuclear\", \"live area\", \"live area\", \"los angeles\", \"los angeles\", \"los angeles\", \"los angeles\", \"los angeles\", \"los angeles\", \"los angeles\", \"los angeles\", \"los angeles\", \"lose home\", \"lose home\", \"lose home\", \"lose home\", \"lose home\", \"lose home\", \"lose home\", \"lose home\", \"main road\", \"major housing\", \"major housing program\", \"make california\", \"make california\", \"make california\", \"make california\", \"make california bad\", \"make sure\", \"make sure\", \"make sure\", \"make sure\", \"management end\", \"management end reduce\", \"mass shooting\", \"mass shooting\", \"mass shooting\", \"mass shooting\", \"meaning holiday\", \"milano scorch\", \"milano scorch ignore\", \"mile away\", \"mile away\", \"miley cyrus\", \"miley cyrus\", \"miley cyrus\", \"million california\", \"million california relief\", \"million relief\", \"million victim\", \"miss deadly\", \"miss deadly california\", \"miss list\", \"miss list\", \"miss list\", \"money victim\", \"month douse\", \"month douse california\", \"mountain lion\", \"narrow main\", \"narrow main road\", \"nationwide health\", \"nationwide health threat\", \"need rake\", \"need rake\", \"need rake\", \"neighbor knock\", \"neighbor knock official\", \"new meaning\", \"new report\", \"new report\", \"new report\", \"new report\", \"new report warn\", \"new york\", \"new york\", \"new york\", \"new york\", \"new york\", \"new york\", \"new york\", \"new york\", \"new york\", \"new york city\", \"new york mile\", \"northern california\", \"northern california\", \"northern california\", \"northern california\", \"northern california\", \"northern california\", \"northern california\", \"northern california\", \"northern california\", \"northern california\", \"nuclear contamination\", \"number miss\", \"number miss deadly\", \"official accuse\", \"official accuse use\", \"official alert\", \"official alert close\", \"official release\", \"official release\", \"official release video\", \"official release video\", \"official say\", \"official say\", \"official say\", \"official say\", \"official say\", \"official say\", \"packers aaron\", \"packers aaron rodgers\", \"paradise california\", \"paradise california\", \"paradise california\", \"paradise california\", \"paradise california\", \"paradise california\", \"paradise california\", \"paradise california\", \"party ignite\", \"party ignite cnn\", \"party spark\", \"party spark\", \"party spark\", \"party spark\", \"party spark arizona\", \"party start\", \"party start\", \"party start\", \"patrol agent\", \"patrol agent\", \"patrol agent\", \"patrol agent\", \"patrol agent\", \"people affect\", \"people affect\", \"people affect\", \"people affect\", \"people affect\", \"people fully\", \"people fully contain\", \"people miss\", \"people miss\", \"people miss\", \"people miss\", \"people miss\", \"people miss\", \"people miss\", \"pressure work\", \"program help\", \"program help california\", \"queen plague\", \"queen plague\", \"radical environmentalist\", \"radical environmentalist\", \"radical environmentalist\", \"radical environmentalist\", \"radical environmentalist\", \"radical environmentalist deadly\", \"rain break\", \"rain break ease\", \"rain complicate grim\", \"rain end\", \"rain end northern\", \"rain hamper\", \"rain hamper\", \"rain month\", \"rain month douse\", \"rain way\", \"rain way\", \"rain way\", \"rain way\", \"raise money\", \"raise money\", \"raise money\", \"raise money\", \"raise money\", \"raise money\", \"raise money\", \"raise money\", \"raise money\", \"raise money victim\", \"raise risk\", \"rake forest\", \"rake forest\", \"rake forest\", \"rake forest\", \"rake forest\", \"rake forest\", \"rake forest\", \"rake forest\", \"rake prevent\", \"rake prevent\", \"rake prevent\", \"rake prevent california\", \"reach unaccounted\", \"rebuild life hard\", \"red cross\", \"red cross\", \"red cross\", \"red cross\", \"red cross\", \"red cross\", \"red cross\", \"red cross\", \"red cross\", \"reduce risk\", \"reduce risk\", \"reduce risk\", \"reduce risk\", \"reduce risk\", \"reduce risk\", \"release video\", \"release video\", \"release video\", \"release video\", \"release video gender\", \"release video gender\", \"relief effort\", \"relief effort\", \"relief effort\", \"relief effort\", \"relief effort\", \"relief effort\", \"relief effort\", \"relief effort\", \"relief family\", \"relief family drama\", \"relief fund\", \"relief fund\", \"relief fund\", \"relief fund\", \"relief fund\", \"relief fund\", \"remain california\", \"remain california\", \"remain california victim\", \"rescue california\", \"rescue california\", \"rescue california\", \"rescue california\", \"reveal cause\", \"reveal cause million\", \"reveal elosion\", \"reveal party\", \"reveal party\", \"reveal party\", \"reveal party\", \"reveal party\", \"reveal party cause\", \"reveal party ignite\", \"reveal party start\", \"reveal party start\", \"reveal spark\", \"reveal spark weeklong\", \"revise rain\", \"revise rain way\", \"rise sea\", \"rise sea\", \"rise sea level\", \"rise sea level\", \"rodger donation\", \"rodger donation relief\", \"rodgers donate\", \"rodgers donate\", \"rodgers donate\", \"rodgers donate million\", \"rodgers donate million\", \"ryan zinke\", \"ryan zinke\", \"ryan zinke\", \"ryan zinke\", \"ryan zinke\", \"ryan zinke blame\", \"ryan zinke blame\", \"san francisco\", \"san francisco\", \"san francisco\", \"san francisco\", \"san francisco\", \"san francisco\", \"san francisco\", \"save cat\", \"say trump\", \"say trump\", \"say trump right\", \"scorch ignore\", \"scorch ignore california\", \"sea level\", \"sea level\", \"sea level\", \"search california remain\", \"search remain\", \"search remain\", \"search remain\", \"search remain\", \"search remain\", \"search remain california\", \"search victim\", \"search victim\", \"search victim\", \"search victim\", \"search victim continue\", \"secretary ryan\", \"secretary ryan\", \"secretary ryan zinke\", \"secretary ryan zinke\", \"shape insurance\", \"shape insurance company\", \"smoke california\", \"smoke california\", \"smoke california\", \"smoke california\", \"smoke california\", \"smoke california\", \"smoke california\", \"smoke california\", \"smoke nationwide\", \"smoke nationwide health\", \"smoke spread\", \"smoke spread new\", \"smokey bear\", \"smokey bear\", \"social medium\", \"social medium\", \"social medium\", \"social medium\", \"social medium\", \"southern california\", \"southern california\", \"southern california\", \"southern california\", \"southern california\", \"southern california\", \"southern california\", \"southern california\", \"southern california\", \"spark arizona\", \"spark arizona\", \"spark arizona gunshot\", \"spark weeklong\", \"spread new\", \"spread new\", \"spread new york\", \"spread nuclear\", \"spread nuclear contamination\", \"spread wildfir\", \"start gender\", \"start gender reveal\", \"supercomputer help\", \"supercomputer help fix\", \"survivor california\", \"survivor california\", \"task remain\", \"task remain california\", \"technology shape\", \"technology shape\", \"technology shape insurance\", \"thanksgiving life\", \"thousand home\", \"toll california\", \"toll climb\", \"toll climb unaccounted\", \"toll reach\", \"toll reach\", \"toll reach unaccounted\", \"toll rise\", \"toll rise\", \"toll rise\", \"toll rise\", \"toxic site\", \"tragedy ease\", \"trump california\", \"trump california\", \"trump california\", \"trump official\", \"trump official accuse\", \"trump rake prevent\", \"trump right\", \"trump right\", \"trump right\", \"trump right\", \"united states\", \"united states\", \"united states\", \"united states\", \"united states\", \"united states\", \"use deadly\", \"use deadly boost\", \"use fight\", \"use fight time\", \"use tragedy\", \"use tragedy ease\", \"victim california\", \"victim california\", \"victim california\", \"victim california\", \"victim california\", \"victim california\", \"victim california\", \"victim focus\", \"video california\", \"video elosion\", \"video elosion\", \"video elosion border\", \"video gender\", \"video gender\", \"video gender\", \"video gender reveal\", \"video gender reveal\", \"video gender reveal\", \"video youtube\", \"video youtube\", \"video youtube\", \"video youtube playlist\", \"volunteer search california\", \"warn extreme\", \"warn extreme weather\", \"west donate\", \"west donate california\", \"year ago\", \"year ago\", \"year ago\", \"year ago\", \"year ago\", \"year ago\", \"year ago\", \"year ago\", \"year ago\", \"york city\", \"york mile\", \"york mile away\", \"youtube playlist\", \"youtube video\", \"youtube video\", \"youtube video\", \"youtube video\", \"youtube video\", \"youtube video\", \"youtube video\", \"youtube video\", \"youtube video\", \"youtube video\", \"youtube video california\", \"zinke blame\", \"zinke blame\", \"zinke blame\", \"zinke blame\", \"zinke blame environmentalist\", \"zinke blame radical\", \"zinke blame radical\"]}, \"R\": 30, \"lambda.step\": 0.01, \"plot.opts\": {\"xlab\": \"PC1\", \"ylab\": \"PC2\"}, \"topic.order\": [7, 9, 5, 2, 10, 8, 1, 6, 3, 4]};\n",
       "\n",
       "function LDAvis_load_lib(url, callback){\n",
       "  var s = document.createElement('script');\n",
       "  s.src = url;\n",
       "  s.async = true;\n",
       "  s.onreadystatechange = s.onload = callback;\n",
       "  s.onerror = function(){console.warn(\"failed to load library \" + url);};\n",
       "  document.getElementsByTagName(\"head\")[0].appendChild(s);\n",
       "}\n",
       "\n",
       "if(typeof(LDAvis) !== \"undefined\"){\n",
       "   // already loaded: just create the visualization\n",
       "   !function(LDAvis){\n",
       "       new LDAvis(\"#\" + \"ldavis_el128201123814969203912372800\", ldavis_el128201123814969203912372800_data);\n",
       "   }(LDAvis);\n",
       "}else if(typeof define === \"function\" && define.amd){\n",
       "   // require.js is available: use it to load d3/LDAvis\n",
       "   require.config({paths: {d3: \"https://cdnjs.cloudflare.com/ajax/libs/d3/3.5.5/d3.min\"}});\n",
       "   require([\"d3\"], function(d3){\n",
       "      window.d3 = d3;\n",
       "      LDAvis_load_lib(\"https://cdn.rawgit.com/bmabey/pyLDAvis/files/ldavis.v1.0.0.js\", function(){\n",
       "        new LDAvis(\"#\" + \"ldavis_el128201123814969203912372800\", ldavis_el128201123814969203912372800_data);\n",
       "      });\n",
       "    });\n",
       "}else{\n",
       "    // require.js not available: dynamically load d3 & LDAvis\n",
       "    LDAvis_load_lib(\"https://cdnjs.cloudflare.com/ajax/libs/d3/3.5.5/d3.min.js\", function(){\n",
       "         LDAvis_load_lib(\"https://cdn.rawgit.com/bmabey/pyLDAvis/files/ldavis.v1.0.0.js\", function(){\n",
       "                 new LDAvis(\"#\" + \"ldavis_el128201123814969203912372800\", ldavis_el128201123814969203912372800_data);\n",
       "            })\n",
       "         });\n",
       "}\n",
       "</script>"
      ],
      "text/plain": [
       "PreparedData(topic_coordinates=              x         y  topics  cluster       Freq\n",
       "topic                                                \n",
       "6      0.103022  0.065637       1        1  10.675225\n",
       "8      0.008211 -0.148914       2        1  10.212921\n",
       "4      0.058199  0.051043       3        1  10.201049\n",
       "1      0.193557 -0.067622       4        1  10.175160\n",
       "9     -0.019442  0.017172       5        1  10.168644\n",
       "7     -0.090426 -0.051297       6        1   9.874541\n",
       "0     -0.060723  0.076594       7        1   9.795235\n",
       "5     -0.102251 -0.111352       8        1   9.712304\n",
       "2     -0.029782  0.121794       9        1   9.657880\n",
       "3     -0.060365  0.046945      10        1   9.527041, topic_info=      Category        Freq                  Term       Total  loglift  logprob\n",
       "23650  Default  119.000000          reveal cause  119.000000  30.0000  30.0000\n",
       "12023  Default  118.000000   gender reveal cause  118.000000  29.0000  29.0000\n",
       "12021  Default  261.000000         gender reveal  261.000000  28.0000  28.0000\n",
       "5131   Default  121.000000         cause million  121.000000  27.0000  27.0000\n",
       "23653  Default  110.000000  reveal cause million  110.000000  26.0000  26.0000\n",
       "...        ...         ...                   ...         ...      ...      ...\n",
       "3955   Topic10   12.315805       california rain   24.272558   1.6726  -6.5032\n",
       "13349  Topic10   11.569147           help people   28.042350   1.4657  -6.5658\n",
       "24776  Topic10   11.282958         search victim   24.500990   1.5756  -6.5908\n",
       "19318  Topic10   10.768460   northern california  123.756767  -0.0907  -6.6375\n",
       "29422  Topic10   10.578259     victim california   88.095131   0.2314  -6.6553\n",
       "\n",
       "[530 rows x 6 columns], token_table=       Topic      Freq                          Term\n",
       "term                                                \n",
       "10         6  0.173604                  aaron rodger\n",
       "10         8  0.260406                  aaron rodger\n",
       "10        10  0.564213                  aaron rodger\n",
       "13        10  0.918640         aaron rodger donation\n",
       "15         2  0.036969                 aaron rodgers\n",
       "...      ...       ...                           ...\n",
       "31296      7  0.059838                   zinke blame\n",
       "31296      8  0.359027                   zinke blame\n",
       "31299      8  0.950043  zinke blame environmentalist\n",
       "31301      2  0.206974           zinke blame radical\n",
       "31301      5  0.776154           zinke blame radical\n",
       "\n",
       "[1060 rows x 3 columns], R=30, lambda_step=0.01, plot_opts={'xlab': 'PC1', 'ylab': 'PC2'}, topic_order=[7, 9, 5, 2, 10, 8, 1, 6, 3, 4])"
      ]
     },
     "execution_count": 19,
     "metadata": {},
     "output_type": "execute_result"
    }
   ],
   "source": [
    "pyLDAvis.sklearn.prepare(lda, doc_word, tfidf)"
   ]
  },
  {
   "cell_type": "code",
   "execution_count": 18,
   "metadata": {
    "Collapsed": "false"
   },
   "outputs": [],
   "source": [
    "doc_word, words, id2word, tfidf = tfidf(df.loc[df['fire']=='camp','text'])"
   ]
  },
  {
   "cell_type": "code",
   "execution_count": 23,
   "metadata": {
    "Collapsed": "false"
   },
   "outputs": [],
   "source": [
    "lda, doc_topics, explain = sk_lda(doc_word, 8)"
   ]
  },
  {
   "cell_type": "code",
   "execution_count": 24,
   "metadata": {
    "Collapsed": "false"
   },
   "outputs": [
    {
     "name": "stdout",
     "output_type": "stream",
     "text": [
      "\n",
      "Topic  0\n",
      "death toll, california death, california death toll, toll rise, death toll rise, climate change, california bad, make california, forest floor, death toll california\n",
      "\n",
      "Topic  1\n",
      "gender reveal, reveal cause, gender reveal cause, cause million, video gender, video gender reveal, reveal cause million, california relief, donate california, donate california relief\n",
      "\n",
      "Topic  2\n",
      "gender reveal, kill people, climate change, fully contain, baby gender, baby gender reveal, reveal party, air quality, california kill, gender reveal party\n",
      "\n",
      "Topic  3\n",
      "climate change, search remain, red cross, remain california, search remain california, social medium, california victim, support california, aaron rodgers, reduce risk\n",
      "\n",
      "Topic  4\n",
      "climate change, california history, deadly california, deadly california history, deadly destructive, destructive california, camp deadly, cause california, percent contain, destructive california history\n",
      "\n",
      "Topic  5\n",
      "aaron rodgers, donate million, global warming, rodgers donate, aaron rodgers donate, rodgers donate million, mile away, california smoke, forest management, leave homeless\n",
      "\n",
      "Topic  6\n",
      "gender reveal, reveal party, gender reveal party, northern california, release video, party ignite, reveal party ignite, party spark, release video gender, official release\n",
      "\n",
      "Topic  7\n",
      "victim california, help victim, california victim, help california, help victim california, climate change, deadly california, northern california, direct energy, video youtube\n"
     ]
    }
   ],
   "source": [
    "display_topics(lda, words, 10)"
   ]
  },
  {
   "cell_type": "markdown",
   "metadata": {
    "Collapsed": "false"
   },
   "source": [
    "## Try Displaying some clusters"
   ]
  },
  {
   "cell_type": "code",
   "execution_count": 55,
   "metadata": {
    "Collapsed": "false"
   },
   "outputs": [
    {
     "data": {
      "image/png": "[encoded data removed]",
      "text/plain": [
       "<Figure size 432x288 with 1 Axes>"
      ]
     },
     "metadata": {
      "needs_background": "light"
     },
     "output_type": "display_data"
    }
   ],
   "source": [
    "display_cluster(doc_topic)"
   ]
  },
  {
   "cell_type": "code",
   "execution_count": 52,
   "metadata": {
    "Collapsed": "false"
   },
   "outputs": [],
   "source": [
    "from sklearn.cluster import KMeans"
   ]
  },
  {
   "cell_type": "code",
   "execution_count": 53,
   "metadata": {
    "Collapsed": "false"
   },
   "outputs": [
    {
     "ename": "IndexError",
     "evalue": "string index out of range",
     "output_type": "error",
     "traceback": [
      "\u001b[0;31m---------------------------------------------------------------------------\u001b[0m",
      "\u001b[0;31mIndexError\u001b[0m                                Traceback (most recent call last)",
      "\u001b[0;32m<ipython-input-53-2f75141d35eb>\u001b[0m in \u001b[0;36m<module>\u001b[0;34m\u001b[0m\n\u001b[1;32m      2\u001b[0m \u001b[0mkm\u001b[0m \u001b[0;34m=\u001b[0m \u001b[0mKMeans\u001b[0m\u001b[0;34m(\u001b[0m\u001b[0mn_clusters\u001b[0m\u001b[0;34m=\u001b[0m\u001b[0mnum_clusters\u001b[0m\u001b[0;34m)\u001b[0m\u001b[0;34m\u001b[0m\u001b[0;34m\u001b[0m\u001b[0m\n\u001b[1;32m      3\u001b[0m \u001b[0mkm\u001b[0m\u001b[0;34m.\u001b[0m\u001b[0mfit\u001b[0m\u001b[0;34m(\u001b[0m\u001b[0mdoc_topic\u001b[0m\u001b[0;34m)\u001b[0m\u001b[0;34m\u001b[0m\u001b[0;34m\u001b[0m\u001b[0m\n\u001b[0;32m----> 4\u001b[0;31m \u001b[0mdisplay_cluster\u001b[0m\u001b[0;34m(\u001b[0m\u001b[0mdoc_topic\u001b[0m\u001b[0;34m,\u001b[0m\u001b[0mkm\u001b[0m\u001b[0;34m,\u001b[0m\u001b[0mnum_clusters\u001b[0m\u001b[0;34m)\u001b[0m\u001b[0;34m\u001b[0m\u001b[0;34m\u001b[0m\u001b[0m\n\u001b[0m",
      "\u001b[0;32m<ipython-input-12-690ba8dea089>\u001b[0m in \u001b[0;36mdisplay_cluster\u001b[0;34m(X, km, num_clusters)\u001b[0m\n\u001b[1;32m      7\u001b[0m     \u001b[0;32melse\u001b[0m\u001b[0;34m:\u001b[0m\u001b[0;34m\u001b[0m\u001b[0;34m\u001b[0m\u001b[0m\n\u001b[1;32m      8\u001b[0m         \u001b[0;32mfor\u001b[0m \u001b[0mi\u001b[0m \u001b[0;32min\u001b[0m \u001b[0mrange\u001b[0m\u001b[0;34m(\u001b[0m\u001b[0mnum_clusters\u001b[0m\u001b[0;34m)\u001b[0m\u001b[0;34m:\u001b[0m\u001b[0;34m\u001b[0m\u001b[0;34m\u001b[0m\u001b[0m\n\u001b[0;32m----> 9\u001b[0;31m             \u001b[0mplt\u001b[0m\u001b[0;34m.\u001b[0m\u001b[0mscatter\u001b[0m\u001b[0;34m(\u001b[0m\u001b[0mX\u001b[0m\u001b[0;34m[\u001b[0m\u001b[0mkm\u001b[0m\u001b[0;34m.\u001b[0m\u001b[0mlabels_\u001b[0m\u001b[0;34m==\u001b[0m\u001b[0mi\u001b[0m\u001b[0;34m,\u001b[0m\u001b[0;36m0\u001b[0m\u001b[0;34m]\u001b[0m\u001b[0;34m,\u001b[0m\u001b[0mX\u001b[0m\u001b[0;34m[\u001b[0m\u001b[0mkm\u001b[0m\u001b[0;34m.\u001b[0m\u001b[0mlabels_\u001b[0m\u001b[0;34m==\u001b[0m\u001b[0mi\u001b[0m\u001b[0;34m,\u001b[0m\u001b[0;36m1\u001b[0m\u001b[0;34m]\u001b[0m\u001b[0;34m,\u001b[0m\u001b[0mc\u001b[0m \u001b[0;34m=\u001b[0m \u001b[0mcolor\u001b[0m\u001b[0;34m[\u001b[0m\u001b[0mi\u001b[0m\u001b[0;34m]\u001b[0m\u001b[0;34m,\u001b[0m\u001b[0malpha\u001b[0m \u001b[0;34m=\u001b[0m \u001b[0malpha\u001b[0m\u001b[0;34m,\u001b[0m\u001b[0ms\u001b[0m\u001b[0;34m=\u001b[0m\u001b[0ms\u001b[0m\u001b[0;34m)\u001b[0m\u001b[0;34m\u001b[0m\u001b[0;34m\u001b[0m\u001b[0m\n\u001b[0m\u001b[1;32m     10\u001b[0m             \u001b[0mplt\u001b[0m\u001b[0;34m.\u001b[0m\u001b[0mscatter\u001b[0m\u001b[0;34m(\u001b[0m\u001b[0mkm\u001b[0m\u001b[0;34m.\u001b[0m\u001b[0mcluster_centers_\u001b[0m\u001b[0;34m[\u001b[0m\u001b[0mi\u001b[0m\u001b[0;34m]\u001b[0m\u001b[0;34m[\u001b[0m\u001b[0;36m0\u001b[0m\u001b[0;34m]\u001b[0m\u001b[0;34m,\u001b[0m\u001b[0mkm\u001b[0m\u001b[0;34m.\u001b[0m\u001b[0mcluster_centers_\u001b[0m\u001b[0;34m[\u001b[0m\u001b[0mi\u001b[0m\u001b[0;34m]\u001b[0m\u001b[0;34m[\u001b[0m\u001b[0;36m1\u001b[0m\u001b[0;34m]\u001b[0m\u001b[0;34m,\u001b[0m\u001b[0mc\u001b[0m \u001b[0;34m=\u001b[0m \u001b[0mcolor\u001b[0m\u001b[0;34m[\u001b[0m\u001b[0mi\u001b[0m\u001b[0;34m]\u001b[0m\u001b[0;34m,\u001b[0m \u001b[0mmarker\u001b[0m \u001b[0;34m=\u001b[0m \u001b[0;34m'x'\u001b[0m\u001b[0;34m,\u001b[0m \u001b[0ms\u001b[0m \u001b[0;34m=\u001b[0m \u001b[0;36m100\u001b[0m\u001b[0;34m)\u001b[0m\u001b[0;34m\u001b[0m\u001b[0;34m\u001b[0m\u001b[0m\n",
      "\u001b[0;31mIndexError\u001b[0m: string index out of range"
     ]
    },
    {
     "data": {
      "image/png": "[encoded data removed]",
      "text/plain": [
       "<Figure size 432x288 with 1 Axes>"
      ]
     },
     "metadata": {
      "needs_background": "light"
     },
     "output_type": "display_data"
    }
   ],
   "source": [
    "num_clusters = 10\n",
    "km = KMeans(n_clusters=num_clusters)\n",
    "km.fit(doc_topic)\n",
    "display_cluster(doc_topic,km,num_clusters)"
   ]
  },
  {
   "cell_type": "markdown",
   "metadata": {
    "Collapsed": "false"
   },
   "source": [
    "Plot some inertias"
   ]
  },
  {
   "cell_type": "code",
   "execution_count": 54,
   "metadata": {
    "Collapsed": "false"
   },
   "outputs": [
    {
     "data": {
      "image/png": "[encoded data removed]",
      "text/plain": [
       "<Figure size 432x288 with 1 Axes>"
      ]
     },
     "metadata": {
      "needs_background": "light"
     },
     "output_type": "display_data"
    }
   ],
   "source": [
    "inertia_plot(doc_topic, 15)"
   ]
  },
  {
   "cell_type": "markdown",
   "metadata": {
    "Collapsed": "false"
   },
   "source": [
    "Inertia can be recognized as a measure of how internally coherent clusters are. It suffers from various drawbacks:\n",
    "\n",
    "Inertia makes the assumption that clusters are **convex and isotropic**, which is not always the case. It responds poorly to elongated clusters, or manifolds with irregular shapes.\n",
    "\n",
    "Inertia is not a normalized metric: we just know that lower values are better and zero is optimal. But in very high-dimensional spaces, Euclidean distances tend to become inflated (this is an instance of the so-called “curse of dimensionality”). Running a dimensionality reduction algorithm such as Principal component analysis (PCA) prior to k-means clustering can alleviate this problem and speed up the computations."
   ]
  },
  {
   "cell_type": "code",
   "execution_count": null,
   "metadata": {
    "Collapsed": "false"
   },
   "outputs": [],
   "source": []
  }
 ],
 "metadata": {
  "kernelspec": {
   "display_name": "Python 3",
   "language": "python",
   "name": "python3"
  },
  "language_info": {
   "codemirror_mode": {
    "name": "ipython",
    "version": 3
   },
   "file_extension": ".py",
   "mimetype": "text/x-python",
   "name": "python",
   "nbconvert_exporter": "python",
   "pygments_lexer": "ipython3",
   "version": "3.7.4"
  }
 },
 "nbformat": 4,
 "nbformat_minor": 4
}
